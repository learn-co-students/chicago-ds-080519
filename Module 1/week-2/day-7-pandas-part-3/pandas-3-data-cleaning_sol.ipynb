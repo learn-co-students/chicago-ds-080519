{
 "cells": [
  {
   "cell_type": "markdown",
   "metadata": {},
   "source": [
    "# Data Cleaning with Pandas"
   ]
  },
  {
   "cell_type": "markdown",
   "metadata": {},
   "source": [
    "## Scenario\n",
    "\n",
    "As data scientists, we want to build a model to predict the sale price of a house in Seattle in 2019, based on its square footage. We know that the King County Department of Assessments has comprehensive data available on real property sales in the Seattle area. We need to prepare the data."
   ]
  },
  {
   "cell_type": "code",
   "execution_count": 1,
   "metadata": {},
   "outputs": [],
   "source": [
    "import pandas as pd"
   ]
  },
  {
   "cell_type": "markdown",
   "metadata": {},
   "source": [
    "### Learning Goals:\n",
    "\n",
    "- practice cleaning a real dataset\n",
    "- practice using `py` files and the terminal in conjunction with jupyter notebooks\n",
    "- run a `py` script through the terminal"
   ]
  },
  {
   "cell_type": "code",
   "execution_count": 2,
   "metadata": {},
   "outputs": [
    {
     "name": "stdout",
     "output_type": "stream",
     "text": [
      "/Users/apeeblesmadigan/Desktop/dc-ds-071519/Module-1/week-2/day-7-pandas-part-3\r\n"
     ]
    }
   ],
   "source": [
    "!pwd"
   ]
  },
  {
   "cell_type": "markdown",
   "metadata": {},
   "source": [
    "### First, get the data!\n",
    "\n",
    "When working on a project involving data that can fit on our computer, we store it in a `data` directory.\n",
    "\n",
    "```bash\n",
    "cd <project_directory>  # example: cd ~/flatiron_ds/pandas-3\n",
    "mkdir data\n",
    "cd data\n",
    "```\n",
    "\n",
    "Note that `<project_directory>` in angle brackets is a _placeholder_. You should type the path to the actual location on your computer where you're working on this project. Do not literally type `<project_directory>` and _do not type the angle brackets_. You can see an example in the _comment_ to the right of the command above."
   ]
  },
  {
   "cell_type": "markdown",
   "metadata": {},
   "source": [
    "![terminal](https://media3.giphy.com/media/yR4xZagT71AAM/giphy.gif?cid=790b76115d3620444553533759086a54&rid=giphy.gif)\n",
    "\n",
    "Now, we'll need to download the two data files that we need. We can do this at the command line:\n",
    "\n",
    "```bash\n",
    "wget https://aqua.kingcounty.gov/extranet/assessor/Real%20Property%20Sales.zip\n",
    "wget https://aqua.kingcounty.gov/extranet/assessor/Residential%20Building.zip\n",
    "```\n",
    "\n",
    "*Note:* If you do not have the `wget` command yet, you can install it with `brew install wget`, or use `curl <url> -o <filename>`.\n",
    "\n",
    "Note that `%20` in a URL translates into a space. Even though you will *never put spaces in filenames*, you may need to deal with spaces that _other_ people have used in filenames.\n",
    "\n",
    "There are two ways to handle the spaces in these filenames when referencing them at the command line.\n",
    "\n",
    "\n",
    "![internetgif](https://media2.giphy.com/media/QWkuGmMgphvmE/giphy.gif?cid=790b76115d361f42304a6850369f37ea&rid=giphy.gif)"
   ]
  },
  {
   "cell_type": "markdown",
   "metadata": {},
   "source": [
    "#### 1. You can _escape_ the spaces by putting a backslash (`\\`, remember _backslash is next to backspace_) before each one:\n",
    "\n",
    "`unzip Real\\ Property\\ Sales.zip`\n",
    "\n",
    "This is what happens if you tab-complete the filename in the terminal. Tab completion is your friend!"
   ]
  },
  {
   "cell_type": "markdown",
   "metadata": {},
   "source": [
    "#### 2. You can put the entire filename in quotes:\n",
    "\n",
    "`unzip \"Real Property Sales.zip\"`\n",
    "\n",
    "Try unzipping these files with the `unzip` command. The `unzip` command takes one argument, the name of the file that you want to unzip."
   ]
  },
  {
   "cell_type": "code",
   "execution_count": null,
   "metadata": {},
   "outputs": [],
   "source": []
  },
  {
   "cell_type": "code",
   "execution_count": 3,
   "metadata": {
    "scrolled": true
   },
   "outputs": [
    {
     "name": "stderr",
     "output_type": "stream",
     "text": [
      "/Users/apeeblesmadigan/anaconda3/lib/python3.7/site-packages/IPython/core/interactiveshell.py:2785: DtypeWarning: Columns (1,2) have mixed types. Specify dtype option on import or set low_memory=False.\n",
      "  interactivity=interactivity, compiler=compiler, result=result)\n"
     ]
    }
   ],
   "source": [
    "sales_df = pd.read_csv('data/EXTR_RPSale.csv')"
   ]
  },
  {
   "cell_type": "markdown",
   "metadata": {},
   "source": [
    "### Seeing pink? Warnings are useful!\n",
    "\n",
    "Note the warning above: `DtypeWarning: Columns (1, 2) have mixed types.` Because we start with an index of zero, the columns that we're being warned about are actually the _second_ and _third_ columns, `sales_df['Major']` and `sales_df['Minor']`."
   ]
  },
  {
   "cell_type": "code",
   "execution_count": 7,
   "metadata": {},
   "outputs": [
    {
     "data": {
      "text/plain": [
       "ExciseTaxNbr           int64\n",
       "Major                 object\n",
       "Minor                 object\n",
       "DocumentDate          object\n",
       "SalePrice              int64\n",
       "RecordingNbr          object\n",
       "Volume                object\n",
       "Page                  object\n",
       "PlatNbr               object\n",
       "PlatType              object\n",
       "PlatLot               object\n",
       "PlatBlock             object\n",
       "SellerName            object\n",
       "BuyerName             object\n",
       "PropertyType           int64\n",
       "PrincipalUse           int64\n",
       "SaleInstrument         int64\n",
       "AFForestLand          object\n",
       "AFCurrentUseLand      object\n",
       "AFNonProfitUse        object\n",
       "AFHistoricProperty    object\n",
       "SaleReason             int64\n",
       "PropertyClass          int64\n",
       "SaleWarning           object\n",
       "dtype: object"
      ]
     },
     "execution_count": 7,
     "metadata": {},
     "output_type": "execute_result"
    }
   ],
   "source": [
    "sales_df.dtypes"
   ]
  },
  {
   "cell_type": "code",
   "execution_count": 5,
   "metadata": {
    "scrolled": true
   },
   "outputs": [
    {
     "data": {
      "text/html": [
       "<div>\n",
       "<style scoped>\n",
       "    .dataframe tbody tr th:only-of-type {\n",
       "        vertical-align: middle;\n",
       "    }\n",
       "\n",
       "    .dataframe tbody tr th {\n",
       "        vertical-align: top;\n",
       "    }\n",
       "\n",
       "    .dataframe thead th {\n",
       "        text-align: right;\n",
       "    }\n",
       "</style>\n",
       "<table border=\"1\" class=\"dataframe\">\n",
       "  <thead>\n",
       "    <tr style=\"text-align: right;\">\n",
       "      <th></th>\n",
       "      <th>ExciseTaxNbr</th>\n",
       "      <th>Major</th>\n",
       "      <th>Minor</th>\n",
       "      <th>DocumentDate</th>\n",
       "      <th>SalePrice</th>\n",
       "      <th>RecordingNbr</th>\n",
       "      <th>Volume</th>\n",
       "      <th>Page</th>\n",
       "      <th>PlatNbr</th>\n",
       "      <th>PlatType</th>\n",
       "      <th>...</th>\n",
       "      <th>PropertyType</th>\n",
       "      <th>PrincipalUse</th>\n",
       "      <th>SaleInstrument</th>\n",
       "      <th>AFForestLand</th>\n",
       "      <th>AFCurrentUseLand</th>\n",
       "      <th>AFNonProfitUse</th>\n",
       "      <th>AFHistoricProperty</th>\n",
       "      <th>SaleReason</th>\n",
       "      <th>PropertyClass</th>\n",
       "      <th>SaleWarning</th>\n",
       "    </tr>\n",
       "  </thead>\n",
       "  <tbody>\n",
       "    <tr>\n",
       "      <th>0</th>\n",
       "      <td>2687551</td>\n",
       "      <td>138860</td>\n",
       "      <td>110</td>\n",
       "      <td>08/21/2014</td>\n",
       "      <td>245000</td>\n",
       "      <td>20140828001436</td>\n",
       "      <td></td>\n",
       "      <td></td>\n",
       "      <td></td>\n",
       "      <td></td>\n",
       "      <td>...</td>\n",
       "      <td>3</td>\n",
       "      <td>6</td>\n",
       "      <td>3</td>\n",
       "      <td>N</td>\n",
       "      <td>N</td>\n",
       "      <td>N</td>\n",
       "      <td>N</td>\n",
       "      <td>1</td>\n",
       "      <td>8</td>\n",
       "      <td></td>\n",
       "    </tr>\n",
       "    <tr>\n",
       "      <th>1</th>\n",
       "      <td>1235111</td>\n",
       "      <td>664885</td>\n",
       "      <td>40</td>\n",
       "      <td>07/09/1991</td>\n",
       "      <td>0</td>\n",
       "      <td>199203161090</td>\n",
       "      <td>071</td>\n",
       "      <td>001</td>\n",
       "      <td>664885</td>\n",
       "      <td>C</td>\n",
       "      <td>...</td>\n",
       "      <td>3</td>\n",
       "      <td>0</td>\n",
       "      <td>26</td>\n",
       "      <td>N</td>\n",
       "      <td>N</td>\n",
       "      <td>N</td>\n",
       "      <td>N</td>\n",
       "      <td>18</td>\n",
       "      <td>3</td>\n",
       "      <td>11</td>\n",
       "    </tr>\n",
       "    <tr>\n",
       "      <th>2</th>\n",
       "      <td>2704079</td>\n",
       "      <td>423943</td>\n",
       "      <td>50</td>\n",
       "      <td>10/11/2014</td>\n",
       "      <td>0</td>\n",
       "      <td>20141205000558</td>\n",
       "      <td></td>\n",
       "      <td></td>\n",
       "      <td></td>\n",
       "      <td></td>\n",
       "      <td>...</td>\n",
       "      <td>3</td>\n",
       "      <td>6</td>\n",
       "      <td>15</td>\n",
       "      <td>N</td>\n",
       "      <td>N</td>\n",
       "      <td>N</td>\n",
       "      <td>N</td>\n",
       "      <td>18</td>\n",
       "      <td>8</td>\n",
       "      <td>18 31 51</td>\n",
       "    </tr>\n",
       "    <tr>\n",
       "      <th>3</th>\n",
       "      <td>2584094</td>\n",
       "      <td>403700</td>\n",
       "      <td>715</td>\n",
       "      <td>01/04/2013</td>\n",
       "      <td>0</td>\n",
       "      <td>20130110000910</td>\n",
       "      <td></td>\n",
       "      <td></td>\n",
       "      <td></td>\n",
       "      <td></td>\n",
       "      <td>...</td>\n",
       "      <td>3</td>\n",
       "      <td>6</td>\n",
       "      <td>15</td>\n",
       "      <td>N</td>\n",
       "      <td>N</td>\n",
       "      <td>N</td>\n",
       "      <td>N</td>\n",
       "      <td>11</td>\n",
       "      <td>8</td>\n",
       "      <td>18 31 38</td>\n",
       "    </tr>\n",
       "    <tr>\n",
       "      <th>4</th>\n",
       "      <td>1056831</td>\n",
       "      <td>951120</td>\n",
       "      <td>900</td>\n",
       "      <td>04/20/1989</td>\n",
       "      <td>85000</td>\n",
       "      <td>198904260448</td>\n",
       "      <td>117</td>\n",
       "      <td>053</td>\n",
       "      <td>951120</td>\n",
       "      <td>P</td>\n",
       "      <td>...</td>\n",
       "      <td>3</td>\n",
       "      <td>0</td>\n",
       "      <td>2</td>\n",
       "      <td>N</td>\n",
       "      <td>N</td>\n",
       "      <td>N</td>\n",
       "      <td>N</td>\n",
       "      <td>1</td>\n",
       "      <td>9</td>\n",
       "      <td>49</td>\n",
       "    </tr>\n",
       "  </tbody>\n",
       "</table>\n",
       "<p>5 rows × 24 columns</p>\n",
       "</div>"
      ],
      "text/plain": [
       "   ExciseTaxNbr   Major Minor DocumentDate  SalePrice    RecordingNbr Volume  \\\n",
       "0       2687551  138860   110   08/21/2014     245000  20140828001436          \n",
       "1       1235111  664885    40   07/09/1991          0  199203161090      071   \n",
       "2       2704079  423943    50   10/11/2014          0  20141205000558          \n",
       "3       2584094  403700   715   01/04/2013          0  20130110000910          \n",
       "4       1056831  951120   900   04/20/1989      85000  198904260448      117   \n",
       "\n",
       "  Page PlatNbr PlatType  ... PropertyType PrincipalUse SaleInstrument  \\\n",
       "0                        ...            3            6              3   \n",
       "1  001  664885        C  ...            3            0             26   \n",
       "2                        ...            3            6             15   \n",
       "3                        ...            3            6             15   \n",
       "4  053  951120        P  ...            3            0              2   \n",
       "\n",
       "  AFForestLand  AFCurrentUseLand  AFNonProfitUse  AFHistoricProperty  \\\n",
       "0            N                 N               N                   N   \n",
       "1            N                 N               N                   N   \n",
       "2            N                 N               N                   N   \n",
       "3            N                 N               N                   N   \n",
       "4            N                 N               N                   N   \n",
       "\n",
       "  SaleReason PropertyClass SaleWarning  \n",
       "0          1             8              \n",
       "1         18             3          11  \n",
       "2         18             8    18 31 51  \n",
       "3         11             8    18 31 38  \n",
       "4          1             9          49  \n",
       "\n",
       "[5 rows x 24 columns]"
      ]
     },
     "execution_count": 5,
     "metadata": {},
     "output_type": "execute_result"
    }
   ],
   "source": [
    "sales_df.head()"
   ]
  },
  {
   "cell_type": "markdown",
   "metadata": {},
   "source": [
    "### Data overload?\n",
    "\n",
    "That's a lot of columns. We're only interested in identifying the date, sale price, and square footage of each specific property. What can we do?"
   ]
  },
  {
   "cell_type": "code",
   "execution_count": 8,
   "metadata": {},
   "outputs": [],
   "source": [
    "sales_df = sales_df[['Major', 'Minor', 'DocumentDate', 'SalePrice']]"
   ]
  },
  {
   "cell_type": "code",
   "execution_count": 9,
   "metadata": {},
   "outputs": [
    {
     "name": "stdout",
     "output_type": "stream",
     "text": [
      "<class 'pandas.core.frame.DataFrame'>\n",
      "RangeIndex: 2035819 entries, 0 to 2035818\n",
      "Data columns (total 4 columns):\n",
      "Major           object\n",
      "Minor           object\n",
      "DocumentDate    object\n",
      "SalePrice       int64\n",
      "dtypes: int64(1), object(3)\n",
      "memory usage: 62.1+ MB\n"
     ]
    }
   ],
   "source": [
    "sales_df.info()"
   ]
  },
  {
   "cell_type": "code",
   "execution_count": 10,
   "metadata": {
    "scrolled": true
   },
   "outputs": [
    {
     "name": "stderr",
     "output_type": "stream",
     "text": [
      "/Users/apeeblesmadigan/anaconda3/lib/python3.7/site-packages/IPython/core/interactiveshell.py:2785: DtypeWarning: Columns (11) have mixed types. Specify dtype option on import or set low_memory=False.\n",
      "  interactivity=interactivity, compiler=compiler, result=result)\n"
     ]
    }
   ],
   "source": [
    "bldg_df = pd.read_csv('data/EXTR_ResBldg.csv')"
   ]
  },
  {
   "cell_type": "markdown",
   "metadata": {},
   "source": [
    "### Another warning! Which column has index 11?"
   ]
  },
  {
   "cell_type": "code",
   "execution_count": 11,
   "metadata": {},
   "outputs": [
    {
     "data": {
      "text/plain": [
       "'ZipCode'"
      ]
     },
     "execution_count": 11,
     "metadata": {},
     "output_type": "execute_result"
    }
   ],
   "source": [
    "bldg_df.columns[11]"
   ]
  },
  {
   "cell_type": "markdown",
   "metadata": {},
   "source": [
    "`ZipCode` seems like a potentially useful column. We'll need it to determine which house sales took place in Seattle."
   ]
  },
  {
   "cell_type": "code",
   "execution_count": 12,
   "metadata": {
    "scrolled": true
   },
   "outputs": [
    {
     "data": {
      "text/plain": [
       "Major                   int64\n",
       "Minor                   int64\n",
       "BldgNbr                 int64\n",
       "NbrLivingUnits          int64\n",
       "Address                object\n",
       "BuildingNumber         object\n",
       "Fraction               object\n",
       "DirectionPrefix        object\n",
       "StreetName             object\n",
       "StreetType             object\n",
       "DirectionSuffix        object\n",
       "ZipCode                object\n",
       "Stories               float64\n",
       "BldgGrade               int64\n",
       "BldgGradeVar            int64\n",
       "SqFt1stFloor            int64\n",
       "SqFtHalfFloor           int64\n",
       "SqFt2ndFloor            int64\n",
       "SqFtUpperFloor          int64\n",
       "SqFtUnfinFull           int64\n",
       "SqFtUnfinHalf           int64\n",
       "SqFtTotLiving           int64\n",
       "SqFtTotBasement         int64\n",
       "SqFtFinBasement         int64\n",
       "FinBasementGrade        int64\n",
       "SqFtGarageBasement      int64\n",
       "SqFtGarageAttached      int64\n",
       "DaylightBasement       object\n",
       "SqFtOpenPorch           int64\n",
       "SqFtEnclosedPorch       int64\n",
       "SqFtDeck                int64\n",
       "HeatSystem              int64\n",
       "HeatSource              int64\n",
       "BrickStone              int64\n",
       "ViewUtilization        object\n",
       "Bedrooms                int64\n",
       "BathHalfCount           int64\n",
       "Bath3qtrCount           int64\n",
       "BathFullCount           int64\n",
       "FpSingleStory           int64\n",
       "FpMultiStory            int64\n",
       "FpFreestanding          int64\n",
       "FpAdditional            int64\n",
       "YrBuilt                 int64\n",
       "YrRenovated             int64\n",
       "PcntComplete            int64\n",
       "Obsolescence            int64\n",
       "PcntNetCondition        int64\n",
       "Condition               int64\n",
       "AddnlCost               int64\n",
       "dtype: object"
      ]
     },
     "execution_count": 12,
     "metadata": {},
     "output_type": "execute_result"
    }
   ],
   "source": [
    "bldg_df.dtypes"
   ]
  },
  {
   "cell_type": "markdown",
   "metadata": {},
   "source": [
    "### So many features!\n",
    "\n",
    "As data scientists, we should be _very_ cautious about discarding potentially useful data. But, today, we're interested in _only_ the total square footage of each property. What can we do?\n"
   ]
  },
  {
   "cell_type": "code",
   "execution_count": 13,
   "metadata": {},
   "outputs": [],
   "source": [
    "bldg_df = bldg_df[['Major', 'Minor', 'SqFtTotLiving', 'ZipCode']]"
   ]
  },
  {
   "cell_type": "code",
   "execution_count": 14,
   "metadata": {
    "scrolled": true
   },
   "outputs": [
    {
     "name": "stdout",
     "output_type": "stream",
     "text": [
      "<class 'pandas.core.frame.DataFrame'>\n",
      "RangeIndex: 512827 entries, 0 to 512826\n",
      "Data columns (total 4 columns):\n",
      "Major            512827 non-null int64\n",
      "Minor            512827 non-null int64\n",
      "SqFtTotLiving    512827 non-null int64\n",
      "ZipCode          468452 non-null object\n",
      "dtypes: int64(3), object(1)\n",
      "memory usage: 15.7+ MB\n"
     ]
    }
   ],
   "source": [
    "bldg_df.info()"
   ]
  },
  {
   "cell_type": "code",
   "execution_count": 16,
   "metadata": {},
   "outputs": [
    {
     "name": "stdout",
     "output_type": "stream",
     "text": [
      "<class 'pandas.core.frame.DataFrame'>\n",
      "RangeIndex: 2035819 entries, 0 to 2035818\n",
      "Data columns (total 4 columns):\n",
      "Major           object\n",
      "Minor           object\n",
      "DocumentDate    object\n",
      "SalePrice       int64\n",
      "dtypes: int64(1), object(3)\n",
      "memory usage: 62.1+ MB\n"
     ]
    }
   ],
   "source": [
    "sales_df.info()"
   ]
  },
  {
   "cell_type": "code",
   "execution_count": 15,
   "metadata": {},
   "outputs": [],
   "source": [
    "sales_data = pd.merge(sales_df, bldg_df, on=['Major', 'Minor'])"
   ]
  },
  {
   "cell_type": "code",
   "execution_count": 17,
   "metadata": {},
   "outputs": [
    {
     "name": "stdout",
     "output_type": "stream",
     "text": [
      "<class 'pandas.core.frame.DataFrame'>\n",
      "Int64Index: 1407235 entries, 0 to 1407234\n",
      "Data columns (total 6 columns):\n",
      "Major            1407235 non-null object\n",
      "Minor            1407235 non-null object\n",
      "DocumentDate     1407235 non-null object\n",
      "SalePrice        1407235 non-null int64\n",
      "SqFtTotLiving    1407235 non-null int64\n",
      "ZipCode          1291909 non-null object\n",
      "dtypes: int64(2), object(4)\n",
      "memory usage: 75.2+ MB\n"
     ]
    }
   ],
   "source": [
    "sales_data.info()"
   ]
  },
  {
   "cell_type": "markdown",
   "metadata": {},
   "source": [
    "### Error!\n",
    "\n",
    "Why are we seeing an error when we try to join the dataframes?\n",
    "\n",
    "<table>\n",
    "    <tr>\n",
    "        <td style=\"text-align:left\"><pre>\n",
    "<class 'pandas.core.frame.DataFrame'>\n",
    "RangeIndex: 2013160 entries, 0 to 2013159\n",
    "Data columns (total 4 columns):\n",
    "Major           object\n",
    "Minor           object\n",
    "DocumentDate    object\n",
    "SalePrice       int64\n",
    "dtypes: int64(1), object(3)\n",
    "memory usage: 61.4+ MB</pre></td>\n",
    "        <td style=\"text-align:left\"><pre>\n",
    "<class 'pandas.core.frame.DataFrame'>\n",
    "RangeIndex: 511359 entries, 0 to 511358\n",
    "Data columns (total 4 columns):\n",
    "Major            511359 non-null int64\n",
    "Minor            511359 non-null int64\n",
    "SqFtTotLiving    511359 non-null int64\n",
    "ZipCode          468345 non-null object\n",
    "dtypes: int64(3), object(1)\n",
    "memory usage: 15.6+ MB\n",
    "</pre></td>\n",
    "    </tr>\n",
    "</table>\n",
    "\n",
    "Review the error message in light of the above:\n",
    "\n",
    "* `ValueError: You are trying to merge on object and int64 columns.`"
   ]
  },
  {
   "cell_type": "code",
   "execution_count": 21,
   "metadata": {},
   "outputs": [],
   "source": [
    "sales_df['Major'] = pd.to_numeric(sales_df['Major'],errors='coerce')"
   ]
  },
  {
   "cell_type": "code",
   "execution_count": 22,
   "metadata": {},
   "outputs": [],
   "source": [
    "sales_df['Minor'] = pd.to_numeric(sales_df['Minor'],errors='coerce')"
   ]
  },
  {
   "cell_type": "markdown",
   "metadata": {},
   "source": [
    "### Error!\n",
    "\n",
    "Note the useful error message above:\n",
    "\n",
    "`ValueError: Unable to parse string \"      \" at position 936643`\n",
    "\n",
    "In this case, we want to treat non-numeric values as missing values. Let's see if there's a way to change how the `pd.to_numeric` function handles errors."
   ]
  },
  {
   "cell_type": "code",
   "execution_count": null,
   "metadata": {},
   "outputs": [],
   "source": [
    "# The single question mark means \"show me the docstring\"\n",
    "pd.to_numeric?"
   ]
  },
  {
   "cell_type": "markdown",
   "metadata": {},
   "source": [
    "Here's the part that we're looking for:\n",
    "```\n",
    "errors : {'ignore', 'raise', 'coerce'}, default 'raise'\n",
    "    - If 'raise', then invalid parsing will raise an exception\n",
    "    - If 'coerce', then invalid parsing will be set as NaN\n",
    "    - If 'ignore', then invalid parsing will return the input\n",
    "```\n",
    "\n",
    "Let's try setting the `errors` parameter to `'coerce'`."
   ]
  },
  {
   "cell_type": "code",
   "execution_count": null,
   "metadata": {},
   "outputs": [],
   "source": [
    "sales_df['Major'] = pd.to_numeric(sales_df['Major'], errors='coerce')"
   ]
  },
  {
   "cell_type": "markdown",
   "metadata": {},
   "source": [
    "Did it work?"
   ]
  },
  {
   "cell_type": "code",
   "execution_count": null,
   "metadata": {},
   "outputs": [],
   "source": [
    "sales_df.info()"
   ]
  },
  {
   "cell_type": "markdown",
   "metadata": {},
   "source": [
    "It worked! Let's do the same thing with the `Minor` parcel number."
   ]
  },
  {
   "cell_type": "code",
   "execution_count": null,
   "metadata": {},
   "outputs": [],
   "source": [
    "sales_df['Minor'] = pd.to_numeric(sales_df['Minor'], errors='coerce')"
   ]
  },
  {
   "cell_type": "code",
   "execution_count": null,
   "metadata": {},
   "outputs": [],
   "source": [
    "sales_df.info()"
   ]
  },
  {
   "cell_type": "markdown",
   "metadata": {},
   "source": [
    "Now, let's try our join again."
   ]
  },
  {
   "cell_type": "code",
   "execution_count": 100,
   "metadata": {},
   "outputs": [],
   "source": [
    "sales_data = pd.merge(sales_df, bldg_df, on=['Major', 'Minor'])"
   ]
  },
  {
   "cell_type": "code",
   "execution_count": 24,
   "metadata": {},
   "outputs": [
    {
     "name": "stdout",
     "output_type": "stream",
     "text": [
      "<class 'pandas.core.frame.DataFrame'>\n",
      "Int64Index: 1407235 entries, 0 to 1407234\n",
      "Data columns (total 6 columns):\n",
      "Major            1407235 non-null object\n",
      "Minor            1407235 non-null object\n",
      "DocumentDate     1407235 non-null object\n",
      "SalePrice        1407235 non-null int64\n",
      "SqFtTotLiving    1407235 non-null int64\n",
      "ZipCode          1291909 non-null object\n",
      "dtypes: int64(2), object(4)\n",
      "memory usage: 75.2+ MB\n"
     ]
    }
   ],
   "source": [
    "# 1407235 homes\n",
    "sales_data.info()"
   ]
  },
  {
   "cell_type": "code",
   "execution_count": null,
   "metadata": {},
   "outputs": [],
   "source": [
    "sales_data.info()"
   ]
  },
  {
   "cell_type": "markdown",
   "metadata": {},
   "source": [
    "We can see right away that we're missing zip codes for many of the sales transactions. (1321536 non-null entries for ZipCode is fewer than the 1436772 entries in the dataframe.) "
   ]
  },
  {
   "cell_type": "code",
   "execution_count": 25,
   "metadata": {},
   "outputs": [
    {
     "data": {
      "text/html": [
       "<div>\n",
       "<style scoped>\n",
       "    .dataframe tbody tr th:only-of-type {\n",
       "        vertical-align: middle;\n",
       "    }\n",
       "\n",
       "    .dataframe tbody tr th {\n",
       "        vertical-align: top;\n",
       "    }\n",
       "\n",
       "    .dataframe thead th {\n",
       "        text-align: right;\n",
       "    }\n",
       "</style>\n",
       "<table border=\"1\" class=\"dataframe\">\n",
       "  <thead>\n",
       "    <tr style=\"text-align: right;\">\n",
       "      <th></th>\n",
       "      <th>Major</th>\n",
       "      <th>Minor</th>\n",
       "      <th>DocumentDate</th>\n",
       "      <th>SalePrice</th>\n",
       "      <th>SqFtTotLiving</th>\n",
       "      <th>ZipCode</th>\n",
       "    </tr>\n",
       "  </thead>\n",
       "  <tbody>\n",
       "    <tr>\n",
       "      <th>87</th>\n",
       "      <td>717370</td>\n",
       "      <td>350</td>\n",
       "      <td>12/01/1997</td>\n",
       "      <td>0</td>\n",
       "      <td>3380</td>\n",
       "      <td>NaN</td>\n",
       "    </tr>\n",
       "    <tr>\n",
       "      <th>88</th>\n",
       "      <td>717370</td>\n",
       "      <td>350</td>\n",
       "      <td>09/13/2004</td>\n",
       "      <td>300000</td>\n",
       "      <td>3380</td>\n",
       "      <td>NaN</td>\n",
       "    </tr>\n",
       "    <tr>\n",
       "      <th>89</th>\n",
       "      <td>717370</td>\n",
       "      <td>350</td>\n",
       "      <td>02/06/2006</td>\n",
       "      <td>901000</td>\n",
       "      <td>3380</td>\n",
       "      <td>NaN</td>\n",
       "    </tr>\n",
       "    <tr>\n",
       "      <th>104</th>\n",
       "      <td>277110</td>\n",
       "      <td>1923</td>\n",
       "      <td>02/08/2007</td>\n",
       "      <td>372500</td>\n",
       "      <td>1000</td>\n",
       "      <td>NaN</td>\n",
       "    </tr>\n",
       "    <tr>\n",
       "      <th>105</th>\n",
       "      <td>277110</td>\n",
       "      <td>1923</td>\n",
       "      <td>02/08/2007</td>\n",
       "      <td>0</td>\n",
       "      <td>1000</td>\n",
       "      <td>NaN</td>\n",
       "    </tr>\n",
       "  </tbody>\n",
       "</table>\n",
       "</div>"
      ],
      "text/plain": [
       "      Major Minor DocumentDate  SalePrice  SqFtTotLiving ZipCode\n",
       "87   717370   350   12/01/1997          0           3380     NaN\n",
       "88   717370   350   09/13/2004     300000           3380     NaN\n",
       "89   717370   350   02/06/2006     901000           3380     NaN\n",
       "104  277110  1923   02/08/2007     372500           1000     NaN\n",
       "105  277110  1923   02/08/2007          0           1000     NaN"
      ]
     },
     "execution_count": 25,
     "metadata": {},
     "output_type": "execute_result"
    }
   ],
   "source": [
    "sales_data.loc[sales_data['ZipCode'].isna()].head()"
   ]
  },
  {
   "cell_type": "markdown",
   "metadata": {},
   "source": [
    "Because we are interested in finding houses in Seattle zip codes, we will need to drop the rows with missing zip codes."
   ]
  },
  {
   "cell_type": "code",
   "execution_count": 101,
   "metadata": {},
   "outputs": [],
   "source": [
    "sales_data = sales_data.loc[~sales_data['ZipCode'].isna(), :]\n",
    "\n",
    "# sales_data.head()"
   ]
  },
  {
   "cell_type": "code",
   "execution_count": 102,
   "metadata": {},
   "outputs": [
    {
     "data": {
      "text/plain": [
       "(1334823, 6)"
      ]
     },
     "execution_count": 102,
     "metadata": {},
     "output_type": "execute_result"
    }
   ],
   "source": [
    "# 1334823 homes\n",
    "sales_data.shape"
   ]
  },
  {
   "cell_type": "markdown",
   "metadata": {},
   "source": [
    "# Your turn: Data Cleaning with Pandas\n",
    "![turtletype](https://media3.giphy.com/media/cFdHXXm5GhJsc/giphy.gif?cid=790b76115d3627d8354c7179366b0672&rid=giphy.gif)"
   ]
  },
  {
   "cell_type": "markdown",
   "metadata": {},
   "source": [
    "### 1. Investigate and drop rows with invalid values in the SalePrice and SqFtTotLiving columns.\n",
    "\n",
    "Use multiple notebook cells to accomplish this! Press `[esc]` then `B` to create a new cell below the current cell. Press `[return]` to start typing in the new cell."
   ]
  },
  {
   "cell_type": "code",
   "execution_count": 104,
   "metadata": {},
   "outputs": [
    {
     "data": {
      "text/html": [
       "<div>\n",
       "<style scoped>\n",
       "    .dataframe tbody tr th:only-of-type {\n",
       "        vertical-align: middle;\n",
       "    }\n",
       "\n",
       "    .dataframe tbody tr th {\n",
       "        vertical-align: top;\n",
       "    }\n",
       "\n",
       "    .dataframe thead th {\n",
       "        text-align: right;\n",
       "    }\n",
       "</style>\n",
       "<table border=\"1\" class=\"dataframe\">\n",
       "  <thead>\n",
       "    <tr style=\"text-align: right;\">\n",
       "      <th></th>\n",
       "      <th>Major</th>\n",
       "      <th>Minor</th>\n",
       "      <th>SalePrice</th>\n",
       "      <th>SqFtTotLiving</th>\n",
       "    </tr>\n",
       "  </thead>\n",
       "  <tbody>\n",
       "    <tr>\n",
       "      <th>count</th>\n",
       "      <td>1.334823e+06</td>\n",
       "      <td>1.334823e+06</td>\n",
       "      <td>1.334823e+06</td>\n",
       "      <td>1.334823e+06</td>\n",
       "    </tr>\n",
       "    <tr>\n",
       "      <th>mean</th>\n",
       "      <td>4.478332e+05</td>\n",
       "      <td>1.587683e+03</td>\n",
       "      <td>2.854156e+05</td>\n",
       "      <td>2.090023e+03</td>\n",
       "    </tr>\n",
       "    <tr>\n",
       "      <th>std</th>\n",
       "      <td>2.861843e+05</td>\n",
       "      <td>2.872052e+03</td>\n",
       "      <td>7.470866e+05</td>\n",
       "      <td>9.670153e+02</td>\n",
       "    </tr>\n",
       "    <tr>\n",
       "      <th>min</th>\n",
       "      <td>4.000000e+01</td>\n",
       "      <td>1.000000e+00</td>\n",
       "      <td>-6.000000e+02</td>\n",
       "      <td>0.000000e+00</td>\n",
       "    </tr>\n",
       "    <tr>\n",
       "      <th>25%</th>\n",
       "      <td>2.021200e+05</td>\n",
       "      <td>1.160000e+02</td>\n",
       "      <td>0.000000e+00</td>\n",
       "      <td>1.430000e+03</td>\n",
       "    </tr>\n",
       "    <tr>\n",
       "      <th>50%</th>\n",
       "      <td>3.856900e+05</td>\n",
       "      <td>3.300000e+02</td>\n",
       "      <td>1.600000e+05</td>\n",
       "      <td>1.920000e+03</td>\n",
       "    </tr>\n",
       "    <tr>\n",
       "      <th>75%</th>\n",
       "      <td>7.227500e+05</td>\n",
       "      <td>1.040000e+03</td>\n",
       "      <td>3.499500e+05</td>\n",
       "      <td>2.550000e+03</td>\n",
       "    </tr>\n",
       "    <tr>\n",
       "      <th>max</th>\n",
       "      <td>9.906000e+05</td>\n",
       "      <td>9.689000e+03</td>\n",
       "      <td>3.750000e+07</td>\n",
       "      <td>4.816000e+04</td>\n",
       "    </tr>\n",
       "  </tbody>\n",
       "</table>\n",
       "</div>"
      ],
      "text/plain": [
       "              Major         Minor     SalePrice  SqFtTotLiving\n",
       "count  1.334823e+06  1.334823e+06  1.334823e+06   1.334823e+06\n",
       "mean   4.478332e+05  1.587683e+03  2.854156e+05   2.090023e+03\n",
       "std    2.861843e+05  2.872052e+03  7.470866e+05   9.670153e+02\n",
       "min    4.000000e+01  1.000000e+00 -6.000000e+02   0.000000e+00\n",
       "25%    2.021200e+05  1.160000e+02  0.000000e+00   1.430000e+03\n",
       "50%    3.856900e+05  3.300000e+02  1.600000e+05   1.920000e+03\n",
       "75%    7.227500e+05  1.040000e+03  3.499500e+05   2.550000e+03\n",
       "max    9.906000e+05  9.689000e+03  3.750000e+07   4.816000e+04"
      ]
     },
     "execution_count": 104,
     "metadata": {},
     "output_type": "execute_result"
    }
   ],
   "source": [
    "# sales_data.describe()"
   ]
  },
  {
   "cell_type": "code",
   "execution_count": 145,
   "metadata": {},
   "outputs": [],
   "source": [
    "cleaned_data_SP = sales_data.loc[(sales_data['SalePrice']>0)]"
   ]
  },
  {
   "cell_type": "code",
   "execution_count": 148,
   "metadata": {},
   "outputs": [],
   "source": [
    "cleaned_data_sql = cleaned_data_SP.loc[(['SqFtTotLiving']>0)]"
   ]
  },
  {
   "cell_type": "markdown",
   "metadata": {},
   "source": [
    "### 2. Investigate and handle non-numeric ZipCode values\n",
    "\n",
    "Can you find a way to shorten ZIP+4 codes to the first five digits?\n",
    "\n",
    "What's the right thing to do with missing values?"
   ]
  },
  {
   "cell_type": "code",
   "execution_count": 122,
   "metadata": {},
   "outputs": [
    {
     "data": {
      "text/plain": [
       "13522    98031-3173\n",
       "13842    98042-3001\n",
       "13843    98042-3001\n",
       "13844    98042-3001\n",
       "13845    98042-3001\n",
       "Name: ZipCode, dtype: object"
      ]
     },
     "execution_count": 122,
     "metadata": {},
     "output_type": "execute_result"
    }
   ],
   "source": [
    "# Read the error message and decide how to fix it.\n",
    "# Note: using errors='coerce' is the *wrong* choice in this case.\n",
    "def is_integer(x):\n",
    "    try:\n",
    "        _ = int(x)\n",
    "    except ValueError:\n",
    "        return False\n",
    "    return True\n",
    "\n",
    "cleaned_data_sql.loc[cleaned_data_sql['ZipCode'].apply(is_integer) == False, 'ZipCode'].head()"
   ]
  },
  {
   "cell_type": "code",
   "execution_count": 125,
   "metadata": {},
   "outputs": [
    {
     "name": "stderr",
     "output_type": "stream",
     "text": [
      "/Users/apeeblesmadigan/anaconda3/lib/python3.7/site-packages/ipykernel_launcher.py:1: SettingWithCopyWarning: \n",
      "A value is trying to be set on a copy of a slice from a DataFrame.\n",
      "Try using .loc[row_indexer,col_indexer] = value instead\n",
      "\n",
      "See the caveats in the documentation: http://pandas.pydata.org/pandas-docs/stable/indexing.html#indexing-view-versus-copy\n",
      "  \"\"\"Entry point for launching an IPython kernel.\n"
     ]
    }
   ],
   "source": [
    "cleaned_data_sql['ZipCode2'] = cleaned_data_sql['ZipCode'].map(lambda x: str(x)[:5])"
   ]
  },
  {
   "cell_type": "code",
   "execution_count": 128,
   "metadata": {
    "scrolled": true
   },
   "outputs": [
    {
     "data": {
      "text/plain": [
       "(129,)"
      ]
     },
     "execution_count": 128,
     "metadata": {},
     "output_type": "execute_result"
    }
   ],
   "source": [
    "cleaned_data_sql.ZipCode2.unique().shape"
   ]
  },
  {
   "cell_type": "markdown",
   "metadata": {},
   "source": [
    "### 3. Add a column for PricePerSqFt\n",
    "\n"
   ]
  },
  {
   "cell_type": "code",
   "execution_count": 129,
   "metadata": {},
   "outputs": [
    {
     "name": "stderr",
     "output_type": "stream",
     "text": [
      "/Users/apeeblesmadigan/anaconda3/lib/python3.7/site-packages/ipykernel_launcher.py:1: SettingWithCopyWarning: \n",
      "A value is trying to be set on a copy of a slice from a DataFrame.\n",
      "Try using .loc[row_indexer,col_indexer] = value instead\n",
      "\n",
      "See the caveats in the documentation: http://pandas.pydata.org/pandas-docs/stable/indexing.html#indexing-view-versus-copy\n",
      "  \"\"\"Entry point for launching an IPython kernel.\n"
     ]
    }
   ],
   "source": [
    "cleaned_data_sql['PricePerSqFt'] = cleaned_data_sql.SalePrice/cleaned_data_sql.SqFtTotLiving"
   ]
  },
  {
   "cell_type": "markdown",
   "metadata": {},
   "source": [
    "### 4. Subset the data to 2019 sales only.\n",
    "\n",
    "We can assume that the DocumentDate is approximately the sale date."
   ]
  },
  {
   "cell_type": "code",
   "execution_count": 132,
   "metadata": {},
   "outputs": [],
   "source": [
    "# get only 2019 sales\n",
    "data2019 = cleaned_data_sql.loc[cleaned_data_sql.DocumentDate.str[-4:] == '2019']"
   ]
  },
  {
   "cell_type": "code",
   "execution_count": 152,
   "metadata": {},
   "outputs": [
    {
     "data": {
      "text/plain": [
       "(12642, 8)"
      ]
     },
     "execution_count": 152,
     "metadata": {},
     "output_type": "execute_result"
    }
   ],
   "source": [
    "data2019.shape"
   ]
  },
  {
   "cell_type": "markdown",
   "metadata": {},
   "source": [
    "### 5. Subset the data to zip codes within the City of Seattle.\n"
   ]
  },
  {
   "cell_type": "code",
   "execution_count": 137,
   "metadata": {},
   "outputs": [],
   "source": [
    "Zipcodes = [98101, 98102, 98103, 98104, 98105, 98106, 98107, 98108, 98109, 98112, 98115, 98116, 98117, 98118, 98119, 98121, 98122, 98125, 98126, 98133, 98134, 98136, 98144, 98146, 98154, 98164, 98174, 98177, 98178, 98195, 98199]\n",
    "\n",
    "zipseries = pd.Series(Zipcodes)\n",
    "test = zipseries.astype(str)\n",
    "ready_data = data2019.loc[data2019.ZipCode2.isin(test)]\n"
   ]
  },
  {
   "cell_type": "code",
   "execution_count": null,
   "metadata": {},
   "outputs": [],
   "source": []
  },
  {
   "cell_type": "markdown",
   "metadata": {},
   "source": [
    "### 6. What is the mean price per square foot for a house sold in Seattle in 2019?\n",
    "\n",
    "Don't just type the answer. Type code that generates the answer as output!"
   ]
  },
  {
   "cell_type": "code",
   "execution_count": 140,
   "metadata": {},
   "outputs": [],
   "source": [
    "average_price_psf=ready_data.PricePerSqFt.mean()"
   ]
  },
  {
   "cell_type": "code",
   "execution_count": 141,
   "metadata": {},
   "outputs": [
    {
     "name": "stdout",
     "output_type": "stream",
     "text": [
      "520.2328898928004\n"
     ]
    }
   ],
   "source": [
    "print(average_price_psf)"
   ]
  },
  {
   "cell_type": "markdown",
   "metadata": {},
   "source": [
    "## Turning code into a script\n",
    "\n",
    "#### make a new .py file\n",
    "- open a new `.py` file _or_ open a new jupyter notbook and export as a `.py` file so we can start to edit the `.py` file directly\n",
    "- save the file as `mean_ppsf_seattle.py`\n",
    "- look at all your code between `sales_df = pd.read_csv('data/Real Property Sales.zip')` and question `number 6` above\n",
    "\n",
    "#### review & organize your code\n",
    "- _organize_ your code in the `mean_ppsf_seattle.py` to start with `sales_df = pd.read_csv('data/Real Property Sales.zip')` and end with printing out the mean price per square foot for a house sold in seattle in 2019\n",
    "- the code should be able to run without throwing any errors\n",
    "- remember to include `import pandas as pd` and any other necessary statements at the start of your script\n",
    "\n",
    "#### test your script\n",
    "- go to the terminal\n",
    "- make sure you are in the same directory path as your jupyter notebook and the `.py` file\n",
    "- in the terminal type and then run `python mean_ppsf_seattle.py`\n",
    "- confirm the script returns in terminal what you wanted it to return\n",
    "\n",
    "#### send your script to Ammar and Marisa\n",
    "\n",
    "![anykey](https://media2.giphy.com/media/26BGIqWh2R1fi6JDa/giphy.gif?cid=790b76115d3627d8354c7179366b0672&rid=giphy.gif)"
   ]
  },
  {
   "cell_type": "code",
   "execution_count": null,
   "metadata": {},
   "outputs": [],
   "source": []
  }
 ],
 "metadata": {
  "kernelspec": {
   "display_name": "Python 3",
   "language": "python",
   "name": "python3"
  },
  "language_info": {
   "codemirror_mode": {
    "name": "ipython",
    "version": 3
   },
   "file_extension": ".py",
   "mimetype": "text/x-python",
   "name": "python",
   "nbconvert_exporter": "python",
   "pygments_lexer": "ipython3",
   "version": "3.7.2"
  }
 },
 "nbformat": 4,
 "nbformat_minor": 2
}
