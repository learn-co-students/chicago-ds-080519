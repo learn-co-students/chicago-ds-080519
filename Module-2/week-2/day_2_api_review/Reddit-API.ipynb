{
 "cells": [
  {
   "cell_type": "markdown",
   "metadata": {},
   "source": [
    "# Reddit API Data Collection\n",
    "###### By: Nick Gayliard"
   ]
  },
  {
   "cell_type": "code",
   "execution_count": 1,
   "metadata": {},
   "outputs": [],
   "source": [
    "import requests\n",
    "import time\n",
    "import pandas as pd\n",
    "import numpy as np\n",
    "import re\n",
    "import json\n",
    "import pdb"
   ]
  },
  {
   "cell_type": "markdown",
   "metadata": {},
   "source": [
    "### GET requests"
   ]
  },
  {
   "cell_type": "code",
   "execution_count": 2,
   "metadata": {},
   "outputs": [],
   "source": [
    "url = 'https://www.reddit.com/r/nba.json'\n",
    "\n",
    "req = requests.get(url)"
   ]
  },
  {
   "cell_type": "code",
   "execution_count": 3,
   "metadata": {},
   "outputs": [
    {
     "data": {
      "text/plain": [
       "<Response [429]>"
      ]
     },
     "execution_count": 3,
     "metadata": {},
     "output_type": "execute_result"
    }
   ],
   "source": [
    "req"
   ]
  },
  {
   "cell_type": "markdown",
   "metadata": {},
   "source": [
    "https://httpstatuses.com/429"
   ]
  },
  {
   "cell_type": "markdown",
   "metadata": {},
   "source": [
    "### Requests with parameters / queries"
   ]
  },
  {
   "cell_type": "markdown",
   "metadata": {},
   "source": [
    "The reddit API gave us a 429 (too many requests) error without a 'User-agent' header assigned. That value can be anything in the case of the reddit API. This can differ from API to API, or be completely unneeded. Many APIs will require a private key, given to you by the company. Be sure to PROTECT your API keys, especially ones attached to bank accounts / credit cards (e.g. Amazon Web Services and Google API keys)"
   ]
  },
  {
   "cell_type": "code",
   "execution_count": 4,
   "metadata": {},
   "outputs": [],
   "source": [
    "req = requests.get(url, headers = {'User-agent' : 'Nick'})"
   ]
  },
  {
   "cell_type": "code",
   "execution_count": 5,
   "metadata": {
    "scrolled": false
   },
   "outputs": [
    {
     "data": {
      "text/plain": [
       "200"
      ]
     },
     "execution_count": 5,
     "metadata": {},
     "output_type": "execute_result"
    }
   ],
   "source": [
    "req.status_code"
   ]
  },
  {
   "cell_type": "code",
   "execution_count": 6,
   "metadata": {},
   "outputs": [
    {
     "data": {
      "text/plain": [
       "b'{\"kind\": \"Listing\", \"data\": {\"modhash\": \"\", \"dist\": 26, \"children\": [{\"kind\": \"t3\", \"data\": {\"approved_at_utc\": null, \"subreddit\": \"nba\", \"selftext\": \"Hello All, if you missed it, we\\'re now in the voting round of our first [r/nba Fan Art contest!](https://www.reddit.com/r/nba/comments/cjfwxc/rnba_fan_art_contest_1_submissions_open/)\\\\n\\\\nAll submissions have been consolidated by submitter, so anyone that provided multiple submissions, will have one entry to vote on. This post will be put up once I have put up all the options, so everyone\\'s submission will have the same amount of time to gather votes. Voting will last for 3 days!\\\\n\\\\nPlease vote for your favorite submissions!\\\\n\\\\nThanks to everyone who submitted, and best of luck!\", \"author_fullname\": \"t2_eub4w\", \"saved\": false, \"mod_reason_title\": null, \"gilded\": 0, \"clicked\": false, \"title\": \"r/nba Fan Art Contest #1 - Voting Open!\", \"link_flair_richtext\": [], \"subreddit_name_prefixed\": \"r/nba\", \"hidden\": false, \"pwls\": 6, \"link_flair_css_class\": null, \"downs\": 0, \"hide_score\": false, \"name\": \"t3_cmbyac\", \"quarantine\": false, \"link_flair_text_color\": \"dark\", \"author_flair_background_color\": null, \"subreddit_type\": \"public\", \"ups\": 82, \"total_awards_received\": 0, \"media_embed\": {}, \"author_flair_template_id\": \"d26cc5c2-3feb-11e8-b88f-0e0e21d6cf84\", \"is_original_content\": false, \"user_reports\": [], \"secure_media\": null, \"is_reddit_media_domain\": false, \"is_meta\": false, \"category\": null, \"secure_media_embed\": {}, \"link_flair_text\": null, \"can_mod_post\": false, \"score\": 82, \"approved_by\": null, \"thumbnail\": \"\", \"edited\": 1565020966.0, \"author_flair_css_class\": \"Timberwolves3\", \"author_flair_richtext\": [], \"gildings\": {}, \"content_categories\": null, \"is_self\": true, \"mod_note\": null, \"created\": 1565045564.0, \"link_flair_type\": \"text\", \"wls\": 6, \"banned_by\": null, \"author_flair_type\": \"text\", \"domain\": \"self.nba\", \"allow_live_comments\": false, \"selftext_html\": \"&lt;!-- SC_OFF --&gt;&lt;div class=\\\\\"md\\\\\"&gt;&lt;p&gt;Hello All, if you missed it, we&amp;#39;re now in the voting round of our first &lt;a href=\\\\\"https://www.reddit.com/r/nba/comments/cjfwxc/rnba_fan_art_contest_1_submissions_open/\\\\\"&gt;r/nba Fan Art contest!&lt;/a&gt;&lt;/p&gt;\\\\n\\\\n&lt;p&gt;All submissions have been consolidated by submitter, so anyone that provided multiple submissions, will have one entry to vote on. This post will be put up once I have put up all the options, so everyone&amp;#39;s submission will have the same amount of time to gather votes. Voting will last for 3 days!&lt;/p&gt;\\\\n\\\\n&lt;p&gt;Please vote for your favorite submissions!&lt;/p&gt;\\\\n\\\\n&lt;p&gt;Thanks to everyone who submitted, and best of luck!&lt;/p&gt;\\\\n&lt;/div&gt;&lt;!-- SC_ON --&gt;\", \"likes\": null, \"suggested_sort\": null, \"banned_at_utc\": null, \"view_count\": null, \"archived\": false, \"no_follow\": false, \"is_crosspostable\": false, \"pinned\": false, \"over_18\": false, \"all_awardings\": [], \"media_only\": false, \"can_gild\": false, \"spoiler\": false, \"locked\": true, \"author_flair_text\": \"Szczerbiak\", \"visited\": false, \"num_reports\": null, \"distinguished\": null, \"subreddit_id\": \"t5_2qo4s\", \"mod_reason_by\": null, \"removal_reason\": null, \"link_flair_background_color\": \"\", \"id\": \"cmbyac\", \"is_robot_indexable\": true, \"report_reasons\": null, \"author\": \"edgykitty\", \"num_crossposts\": 0, \"num_comments\": 43, \"send_replies\": true, \"whitelist_status\": \"all_ads\", \"contest_mode\": true, \"mod_reports\": [], \"author_patreon_flair\": false, \"author_flair_text_color\": \"dark\", \"permalink\": \"/r/nba/comments/cmbyac/rnba_fan_art_contest_1_voting_open/\", \"parent_whitelist_status\": \"all_ads\", \"stickied\": true, \"url\": \"https://www.reddit.com/r/nba/comments/cmbyac/rnba_fan_art_contest_1_voting_open/\", \"subreddit_subscribers\": 2573356, \"created_utc\": 1565016764.0, \"discussion_type\": null, \"media\": null, \"is_video\": false}}, {\"kind\": \"t3\", \"data\": {\"approved_at_utc\": null, \"subreddit\": \"nba\", \"selftext\": \"Vince Carter age: 42\\\\n\\\\nBorn: 26 January 1977\\\\n\\\\nRayford Young age: 41\\\\n\\\\nBorn: 5 November 1977\\\\n\\\\n[Source of Rayfords date of birth](https://basketball.realgm.com/player/Rayford-Young/Summary/9693)\", \"author_fullname\": \"t2_n14mkk5\", \"saved\": false, \"mod_reason_title\": null, \"gilded\": 0, \"clicked\": false, \"title\": \"Vince Carter is older than teammate, Trae Young\\\\u2019s dad\", \"link_flair_richtext\": [], \"subreddit_name_prefixed\": \"r/nba\", \"hidden\": false, \"pwls\": 6, \"link_flair_css_class\": null, \"downs\": 0, \"hide_score\": false, \"name\": \"t3_cmorxb\", \"quarantine\": false, \"link_flair_text_color\": \"dark\", \"author_flair_background_color\": null, \"subreddit_type\": \"public\", \"ups\": 7564, \"total_awards_received\": 0, \"media_embed\": {}, \"author_flair_template_id\": \"ca7c5814-3feb-11e8-b0c7-0ee637d2d8dc\", \"is_original_content\": false, \"user_reports\": [], \"secure_media\": null, \"is_reddit_media_domain\": false, \"is_meta\": false, \"category\": null, \"secure_media_embed\": {}, \"link_flair_text\": null, \"can_mod_post\": false, \"score\": 7564, \"approved_by\": null, \"thumbnail\": \"\", \"edited\": false, \"author_flair_css_class\": \"Clippers1\", \"author_flair_richtext\": [], \"gildings\": {}, \"content_categories\": null, \"is_self\": true, \"mod_note\": null, \"created\": 1565115503.0, \"link_flair_type\": \"text\", \"wls\": 6, \"banned_by\": null, \"author_flair_type\": \"text\", \"domain\": \"self.nba\", \"allow_live_comments\": true, \"selftext_html\": \"&lt;!-- SC_OFF --&gt;&lt;div class=\\\\\"md\\\\\"&gt;&lt;p&gt;Vince Carter age: 42&lt;/p&gt;\\\\n\\\\n&lt;p&gt;Born: 26 January 1977&lt;/p&gt;\\\\n\\\\n&lt;p&gt;Rayford Young age: 41&lt;/p&gt;\\\\n\\\\n&lt;p&gt;Born: 5 November 1977&lt;/p&gt;\\\\n\\\\n&lt;p&gt;&lt;a href=\\\\\"https://basketball.realgm.com/player/Rayford-Young/Summary/9693\\\\\"&gt;Source of Rayfords date of birth&lt;/a&gt;&lt;/p&gt;\\\\n&lt;/div&gt;&lt;!-- SC_ON --&gt;\", \"likes\": null, \"suggested_sort\": null, \"banned_at_utc\": null, \"view_count\": null, \"archived\": false, \"no_follow\": false, \"is_crosspostable\": false, \"pinned\": false, \"over_18\": false, \"all_awardings\": [], \"media_only\": false, \"can_gild\": false, \"spoiler\": false, \"locked\": false, \"author_flair_text\": \"Clippers\", \"visited\": false, \"num_reports\": null, \"distinguished\": null, \"subreddit_id\": \"t5_2qo4s\", \"mod_reason_by\": null, \"removal_reason\": null, \"link_flair_background_color\": \"\", \"id\": \"cmorxb\", \"is_robot_indexable\": true, \"report_reasons\": null, \"author\": \"auvenir\", \"num_crossposts\": 0, \"num_comments\": 346, \"send_replies\": true, \"whitelist_status\": \"all_ads\", \"contest_mode\": false, \"mod_reports\": [], \"author_patreon_flair\": false, \"author_flair_text_color\": \"dark\", \"permalink\": \"/r/nba/comments/cmorxb/vince_carter_is_older_than_teammate_trae_youngs/\", \"parent_whitelist_status\": \"all_ads\", \"stickied\": false, \"url\": \"https://www.reddit.com/r/nba/comments/cmorxb/vince_carter_is_older_than_teammate_trae_youngs/\", \"subreddit_subscribers\": 2573356, \"created_utc\": 1565086703.0, \"discussion_type\": null, \"media\": null, \"is_video\": false}}, {\"kind\": \"t3\", \"data\": {\"approved_at_utc\": null, \"subreddit\": \"nba\", \"selftext\": \"https://www.basketball-reference.com/players/d/derozde01/gamelog/2017\\\\n\\\\n\\\\n&amp;nbsp;\\\\n\\\\n\\\\nDeMar is known to have [at least some ties to the crips](http://imgur.com/gallery/PJ7xIDq), so I decided to take a look at how he fared when the Raptors donned the Toronto Huskies throwback jerseys, AKA the Crip blue unis.\\\\n\\\\n\\\\u00a0\\\\n&amp;nbsp;\\\\n\\\\n\\\\nIn the 6 games (yes, sample size) that the Raptors wore blue, DeRozan averaged 31.8 points, 7.3 rebounds, 3.5 assists and 1.2 steals with shooting splits of 43.5/30.8/79.7. \\\\n\\\\n\\\\n&amp;nbsp;\\\\n\\\\n\\\\n[GRAPHIC WITH DEMAR\\\\u2019S AVERAGES](https://i.imgur.com/2YLylFX.jpg)\\\\n\\\\n\\\\n&amp;nbsp;\\\\n\\\\n\\\\nThe individual statlines for each games are as follows:\\\\n\\\\n\\\\u00a0\\\\n&amp;nbsp;\\\\n\\\\u00a0\\\\n\\\\n11/12/16 vs. Knicks: 33 points, 7 rebounds, 4 assists, 2 steals, 11/23 FGM, 1/1 3PM, 10/13 FTM\\\\n\\\\u00a0\\\\n\\\\n12/8/16 vs. Timberwolves: 27 PTS, 8 REB, 5 AST, 7/20 FGM, 1/1 3PM, 12/13 FTM\\\\n\\\\u00a0\\\\n\\\\n1/10/17 vs. Celtics: 41 PTS, 13 REB, 2 STL, 16/29 FGM, 1/2 3PM, 8/9 FTM\\\\n\\\\u00a0\\\\n\\\\n2/15/17 vs. Hornets: 10 PTS, 3 REB, 2 AST, 5/19 FGM, 0/3 3PM, 0/2 FTM\\\\n\\\\u00a0\\\\n\\\\n3/21/17 vs. Bulls: 42 PTS, 7 REB, 8 AST, 2 STL, 1 BLK, 17/38 FGM, 1/5 3PM, 7/11 FTM\\\\n\\\\u00a0\\\\n\\\\n4/7/17 vs. Heat: 38 PTS, 6 REB, 2 AST, 1 STL, 1 BLK, 14/32 FGM, 0/1 3PM, 10/11 FTM\\\\n\\\\n\\\\n&amp;nbsp;\\\\n\\\\n\\\\nIf you drop his worst performance against the Hornets, his averages jump to 36.2 PPG, 8.2 RPG, 3.8 APG and 1.4 SPG with shooting splits of 45.77/40.00/82.46 over the five games.\\\\n\\\\n\\\\n&amp;nbsp;\\\\n\\\\n\\\\nThe takeaway? The Raptors horribly misused DeRozan by dressing him in red, and the Spurs need blue jerseys ASAP. Pop made some great strides with DeMar this past season, but clearly, the key to unlocking his full potential is to put him in blue.\\\\n\\\\n\\\\n&amp;nbsp;\\\\n\\\\n\\\\nEdit: To those that are questioning whether DeMar has any crip ties, I present [DeMar throwing up double Cs](http://imgur.com/gallery/PJ7xIDq), linked above as well\\\\n\\\\n\\\\n&amp;nbsp;\\\\n\\\\n\\\\nEdit 2: The point of this post wasn\\'t to give DeMar flak for gang activity, because there\\'s nothing out there that suggests he himself was a crip or involved in anything illegal. His uncle was a crip and crips protected him because he had talent, hence the wording that he has ties to the crips.\", \"author_fullname\": \"t2_kmo8xg5\", \"saved\": false, \"mod_reason_title\": null, \"gilded\": 0, \"clicked\": false, \"title\": \"When the Raptors wore crip blue, DeMar DeRozan averaged 31.8 points, 7.3 rebounds, 3.5 assists and 1.2 steals\", \"link_flair_richtext\": [], \"subreddit_name_prefixed\": \"r/nba\", \"hidden\": false, \"pwls\": 6, \"link_flair_css_class\": null, \"downs\": 0, \"hide_score\": false, \"name\": \"t3_cmqlzt\", \"quarantine\": false, \"link_flair_text_color\": \"dark\", \"author_flair_background_color\": \"\", \"subreddit_type\": \"public\", \"ups\": 1911, \"total_awards_received\": 0, \"media_embed\": {}, \"author_flair_template_id\": null, \"is_original_content\": false, \"user_reports\": [], \"secure_media\": null, \"is_reddit_media_domain\": false, \"is_meta\": false, \"category\": null, \"secure_media_embed\": {}, \"link_flair_text\": null, \"can_mod_post\": false, \"score\": 1911, \"approved_by\": null, \"thumbnail\": \"\", \"edited\": 1565117090.0, \"author_flair_css_class\": \"Rockets4\", \"author_flair_richtext\": [], \"gildings\": {}, \"content_categories\": null, \"is_self\": true, \"mod_note\": null, \"created\": 1565127046.0, \"link_flair_type\": \"text\", \"wls\": 6, \"banned_by\": null, \"author_flair_type\": \"text\", \"domain\": \"self.nba\", \"allow_live_comments\": true, \"selftext_html\": \"&lt;!-- SC_OFF --&gt;&lt;div class=\\\\\"md\\\\\"&gt;&lt;p&gt;&lt;a href=\\\\\"https://www.basketball-reference.com/players/d/derozde01/gamelog/2017\\\\\"&gt;https://www.basketball-reference.com/players/d/derozde01/gamelog/2017&lt;/a&gt;&lt;/p&gt;\\\\n\\\\n&lt;p&gt;&amp;nbsp;&lt;/p&gt;\\\\n\\\\n&lt;p&gt;DeMar is known to have &lt;a href=\\\\\"http://imgur.com/gallery/PJ7xIDq\\\\\"&gt;at least some ties to the crips&lt;/a&gt;, so I decided to take a look at how he fared when the Raptors donned the Toronto Huskies throwback jerseys, AKA the Crip blue unis.&lt;/p&gt;\\\\n\\\\n&lt;p&gt;\\\\u00a0\\\\n&amp;nbsp;&lt;/p&gt;\\\\n\\\\n&lt;p&gt;In the 6 games (yes, sample size) that the Raptors wore blue, DeRozan averaged 31.8 points, 7.3 rebounds, 3.5 assists and 1.2 steals with shooting splits of 43.5/30.8/79.7. &lt;/p&gt;\\\\n\\\\n&lt;p&gt;&amp;nbsp;&lt;/p&gt;\\\\n\\\\n&lt;p&gt;&lt;a href=\\\\\"https://i.imgur.com/2YLylFX.jpg\\\\\"&gt;GRAPHIC WITH DEMAR\\\\u2019S AVERAGES&lt;/a&gt;&lt;/p&gt;\\\\n\\\\n&lt;p&gt;&amp;nbsp;&lt;/p&gt;\\\\n\\\\n&lt;p&gt;The individual statlines for each games are as follows:&lt;/p&gt;\\\\n\\\\n&lt;p&gt;\\\\u00a0\\\\n&amp;nbsp;\\\\n\\\\u00a0&lt;/p&gt;\\\\n\\\\n&lt;p&gt;11/12/16 vs. Knicks: 33 points, 7 rebounds, 4 assists, 2 steals, 11/23 FGM, 1/1 3PM, 10/13 FTM\\\\n\\\\u00a0&lt;/p&gt;\\\\n\\\\n&lt;p&gt;12/8/16 vs. Timberwolves: 27 PTS, 8 REB, 5 AST, 7/20 FGM, 1/1 3PM, 12/13 FTM\\\\n\\\\u00a0&lt;/p&gt;\\\\n\\\\n&lt;p&gt;1/10/17 vs. Celtics: 41 PTS, 13 REB, 2 STL, 16/29 FGM, 1/2 3PM, 8/9 FTM\\\\n\\\\u00a0&lt;/p&gt;\\\\n\\\\n&lt;p&gt;2/15/17 vs. Hornets: 10 PTS, 3 REB, 2 AST, 5/19 FGM, 0/3 3PM, 0/2 FTM\\\\n\\\\u00a0&lt;/p&gt;\\\\n\\\\n&lt;p&gt;3/21/17 vs. Bulls: 42 PTS, 7 REB, 8 AST, 2 STL, 1 BLK, 17/38 FGM, 1/5 3PM, 7/11 FTM\\\\n\\\\u00a0&lt;/p&gt;\\\\n\\\\n&lt;p&gt;4/7/17 vs. Heat: 38 PTS, 6 REB, 2 AST, 1 STL, 1 BLK, 14/32 FGM, 0/1 3PM, 10/11 FTM&lt;/p&gt;\\\\n\\\\n&lt;p&gt;&amp;nbsp;&lt;/p&gt;\\\\n\\\\n&lt;p&gt;If you drop his worst performance against the Hornets, his averages jump to 36.2 PPG, 8.2 RPG, 3.8 APG and 1.4 SPG with shooting splits of 45.77/40.00/82.46 over the five games.&lt;/p&gt;\\\\n\\\\n&lt;p&gt;&amp;nbsp;&lt;/p&gt;\\\\n\\\\n&lt;p&gt;The takeaway? The Raptors horribly misused DeRozan by dressing him in red, and the Spurs need blue jerseys ASAP. Pop made some great strides with DeMar this past season, but clearly, the key to unlocking his full potential is to put him in blue.&lt;/p&gt;\\\\n\\\\n&lt;p&gt;&amp;nbsp;&lt;/p&gt;\\\\n\\\\n&lt;p&gt;Edit: To those that are questioning whether DeMar has any crip ties, I present &lt;a href=\\\\\"http://imgur.com/gallery/PJ7xIDq\\\\\"&gt;DeMar throwing up double Cs&lt;/a&gt;, linked above as well&lt;/p&gt;\\\\n\\\\n&lt;p&gt;&amp;nbsp;&lt;/p&gt;\\\\n\\\\n&lt;p&gt;Edit 2: The point of this post wasn&amp;#39;t to give DeMar flak for gang activity, because there&amp;#39;s nothing out there that suggests he himself was a crip or involved in anything illegal. His uncle was a crip and crips protected him because he had talent, hence the wording that he has ties to the crips.&lt;/p&gt;\\\\n&lt;/div&gt;&lt;!-- SC_ON --&gt;\", \"likes\": null, \"suggested_sort\": null, \"banned_at_utc\": null, \"view_count\": null, \"archived\": false, \"no_follow\": false, \"is_crosspostable\": false, \"pinned\": false, \"over_18\": false, \"all_awardings\": [], \"media_only\": false, \"can_gild\": false, \"spoiler\": false, \"locked\": false, \"author_flair_text\": \"[HOU] Hakeem Olajuwon\", \"visited\": false, \"num_reports\": null, \"distinguished\": null, \"subreddit_id\": \"t5_2qo4s\", \"mod_reason_by\": null, \"removal_reason\": null, \"link_flair_background_color\": \"\", \"id\": \"cmqlzt\", \"is_robot_indexable\": true, \"report_reasons\": null, \"author\": \"1mpr2no\", \"num_crossposts\": 0, \"num_comments\": 206, \"send_replies\": true, \"whitelist_status\": \"all_ads\", \"contest_mode\": false, \"mod_reports\": [], \"author_patreon_flair\": false, \"author_flair_text_color\": \"dark\", \"permalink\": \"/r/nba/comments/cmqlzt/when_the_raptors_wore_crip_blue_demar_derozan/\", \"parent_whitelist_status\": \"all_ads\", \"stickied\": false, \"url\": \"https://www.reddit.com/r/nba/comments/cmqlzt/when_the_raptors_wore_crip_blue_demar_derozan/\", \"subreddit_subscribers\": 2573356, \"created_utc\": 1565098246.0, \"discussion_type\": null, \"media\": null, \"is_video\": false}}, {\"kind\": \"t3\", \"data\": {\"approved_at_utc\": null, \"subreddit\": \"nba\", \"selftext\": \"\", \"author_fullname\": \"t2_2xm6edir\", \"saved\": false, \"mod_reason_title\": null, \"gilded\": 0, \"clicked\": false, \"title\": \"Shane Battier\\'s real name is Shane Battle. His father\\'s name was written incorrectly by an army recruiter and he decided to go by that after the war\", \"link_flair_richtext\": [], \"subreddit_name_prefixed\": \"r/nba\", \"hidden\": false, \"pwls\": 6, \"link_flair_css_class\": \"news\", \"downs\": 0, \"hide_score\": false, \"name\": \"t3_cmq8hj\", \"quarantine\": false, \"link_flair_text_color\": \"dark\", \"author_flair_background_color\": null, \"subreddit_type\": \"public\", \"ups\": 1615, \"total_awards_received\": 0, \"media_embed\": {}, \"author_flair_template_id\": \"bed276b0-3feb-11e8-b62e-0e0d198ae168\", \"is_original_content\": false, \"user_reports\": [], \"secure_media\": null, \"is_reddit_media_domain\": false, \"is_meta\": false, \"category\": null, \"secure_media_embed\": {}, \"link_flair_text\": \"News\", \"can_mod_post\": false, \"score\": 1615, \"approved_by\": null, \"thumbnail\": \"\", \"edited\": false, \"author_flair_css_class\": \"Bulls1\", \"author_flair_richtext\": [], \"gildings\": {}, \"content_categories\": null, \"is_self\": false, \"mod_note\": null, \"created\": 1565124982.0, \"link_flair_type\": \"text\", \"wls\": 6, \"banned_by\": null, \"author_flair_type\": \"text\", \"domain\": \"sports.yahoo.com\", \"allow_live_comments\": true, \"selftext_html\": null, \"likes\": null, \"suggested_sort\": null, \"banned_at_utc\": null, \"view_count\": null, \"archived\": false, \"no_follow\": false, \"is_crosspostable\": false, \"pinned\": false, \"over_18\": false, \"all_awardings\": [], \"media_only\": false, \"can_gild\": false, \"spoiler\": false, \"locked\": false, \"author_flair_text\": \"Bulls\", \"visited\": false, \"num_reports\": null, \"distinguished\": null, \"subreddit_id\": \"t5_2qo4s\", \"mod_reason_by\": null, \"removal_reason\": null, \"link_flair_background_color\": \"\", \"id\": \"cmq8hj\", \"is_robot_indexable\": true, \"report_reasons\": null, \"author\": \"Chicago29_Titles\", \"num_crossposts\": 0, \"num_comments\": 131, \"send_replies\": false, \"whitelist_status\": \"all_ads\", \"contest_mode\": false, \"mod_reports\": [], \"author_patreon_flair\": false, \"author_flair_text_color\": \"dark\", \"permalink\": \"/r/nba/comments/cmq8hj/shane_battiers_real_name_is_shane_battle_his/\", \"parent_whitelist_status\": \"all_ads\", \"stickied\": false, \"url\": \"https://sports.yahoo.com/not-poor-penmanship-shane-battier-shane-battle-205043822.html\", \"subreddit_subscribers\": 2573356, \"created_utc\": 1565096182.0, \"discussion_type\": null, \"media\": null, \"is_video\": false}}, {\"kind\": \"t3\", \"data\": {\"approved_at_utc\": null, \"subreddit\": \"nba\", \"selftext\": \"\", \"author_fullname\": \"t2_hk3mh\", \"saved\": false, \"mod_reason_title\": null, \"gilded\": 0, \"clicked\": false, \"title\": \"P.J. Tucker falls asleep on inbound pass.\", \"link_flair_richtext\": [], \"subreddit_name_prefixed\": \"r/nba\", \"hidden\": false, \"pwls\": 6, \"link_flair_css_class\": \"highlights\", \"downs\": 0, \"hide_score\": false, \"name\": \"t3_cmp2df\", \"quarantine\": false, \"link_flair_text_color\": \"dark\", \"author_flair_background_color\": \"\", \"subreddit_type\": \"public\", \"ups\": 2018, \"total_awards_received\": 0, \"media_embed\": {\"content\": \"&lt;iframe class=\\\\\"embedly-embed\\\\\" src=\\\\\"https://cdn.embedly.com/widgets/media.html?src=https%3A%2F%2Fgfycat.com%2Fifr%2Fecstatichandmadeirishredandwhitesetter&amp;url=https%3A%2F%2Fgfycat.com%2Fecstatichandmadeirishredandwhitesetter-basketball&amp;image=https%3A%2F%2Fthumbs.gfycat.com%2FEcstaticHandmadeIrishredandwhitesetter-size_restricted.gif&amp;key=ed8fa8699ce04833838e66ce79ba05f1&amp;type=text%2Fhtml&amp;schema=gfycat\\\\\" width=\\\\\"600\\\\\" height=\\\\\"338\\\\\" scrolling=\\\\\"no\\\\\" frameborder=\\\\\"0\\\\\" allow=\\\\\"autoplay; fullscreen\\\\\" allowfullscreen=\\\\\"true\\\\\"&gt;&lt;/iframe&gt;\", \"width\": 600, \"scrolling\": false, \"height\": 338}, \"author_flair_template_id\": null, \"is_original_content\": false, \"user_reports\": [], \"secure_media\": {\"type\": \"gfycat.com\", \"oembed\": {\"provider_url\": \"https://gfycat.com\", \"description\": \"Watch P.J. Tucker falls asleep on inbound pass. GIF by @drjsfro on Gfycat. Discover more related GIFs on Gfycat\", \"title\": \"P.J. Tucker falls asleep on inbound pass.\", \"type\": \"video\", \"author_name\": \"Gfycat\", \"height\": 338, \"width\": 600, \"html\": \"&lt;iframe class=\\\\\"embedly-embed\\\\\" src=\\\\\"https://cdn.embedly.com/widgets/media.html?src=https%3A%2F%2Fgfycat.com%2Fifr%2Fecstatichandmadeirishredandwhitesetter&amp;url=https%3A%2F%2Fgfycat.com%2Fecstatichandmadeirishredandwhitesetter-basketball&amp;image=https%3A%2F%2Fthumbs.gfycat.com%2FEcstaticHandmadeIrishredandwhitesetter-size_restricted.gif&amp;key=ed8fa8699ce04833838e66ce79ba05f1&amp;type=text%2Fhtml&amp;schema=gfycat\\\\\" width=\\\\\"600\\\\\" height=\\\\\"338\\\\\" scrolling=\\\\\"no\\\\\" frameborder=\\\\\"0\\\\\" allow=\\\\\"autoplay; fullscreen\\\\\" allowfullscreen=\\\\\"true\\\\\"&gt;&lt;/iframe&gt;\", \"thumbnail_width\": 444, \"version\": \"1.0\", \"provider_name\": \"Gfycat\", \"thumbnail_url\": \"https://thumbs.gfycat.com/EcstaticHandmadeIrishredandwhitesetter-size_restricted.gif\", \"thumbnail_height\": 250}}, \"is_reddit_media_domain\": false, \"is_meta\": false, \"category\": null, \"secure_media_embed\": {\"content\": \"&lt;iframe class=\\\\\"embedly-embed\\\\\" src=\\\\\"https://cdn.embedly.com/widgets/media.html?src=https%3A%2F%2Fgfycat.com%2Fifr%2Fecstatichandmadeirishredandwhitesetter&amp;url=https%3A%2F%2Fgfycat.com%2Fecstatichandmadeirishredandwhitesetter-basketball&amp;image=https%3A%2F%2Fthumbs.gfycat.com%2FEcstaticHandmadeIrishredandwhitesetter-size_restricted.gif&amp;key=ed8fa8699ce04833838e66ce79ba05f1&amp;type=text%2Fhtml&amp;schema=gfycat\\\\\" width=\\\\\"600\\\\\" height=\\\\\"338\\\\\" scrolling=\\\\\"no\\\\\" frameborder=\\\\\"0\\\\\" allow=\\\\\"autoplay; fullscreen\\\\\" allowfullscreen=\\\\\"true\\\\\"&gt;&lt;/iframe&gt;\", \"width\": 600, \"scrolling\": false, \"media_domain_url\": \"https://www.redditmedia.com/mediaembed/cmp2df\", \"height\": 338}, \"link_flair_text\": \"Highlights\", \"can_mod_post\": false, \"score\": 2018, \"approved_by\": null, \"thumbnail\": \"\", \"edited\": false, \"author_flair_css_class\": \"Supersonics1\", \"author_flair_richtext\": [], \"gildings\": {}, \"content_categories\": null, \"is_self\": false, \"mod_note\": null, \"created\": 1565117649.0, \"link_flair_type\": \"text\", \"wls\": 6, \"banned_by\": null, \"author_flair_type\": \"text\", \"domain\": \"gfycat.com\", \"allow_live_comments\": true, \"selftext_html\": null, \"likes\": null, \"suggested_sort\": null, \"banned_at_utc\": null, \"view_count\": null, \"archived\": false, \"no_follow\": false, \"is_crosspostable\": false, \"pinned\": false, \"over_18\": false, \"all_awardings\": [], \"media_only\": false, \"can_gild\": false, \"spoiler\": false, \"locked\": false, \"author_flair_text\": \"Supersonics\", \"visited\": false, \"num_reports\": null, \"distinguished\": null, \"subreddit_id\": \"t5_2qo4s\", \"mod_reason_by\": null, \"removal_reason\": null, \"link_flair_background_color\": \"\", \"id\": \"cmp2df\", \"is_robot_indexable\": true, \"report_reasons\": null, \"author\": \"WhenMachinesCry\", \"num_crossposts\": 0, \"num_comments\": 186, \"send_replies\": true, \"whitelist_status\": \"all_ads\", \"contest_mode\": false, \"mod_reports\": [], \"author_patreon_flair\": false, \"author_flair_text_color\": \"dark\", \"permalink\": \"/r/nba/comments/cmp2df/pj_tucker_falls_asleep_on_inbound_pass/\", \"parent_whitelist_status\": \"all_ads\", \"stickied\": false, \"url\": \"https://gfycat.com/ecstatichandmadeirishredandwhitesetter\", \"subreddit_subscribers\": 2573356, \"created_utc\": 1565088849.0, \"discussion_type\": null, \"media\": {\"type\": \"gfycat.com\", \"oembed\": {\"provider_url\": \"https://gfycat.com\", \"description\": \"Watch P.J. Tucker falls asleep on inbound pass. GIF by @drjsfro on Gfycat. Discover more related GIFs on Gfycat\", \"title\": \"P.J. Tucker falls asleep on inbound pass.\", \"type\": \"video\", \"author_name\": \"Gfycat\", \"height\": 338, \"width\": 600, \"html\": \"&lt;iframe class=\\\\\"embedly-embed\\\\\" src=\\\\\"https://cdn.embedly.com/widgets/media.html?src=https%3A%2F%2Fgfycat.com%2Fifr%2Fecstatichandmadeirishredandwhitesetter&amp;url=https%3A%2F%2Fgfycat.com%2Fecstatichandmadeirishredandwhitesetter-basketball&amp;image=https%3A%2F%2Fthumbs.gfycat.com%2FEcstaticHandmadeIrishredandwhitesetter-size_restricted.gif&amp;key=ed8fa8699ce04833838e66ce79ba05f1&amp;type=text%2Fhtml&amp;schema=gfycat\\\\\" width=\\\\\"600\\\\\" height=\\\\\"338\\\\\" scrolling=\\\\\"no\\\\\" frameborder=\\\\\"0\\\\\" allow=\\\\\"autoplay; fullscreen\\\\\" allowfullscreen=\\\\\"true\\\\\"&gt;&lt;/iframe&gt;\", \"thumbnail_width\": 444, \"version\": \"1.0\", \"provider_name\": \"Gfycat\", \"thumbnail_url\": \"https://thumbs.gfycat.com/EcstaticHandmadeIrishredandwhitesetter-size_restricted.gif\", \"thumbnail_height\": 250}}, \"is_video\": false}}, {\"kind\": \"t3\", \"data\": {\"approved_at_utc\": null, \"subreddit\": \"nba\", \"selftext\": \"\", \"author_fullname\": \"t2_ydv75\", \"saved\": false, \"mod_reason_title\": null, \"gilded\": 0, \"clicked\": false, \"title\": \"The James Family reminds us what day it is\", \"link_flair_richtext\": [], \"subreddit_name_prefixed\": \"r/nba\", \"hidden\": false, \"pwls\": 6, \"link_flair_css_class\": \"highlights\", \"downs\": 0, \"hide_score\": false, \"name\": \"t3_cmrb4d\", \"quarantine\": false, \"link_flair_text_color\": \"dark\", \"author_flair_background_color\": \"\", \"subreddit_type\": \"public\", \"ups\": 894, \"total_awards_received\": 0, \"media_embed\": {\"content\": \"&lt;iframe class=\\\\\"embedly-embed\\\\\" src=\\\\\"https://cdn.embedly.com/widgets/media.html?src=https%3A%2F%2Fstreamable.com%2Fo%2Faabie&amp;url=https%3A%2F%2Fstreamable.com%2Faabie&amp;image=https%3A%2F%2Fcdn-b-east.streamable.com%2Fimage%2Faabie.jpg%3Ftoken%3DPbiUolTXqa0cdlmNK-EnuA%26expires%3D1565109000&amp;key=ed8fa8699ce04833838e66ce79ba05f1&amp;type=text%2Fhtml&amp;schema=streamable\\\\\" width=\\\\\"360\\\\\" height=\\\\\"360\\\\\" scrolling=\\\\\"no\\\\\" frameborder=\\\\\"0\\\\\" allow=\\\\\"autoplay; fullscreen\\\\\" allowfullscreen=\\\\\"true\\\\\"&gt;&lt;/iframe&gt;\", \"width\": 360, \"scrolling\": false, \"height\": 360}, \"author_flair_template_id\": null, \"is_original_content\": false, \"user_reports\": [], \"secure_media\": {\"oembed\": {\"provider_url\": \"https://streamable.com\", \"description\": \"Check out this video on Streamable using your phone, tablet or desktop.\", \"title\": \"Taco Tuesday\", \"thumbnail_width\": 480, \"height\": 360, \"width\": 360, \"html\": \"&lt;iframe class=\\\\\"embedly-embed\\\\\" src=\\\\\"https://cdn.embedly.com/widgets/media.html?src=https%3A%2F%2Fstreamable.com%2Fo%2Faabie&amp;url=https%3A%2F%2Fstreamable.com%2Faabie&amp;image=https%3A%2F%2Fcdn-b-east.streamable.com%2Fimage%2Faabie.jpg%3Ftoken%3DPbiUolTXqa0cdlmNK-EnuA%26expires%3D1565109000&amp;key=ed8fa8699ce04833838e66ce79ba05f1&amp;type=text%2Fhtml&amp;schema=streamable\\\\\" width=\\\\\"360\\\\\" height=\\\\\"360\\\\\" scrolling=\\\\\"no\\\\\" frameborder=\\\\\"0\\\\\" allow=\\\\\"autoplay; fullscreen\\\\\" allowfullscreen=\\\\\"true\\\\\"&gt;&lt;/iframe&gt;\", \"version\": \"1.0\", \"provider_name\": \"Streamable\", \"thumbnail_url\": \"https://cdn-b-east.streamable.com/image/aabie.jpg?token=PbiUolTXqa0cdlmNK-EnuA&amp;expires=1565109000\", \"type\": \"video\", \"thumbnail_height\": 480}, \"type\": \"streamable.com\"}, \"is_reddit_media_domain\": false, \"is_meta\": false, \"category\": null, \"secure_media_embed\": {\"content\": \"&lt;iframe class=\\\\\"embedly-embed\\\\\" src=\\\\\"https://cdn.embedly.com/widgets/media.html?src=https%3A%2F%2Fstreamable.com%2Fo%2Faabie&amp;url=https%3A%2F%2Fstreamable.com%2Faabie&amp;image=https%3A%2F%2Fcdn-b-east.streamable.com%2Fimage%2Faabie.jpg%3Ftoken%3DPbiUolTXqa0cdlmNK-EnuA%26expires%3D1565109000&amp;key=ed8fa8699ce04833838e66ce79ba05f1&amp;type=text%2Fhtml&amp;schema=streamable\\\\\" width=\\\\\"360\\\\\" height=\\\\\"360\\\\\" scrolling=\\\\\"no\\\\\" frameborder=\\\\\"0\\\\\" allow=\\\\\"autoplay; fullscreen\\\\\" allowfullscreen=\\\\\"true\\\\\"&gt;&lt;/iframe&gt;\", \"width\": 360, \"scrolling\": false, \"media_domain_url\": \"https://www.redditmedia.com/mediaembed/cmrb4d\", \"height\": 360}, \"link_flair_text\": \"Highlights\", \"can_mod_post\": false, \"score\": 894, \"approved_by\": null, \"thumbnail\": \"\", \"edited\": false, \"author_flair_css_class\": \"Bucks1\", \"author_flair_richtext\": [], \"gildings\": {}, \"content_categories\": null, \"is_self\": false, \"mod_note\": null, \"created\": 1565130652.0, \"link_flair_type\": \"text\", \"wls\": 6, \"banned_by\": null, \"author_flair_type\": \"text\", \"domain\": \"streamable.com\", \"allow_live_comments\": true, \"selftext_html\": null, \"likes\": null, \"suggested_sort\": null, \"banned_at_utc\": null, \"view_count\": null, \"archived\": false, \"no_follow\": false, \"is_crosspostable\": false, \"pinned\": false, \"over_18\": false, \"all_awardings\": [], \"media_only\": false, \"can_gild\": false, \"spoiler\": false, \"locked\": false, \"author_flair_text\": \"[MIL] Giannis Antetokounmpo\", \"visited\": false, \"num_reports\": null, \"distinguished\": null, \"subreddit_id\": \"t5_2qo4s\", \"mod_reason_by\": null, \"removal_reason\": null, \"link_flair_background_color\": \"\", \"id\": \"cmrb4d\", \"is_robot_indexable\": true, \"report_reasons\": null, \"author\": \"mc2205\", \"num_crossposts\": 1, \"num_comments\": 107, \"send_replies\": true, \"whitelist_status\": \"all_ads\", \"contest_mode\": false, \"mod_reports\": [], \"author_patreon_flair\": false, \"author_flair_text_color\": \"dark\", \"permalink\": \"/r/nba/comments/cmrb4d/the_james_family_reminds_us_what_day_it_is/\", \"parent_whitelist_status\": \"all_ads\", \"stickied\": false, \"url\": \"https://streamable.com/aabie\", \"subreddit_subscribers\": 2573356, \"created_utc\": 1565101852.0, \"discussion_type\": null, \"media\": {\"oembed\": {\"provider_url\": \"https://streamable.com\", \"description\": \"Check out this video on Streamable using your phone, tablet or desktop.\", \"title\": \"Taco Tuesday\", \"thumbnail_width\": 480, \"height\": 360, \"width\": 360, \"html\": \"&lt;iframe class=\\\\\"embedly-embed\\\\\" src=\\\\\"https://cdn.embedly.com/widgets/media.html?src=https%3A%2F%2Fstreamable.com%2Fo%2Faabie&amp;url=https%3A%2F%2Fstreamable.com%2Faabie&amp;image=https%3A%2F%2Fcdn-b-east.streamable.com%2Fimage%2Faabie.jpg%3Ftoken%3DPbiUolTXqa0cdlmNK-EnuA%26expires%3D1565109000&amp;key=ed8fa8699ce04833838e66ce79ba05f1&amp;type=text%2Fhtml&amp;schema=streamable\\\\\" width=\\\\\"360\\\\\" height=\\\\\"360\\\\\" scrolling=\\\\\"no\\\\\" frameborder=\\\\\"0\\\\\" allow=\\\\\"autoplay; fullscreen\\\\\" allowfullscreen=\\\\\"true\\\\\"&gt;&lt;/iframe&gt;\", \"version\": \"1.0\", \"provider_name\": \"Streamable\", \"thumbnail_url\": \"https://cdn-b-east.streamable.com/image/aabie.jpg?token=PbiUolTXqa0cdlmNK-EnuA&amp;expires=1565109000\", \"type\": \"video\", \"thumbnail_height\": 480}, \"type\": \"streamable.com\"}, \"is_video\": false}}, {\"kind\": \"t3\", \"data\": {\"approved_at_utc\": null, \"subreddit\": \"nba\", \"selftext\": \"\", \"author_fullname\": \"t2_41aaocnh\", \"saved\": false, \"mod_reason_title\": null, \"gilded\": 0, \"clicked\": false, \"title\": \"Pending free agent Zach Lowe with no shortage of suitors for. ESPN is committed to keeping him, but with so much money already committed to Adrian Wojnarowski and Brian Windhorst, there may be a limit on what the company is willing to spend.\", \"link_flair_richtext\": [], \"subreddit_name_prefixed\": \"r/nba\", \"hidden\": false, \"pwls\": 6, \"link_flair_css_class\": null, \"downs\": 0, \"hide_score\": false, \"name\": \"t3_cmrlb0\", \"quarantine\": false, \"link_flair_text_color\": \"dark\", \"author_flair_background_color\": null, \"subreddit_type\": \"public\", \"ups\": 808, \"total_awards_received\": 0, \"media_embed\": {}, \"author_flair_template_id\": null, \"is_original_content\": false, \"user_reports\": [], \"secure_media\": null, \"is_reddit_media_domain\": false, \"is_meta\": false, \"category\": null, \"secure_media_embed\": {}, \"link_flair_text\": null, \"can_mod_post\": false, \"score\": 808, \"approved_by\": null, \"thumbnail\": \"\", \"edited\": false, \"author_flair_css_class\": null, \"author_flair_richtext\": [], \"gildings\": {}, \"content_categories\": null, \"is_self\": false, \"mod_note\": null, \"created\": 1565132044.0, \"link_flair_type\": \"text\", \"wls\": 6, \"banned_by\": null, \"author_flair_type\": \"text\", \"domain\": \"barrettsportsmedia.com\", \"allow_live_comments\": false, \"selftext_html\": null, \"likes\": null, \"suggested_sort\": null, \"banned_at_utc\": null, \"view_count\": null, \"archived\": false, \"no_follow\": false, \"is_crosspostable\": false, \"pinned\": false, \"over_18\": false, \"all_awardings\": [], \"media_only\": false, \"can_gild\": false, \"spoiler\": false, \"locked\": false, \"author_flair_text\": null, \"visited\": false, \"num_reports\": null, \"distinguished\": null, \"subreddit_id\": \"t5_2qo4s\", \"mod_reason_by\": null, \"removal_reason\": null, \"link_flair_background_color\": \"\", \"id\": \"cmrlb0\", \"is_robot_indexable\": true, \"report_reasons\": null, \"author\": \"ashleyOoO\", \"num_crossposts\": 1, \"num_comments\": 336, \"send_replies\": true, \"whitelist_status\": \"all_ads\", \"contest_mode\": false, \"mod_reports\": [], \"author_patreon_flair\": false, \"author_flair_text_color\": null, \"permalink\": \"/r/nba/comments/cmrlb0/pending_free_agent_zach_lowe_with_no_shortage_of/\", \"parent_whitelist_status\": \"all_ads\", \"stickied\": false, \"url\": \"https://barrettsportsmedia.com/2019/07/26/espn-set-on-keeping-zach-lowe-after-contract-expires/\", \"subreddit_subscribers\": 2573356, \"created_utc\": 1565103244.0, \"discussion_type\": null, \"media\": null, \"is_video\": false}}, {\"kind\": \"t3\", \"data\": {\"approved_at_utc\": null, \"subreddit\": \"nba\", \"selftext\": \"\", \"author_fullname\": \"t2_1be1ps\", \"saved\": false, \"mod_reason_title\": null, \"gilded\": 0, \"clicked\": false, \"title\": \"[Marks] In 2021, 26 teams will have max cap space (only Brooklyn, Golden State, Houston and Philadelphia likely will be capped out) and with the cap increasing to $125 million (from $109.1 million this season), there could be significant roster turnover yet again.\", \"link_flair_richtext\": [], \"subreddit_name_prefixed\": \"r/nba\", \"hidden\": false, \"pwls\": 6, \"link_flair_css_class\": null, \"downs\": 0, \"hide_score\": false, \"name\": \"t3_cmqjav\", \"quarantine\": false, \"link_flair_text_color\": \"dark\", \"author_flair_background_color\": null, \"subreddit_type\": \"public\", \"ups\": 837, \"total_awards_received\": 0, \"media_embed\": {}, \"author_flair_template_id\": \"78284992-b670-11e7-bf34-0e49d9c6d2ec\", \"is_original_content\": false, \"user_reports\": [], \"secure_media\": null, \"is_reddit_media_domain\": false, \"is_meta\": false, \"category\": null, \"secure_media_embed\": {}, \"link_flair_text\": null, \"can_mod_post\": false, \"score\": 837, \"approved_by\": null, \"thumbnail\": \"\", \"edited\": false, \"author_flair_css_class\": \"Lakers2\", \"author_flair_richtext\": [], \"gildings\": {}, \"content_categories\": null, \"is_self\": false, \"mod_note\": null, \"created\": 1565126627.0, \"link_flair_type\": \"text\", \"wls\": 6, \"banned_by\": null, \"author_flair_type\": \"text\", \"domain\": \"insider.espn.com\", \"allow_live_comments\": false, \"selftext_html\": null, \"likes\": null, \"suggested_sort\": null, \"banned_at_utc\": null, \"view_count\": null, \"archived\": false, \"no_follow\": false, \"is_crosspostable\": false, \"pinned\": false, \"over_18\": false, \"all_awardings\": [], \"media_only\": false, \"can_gild\": false, \"spoiler\": false, \"locked\": false, \"author_flair_text\": \"Lakers\", \"visited\": false, \"num_reports\": null, \"distinguished\": null, \"subreddit_id\": \"t5_2qo4s\", \"mod_reason_by\": null, \"removal_reason\": null, \"link_flair_background_color\": \"\", \"id\": \"cmqjav\", \"is_robot_indexable\": true, \"report_reasons\": null, \"author\": \"LonzoBBBall\", \"num_crossposts\": 1, \"num_comments\": 164, \"send_replies\": true, \"whitelist_status\": \"all_ads\", \"contest_mode\": false, \"mod_reports\": [], \"author_patreon_flair\": false, \"author_flair_text_color\": \"dark\", \"permalink\": \"/r/nba/comments/cmqjav/marks_in_2021_26_teams_will_have_max_cap_space/\", \"parent_whitelist_status\": \"all_ads\", \"stickied\": false, \"url\": \"http://insider.espn.com/nba/insider/story/_/id/27328138/what-expect-2020-nba-free-agency\", \"subreddit_subscribers\": 2573356, \"created_utc\": 1565097827.0, \"discussion_type\": null, \"media\": null, \"is_video\": false}}, {\"kind\": \"t3\", \"data\": {\"approved_at_utc\": null, \"subreddit\": \"nba\", \"selftext\": \"\", \"author_fullname\": \"t2_lf49azj\", \"saved\": false, \"mod_reason_title\": null, \"gilded\": 0, \"clicked\": false, \"title\": \"NBA, Twitch announce deal for digital rights to USA Basketball\", \"link_flair_richtext\": [], \"subreddit_name_prefixed\": \"r/nba\", \"hidden\": false, \"pwls\": 6, \"link_flair_css_class\": null, \"downs\": 0, \"hide_score\": false, \"name\": \"t3_cmrwzz\", \"quarantine\": false, \"link_flair_text_color\": \"dark\", \"author_flair_background_color\": null, \"subreddit_type\": \"public\", \"ups\": 553, \"total_awards_received\": 0, \"media_embed\": {}, \"author_flair_template_id\": null, \"is_original_content\": false, \"user_reports\": [], \"secure_media\": null, \"is_reddit_media_domain\": false, \"is_meta\": false, \"category\": null, \"secure_media_embed\": {}, \"link_flair_text\": null, \"can_mod_post\": false, \"score\": 553, \"approved_by\": null, \"thumbnail\": \"\", \"edited\": false, \"author_flair_css_class\": null, \"author_flair_richtext\": [], \"gildings\": {}, \"content_categories\": null, \"is_self\": false, \"mod_note\": null, \"created\": 1565133597.0, \"link_flair_type\": \"text\", \"wls\": 6, \"banned_by\": null, \"author_flair_type\": \"text\", \"domain\": \"metro.us\", \"allow_live_comments\": false, \"selftext_html\": null, \"likes\": null, \"suggested_sort\": null, \"banned_at_utc\": null, \"view_count\": null, \"archived\": false, \"no_follow\": false, \"is_crosspostable\": false, \"pinned\": false, \"over_18\": false, \"all_awardings\": [], \"media_only\": false, \"can_gild\": false, \"spoiler\": false, \"locked\": false, \"author_flair_text\": null, \"visited\": false, \"num_reports\": null, \"distinguished\": null, \"subreddit_id\": \"t5_2qo4s\", \"mod_reason_by\": null, \"removal_reason\": null, \"link_flair_background_color\": \"\", \"id\": \"cmrwzz\", \"is_robot_indexable\": true, \"report_reasons\": null, \"author\": \"pacinothere\", \"num_crossposts\": 0, \"num_comments\": 89, \"send_replies\": true, \"whitelist_status\": \"all_ads\", \"contest_mode\": false, \"mod_reports\": [], \"author_patreon_flair\": false, \"author_flair_text_color\": null, \"permalink\": \"/r/nba/comments/cmrwzz/nba_twitch_announce_deal_for_digital_rights_to/\", \"parent_whitelist_status\": \"all_ads\", \"stickied\": false, \"url\": \"https://www.metro.us/reuters/sports/nba-twitch-announce-deal-digital-rights-to-usa-basketball\", \"subreddit_subscribers\": 2573356, \"created_utc\": 1565104797.0, \"discussion_type\": null, \"media\": null, \"is_video\": false}}, {\"kind\": \"t3\", \"data\": {\"approved_at_utc\": null, \"subreddit\": \"nba\", \"selftext\": \"\", \"author_fullname\": \"t2_5nr6h\", \"saved\": false, \"mod_reason_title\": null, \"gilded\": 0, \"clicked\": false, \"title\": \"TJ McConnell says he\\'s excited to play with teammates TJ Leaf and TJ Warren: \\\\\"I think it\\'s amazing, having ALL the T.J.\\'s in the NBA\\\\\"\", \"link_flair_richtext\": [], \"subreddit_name_prefixed\": \"r/nba\", \"hidden\": false, \"pwls\": 6, \"link_flair_css_class\": \"highlights\", \"downs\": 0, \"hide_score\": false, \"name\": \"t3_cmrzn9\", \"quarantine\": false, \"link_flair_text_color\": \"dark\", \"author_flair_background_color\": \"\", \"subreddit_type\": \"public\", \"ups\": 512, \"total_awards_received\": 0, \"media_embed\": {\"content\": \"&lt;iframe class=\\\\\"embedly-embed\\\\\" src=\\\\\"https://cdn.embedly.com/widgets/media.html?src=https%3A%2F%2Fstreamable.com%2Fo%2F8py0x&amp;url=https%3A%2F%2Fstreamable.com%2F8py0x&amp;image=https%3A%2F%2Fcdn-b-east.streamable.com%2Fimage%2F8py0x.jpg%3Ftoken%3DJwT8ni49uTpoNc-kBHMN4g%26expires%3D1565112300&amp;key=ed8fa8699ce04833838e66ce79ba05f1&amp;type=text%2Fhtml&amp;schema=streamable\\\\\" width=\\\\\"600\\\\\" height=\\\\\"338\\\\\" scrolling=\\\\\"no\\\\\" frameborder=\\\\\"0\\\\\" allow=\\\\\"autoplay; fullscreen\\\\\" allowfullscreen=\\\\\"true\\\\\"&gt;&lt;/iframe&gt;\", \"width\": 600, \"scrolling\": false, \"height\": 338}, \"author_flair_template_id\": null, \"is_original_content\": false, \"user_reports\": [], \"secure_media\": {\"type\": \"streamable.com\", \"oembed\": {\"provider_url\": \"https://streamable.com\", \"description\": \"Check out this video on Streamable using your phone, tablet or desktop.\", \"title\": \"Streamable - free video publishing\", \"type\": \"video\", \"thumbnail_width\": 1280, \"height\": 338, \"width\": 600, \"html\": \"&lt;iframe class=\\\\\"embedly-embed\\\\\" src=\\\\\"https://cdn.embedly.com/widgets/media.html?src=https%3A%2F%2Fstreamable.com%2Fo%2F8py0x&amp;url=https%3A%2F%2Fstreamable.com%2F8py0x&amp;image=https%3A%2F%2Fcdn-b-east.streamable.com%2Fimage%2F8py0x.jpg%3Ftoken%3DJwT8ni49uTpoNc-kBHMN4g%26expires%3D1565112300&amp;key=ed8fa8699ce04833838e66ce79ba05f1&amp;type=text%2Fhtml&amp;schema=streamable\\\\\" width=\\\\\"600\\\\\" height=\\\\\"338\\\\\" scrolling=\\\\\"no\\\\\" frameborder=\\\\\"0\\\\\" allow=\\\\\"autoplay; fullscreen\\\\\" allowfullscreen=\\\\\"true\\\\\"&gt;&lt;/iframe&gt;\", \"version\": \"1.0\", \"provider_name\": \"Streamable\", \"thumbnail_url\": \"https://cdn-b-east.streamable.com/image/8py0x.jpg?token=JwT8ni49uTpoNc-kBHMN4g&amp;expires=1565112300\", \"thumbnail_height\": 720}}, \"is_reddit_media_domain\": false, \"is_meta\": false, \"category\": null, \"secure_media_embed\": {\"content\": \"&lt;iframe class=\\\\\"embedly-embed\\\\\" src=\\\\\"https://cdn.embedly.com/widgets/media.html?src=https%3A%2F%2Fstreamable.com%2Fo%2F8py0x&amp;url=https%3A%2F%2Fstreamable.com%2F8py0x&amp;image=https%3A%2F%2Fcdn-b-east.streamable.com%2Fimage%2F8py0x.jpg%3Ftoken%3DJwT8ni49uTpoNc-kBHMN4g%26expires%3D1565112300&amp;key=ed8fa8699ce04833838e66ce79ba05f1&amp;type=text%2Fhtml&amp;schema=streamable\\\\\" width=\\\\\"600\\\\\" height=\\\\\"338\\\\\" scrolling=\\\\\"no\\\\\" frameborder=\\\\\"0\\\\\" allow=\\\\\"autoplay; fullscreen\\\\\" allowfullscreen=\\\\\"true\\\\\"&gt;&lt;/iframe&gt;\", \"width\": 600, \"scrolling\": false, \"media_domain_url\": \"https://www.redditmedia.com/mediaembed/cmrzn9\", \"height\": 338}, \"link_flair_text\": \"Highlights\", \"can_mod_post\": false, \"score\": 512, \"approved_by\": null, \"thumbnail\": \"\", \"edited\": false, \"author_flair_css_class\": \"Raptors2\", \"author_flair_richtext\": [], \"gildings\": {}, \"content_categories\": null, \"is_self\": false, \"mod_note\": null, \"created\": 1565133951.0, \"link_flair_type\": \"text\", \"wls\": 6, \"banned_by\": null, \"author_flair_type\": \"text\", \"domain\": \"streamable.com\", \"allow_live_comments\": false, \"selftext_html\": null, \"likes\": null, \"suggested_sort\": null, \"banned_at_utc\": null, \"view_count\": null, \"archived\": false, \"no_follow\": false, \"is_crosspostable\": false, \"pinned\": false, \"over_18\": false, \"all_awardings\": [], \"media_only\": false, \"can_gild\": false, \"spoiler\": false, \"locked\": false, \"author_flair_text\": \"[TOR] Jose Calderon\", \"visited\": false, \"num_reports\": null, \"distinguished\": null, \"subreddit_id\": \"t5_2qo4s\", \"mod_reason_by\": null, \"removal_reason\": null, \"link_flair_background_color\": \"\", \"id\": \"cmrzn9\", \"is_robot_indexable\": true, \"report_reasons\": null, \"author\": \"deadskin\", \"num_crossposts\": 0, \"num_comments\": 57, \"send_replies\": false, \"whitelist_status\": \"all_ads\", \"contest_mode\": false, \"mod_reports\": [], \"author_patreon_flair\": false, \"author_flair_text_color\": \"dark\", \"permalink\": \"/r/nba/comments/cmrzn9/tj_mcconnell_says_hes_excited_to_play_with/\", \"parent_whitelist_status\": \"all_ads\", \"stickied\": false, \"url\": \"https://streamable.com/8py0x\", \"subreddit_subscribers\": 2573356, \"created_utc\": 1565105151.0, \"discussion_type\": null, \"media\": {\"type\": \"streamable.com\", \"oembed\": {\"provider_url\": \"https://streamable.com\", \"description\": \"Check out this video on Streamable using your phone, tablet or desktop.\", \"title\": \"Streamable - free video publishing\", \"type\": \"video\", \"thumbnail_width\": 1280, \"height\": 338, \"width\": 600, \"html\": \"&lt;iframe class=\\\\\"embedly-embed\\\\\" src=\\\\\"https://cdn.embedly.com/widgets/media.html?src=https%3A%2F%2Fstreamable.com%2Fo%2F8py0x&amp;url=https%3A%2F%2Fstreamable.com%2F8py0x&amp;image=https%3A%2F%2Fcdn-b-east.streamable.com%2Fimage%2F8py0x.jpg%3Ftoken%3DJwT8ni49uTpoNc-kBHMN4g%26expires%3D1565112300&amp;key=ed8fa8699ce04833838e66ce79ba05f1&amp;type=text%2Fhtml&amp;schema=streamable\\\\\" width=\\\\\"600\\\\\" height=\\\\\"338\\\\\" scrolling=\\\\\"no\\\\\" frameborder=\\\\\"0\\\\\" allow=\\\\\"autoplay; fullscreen\\\\\" allowfullscreen=\\\\\"true\\\\\"&gt;&lt;/iframe&gt;\", \"version\": \"1.0\", \"provider_name\": \"Streamable\", \"thumbnail_url\": \"https://cdn-b-east.streamable.com/image/8py0x.jpg?token=JwT8ni49uTpoNc-kBHMN4g&amp;expires=1565112300\", \"thumbnail_height\": 720}}, \"is_video\": false}}, {\"kind\": \"t3\", \"data\": {\"approved_at_utc\": null, \"subreddit\": \"nba\", \"selftext\": \"Should the Atlanta Hawks just fuck around and win the nba championship so that Vince Carter can retire as a champion? A title would really cement Vince\\\\u2019s place assuming he\\\\u2019s an integral part of the team/title run.\\\\n\\\\nI think the Hawks should say fuck the dumb shit and do it\", \"author_fullname\": \"t2_41faybu0\", \"saved\": false, \"mod_reason_title\": null, \"gilded\": 1, \"clicked\": false, \"title\": \"Should the Hawks just mess around and win the title so Vince goes out with one?\", \"link_flair_richtext\": [], \"subreddit_name_prefixed\": \"r/nba\", \"hidden\": false, \"pwls\": 6, \"link_flair_css_class\": null, \"downs\": 0, \"hide_score\": false, \"name\": \"t3_cmnr51\", \"quarantine\": false, \"link_flair_text_color\": \"dark\", \"author_flair_background_color\": null, \"subreddit_type\": \"public\", \"ups\": 1870, \"total_awards_received\": 1, \"media_embed\": {}, \"author_flair_template_id\": null, \"is_original_content\": false, \"user_reports\": [], \"secure_media\": null, \"is_reddit_media_domain\": false, \"is_meta\": false, \"category\": null, \"secure_media_embed\": {}, \"link_flair_text\": null, \"can_mod_post\": false, \"score\": 1870, \"approved_by\": null, \"thumbnail\": \"\", \"edited\": false, \"author_flair_css_class\": null, \"author_flair_richtext\": [], \"gildings\": {\"gid_2\": 1}, \"content_categories\": null, \"is_self\": true, \"mod_note\": null, \"created\": 1565107386.0, \"link_flair_type\": \"text\", \"wls\": 6, \"banned_by\": null, \"author_flair_type\": \"text\", \"domain\": \"self.nba\", \"allow_live_comments\": true, \"selftext_html\": \"&lt;!-- SC_OFF --&gt;&lt;div class=\\\\\"md\\\\\"&gt;&lt;p&gt;Should the Atlanta Hawks just fuck around and win the nba championship so that Vince Carter can retire as a champion? A title would really cement Vince\\\\u2019s place assuming he\\\\u2019s an integral part of the team/title run.&lt;/p&gt;\\\\n\\\\n&lt;p&gt;I think the Hawks should say fuck the dumb shit and do it&lt;/p&gt;\\\\n&lt;/div&gt;&lt;!-- SC_ON --&gt;\", \"likes\": null, \"suggested_sort\": null, \"banned_at_utc\": null, \"view_count\": null, \"archived\": false, \"no_follow\": false, \"is_crosspostable\": false, \"pinned\": false, \"over_18\": false, \"all_awardings\": [{\"is_enabled\": true, \"count\": 1, \"subreddit_id\": null, \"description\": \"Gives the author a week of Reddit Premium, %{coin_symbol}100 Coins to do with as they please, and shows a Gold Award on the post.\", \"coin_reward\": 100, \"icon_width\": 512, \"icon_url\": \"https://www.redditstatic.com/gold/awards/icon/gold_512.png\", \"days_of_premium\": 7, \"id\": \"gid_2\", \"icon_height\": 512, \"resized_icons\": [{\"url\": \"https://www.redditstatic.com/gold/awards/icon/gold_16.png\", \"width\": 16, \"height\": 16}, {\"url\": \"https://www.redditstatic.com/gold/awards/icon/gold_32.png\", \"width\": 32, \"height\": 32}, {\"url\": \"https://www.redditstatic.com/gold/awards/icon/gold_48.png\", \"width\": 48, \"height\": 48}, {\"url\": \"https://www.redditstatic.com/gold/awards/icon/gold_64.png\", \"width\": 64, \"height\": 64}, {\"url\": \"https://www.redditstatic.com/gold/awards/icon/gold_128.png\", \"width\": 128, \"height\": 128}], \"days_of_drip_extension\": 0, \"award_type\": \"global\", \"coin_price\": 500, \"subreddit_coin_reward\": 0, \"name\": \"Gold\"}], \"media_only\": false, \"can_gild\": false, \"spoiler\": false, \"locked\": false, \"author_flair_text\": null, \"visited\": false, \"num_reports\": null, \"distinguished\": null, \"subreddit_id\": \"t5_2qo4s\", \"mod_reason_by\": null, \"removal_reason\": null, \"link_flair_background_color\": \"\", \"id\": \"cmnr51\", \"is_robot_indexable\": true, \"report_reasons\": null, \"author\": \"imawizardbro\", \"num_crossposts\": 0, \"num_comments\": 140, \"send_replies\": true, \"whitelist_status\": \"all_ads\", \"contest_mode\": false, \"mod_reports\": [], \"author_patreon_flair\": false, \"author_flair_text_color\": null, \"permalink\": \"/r/nba/comments/cmnr51/should_the_hawks_just_mess_around_and_win_the/\", \"parent_whitelist_status\": \"all_ads\", \"stickied\": false, \"url\": \"https://www.reddit.com/r/nba/comments/cmnr51/should_the_hawks_just_mess_around_and_win_the/\", \"subreddit_subscribers\": 2573356, \"created_utc\": 1565078586.0, \"discussion_type\": null, \"media\": null, \"is_video\": false}}, {\"kind\": \"t3\", \"data\": {\"approved_at_utc\": null, \"subreddit\": \"nba\", \"selftext\": \"This is from his podcast that just dropped today with CJ McCollum. Link to the full pocast: http://www.espn.com/espnradio/play?id=27332030\\\\n\\\\nSkip to 17:20 for the quote.\\\\n\\\\n&gt; \\\\\"I\\'ve gotten this sense from a lot of people in the league. Everyone was holding their breath that he [Kawhi] would not go to the Lakers.\\\\\"\\\\n\\\\nCJ responds by agreeing that he was hoping Kawhi would go to either LAC or stay in Toronto. He did not want him joining the Lakers.\", \"author_fullname\": \"t2_1be1ps\", \"saved\": false, \"mod_reason_title\": null, \"gilded\": 0, \"clicked\": false, \"title\": \"[Wojnarowski] \\\\\"I\\'ve gotten this sense from a lot of people in the league. Everyone was holding their breath that he [Kawhi] would not go to the Lakers.\\\\\"\", \"link_flair_richtext\": [], \"subreddit_name_prefixed\": \"r/nba\", \"hidden\": false, \"pwls\": 6, \"link_flair_css_class\": null, \"downs\": 0, \"hide_score\": false, \"name\": \"t3_cmrjca\", \"quarantine\": false, \"link_flair_text_color\": \"dark\", \"author_flair_background_color\": null, \"subreddit_type\": \"public\", \"ups\": 413, \"total_awards_received\": 0, \"media_embed\": {}, \"author_flair_template_id\": \"78284992-b670-11e7-bf34-0e49d9c6d2ec\", \"is_original_content\": false, \"user_reports\": [], \"secure_media\": null, \"is_reddit_media_domain\": false, \"is_meta\": false, \"category\": null, \"secure_media_embed\": {}, \"link_flair_text\": null, \"can_mod_post\": false, \"score\": 413, \"approved_by\": null, \"thumbnail\": \"\", \"edited\": false, \"author_flair_css_class\": \"Lakers2\", \"author_flair_richtext\": [], \"gildings\": {}, \"content_categories\": null, \"is_self\": true, \"mod_note\": null, \"created\": 1565131776.0, \"link_flair_type\": \"text\", \"wls\": 6, \"banned_by\": null, \"author_flair_type\": \"text\", \"domain\": \"self.nba\", \"allow_live_comments\": false, \"selftext_html\": \"&lt;!-- SC_OFF --&gt;&lt;div class=\\\\\"md\\\\\"&gt;&lt;p&gt;This is from his podcast that just dropped today with CJ McCollum. Link to the full pocast: &lt;a href=\\\\\"http://www.espn.com/espnradio/play?id=27332030\\\\\"&gt;http://www.espn.com/espnradio/play?id=27332030&lt;/a&gt;&lt;/p&gt;\\\\n\\\\n&lt;p&gt;Skip to 17:20 for the quote.&lt;/p&gt;\\\\n\\\\n&lt;blockquote&gt;\\\\n&lt;p&gt;&amp;quot;I&amp;#39;ve gotten this sense from a lot of people in the league. Everyone was holding their breath that he [Kawhi] would not go to the Lakers.&amp;quot;&lt;/p&gt;\\\\n&lt;/blockquote&gt;\\\\n\\\\n&lt;p&gt;CJ responds by agreeing that he was hoping Kawhi would go to either LAC or stay in Toronto. He did not want him joining the Lakers.&lt;/p&gt;\\\\n&lt;/div&gt;&lt;!-- SC_ON --&gt;\", \"likes\": null, \"suggested_sort\": null, \"banned_at_utc\": null, \"view_count\": null, \"archived\": false, \"no_follow\": false, \"is_crosspostable\": false, \"pinned\": false, \"over_18\": false, \"all_awardings\": [], \"media_only\": false, \"can_gild\": false, \"spoiler\": false, \"locked\": false, \"author_flair_text\": \"Lakers\", \"visited\": false, \"num_reports\": null, \"distinguished\": null, \"subreddit_id\": \"t5_2qo4s\", \"mod_reason_by\": null, \"removal_reason\": null, \"link_flair_background_color\": \"\", \"id\": \"cmrjca\", \"is_robot_indexable\": true, \"report_reasons\": null, \"author\": \"LonzoBBBall\", \"num_crossposts\": 0, \"num_comments\": 230, \"send_replies\": true, \"whitelist_status\": \"all_ads\", \"contest_mode\": false, \"mod_reports\": [], \"author_patreon_flair\": false, \"author_flair_text_color\": \"dark\", \"permalink\": \"/r/nba/comments/cmrjca/wojnarowski_ive_gotten_this_sense_from_a_lot_of/\", \"parent_whitelist_status\": \"all_ads\", \"stickied\": false, \"url\": \"https://www.reddit.com/r/nba/comments/cmrjca/wojnarowski_ive_gotten_this_sense_from_a_lot_of/\", \"subreddit_subscribers\": 2573356, \"created_utc\": 1565102976.0, \"discussion_type\": null, \"media\": null, \"is_video\": false}}, {\"kind\": \"t3\", \"data\": {\"approved_at_utc\": null, \"subreddit\": \"nba\", \"selftext\": \"\", \"author_fullname\": \"t2_5nr6h\", \"saved\": false, \"mod_reason_title\": null, \"gilded\": 0, \"clicked\": false, \"title\": \"[Forsberg] Kemba Walker on Team USA: \\'Lot of us are happy those guys pulled out\\'\", \"link_flair_richtext\": [], \"subreddit_name_prefixed\": \"r/nba\", \"hidden\": false, \"pwls\": 6, \"link_flair_css_class\": null, \"downs\": 0, \"hide_score\": false, \"name\": \"t3_cmrsi3\", \"quarantine\": false, \"link_flair_text_color\": \"dark\", \"author_flair_background_color\": \"\", \"subreddit_type\": \"public\", \"ups\": 327, \"total_awards_received\": 0, \"media_embed\": {}, \"author_flair_template_id\": null, \"is_original_content\": false, \"user_reports\": [], \"secure_media\": null, \"is_reddit_media_domain\": false, \"is_meta\": false, \"category\": null, \"secure_media_embed\": {}, \"link_flair_text\": null, \"can_mod_post\": false, \"score\": 327, \"approved_by\": null, \"thumbnail\": \"\", \"edited\": false, \"author_flair_css_class\": \"Raptors2\", \"author_flair_richtext\": [], \"gildings\": {}, \"content_categories\": null, \"is_self\": false, \"mod_note\": null, \"created\": 1565132987.0, \"link_flair_type\": \"text\", \"wls\": 6, \"banned_by\": null, \"author_flair_type\": \"text\", \"domain\": \"nbcsports.com\", \"allow_live_comments\": true, \"selftext_html\": null, \"likes\": null, \"suggested_sort\": null, \"banned_at_utc\": null, \"view_count\": null, \"archived\": false, \"no_follow\": false, \"is_crosspostable\": false, \"pinned\": false, \"over_18\": false, \"all_awardings\": [], \"media_only\": false, \"can_gild\": false, \"spoiler\": false, \"locked\": false, \"author_flair_text\": \"[TOR] Jose Calderon\", \"visited\": false, \"num_reports\": null, \"distinguished\": null, \"subreddit_id\": \"t5_2qo4s\", \"mod_reason_by\": null, \"removal_reason\": null, \"link_flair_background_color\": \"\", \"id\": \"cmrsi3\", \"is_robot_indexable\": true, \"report_reasons\": null, \"author\": \"deadskin\", \"num_crossposts\": 0, \"num_comments\": 53, \"send_replies\": false, \"whitelist_status\": \"all_ads\", \"contest_mode\": false, \"mod_reports\": [], \"author_patreon_flair\": false, \"author_flair_text_color\": \"dark\", \"permalink\": \"/r/nba/comments/cmrsi3/forsberg_kemba_walker_on_team_usa_lot_of_us_are/\", \"parent_whitelist_status\": \"all_ads\", \"stickied\": false, \"url\": \"https://www.nbcsports.com/boston/celtics/kemba-walker-team-usa-lot-us-are-happy-those-guys-pulled-out\", \"subreddit_subscribers\": 2573356, \"created_utc\": 1565104187.0, \"discussion_type\": null, \"media\": null, \"is_video\": false}}, {\"kind\": \"t3\", \"data\": {\"approved_at_utc\": null, \"subreddit\": \"nba\", \"selftext\": \"\", \"author_fullname\": \"t2_5nr6h\", \"saved\": false, \"mod_reason_title\": null, \"gilded\": 0, \"clicked\": false, \"title\": \"[Westerholm] Boston Celtics\\\\u2019 Jaylen Brown on dysfunction: \\\\u2018Last year, honestly, I can\\\\u2019t see it being any worse than that\\\\u2019\", \"link_flair_richtext\": [], \"subreddit_name_prefixed\": \"r/nba\", \"hidden\": false, \"pwls\": 6, \"link_flair_css_class\": null, \"downs\": 0, \"hide_score\": false, \"name\": \"t3_cmsn3v\", \"quarantine\": false, \"link_flair_text_color\": \"dark\", \"author_flair_background_color\": \"\", \"subreddit_type\": \"public\", \"ups\": 222, \"total_awards_received\": 0, \"media_embed\": {}, \"author_flair_template_id\": null, \"is_original_content\": false, \"user_reports\": [], \"secure_media\": null, \"is_reddit_media_domain\": false, \"is_meta\": false, \"category\": null, \"secure_media_embed\": {}, \"link_flair_text\": null, \"can_mod_post\": false, \"score\": 222, \"approved_by\": null, \"thumbnail\": \"\", \"edited\": false, \"author_flair_css_class\": \"Raptors2\", \"author_flair_richtext\": [], \"gildings\": {}, \"content_categories\": null, \"is_self\": false, \"mod_note\": null, \"created\": 1565136996.0, \"link_flair_type\": \"text\", \"wls\": 6, \"banned_by\": null, \"author_flair_type\": \"text\", \"domain\": \"masslive.com\", \"allow_live_comments\": false, \"selftext_html\": null, \"likes\": null, \"suggested_sort\": null, \"banned_at_utc\": null, \"view_count\": null, \"archived\": false, \"no_follow\": false, \"is_crosspostable\": false, \"pinned\": false, \"over_18\": false, \"all_awardings\": [], \"media_only\": false, \"can_gild\": false, \"spoiler\": false, \"locked\": false, \"author_flair_text\": \"[TOR] Jose Calderon\", \"visited\": false, \"num_reports\": null, \"distinguished\": null, \"subreddit_id\": \"t5_2qo4s\", \"mod_reason_by\": null, \"removal_reason\": null, \"link_flair_background_color\": \"\", \"id\": \"cmsn3v\", \"is_robot_indexable\": true, \"report_reasons\": null, \"author\": \"deadskin\", \"num_crossposts\": 0, \"num_comments\": 132, \"send_replies\": false, \"whitelist_status\": \"all_ads\", \"contest_mode\": false, \"mod_reports\": [], \"author_patreon_flair\": false, \"author_flair_text_color\": \"dark\", \"permalink\": \"/r/nba/comments/cmsn3v/westerholm_boston_celtics_jaylen_brown_on/\", \"parent_whitelist_status\": \"all_ads\", \"stickied\": false, \"url\": \"https://www.masslive.com/celtics/2019/08/boston-celtics-jaylen-brown-on-dysfunction-last-year-honestly-i-cant-see-it-being-any-worse-than-that.html\", \"subreddit_subscribers\": 2573356, \"created_utc\": 1565108196.0, \"discussion_type\": null, \"media\": null, \"is_video\": false}}, {\"kind\": \"t3\", \"data\": {\"approved_at_utc\": null, \"subreddit\": \"nba\", \"selftext\": \"\", \"author_fullname\": \"t2_13fwme\", \"saved\": false, \"mod_reason_title\": null, \"gilded\": 0, \"clicked\": false, \"title\": \"[Wojnarowski] Free agent Vince Carter has agreed to a deal to return to the Atlanta Hawks, league source tells ESPN.\", \"link_flair_richtext\": [], \"subreddit_name_prefixed\": \"r/nba\", \"hidden\": false, \"pwls\": 6, \"link_flair_css_class\": null, \"downs\": 0, \"hide_score\": false, \"name\": \"t3_cmh7nn\", \"quarantine\": false, \"link_flair_text_color\": \"dark\", \"author_flair_background_color\": null, \"subreddit_type\": \"public\", \"ups\": 11712, \"total_awards_received\": 0, \"media_embed\": {\"content\": \"&lt;blockquote class=\\\\\"twitter-video\\\\\"&gt;&lt;p lang=\\\\\"en\\\\\" dir=\\\\\"ltr\\\\\"&gt;Free agent Vince Carter has agreed to a deal to return to the Atlanta Hawks, league source tells ESPN.&lt;/p&gt;&amp;mdash; Adrian Wojnarowski (@wojespn) &lt;a href=\\\\\"https://twitter.com/wojespn/status/1158488779046477824?ref_src=twsrc%5Etfw\\\\\"&gt;August 5, 2019&lt;/a&gt;&lt;/blockquote&gt;\\\\n&lt;script async src=\\\\\"https://platform.twitter.com/widgets.js\\\\\" charset=\\\\\"utf-8\\\\\"&gt;&lt;/script&gt;\\\\n\", \"width\": 350, \"scrolling\": false, \"height\": 200}, \"author_flair_template_id\": \"d85b1fba-3feb-11e8-b7d0-0e993ebc6d5c\", \"is_original_content\": false, \"user_reports\": [], \"secure_media\": {\"oembed\": {\"provider_url\": \"https://twitter.com\", \"url\": \"https://twitter.com/wojespn/status/1158488779046477824\", \"html\": \"&lt;blockquote class=\\\\\"twitter-video\\\\\"&gt;&lt;p lang=\\\\\"en\\\\\" dir=\\\\\"ltr\\\\\"&gt;Free agent Vince Carter has agreed to a deal to return to the Atlanta Hawks, league source tells ESPN.&lt;/p&gt;&amp;mdash; Adrian Wojnarowski (@wojespn) &lt;a href=\\\\\"https://twitter.com/wojespn/status/1158488779046477824?ref_src=twsrc%5Etfw\\\\\"&gt;August 5, 2019&lt;/a&gt;&lt;/blockquote&gt;\\\\n&lt;script async src=\\\\\"https://platform.twitter.com/widgets.js\\\\\" charset=\\\\\"utf-8\\\\\"&gt;&lt;/script&gt;\\\\n\", \"author_name\": \"Adrian Wojnarowski\", \"height\": null, \"width\": 350, \"version\": \"1.0\", \"author_url\": \"https://twitter.com/wojespn\", \"provider_name\": \"Twitter\", \"cache_age\": 3153600000, \"type\": \"rich\"}, \"type\": \"twitter.com\"}, \"is_reddit_media_domain\": false, \"is_meta\": false, \"category\": null, \"secure_media_embed\": {\"content\": \"&lt;blockquote class=\\\\\"twitter-video\\\\\"&gt;&lt;p lang=\\\\\"en\\\\\" dir=\\\\\"ltr\\\\\"&gt;Free agent Vince Carter has agreed to a deal to return to the Atlanta Hawks, league source tells ESPN.&lt;/p&gt;&amp;mdash; Adrian Wojnarowski (@wojespn) &lt;a href=\\\\\"https://twitter.com/wojespn/status/1158488779046477824?ref_src=twsrc%5Etfw\\\\\"&gt;August 5, 2019&lt;/a&gt;&lt;/blockquote&gt;\\\\n&lt;script async src=\\\\\"https://platform.twitter.com/widgets.js\\\\\" charset=\\\\\"utf-8\\\\\"&gt;&lt;/script&gt;\\\\n\", \"width\": 350, \"scrolling\": false, \"media_domain_url\": \"https://www.redditmedia.com/mediaembed/cmh7nn\", \"height\": 200}, \"link_flair_text\": null, \"can_mod_post\": false, \"score\": 11712, \"approved_by\": null, \"thumbnail\": \"\", \"edited\": false, \"author_flair_css_class\": \"Magic1\", \"author_flair_richtext\": [], \"gildings\": {}, \"content_categories\": null, \"is_self\": false, \"mod_note\": null, \"created\": 1565069024.0, \"link_flair_type\": \"text\", \"wls\": 6, \"banned_by\": null, \"author_flair_type\": \"text\", \"domain\": \"twitter.com\", \"allow_live_comments\": true, \"selftext_html\": null, \"likes\": null, \"suggested_sort\": null, \"banned_at_utc\": null, \"view_count\": null, \"archived\": false, \"no_follow\": false, \"is_crosspostable\": false, \"pinned\": false, \"over_18\": false, \"all_awardings\": [], \"media_only\": false, \"can_gild\": false, \"spoiler\": false, \"locked\": false, \"author_flair_text\": \"Magic\", \"visited\": false, \"num_reports\": null, \"distinguished\": null, \"subreddit_id\": \"t5_2qo4s\", \"mod_reason_by\": null, \"removal_reason\": null, \"link_flair_background_color\": \"\", \"id\": \"cmh7nn\", \"is_robot_indexable\": true, \"report_reasons\": null, \"author\": \"DRAZZILB1424\", \"num_crossposts\": 2, \"num_comments\": 796, \"send_replies\": false, \"whitelist_status\": \"all_ads\", \"contest_mode\": false, \"mod_reports\": [], \"author_patreon_flair\": false, \"author_flair_text_color\": \"dark\", \"permalink\": \"/r/nba/comments/cmh7nn/wojnarowski_free_agent_vince_carter_has_agreed_to/\", \"parent_whitelist_status\": \"all_ads\", \"stickied\": false, \"url\": \"http://twitter.com/wojespn/status/1158488779046477824\", \"subreddit_subscribers\": 2573356, \"created_utc\": 1565040224.0, \"discussion_type\": null, \"media\": {\"oembed\": {\"provider_url\": \"https://twitter.com\", \"url\": \"https://twitter.com/wojespn/status/1158488779046477824\", \"html\": \"&lt;blockquote class=\\\\\"twitter-video\\\\\"&gt;&lt;p lang=\\\\\"en\\\\\" dir=\\\\\"ltr\\\\\"&gt;Free agent Vince Carter has agreed to a deal to return to the Atlanta Hawks, league source tells ESPN.&lt;/p&gt;&amp;mdash; Adrian Wojnarowski (@wojespn) &lt;a href=\\\\\"https://twitter.com/wojespn/status/1158488779046477824?ref_src=twsrc%5Etfw\\\\\"&gt;August 5, 2019&lt;/a&gt;&lt;/blockquote&gt;\\\\n&lt;script async src=\\\\\"https://platform.twitter.com/widgets.js\\\\\" charset=\\\\\"utf-8\\\\\"&gt;&lt;/script&gt;\\\\n\", \"author_name\": \"Adrian Wojnarowski\", \"height\": null, \"width\": 350, \"version\": \"1.0\", \"author_url\": \"https://twitter.com/wojespn\", \"provider_name\": \"Twitter\", \"cache_age\": 3153600000, \"type\": \"rich\"}, \"type\": \"twitter.com\"}, \"is_video\": false}}, {\"kind\": \"t3\", \"data\": {\"approved_at_utc\": null, \"subreddit\": \"nba\", \"selftext\": \"\", \"author_fullname\": \"t2_14mh5t\", \"saved\": false, \"mod_reason_title\": null, \"gilded\": 0, \"clicked\": false, \"title\": \"Let\\'s revisit one of r/nba greatest rants - starring the Minnesota Timberwolves\", \"link_flair_richtext\": [], \"subreddit_name_prefixed\": \"r/nba\", \"hidden\": false, \"pwls\": 6, \"link_flair_css_class\": null, \"downs\": 0, \"hide_score\": false, \"name\": \"t3_cmqnca\", \"quarantine\": false, \"link_flair_text_color\": \"dark\", \"author_flair_background_color\": null, \"subreddit_type\": \"public\", \"ups\": 293, \"total_awards_received\": 0, \"media_embed\": {}, \"author_flair_template_id\": \"e564ed58-3feb-11e8-8841-0ec8a2ff6002\", \"is_original_content\": false, \"user_reports\": [], \"secure_media\": null, \"is_reddit_media_domain\": false, \"is_meta\": false, \"category\": null, \"secure_media_embed\": {}, \"link_flair_text\": null, \"can_mod_post\": false, \"score\": 293, \"approved_by\": null, \"thumbnail\": \"\", \"edited\": false, \"author_flair_css_class\": \"SuperSonics3\", \"author_flair_richtext\": [], \"gildings\": {}, \"content_categories\": null, \"is_self\": false, \"mod_note\": null, \"created\": 1565127250.0, \"link_flair_type\": \"text\", \"wls\": 6, \"banned_by\": null, \"author_flair_type\": \"text\", \"domain\": \"reddit.com\", \"allow_live_comments\": false, \"selftext_html\": null, \"likes\": null, \"suggested_sort\": null, \"banned_at_utc\": null, \"view_count\": null, \"archived\": false, \"no_follow\": false, \"is_crosspostable\": false, \"pinned\": false, \"over_18\": false, \"all_awardings\": [], \"media_only\": false, \"can_gild\": false, \"spoiler\": false, \"locked\": false, \"author_flair_text\": \"Supersonics\", \"visited\": false, \"num_reports\": null, \"distinguished\": null, \"subreddit_id\": \"t5_2qo4s\", \"mod_reason_by\": null, \"removal_reason\": null, \"link_flair_background_color\": \"\", \"id\": \"cmqnca\", \"is_robot_indexable\": true, \"report_reasons\": null, \"author\": \"HQuasar\", \"num_crossposts\": 0, \"num_comments\": 49, \"send_replies\": true, \"whitelist_status\": \"all_ads\", \"contest_mode\": false, \"mod_reports\": [], \"author_patreon_flair\": false, \"author_flair_text_color\": \"dark\", \"permalink\": \"/r/nba/comments/cmqnca/lets_revisit_one_of_rnba_greatest_rants_starring/\", \"parent_whitelist_status\": \"all_ads\", \"stickied\": false, \"url\": \"https://www.reddit.com/r/nba/comments/5j1791/stop_calling_my_team_spooky/\", \"subreddit_subscribers\": 2573356, \"created_utc\": 1565098450.0, \"discussion_type\": null, \"media\": null, \"is_video\": false}}, {\"kind\": \"t3\", \"data\": {\"approved_at_utc\": null, \"subreddit\": \"nba\", \"selftext\": \"\", \"author_fullname\": \"t2_3zi4nxr\", \"saved\": false, \"mod_reason_title\": null, \"gilded\": 0, \"clicked\": false, \"title\": \"[Ourand, Sports Business Daily] Ryen Russillo is leaving ESPN after 14 years to join The Ringer. Russillo signed a multiyear deal with The Ringer.\", \"link_flair_richtext\": [], \"subreddit_name_prefixed\": \"r/nba\", \"hidden\": false, \"pwls\": 6, \"link_flair_css_class\": null, \"downs\": 0, \"hide_score\": false, \"name\": \"t3_cmjvl4\", \"quarantine\": false, \"link_flair_text_color\": \"dark\", \"author_flair_background_color\": null, \"subreddit_type\": \"public\", \"ups\": 2868, \"total_awards_received\": 1, \"media_embed\": {}, \"author_flair_template_id\": null, \"is_original_content\": false, \"user_reports\": [], \"secure_media\": null, \"is_reddit_media_domain\": false, \"is_meta\": false, \"category\": null, \"secure_media_embed\": {}, \"link_flair_text\": null, \"can_mod_post\": false, \"score\": 2868, \"approved_by\": null, \"thumbnail\": \"\", \"edited\": false, \"author_flair_css_class\": null, \"author_flair_richtext\": [], \"gildings\": {\"gid_1\": 1}, \"content_categories\": null, \"is_self\": false, \"mod_note\": null, \"created\": 1565082569.0, \"link_flair_type\": \"text\", \"wls\": 6, \"banned_by\": null, \"author_flair_type\": \"text\", \"domain\": \"twitter.com\", \"allow_live_comments\": true, \"selftext_html\": null, \"likes\": null, \"suggested_sort\": null, \"banned_at_utc\": null, \"view_count\": null, \"archived\": false, \"no_follow\": false, \"is_crosspostable\": false, \"pinned\": false, \"over_18\": false, \"all_awardings\": [{\"is_enabled\": true, \"count\": 1, \"subreddit_id\": null, \"description\": \"Shows the Silver Award on the post... and that\\'s it.\", \"coin_reward\": 0, \"icon_width\": 512, \"icon_url\": \"https://www.redditstatic.com/gold/awards/icon/silver_512.png\", \"days_of_premium\": 0, \"id\": \"gid_1\", \"icon_height\": 512, \"resized_icons\": [{\"url\": \"https://www.redditstatic.com/gold/awards/icon/silver_16.png\", \"width\": 16, \"height\": 16}, {\"url\": \"https://www.redditstatic.com/gold/awards/icon/silver_32.png\", \"width\": 32, \"height\": 32}, {\"url\": \"https://www.redditstatic.com/gold/awards/icon/silver_48.png\", \"width\": 48, \"height\": 48}, {\"url\": \"https://www.redditstatic.com/gold/awards/icon/silver_64.png\", \"width\": 64, \"height\": 64}, {\"url\": \"https://www.redditstatic.com/gold/awards/icon/silver_128.png\", \"width\": 128, \"height\": 128}], \"days_of_drip_extension\": 0, \"award_type\": \"global\", \"coin_price\": 100, \"subreddit_coin_reward\": 0, \"name\": \"Silver\"}], \"media_only\": false, \"can_gild\": false, \"spoiler\": false, \"locked\": false, \"author_flair_text\": null, \"visited\": false, \"num_reports\": null, \"distinguished\": null, \"subreddit_id\": \"t5_2qo4s\", \"mod_reason_by\": null, \"removal_reason\": null, \"link_flair_background_color\": \"\", \"id\": \"cmjvl4\", \"is_robot_indexable\": true, \"report_reasons\": null, \"author\": \"Twoweekswithpay\", \"num_crossposts\": 0, \"num_comments\": 554, \"send_replies\": false, \"whitelist_status\": \"all_ads\", \"contest_mode\": false, \"mod_reports\": [], \"author_patreon_flair\": false, \"author_flair_text_color\": null, \"permalink\": \"/r/nba/comments/cmjvl4/ourand_sports_business_daily_ryen_russillo_is/\", \"parent_whitelist_status\": \"all_ads\", \"stickied\": false, \"url\": \"https://twitter.com/ourand_sbj/status/1158542904929017856?s=21\", \"subreddit_subscribers\": 2573356, \"created_utc\": 1565053769.0, \"discussion_type\": null, \"media\": null, \"is_video\": false}}, {\"kind\": \"t3\", \"data\": {\"approved_at_utc\": null, \"subreddit\": \"nba\", \"selftext\": \"\", \"author_fullname\": \"t2_3p26g\", \"saved\": false, \"mod_reason_title\": null, \"gilded\": 0, \"clicked\": false, \"title\": \"Nikola Jokic records the fastest triple-double in history - 14min 33sec\", \"link_flair_richtext\": [], \"subreddit_name_prefixed\": \"r/nba\", \"hidden\": false, \"pwls\": 6, \"link_flair_css_class\": null, \"downs\": 0, \"hide_score\": false, \"name\": \"t3_cmrvat\", \"quarantine\": false, \"link_flair_text_color\": \"dark\", \"author_flair_background_color\": \"\", \"subreddit_type\": \"public\", \"ups\": 192, \"total_awards_received\": 0, \"media_embed\": {\"content\": \"&lt;iframe width=\\\\\"600\\\\\" height=\\\\\"338\\\\\" src=\\\\\"https://www.youtube.com/embed/eUhrMEyCmnQ?feature=oembed&amp;enablejsapi=1\\\\\" frameborder=\\\\\"0\\\\\" allow=\\\\\"accelerometer; autoplay; encrypted-media; gyroscope; picture-in-picture\\\\\" allowfullscreen&gt;&lt;/iframe&gt;\", \"width\": 600, \"scrolling\": false, \"height\": 338}, \"author_flair_template_id\": null, \"is_original_content\": false, \"user_reports\": [], \"secure_media\": {\"type\": \"youtube.com\", \"oembed\": {\"provider_url\": \"https://www.youtube.com/\", \"version\": \"1.0\", \"title\": \"Nikola Jokic UNREAL Triple-Double 2018.02.15 at Bucks - 30 Pts, 17 Asts, 15 Rebs! | FreeDawkins\", \"type\": \"video\", \"thumbnail_width\": 480, \"height\": 338, \"width\": 600, \"html\": \"&lt;iframe width=\\\\\"600\\\\\" height=\\\\\"338\\\\\" src=\\\\\"https://www.youtube.com/embed/eUhrMEyCmnQ?feature=oembed&amp;enablejsapi=1\\\\\" frameborder=\\\\\"0\\\\\" allow=\\\\\"accelerometer; autoplay; encrypted-media; gyroscope; picture-in-picture\\\\\" allowfullscreen&gt;&lt;/iframe&gt;\", \"author_name\": \"FreeDawkins\", \"provider_name\": \"YouTube\", \"thumbnail_url\": \"https://i.ytimg.com/vi/eUhrMEyCmnQ/hqdefault.jpg\", \"thumbnail_height\": 360, \"author_url\": \"https://www.youtube.com/channel/UCEjOSbbaOfgnfRODEEMYlCw\"}}, \"is_reddit_media_domain\": false, \"is_meta\": false, \"category\": null, \"secure_media_embed\": {\"content\": \"&lt;iframe width=\\\\\"600\\\\\" height=\\\\\"338\\\\\" src=\\\\\"https://www.youtube.com/embed/eUhrMEyCmnQ?feature=oembed&amp;enablejsapi=1\\\\\" frameborder=\\\\\"0\\\\\" allow=\\\\\"accelerometer; autoplay; encrypted-media; gyroscope; picture-in-picture\\\\\" allowfullscreen&gt;&lt;/iframe&gt;\", \"width\": 600, \"scrolling\": false, \"media_domain_url\": \"https://www.redditmedia.com/mediaembed/cmrvat\", \"height\": 338}, \"link_flair_text\": null, \"can_mod_post\": false, \"score\": 192, \"approved_by\": null, \"thumbnail\": \"\", \"edited\": false, \"author_flair_css_class\": \"Nuggets2\", \"author_flair_richtext\": [], \"gildings\": {}, \"content_categories\": null, \"is_self\": false, \"mod_note\": null, \"created\": 1565133365.0, \"link_flair_type\": \"text\", \"wls\": 6, \"banned_by\": null, \"author_flair_type\": \"text\", \"domain\": \"youtube.com\", \"allow_live_comments\": false, \"selftext_html\": null, \"likes\": null, \"suggested_sort\": null, \"banned_at_utc\": null, \"view_count\": null, \"archived\": false, \"no_follow\": false, \"is_crosspostable\": false, \"pinned\": false, \"over_18\": false, \"all_awardings\": [], \"media_only\": false, \"can_gild\": false, \"spoiler\": false, \"locked\": false, \"author_flair_text\": \"[DEN] Gary Harris\", \"visited\": false, \"num_reports\": null, \"distinguished\": null, \"subreddit_id\": \"t5_2qo4s\", \"mod_reason_by\": null, \"removal_reason\": null, \"link_flair_background_color\": \"\", \"id\": \"cmrvat\", \"is_robot_indexable\": true, \"report_reasons\": null, \"author\": \"IdRatherBeLurking\", \"num_crossposts\": 0, \"num_comments\": 30, \"send_replies\": true, \"whitelist_status\": \"all_ads\", \"contest_mode\": false, \"mod_reports\": [], \"author_patreon_flair\": false, \"author_flair_text_color\": \"dark\", \"permalink\": \"/r/nba/comments/cmrvat/nikola_jokic_records_the_fastest_tripledouble_in/\", \"parent_whitelist_status\": \"all_ads\", \"stickied\": false, \"url\": \"https://www.youtube.com/watch?v=eUhrMEyCmnQ\", \"subreddit_subscribers\": 2573356, \"created_utc\": 1565104565.0, \"discussion_type\": null, \"media\": {\"type\": \"youtube.com\", \"oembed\": {\"provider_url\": \"https://www.youtube.com/\", \"version\": \"1.0\", \"title\": \"Nikola Jokic UNREAL Triple-Double 2018.02.15 at Bucks - 30 Pts, 17 Asts, 15 Rebs! | FreeDawkins\", \"type\": \"video\", \"thumbnail_width\": 480, \"height\": 338, \"width\": 600, \"html\": \"&lt;iframe width=\\\\\"600\\\\\" height=\\\\\"338\\\\\" src=\\\\\"https://www.youtube.com/embed/eUhrMEyCmnQ?feature=oembed&amp;enablejsapi=1\\\\\" frameborder=\\\\\"0\\\\\" allow=\\\\\"accelerometer; autoplay; encrypted-media; gyroscope; picture-in-picture\\\\\" allowfullscreen&gt;&lt;/iframe&gt;\", \"author_name\": \"FreeDawkins\", \"provider_name\": \"YouTube\", \"thumbnail_url\": \"https://i.ytimg.com/vi/eUhrMEyCmnQ/hqdefault.jpg\", \"thumbnail_height\": 360, \"author_url\": \"https://www.youtube.com/channel/UCEjOSbbaOfgnfRODEEMYlCw\"}}, \"is_video\": false}}, {\"kind\": \"t3\", \"data\": {\"approved_at_utc\": null, \"subreddit\": \"nba\", \"selftext\": \"\", \"author_fullname\": \"t2_3wpzptch\", \"saved\": false, \"mod_reason_title\": null, \"gilded\": 0, \"clicked\": false, \"title\": \"[Reynolds] Udonis Haslem has signed for a 17th season with the Miami Heat. One year, $2.6 million.\", \"link_flair_richtext\": [], \"subreddit_name_prefixed\": \"r/nba\", \"hidden\": false, \"pwls\": 6, \"link_flair_css_class\": \"news\", \"downs\": 0, \"hide_score\": true, \"name\": \"t3_cmvagp\", \"quarantine\": false, \"link_flair_text_color\": \"dark\", \"author_flair_background_color\": null, \"subreddit_type\": \"public\", \"ups\": 75, \"total_awards_received\": 0, \"media_embed\": {\"content\": \"&lt;blockquote class=\\\\\"twitter-video\\\\\"&gt;&lt;p lang=\\\\\"en\\\\\" dir=\\\\\"ltr\\\\\"&gt;He\\\\u2019s back, because he never left. &lt;br&gt;&lt;br&gt;Udonis Haslem has signed for a 17th season with the Miami Heat. One year, $2.6 million. &lt;br&gt;&lt;br&gt;The Captain - and three-time NBA champion - has played with 130 different Heat teammates.&lt;br&gt;&lt;br&gt;And counting. &lt;a href=\\\\\"https://twitter.com/hashtag/og?src=hash&amp;amp;ref_src=twsrc%5Etfw\\\\\"&gt;#og&lt;/a&gt; &lt;a href=\\\\\"https://twitter.com/hashtag/Mr305?src=hash&amp;amp;ref_src=twsrc%5Etfw\\\\\"&gt;#Mr305&lt;/a&gt; &lt;a href=\\\\\"https://t.co/R6Ku0rssPy\\\\\"&gt;pic.twitter.com/R6Ku0rssPy&lt;/a&gt;&lt;/p&gt;&amp;mdash; Tim Reynolds (@ByTimReynolds) &lt;a href=\\\\\"https://twitter.com/ByTimReynolds/status/1158825659424071681?ref_src=twsrc%5Etfw\\\\\"&gt;August 6, 2019&lt;/a&gt;&lt;/blockquote&gt;\\\\n&lt;script async src=\\\\\"https://platform.twitter.com/widgets.js\\\\\" charset=\\\\\"utf-8\\\\\"&gt;&lt;/script&gt;\\\\n\", \"width\": 350, \"scrolling\": false, \"height\": 200}, \"author_flair_template_id\": \"e0fb04a0-3feb-11e8-b0b7-0ef947828ac4\", \"is_original_content\": false, \"user_reports\": [], \"secure_media\": {\"type\": \"twitter.com\", \"oembed\": {\"provider_url\": \"https://twitter.com\", \"version\": \"1.0\", \"url\": \"https://twitter.com/ByTimReynolds/status/1158825659424071681\", \"author_name\": \"Tim Reynolds\", \"height\": null, \"width\": 350, \"html\": \"&lt;blockquote class=\\\\\"twitter-video\\\\\"&gt;&lt;p lang=\\\\\"en\\\\\" dir=\\\\\"ltr\\\\\"&gt;He\\\\u2019s back, because he never left. &lt;br&gt;&lt;br&gt;Udonis Haslem has signed for a 17th season with the Miami Heat. One year, $2.6 million. &lt;br&gt;&lt;br&gt;The Captain - and three-time NBA champion - has played with 130 different Heat teammates.&lt;br&gt;&lt;br&gt;And counting. &lt;a href=\\\\\"https://twitter.com/hashtag/og?src=hash&amp;amp;ref_src=twsrc%5Etfw\\\\\"&gt;#og&lt;/a&gt; &lt;a href=\\\\\"https://twitter.com/hashtag/Mr305?src=hash&amp;amp;ref_src=twsrc%5Etfw\\\\\"&gt;#Mr305&lt;/a&gt; &lt;a href=\\\\\"https://t.co/R6Ku0rssPy\\\\\"&gt;pic.twitter.com/R6Ku0rssPy&lt;/a&gt;&lt;/p&gt;&amp;mdash; Tim Reynolds (@ByTimReynolds) &lt;a href=\\\\\"https://twitter.com/ByTimReynolds/status/1158825659424071681?ref_src=twsrc%5Etfw\\\\\"&gt;August 6, 2019&lt;/a&gt;&lt;/blockquote&gt;\\\\n&lt;script async src=\\\\\"https://platform.twitter.com/widgets.js\\\\\" charset=\\\\\"utf-8\\\\\"&gt;&lt;/script&gt;\\\\n\", \"author_url\": \"https://twitter.com/ByTimReynolds\", \"provider_name\": \"Twitter\", \"cache_age\": 3153600000, \"type\": \"rich\"}}, \"is_reddit_media_domain\": false, \"is_meta\": false, \"category\": null, \"secure_media_embed\": {\"content\": \"&lt;blockquote class=\\\\\"twitter-video\\\\\"&gt;&lt;p lang=\\\\\"en\\\\\" dir=\\\\\"ltr\\\\\"&gt;He\\\\u2019s back, because he never left. &lt;br&gt;&lt;br&gt;Udonis Haslem has signed for a 17th season with the Miami Heat. One year, $2.6 million. &lt;br&gt;&lt;br&gt;The Captain - and three-time NBA champion - has played with 130 different Heat teammates.&lt;br&gt;&lt;br&gt;And counting. &lt;a href=\\\\\"https://twitter.com/hashtag/og?src=hash&amp;amp;ref_src=twsrc%5Etfw\\\\\"&gt;#og&lt;/a&gt; &lt;a href=\\\\\"https://twitter.com/hashtag/Mr305?src=hash&amp;amp;ref_src=twsrc%5Etfw\\\\\"&gt;#Mr305&lt;/a&gt; &lt;a href=\\\\\"https://t.co/R6Ku0rssPy\\\\\"&gt;pic.twitter.com/R6Ku0rssPy&lt;/a&gt;&lt;/p&gt;&amp;mdash; Tim Reynolds (@ByTimReynolds) &lt;a href=\\\\\"https://twitter.com/ByTimReynolds/status/1158825659424071681?ref_src=twsrc%5Etfw\\\\\"&gt;August 6, 2019&lt;/a&gt;&lt;/blockquote&gt;\\\\n&lt;script async src=\\\\\"https://platform.twitter.com/widgets.js\\\\\" charset=\\\\\"utf-8\\\\\"&gt;&lt;/script&gt;\\\\n\", \"width\": 350, \"scrolling\": false, \"media_domain_url\": \"https://www.redditmedia.com/mediaembed/cmvagp\", \"height\": 200}, \"link_flair_text\": \"Beat Writer\", \"can_mod_post\": false, \"score\": 75, \"approved_by\": null, \"thumbnail\": \"\", \"edited\": false, \"author_flair_css_class\": \"Raptors1\", \"author_flair_richtext\": [], \"gildings\": {}, \"content_categories\": null, \"is_self\": false, \"mod_note\": null, \"created\": 1565149386.0, \"link_flair_type\": \"text\", \"wls\": 6, \"banned_by\": null, \"author_flair_type\": \"text\", \"domain\": \"twitter.com\", \"allow_live_comments\": false, \"selftext_html\": null, \"likes\": null, \"suggested_sort\": null, \"banned_at_utc\": null, \"view_count\": null, \"archived\": false, \"no_follow\": false, \"is_crosspostable\": false, \"pinned\": false, \"over_18\": false, \"all_awardings\": [], \"media_only\": false, \"can_gild\": false, \"spoiler\": false, \"locked\": false, \"author_flair_text\": \"Raptors\", \"visited\": false, \"num_reports\": null, \"distinguished\": null, \"subreddit_id\": \"t5_2qo4s\", \"mod_reason_by\": null, \"removal_reason\": null, \"link_flair_background_color\": \"\", \"id\": \"cmvagp\", \"is_robot_indexable\": true, \"report_reasons\": null, \"author\": \"Austin63867\", \"num_crossposts\": 0, \"num_comments\": 36, \"send_replies\": true, \"whitelist_status\": \"all_ads\", \"contest_mode\": false, \"mod_reports\": [], \"author_patreon_flair\": false, \"author_flair_text_color\": \"dark\", \"permalink\": \"/r/nba/comments/cmvagp/reynolds_udonis_haslem_has_signed_for_a_17th/\", \"parent_whitelist_status\": \"all_ads\", \"stickied\": false, \"url\": \"https://twitter.com/ByTimReynolds/status/1158825659424071681?s=19\", \"subreddit_subscribers\": 2573356, \"created_utc\": 1565120586.0, \"discussion_type\": null, \"media\": {\"type\": \"twitter.com\", \"oembed\": {\"provider_url\": \"https://twitter.com\", \"version\": \"1.0\", \"url\": \"https://twitter.com/ByTimReynolds/status/1158825659424071681\", \"author_name\": \"Tim Reynolds\", \"height\": null, \"width\": 350, \"html\": \"&lt;blockquote class=\\\\\"twitter-video\\\\\"&gt;&lt;p lang=\\\\\"en\\\\\" dir=\\\\\"ltr\\\\\"&gt;He\\\\u2019s back, because he never left. &lt;br&gt;&lt;br&gt;Udonis Haslem has signed for a 17th season with the Miami Heat. One year, $2.6 million. &lt;br&gt;&lt;br&gt;The Captain - and three-time NBA champion - has played with 130 different Heat teammates.&lt;br&gt;&lt;br&gt;And counting. &lt;a href=\\\\\"https://twitter.com/hashtag/og?src=hash&amp;amp;ref_src=twsrc%5Etfw\\\\\"&gt;#og&lt;/a&gt; &lt;a href=\\\\\"https://twitter.com/hashtag/Mr305?src=hash&amp;amp;ref_src=twsrc%5Etfw\\\\\"&gt;#Mr305&lt;/a&gt; &lt;a href=\\\\\"https://t.co/R6Ku0rssPy\\\\\"&gt;pic.twitter.com/R6Ku0rssPy&lt;/a&gt;&lt;/p&gt;&amp;mdash; Tim Reynolds (@ByTimReynolds) &lt;a href=\\\\\"https://twitter.com/ByTimReynolds/status/1158825659424071681?ref_src=twsrc%5Etfw\\\\\"&gt;August 6, 2019&lt;/a&gt;&lt;/blockquote&gt;\\\\n&lt;script async src=\\\\\"https://platform.twitter.com/widgets.js\\\\\" charset=\\\\\"utf-8\\\\\"&gt;&lt;/script&gt;\\\\n\", \"author_url\": \"https://twitter.com/ByTimReynolds\", \"provider_name\": \"Twitter\", \"cache_age\": 3153600000, \"type\": \"rich\"}}, \"is_video\": false}}, {\"kind\": \"t3\", \"data\": {\"approved_at_utc\": null, \"subreddit\": \"nba\", \"selftext\": \"\", \"author_fullname\": \"t2_3wpzptch\", \"saved\": false, \"mod_reason_title\": null, \"gilded\": 0, \"clicked\": false, \"title\": \"Popovich jokes about hiring Tim Duncan as an assistant coach \\\\\"doesn\\\\u2019t know a lick about coaching. I don\\\\u2019t even know why I hired him. He\\\\u2019s given me a paycheck for 19 years so I was kind of obliged to pay him back.\\\\u201d\", \"link_flair_richtext\": [], \"subreddit_name_prefixed\": \"r/nba\", \"hidden\": false, \"pwls\": 6, \"link_flair_css_class\": \"highlights\", \"downs\": 0, \"hide_score\": false, \"name\": \"t3_cmhtbc\", \"quarantine\": false, \"link_flair_text_color\": \"dark\", \"author_flair_background_color\": null, \"subreddit_type\": \"public\", \"ups\": 3968, \"total_awards_received\": 0, \"media_embed\": {\"content\": \"&lt;iframe class=\\\\\"embedly-embed\\\\\" src=\\\\\"https://cdn.embedly.com/widgets/media.html?src=https%3A%2F%2Fstreamable.com%2Fo%2Fnz2hf&amp;url=https%3A%2F%2Fstreamable.com%2Fnz2hf&amp;image=https%3A%2F%2Fcdn-b-east.streamable.com%2Fimage%2Fnz2hf.jpg%3Ftoken%3DQsD9Jt_x4QwjgjqfiFrQ3g%26expires%3D1565050140&amp;key=ed8fa8699ce04833838e66ce79ba05f1&amp;type=text%2Fhtml&amp;schema=streamable\\\\\" width=\\\\\"360\\\\\" height=\\\\\"360\\\\\" scrolling=\\\\\"no\\\\\" frameborder=\\\\\"0\\\\\" allow=\\\\\"autoplay; fullscreen\\\\\" allowfullscreen=\\\\\"true\\\\\"&gt;&lt;/iframe&gt;\", \"width\": 360, \"scrolling\": false, \"height\": 360}, \"author_flair_template_id\": \"e0fb04a0-3feb-11e8-b0b7-0ef947828ac4\", \"is_original_content\": false, \"user_reports\": [], \"secure_media\": {\"type\": \"streamable.com\", \"oembed\": {\"provider_url\": \"https://streamable.com\", \"description\": \"Check out this video on Streamable using your phone, tablet or desktop.\", \"title\": \"Streamable - free video publishing\", \"type\": \"video\", \"thumbnail_width\": 720, \"height\": 360, \"width\": 360, \"html\": \"&lt;iframe class=\\\\\"embedly-embed\\\\\" src=\\\\\"https://cdn.embedly.com/widgets/media.html?src=https%3A%2F%2Fstreamable.com%2Fo%2Fnz2hf&amp;url=https%3A%2F%2Fstreamable.com%2Fnz2hf&amp;image=https%3A%2F%2Fcdn-b-east.streamable.com%2Fimage%2Fnz2hf.jpg%3Ftoken%3DQsD9Jt_x4QwjgjqfiFrQ3g%26expires%3D1565050140&amp;key=ed8fa8699ce04833838e66ce79ba05f1&amp;type=text%2Fhtml&amp;schema=streamable\\\\\" width=\\\\\"360\\\\\" height=\\\\\"360\\\\\" scrolling=\\\\\"no\\\\\" frameborder=\\\\\"0\\\\\" allow=\\\\\"autoplay; fullscreen\\\\\" allowfullscreen=\\\\\"true\\\\\"&gt;&lt;/iframe&gt;\", \"version\": \"1.0\", \"provider_name\": \"Streamable\", \"thumbnail_url\": \"https://cdn-b-east.streamable.com/image/nz2hf.jpg?token=QsD9Jt_x4QwjgjqfiFrQ3g&amp;expires=1565050140\", \"thumbnail_height\": 720}}, \"is_reddit_media_domain\": false, \"is_meta\": false, \"category\": null, \"secure_media_embed\": {\"content\": \"&lt;iframe class=\\\\\"embedly-embed\\\\\" src=\\\\\"https://cdn.embedly.com/widgets/media.html?src=https%3A%2F%2Fstreamable.com%2Fo%2Fnz2hf&amp;url=https%3A%2F%2Fstreamable.com%2Fnz2hf&amp;image=https%3A%2F%2Fcdn-b-east.streamable.com%2Fimage%2Fnz2hf.jpg%3Ftoken%3DQsD9Jt_x4QwjgjqfiFrQ3g%26expires%3D1565050140&amp;key=ed8fa8699ce04833838e66ce79ba05f1&amp;type=text%2Fhtml&amp;schema=streamable\\\\\" width=\\\\\"360\\\\\" height=\\\\\"360\\\\\" scrolling=\\\\\"no\\\\\" frameborder=\\\\\"0\\\\\" allow=\\\\\"autoplay; fullscreen\\\\\" allowfullscreen=\\\\\"true\\\\\"&gt;&lt;/iframe&gt;\", \"width\": 360, \"scrolling\": false, \"media_domain_url\": \"https://www.redditmedia.com/mediaembed/cmhtbc\", \"height\": 360}, \"link_flair_text\": \"Highlights\", \"can_mod_post\": false, \"score\": 3968, \"approved_by\": null, \"thumbnail\": \"\", \"edited\": false, \"author_flair_css_class\": \"Raptors1\", \"author_flair_richtext\": [], \"gildings\": {}, \"content_categories\": null, \"is_self\": false, \"mod_note\": null, \"created\": 1565071784.0, \"link_flair_type\": \"text\", \"wls\": 6, \"banned_by\": null, \"author_flair_type\": \"text\", \"domain\": \"streamable.com\", \"allow_live_comments\": true, \"selftext_html\": null, \"likes\": null, \"suggested_sort\": null, \"banned_at_utc\": null, \"view_count\": null, \"archived\": false, \"no_follow\": false, \"is_crosspostable\": false, \"pinned\": false, \"over_18\": false, \"all_awardings\": [], \"media_only\": false, \"can_gild\": false, \"spoiler\": false, \"locked\": false, \"author_flair_text\": \"Raptors\", \"visited\": false, \"num_reports\": null, \"distinguished\": null, \"subreddit_id\": \"t5_2qo4s\", \"mod_reason_by\": null, \"removal_reason\": null, \"link_flair_background_color\": \"\", \"id\": \"cmhtbc\", \"is_robot_indexable\": true, \"report_reasons\": null, \"author\": \"Austin63867\", \"num_crossposts\": 0, \"num_comments\": 150, \"send_replies\": true, \"whitelist_status\": \"all_ads\", \"contest_mode\": false, \"mod_reports\": [], \"author_patreon_flair\": false, \"author_flair_text_color\": \"dark\", \"permalink\": \"/r/nba/comments/cmhtbc/popovich_jokes_about_hiring_tim_duncan_as_an/\", \"parent_whitelist_status\": \"all_ads\", \"stickied\": false, \"url\": \"https://streamable.com/nz2hf\", \"subreddit_subscribers\": 2573356, \"created_utc\": 1565042984.0, \"discussion_type\": null, \"media\": {\"type\": \"streamable.com\", \"oembed\": {\"provider_url\": \"https://streamable.com\", \"description\": \"Check out this video on Streamable using your phone, tablet or desktop.\", \"title\": \"Streamable - free video publishing\", \"type\": \"video\", \"thumbnail_width\": 720, \"height\": 360, \"width\": 360, \"html\": \"&lt;iframe class=\\\\\"embedly-embed\\\\\" src=\\\\\"https://cdn.embedly.com/widgets/media.html?src=https%3A%2F%2Fstreamable.com%2Fo%2Fnz2hf&amp;url=https%3A%2F%2Fstreamable.com%2Fnz2hf&amp;image=https%3A%2F%2Fcdn-b-east.streamable.com%2Fimage%2Fnz2hf.jpg%3Ftoken%3DQsD9Jt_x4QwjgjqfiFrQ3g%26expires%3D1565050140&amp;key=ed8fa8699ce04833838e66ce79ba05f1&amp;type=text%2Fhtml&amp;schema=streamable\\\\\" width=\\\\\"360\\\\\" height=\\\\\"360\\\\\" scrolling=\\\\\"no\\\\\" frameborder=\\\\\"0\\\\\" allow=\\\\\"autoplay; fullscreen\\\\\" allowfullscreen=\\\\\"true\\\\\"&gt;&lt;/iframe&gt;\", \"version\": \"1.0\", \"provider_name\": \"Streamable\", \"thumbnail_url\": \"https://cdn-b-east.streamable.com/image/nz2hf.jpg?token=QsD9Jt_x4QwjgjqfiFrQ3g&amp;expires=1565050140\", \"thumbnail_height\": 720}}, \"is_video\": false}}, {\"kind\": \"t3\", \"data\": {\"approved_at_utc\": null, \"subreddit\": \"nba\", \"selftext\": \"\", \"author_fullname\": \"t2_11kpuk\", \"saved\": false, \"mod_reason_title\": null, \"gilded\": 0, \"clicked\": false, \"title\": \"Wade shows his QB skills with the deep pass to Lebron for the 90 foot alley oop\", \"link_flair_richtext\": [], \"subreddit_name_prefixed\": \"r/nba\", \"hidden\": false, \"pwls\": 6, \"link_flair_css_class\": \"highlights\", \"downs\": 0, \"hide_score\": false, \"name\": \"t3_cmspgg\", \"quarantine\": false, \"link_flair_text_color\": \"dark\", \"author_flair_background_color\": null, \"subreddit_type\": \"public\", \"ups\": 132, \"total_awards_received\": 0, \"media_embed\": {\"content\": \"&lt;iframe class=\\\\\"embedly-embed\\\\\" src=\\\\\"https://cdn.embedly.com/widgets/media.html?src=https%3A%2F%2Fstreamable.com%2Fo%2F1rmpt&amp;url=https%3A%2F%2Fstreamable.com%2F1rmpt&amp;image=https%3A%2F%2Fcdn-b-east.streamable.com%2Fimage%2F1rmpt.jpg%3Ftoken%3DADT0aQKQnWTqayjX-EiWPQ%26expires%3D1565115420&amp;key=ed8fa8699ce04833838e66ce79ba05f1&amp;type=text%2Fhtml&amp;schema=streamable\\\\\" width=\\\\\"600\\\\\" height=\\\\\"338\\\\\" scrolling=\\\\\"no\\\\\" frameborder=\\\\\"0\\\\\" allow=\\\\\"autoplay; fullscreen\\\\\" allowfullscreen=\\\\\"true\\\\\"&gt;&lt;/iframe&gt;\", \"width\": 600, \"scrolling\": false, \"height\": 338}, \"author_flair_template_id\": \"71d9b198-b670-11e7-a125-0ea7dbaab890\", \"is_original_content\": false, \"user_reports\": [], \"secure_media\": {\"oembed\": {\"provider_url\": \"https://streamable.com\", \"description\": \"Check out this video on Streamable using your phone, tablet or desktop.\", \"title\": \"Streamable - free video publishing\", \"thumbnail_width\": 1280, \"height\": 338, \"width\": 600, \"html\": \"&lt;iframe class=\\\\\"embedly-embed\\\\\" src=\\\\\"https://cdn.embedly.com/widgets/media.html?src=https%3A%2F%2Fstreamable.com%2Fo%2F1rmpt&amp;url=https%3A%2F%2Fstreamable.com%2F1rmpt&amp;image=https%3A%2F%2Fcdn-b-east.streamable.com%2Fimage%2F1rmpt.jpg%3Ftoken%3DADT0aQKQnWTqayjX-EiWPQ%26expires%3D1565115420&amp;key=ed8fa8699ce04833838e66ce79ba05f1&amp;type=text%2Fhtml&amp;schema=streamable\\\\\" width=\\\\\"600\\\\\" height=\\\\\"338\\\\\" scrolling=\\\\\"no\\\\\" frameborder=\\\\\"0\\\\\" allow=\\\\\"autoplay; fullscreen\\\\\" allowfullscreen=\\\\\"true\\\\\"&gt;&lt;/iframe&gt;\", \"version\": \"1.0\", \"provider_name\": \"Streamable\", \"thumbnail_url\": \"https://cdn-b-east.streamable.com/image/1rmpt.jpg?token=ADT0aQKQnWTqayjX-EiWPQ&amp;expires=1565115420\", \"type\": \"video\", \"thumbnail_height\": 720}, \"type\": \"streamable.com\"}, \"is_reddit_media_domain\": false, \"is_meta\": false, \"category\": null, \"secure_media_embed\": {\"content\": \"&lt;iframe class=\\\\\"embedly-embed\\\\\" src=\\\\\"https://cdn.embedly.com/widgets/media.html?src=https%3A%2F%2Fstreamable.com%2Fo%2F1rmpt&amp;url=https%3A%2F%2Fstreamable.com%2F1rmpt&amp;image=https%3A%2F%2Fcdn-b-east.streamable.com%2Fimage%2F1rmpt.jpg%3Ftoken%3DADT0aQKQnWTqayjX-EiWPQ%26expires%3D1565115420&amp;key=ed8fa8699ce04833838e66ce79ba05f1&amp;type=text%2Fhtml&amp;schema=streamable\\\\\" width=\\\\\"600\\\\\" height=\\\\\"338\\\\\" scrolling=\\\\\"no\\\\\" frameborder=\\\\\"0\\\\\" allow=\\\\\"autoplay; fullscreen\\\\\" allowfullscreen=\\\\\"true\\\\\"&gt;&lt;/iframe&gt;\", \"width\": 600, \"scrolling\": false, \"media_domain_url\": \"https://www.redditmedia.com/mediaembed/cmspgg\", \"height\": 338}, \"link_flair_text\": \"Highlights\", \"can_mod_post\": false, \"score\": 132, \"approved_by\": null, \"thumbnail\": \"\", \"edited\": false, \"author_flair_css_class\": \"Cavaliers2\", \"author_flair_richtext\": [], \"gildings\": {}, \"content_categories\": null, \"is_self\": false, \"mod_note\": null, \"created\": 1565137297.0, \"link_flair_type\": \"text\", \"wls\": 6, \"banned_by\": null, \"author_flair_type\": \"text\", \"domain\": \"streamable.com\", \"allow_live_comments\": false, \"selftext_html\": null, \"likes\": null, \"suggested_sort\": null, \"banned_at_utc\": null, \"view_count\": null, \"archived\": false, \"no_follow\": false, \"is_crosspostable\": false, \"pinned\": false, \"over_18\": false, \"all_awardings\": [], \"media_only\": false, \"can_gild\": false, \"spoiler\": false, \"locked\": false, \"author_flair_text\": \"Cavaliers\", \"visited\": false, \"num_reports\": null, \"distinguished\": null, \"subreddit_id\": \"t5_2qo4s\", \"mod_reason_by\": null, \"removal_reason\": null, \"link_flair_background_color\": \"\", \"id\": \"cmspgg\", \"is_robot_indexable\": true, \"report_reasons\": null, \"author\": \"simocm11\", \"num_crossposts\": 0, \"num_comments\": 30, \"send_replies\": true, \"whitelist_status\": \"all_ads\", \"contest_mode\": false, \"mod_reports\": [], \"author_patreon_flair\": false, \"author_flair_text_color\": \"dark\", \"permalink\": \"/r/nba/comments/cmspgg/wade_shows_his_qb_skills_with_the_deep_pass_to/\", \"parent_whitelist_status\": \"all_ads\", \"stickied\": false, \"url\": \"https://streamable.com/1rmpt\", \"subreddit_subscribers\": 2573356, \"created_utc\": 1565108497.0, \"discussion_type\": null, \"media\": {\"oembed\": {\"provider_url\": \"https://streamable.com\", \"description\": \"Check out this video on Streamable using your phone, tablet or desktop.\", \"title\": \"Streamable - free video publishing\", \"thumbnail_width\": 1280, \"height\": 338, \"width\": 600, \"html\": \"&lt;iframe class=\\\\\"embedly-embed\\\\\" src=\\\\\"https://cdn.embedly.com/widgets/media.html?src=https%3A%2F%2Fstreamable.com%2Fo%2F1rmpt&amp;url=https%3A%2F%2Fstreamable.com%2F1rmpt&amp;image=https%3A%2F%2Fcdn-b-east.streamable.com%2Fimage%2F1rmpt.jpg%3Ftoken%3DADT0aQKQnWTqayjX-EiWPQ%26expires%3D1565115420&amp;key=ed8fa8699ce04833838e66ce79ba05f1&amp;type=text%2Fhtml&amp;schema=streamable\\\\\" width=\\\\\"600\\\\\" height=\\\\\"338\\\\\" scrolling=\\\\\"no\\\\\" frameborder=\\\\\"0\\\\\" allow=\\\\\"autoplay; fullscreen\\\\\" allowfullscreen=\\\\\"true\\\\\"&gt;&lt;/iframe&gt;\", \"version\": \"1.0\", \"provider_name\": \"Streamable\", \"thumbnail_url\": \"https://cdn-b-east.streamable.com/image/1rmpt.jpg?token=ADT0aQKQnWTqayjX-EiWPQ&amp;expires=1565115420\", \"type\": \"video\", \"thumbnail_height\": 720}, \"type\": \"streamable.com\"}, \"is_video\": false}}, {\"kind\": \"t3\", \"data\": {\"approved_at_utc\": null, \"subreddit\": \"nba\", \"selftext\": \"\", \"author_fullname\": \"t2_hk3mh\", \"saved\": false, \"mod_reason_title\": null, \"gilded\": 0, \"clicked\": false, \"title\": \"Allen Iverson\\'s amazing connections with Vince Carter during exhibition games.\", \"link_flair_richtext\": [], \"subreddit_name_prefixed\": \"r/nba\", \"hidden\": false, \"pwls\": 6, \"link_flair_css_class\": \"highlights\", \"downs\": 0, \"hide_score\": false, \"name\": \"t3_cmpnap\", \"quarantine\": false, \"link_flair_text_color\": \"dark\", \"author_flair_background_color\": \"\", \"subreddit_type\": \"public\", \"ups\": 248, \"total_awards_received\": 0, \"media_embed\": {\"content\": \"&lt;iframe class=\\\\\"embedly-embed\\\\\" src=\\\\\"https://cdn.embedly.com/widgets/media.html?src=https%3A%2F%2Fstreamable.com%2Fo%2Fulqcj&amp;url=https%3A%2F%2Fstreamable.com%2Fulqcj&amp;image=https%3A%2F%2Fcdn-b-east.streamable.com%2Fimage%2Fulqcj.jpg%3Ftoken%3DRgwXKxReyOL9HnJ6mfBY9A%26expires%3D1565099760&amp;key=ed8fa8699ce04833838e66ce79ba05f1&amp;type=text%2Fhtml&amp;schema=streamable\\\\\" width=\\\\\"600\\\\\" height=\\\\\"305\\\\\" scrolling=\\\\\"no\\\\\" frameborder=\\\\\"0\\\\\" allow=\\\\\"autoplay; fullscreen\\\\\" allowfullscreen=\\\\\"true\\\\\"&gt;&lt;/iframe&gt;\", \"width\": 600, \"scrolling\": false, \"height\": 305}, \"author_flair_template_id\": null, \"is_original_content\": false, \"user_reports\": [], \"secure_media\": {\"type\": \"streamable.com\", \"oembed\": {\"provider_url\": \"https://streamable.com\", \"description\": \"Check out this video on Streamable using your phone, tablet or desktop.\", \"title\": \"Streamable - free video publishing\", \"type\": \"video\", \"thumbnail_width\": 1278, \"height\": 305, \"width\": 600, \"html\": \"&lt;iframe class=\\\\\"embedly-embed\\\\\" src=\\\\\"https://cdn.embedly.com/widgets/media.html?src=https%3A%2F%2Fstreamable.com%2Fo%2Fulqcj&amp;url=https%3A%2F%2Fstreamable.com%2Fulqcj&amp;image=https%3A%2F%2Fcdn-b-east.streamable.com%2Fimage%2Fulqcj.jpg%3Ftoken%3DRgwXKxReyOL9HnJ6mfBY9A%26expires%3D1565099760&amp;key=ed8fa8699ce04833838e66ce79ba05f1&amp;type=text%2Fhtml&amp;schema=streamable\\\\\" width=\\\\\"600\\\\\" height=\\\\\"305\\\\\" scrolling=\\\\\"no\\\\\" frameborder=\\\\\"0\\\\\" allow=\\\\\"autoplay; fullscreen\\\\\" allowfullscreen=\\\\\"true\\\\\"&gt;&lt;/iframe&gt;\", \"version\": \"1.0\", \"provider_name\": \"Streamable\", \"thumbnail_url\": \"https://cdn-b-east.streamable.com/image/ulqcj.jpg?token=RgwXKxReyOL9HnJ6mfBY9A&amp;expires=1565099760\", \"thumbnail_height\": 650}}, \"is_reddit_media_domain\": false, \"is_meta\": false, \"category\": null, \"secure_media_embed\": {\"content\": \"&lt;iframe class=\\\\\"embedly-embed\\\\\" src=\\\\\"https://cdn.embedly.com/widgets/media.html?src=https%3A%2F%2Fstreamable.com%2Fo%2Fulqcj&amp;url=https%3A%2F%2Fstreamable.com%2Fulqcj&amp;image=https%3A%2F%2Fcdn-b-east.streamable.com%2Fimage%2Fulqcj.jpg%3Ftoken%3DRgwXKxReyOL9HnJ6mfBY9A%26expires%3D1565099760&amp;key=ed8fa8699ce04833838e66ce79ba05f1&amp;type=text%2Fhtml&amp;schema=streamable\\\\\" width=\\\\\"600\\\\\" height=\\\\\"305\\\\\" scrolling=\\\\\"no\\\\\" frameborder=\\\\\"0\\\\\" allow=\\\\\"autoplay; fullscreen\\\\\" allowfullscreen=\\\\\"true\\\\\"&gt;&lt;/iframe&gt;\", \"width\": 600, \"scrolling\": false, \"media_domain_url\": \"https://www.redditmedia.com/mediaembed/cmpnap\", \"height\": 305}, \"link_flair_text\": \"Highlights\", \"can_mod_post\": false, \"score\": 248, \"approved_by\": null, \"thumbnail\": \"\", \"edited\": false, \"author_flair_css_class\": \"Supersonics1\", \"author_flair_richtext\": [], \"gildings\": {}, \"content_categories\": null, \"is_self\": false, \"mod_note\": null, \"created\": 1565121544.0, \"link_flair_type\": \"text\", \"wls\": 6, \"banned_by\": null, \"author_flair_type\": \"text\", \"domain\": \"streamable.com\", \"allow_live_comments\": false, \"selftext_html\": null, \"likes\": null, \"suggested_sort\": null, \"banned_at_utc\": null, \"view_count\": null, \"archived\": false, \"no_follow\": false, \"is_crosspostable\": false, \"pinned\": false, \"over_18\": false, \"all_awardings\": [], \"media_only\": false, \"can_gild\": false, \"spoiler\": false, \"locked\": false, \"author_flair_text\": \"Supersonics\", \"visited\": false, \"num_reports\": null, \"distinguished\": null, \"subreddit_id\": \"t5_2qo4s\", \"mod_reason_by\": null, \"removal_reason\": null, \"link_flair_background_color\": \"\", \"id\": \"cmpnap\", \"is_robot_indexable\": true, \"report_reasons\": null, \"author\": \"WhenMachinesCry\", \"num_crossposts\": 0, \"num_comments\": 35, \"send_replies\": true, \"whitelist_status\": \"all_ads\", \"contest_mode\": false, \"mod_reports\": [], \"author_patreon_flair\": false, \"author_flair_text_color\": \"dark\", \"permalink\": \"/r/nba/comments/cmpnap/allen_iversons_amazing_connections_with_vince/\", \"parent_whitelist_status\": \"all_ads\", \"stickied\": false, \"url\": \"https://streamable.com/ulqcj\", \"subreddit_subscribers\": 2573356, \"created_utc\": 1565092744.0, \"discussion_type\": null, \"media\": {\"type\": \"streamable.com\", \"oembed\": {\"provider_url\": \"https://streamable.com\", \"description\": \"Check out this video on Streamable using your phone, tablet or desktop.\", \"title\": \"Streamable - free video publishing\", \"type\": \"video\", \"thumbnail_width\": 1278, \"height\": 305, \"width\": 600, \"html\": \"&lt;iframe class=\\\\\"embedly-embed\\\\\" src=\\\\\"https://cdn.embedly.com/widgets/media.html?src=https%3A%2F%2Fstreamable.com%2Fo%2Fulqcj&amp;url=https%3A%2F%2Fstreamable.com%2Fulqcj&amp;image=https%3A%2F%2Fcdn-b-east.streamable.com%2Fimage%2Fulqcj.jpg%3Ftoken%3DRgwXKxReyOL9HnJ6mfBY9A%26expires%3D1565099760&amp;key=ed8fa8699ce04833838e66ce79ba05f1&amp;type=text%2Fhtml&amp;schema=streamable\\\\\" width=\\\\\"600\\\\\" height=\\\\\"305\\\\\" scrolling=\\\\\"no\\\\\" frameborder=\\\\\"0\\\\\" allow=\\\\\"autoplay; fullscreen\\\\\" allowfullscreen=\\\\\"true\\\\\"&gt;&lt;/iframe&gt;\", \"version\": \"1.0\", \"provider_name\": \"Streamable\", \"thumbnail_url\": \"https://cdn-b-east.streamable.com/image/ulqcj.jpg?token=RgwXKxReyOL9HnJ6mfBY9A&amp;expires=1565099760\", \"thumbnail_height\": 650}}, \"is_video\": false}}, {\"kind\": \"t3\", \"data\": {\"approved_at_utc\": null, \"subreddit\": \"nba\", \"selftext\": \"\", \"author_fullname\": \"t2_21a49h9t\", \"saved\": false, \"mod_reason_title\": null, \"gilded\": 0, \"clicked\": false, \"title\": \"JJ Redick throws down the only dunk of his pro career against the Hawks in the 2011 playoffs!\", \"link_flair_richtext\": [], \"subreddit_name_prefixed\": \"r/nba\", \"hidden\": false, \"pwls\": 6, \"link_flair_css_class\": \"highlights\", \"downs\": 0, \"hide_score\": false, \"name\": \"t3_cml15n\", \"quarantine\": false, \"link_flair_text_color\": \"dark\", \"author_flair_background_color\": null, \"subreddit_type\": \"public\", \"ups\": 1092, \"total_awards_received\": 0, \"media_embed\": {\"content\": \"&lt;iframe class=\\\\\"embedly-embed\\\\\" src=\\\\\"https://cdn.embedly.com/widgets/media.html?src=https%3A%2F%2Fstreamable.com%2Fo%2F8higk&amp;url=https%3A%2F%2Fstreamable.com%2F8higk&amp;image=https%3A%2F%2Fcdn-b-east.streamable.com%2Fimage%2F8higk.jpg%3Ftoken%3DFBmIeUjwNDZ7UzqG4ZZLWg%26expires%3D1565067420&amp;key=ed8fa8699ce04833838e66ce79ba05f1&amp;type=text%2Fhtml&amp;schema=streamable\\\\\" width=\\\\\"600\\\\\" height=\\\\\"338\\\\\" scrolling=\\\\\"no\\\\\" frameborder=\\\\\"0\\\\\" allow=\\\\\"autoplay; fullscreen\\\\\" allowfullscreen=\\\\\"true\\\\\"&gt;&lt;/iframe&gt;\", \"width\": 600, \"scrolling\": false, \"height\": 338}, \"author_flair_template_id\": \"db0be97e-3feb-11e8-aeab-0ee637d2d8dc\", \"is_original_content\": false, \"user_reports\": [], \"secure_media\": {\"oembed\": {\"provider_url\": \"https://streamable.com\", \"description\": \"Check out this video on Streamable using your phone, tablet or desktop.\", \"title\": \"Streamable - free video publishing\", \"thumbnail_width\": 1280, \"height\": 338, \"width\": 600, \"html\": \"&lt;iframe class=\\\\\"embedly-embed\\\\\" src=\\\\\"https://cdn.embedly.com/widgets/media.html?src=https%3A%2F%2Fstreamable.com%2Fo%2F8higk&amp;url=https%3A%2F%2Fstreamable.com%2F8higk&amp;image=https%3A%2F%2Fcdn-b-east.streamable.com%2Fimage%2F8higk.jpg%3Ftoken%3DFBmIeUjwNDZ7UzqG4ZZLWg%26expires%3D1565067420&amp;key=ed8fa8699ce04833838e66ce79ba05f1&amp;type=text%2Fhtml&amp;schema=streamable\\\\\" width=\\\\\"600\\\\\" height=\\\\\"338\\\\\" scrolling=\\\\\"no\\\\\" frameborder=\\\\\"0\\\\\" allow=\\\\\"autoplay; fullscreen\\\\\" allowfullscreen=\\\\\"true\\\\\"&gt;&lt;/iframe&gt;\", \"version\": \"1.0\", \"provider_name\": \"Streamable\", \"thumbnail_url\": \"https://cdn-b-east.streamable.com/image/8higk.jpg?token=FBmIeUjwNDZ7UzqG4ZZLWg&amp;expires=1565067420\", \"type\": \"video\", \"thumbnail_height\": 720}, \"type\": \"streamable.com\"}, \"is_reddit_media_domain\": false, \"is_meta\": false, \"category\": null, \"secure_media_embed\": {\"content\": \"&lt;iframe class=\\\\\"embedly-embed\\\\\" src=\\\\\"https://cdn.embedly.com/widgets/media.html?src=https%3A%2F%2Fstreamable.com%2Fo%2F8higk&amp;url=https%3A%2F%2Fstreamable.com%2F8higk&amp;image=https%3A%2F%2Fcdn-b-east.streamable.com%2Fimage%2F8higk.jpg%3Ftoken%3DFBmIeUjwNDZ7UzqG4ZZLWg%26expires%3D1565067420&amp;key=ed8fa8699ce04833838e66ce79ba05f1&amp;type=text%2Fhtml&amp;schema=streamable\\\\\" width=\\\\\"600\\\\\" height=\\\\\"338\\\\\" scrolling=\\\\\"no\\\\\" frameborder=\\\\\"0\\\\\" allow=\\\\\"autoplay; fullscreen\\\\\" allowfullscreen=\\\\\"true\\\\\"&gt;&lt;/iframe&gt;\", \"width\": 600, \"scrolling\": false, \"media_domain_url\": \"https://www.redditmedia.com/mediaembed/cml15n\", \"height\": 338}, \"link_flair_text\": \"Highlights\", \"can_mod_post\": false, \"score\": 1092, \"approved_by\": null, \"thumbnail\": \"\", \"edited\": false, \"author_flair_css_class\": \"76ers5\", \"author_flair_richtext\": [], \"gildings\": {}, \"content_categories\": null, \"is_self\": false, \"mod_note\": null, \"created\": 1565089070.0, \"link_flair_type\": \"text\", \"wls\": 6, \"banned_by\": null, \"author_flair_type\": \"text\", \"domain\": \"streamable.com\", \"allow_live_comments\": true, \"selftext_html\": null, \"likes\": null, \"suggested_sort\": null, \"banned_at_utc\": null, \"view_count\": null, \"archived\": false, \"no_follow\": false, \"is_crosspostable\": false, \"pinned\": false, \"over_18\": false, \"all_awardings\": [], \"media_only\": false, \"can_gild\": false, \"spoiler\": false, \"locked\": false, \"author_flair_text\": \"76ers\", \"visited\": false, \"num_reports\": null, \"distinguished\": null, \"subreddit_id\": \"t5_2qo4s\", \"mod_reason_by\": null, \"removal_reason\": null, \"link_flair_background_color\": \"\", \"id\": \"cml15n\", \"is_robot_indexable\": true, \"report_reasons\": null, \"author\": \"Pyromania1983\", \"num_crossposts\": 0, \"num_comments\": 144, \"send_replies\": true, \"whitelist_status\": \"all_ads\", \"contest_mode\": false, \"mod_reports\": [], \"author_patreon_flair\": false, \"author_flair_text_color\": \"dark\", \"permalink\": \"/r/nba/comments/cml15n/jj_redick_throws_down_the_only_dunk_of_his_pro/\", \"parent_whitelist_status\": \"all_ads\", \"stickied\": false, \"url\": \"https://streamable.com/8higk\", \"subreddit_subscribers\": 2573356, \"created_utc\": 1565060270.0, \"discussion_type\": null, \"media\": {\"oembed\": {\"provider_url\": \"https://streamable.com\", \"description\": \"Check out this video on Streamable using your phone, tablet or desktop.\", \"title\": \"Streamable - free video publishing\", \"thumbnail_width\": 1280, \"height\": 338, \"width\": 600, \"html\": \"&lt;iframe class=\\\\\"embedly-embed\\\\\" src=\\\\\"https://cdn.embedly.com/widgets/media.html?src=https%3A%2F%2Fstreamable.com%2Fo%2F8higk&amp;url=https%3A%2F%2Fstreamable.com%2F8higk&amp;image=https%3A%2F%2Fcdn-b-east.streamable.com%2Fimage%2F8higk.jpg%3Ftoken%3DFBmIeUjwNDZ7UzqG4ZZLWg%26expires%3D1565067420&amp;key=ed8fa8699ce04833838e66ce79ba05f1&amp;type=text%2Fhtml&amp;schema=streamable\\\\\" width=\\\\\"600\\\\\" height=\\\\\"338\\\\\" scrolling=\\\\\"no\\\\\" frameborder=\\\\\"0\\\\\" allow=\\\\\"autoplay; fullscreen\\\\\" allowfullscreen=\\\\\"true\\\\\"&gt;&lt;/iframe&gt;\", \"version\": \"1.0\", \"provider_name\": \"Streamable\", \"thumbnail_url\": \"https://cdn-b-east.streamable.com/image/8higk.jpg?token=FBmIeUjwNDZ7UzqG4ZZLWg&amp;expires=1565067420\", \"type\": \"video\", \"thumbnail_height\": 720}, \"type\": \"streamable.com\"}, \"is_video\": false}}, {\"kind\": \"t3\", \"data\": {\"approved_at_utc\": null, \"subreddit\": \"nba\", \"selftext\": \"\", \"author_fullname\": \"t2_k3zdk\", \"saved\": false, \"mod_reason_title\": null, \"gilded\": 0, \"clicked\": false, \"title\": \"Ben Simmons\\'s old Australian Accent\", \"link_flair_richtext\": [], \"subreddit_name_prefixed\": \"r/nba\", \"hidden\": false, \"pwls\": 6, \"link_flair_css_class\": null, \"downs\": 0, \"hide_score\": false, \"name\": \"t3_cmmoq6\", \"quarantine\": false, \"link_flair_text_color\": \"dark\", \"author_flair_background_color\": null, \"subreddit_type\": \"public\", \"ups\": 583, \"total_awards_received\": 0, \"media_embed\": {\"content\": \"&lt;iframe width=\\\\\"600\\\\\" height=\\\\\"338\\\\\" src=\\\\\"https://www.youtube.com/embed/U9MedN3zf8w?feature=oembed&amp;enablejsapi=1\\\\\" frameborder=\\\\\"0\\\\\" allow=\\\\\"accelerometer; autoplay; encrypted-media; gyroscope; picture-in-picture\\\\\" allowfullscreen&gt;&lt;/iframe&gt;\", \"width\": 600, \"scrolling\": false, \"height\": 338}, \"author_flair_template_id\": \"cc57a3a0-3feb-11e8-a765-0ee0c6cba6de\", \"is_original_content\": false, \"user_reports\": [], \"secure_media\": {\"type\": \"youtube.com\", \"oembed\": {\"provider_url\": \"https://www.youtube.com/\", \"version\": \"1.0\", \"title\": \"Ben Simmons: 2012 adidas Nations\", \"type\": \"video\", \"thumbnail_width\": 480, \"height\": 338, \"width\": 600, \"html\": \"&lt;iframe width=\\\\\"600\\\\\" height=\\\\\"338\\\\\" src=\\\\\"https://www.youtube.com/embed/U9MedN3zf8w?feature=oembed&amp;enablejsapi=1\\\\\" frameborder=\\\\\"0\\\\\" allow=\\\\\"accelerometer; autoplay; encrypted-media; gyroscope; picture-in-picture\\\\\" allowfullscreen&gt;&lt;/iframe&gt;\", \"author_name\": \"hoopsworld\", \"provider_name\": \"YouTube\", \"thumbnail_url\": \"https://i.ytimg.com/vi/U9MedN3zf8w/hqdefault.jpg\", \"thumbnail_height\": 360, \"author_url\": \"https://www.youtube.com/user/hoopsworld\"}}, \"is_reddit_media_domain\": false, \"is_meta\": false, \"category\": null, \"secure_media_embed\": {\"content\": \"&lt;iframe width=\\\\\"600\\\\\" height=\\\\\"338\\\\\" src=\\\\\"https://www.youtube.com/embed/U9MedN3zf8w?feature=oembed&amp;enablejsapi=1\\\\\" frameborder=\\\\\"0\\\\\" allow=\\\\\"accelerometer; autoplay; encrypted-media; gyroscope; picture-in-picture\\\\\" allowfullscreen&gt;&lt;/iframe&gt;\", \"width\": 600, \"scrolling\": false, \"media_domain_url\": \"https://www.redditmedia.com/mediaembed/cmmoq6\", \"height\": 338}, \"link_flair_text\": null, \"can_mod_post\": false, \"score\": 583, \"approved_by\": null, \"thumbnail\": \"\", \"edited\": false, \"author_flair_css_class\": \"Lakers2\", \"author_flair_richtext\": [], \"gildings\": {}, \"content_categories\": null, \"is_self\": false, \"mod_note\": null, \"created\": 1565099345.0, \"link_flair_type\": \"text\", \"wls\": 6, \"banned_by\": null, \"author_flair_type\": \"text\", \"domain\": \"youtube.com\", \"allow_live_comments\": false, \"selftext_html\": null, \"likes\": null, \"suggested_sort\": null, \"banned_at_utc\": null, \"view_count\": null, \"archived\": false, \"no_follow\": false, \"is_crosspostable\": false, \"pinned\": false, \"over_18\": false, \"all_awardings\": [], \"media_only\": false, \"can_gild\": false, \"spoiler\": false, \"locked\": false, \"author_flair_text\": \"Lakers\", \"visited\": false, \"num_reports\": null, \"distinguished\": null, \"subreddit_id\": \"t5_2qo4s\", \"mod_reason_by\": null, \"removal_reason\": null, \"link_flair_background_color\": \"\", \"id\": \"cmmoq6\", \"is_robot_indexable\": true, \"report_reasons\": null, \"author\": \"MrFundamentals101\", \"num_crossposts\": 0, \"num_comments\": 163, \"send_replies\": true, \"whitelist_status\": \"all_ads\", \"contest_mode\": false, \"mod_reports\": [], \"author_patreon_flair\": false, \"author_flair_text_color\": \"dark\", \"permalink\": \"/r/nba/comments/cmmoq6/ben_simmonss_old_australian_accent/\", \"parent_whitelist_status\": \"all_ads\", \"stickied\": false, \"url\": \"https://www.youtube.com/watch?v=U9MedN3zf8w\", \"subreddit_subscribers\": 2573356, \"created_utc\": 1565070545.0, \"discussion_type\": null, \"media\": {\"type\": \"youtube.com\", \"oembed\": {\"provider_url\": \"https://www.youtube.com/\", \"version\": \"1.0\", \"title\": \"Ben Simmons: 2012 adidas Nations\", \"type\": \"video\", \"thumbnail_width\": 480, \"height\": 338, \"width\": 600, \"html\": \"&lt;iframe width=\\\\\"600\\\\\" height=\\\\\"338\\\\\" src=\\\\\"https://www.youtube.com/embed/U9MedN3zf8w?feature=oembed&amp;enablejsapi=1\\\\\" frameborder=\\\\\"0\\\\\" allow=\\\\\"accelerometer; autoplay; encrypted-media; gyroscope; picture-in-picture\\\\\" allowfullscreen&gt;&lt;/iframe&gt;\", \"author_name\": \"hoopsworld\", \"provider_name\": \"YouTube\", \"thumbnail_url\": \"https://i.ytimg.com/vi/U9MedN3zf8w/hqdefault.jpg\", \"thumbnail_height\": 360, \"author_url\": \"https://www.youtube.com/user/hoopsworld\"}}, \"is_video\": false}}, {\"kind\": \"t3\", \"data\": {\"approved_at_utc\": null, \"subreddit\": \"nba\", \"selftext\": \"\", \"author_fullname\": \"t2_35ttzcb7\", \"saved\": false, \"mod_reason_title\": null, \"gilded\": 0, \"clicked\": false, \"title\": \"LeBron raps to Eminem\\\\u2019s Way I Am before a Heat game\", \"link_flair_richtext\": [], \"subreddit_name_prefixed\": \"r/nba\", \"hidden\": false, \"pwls\": 6, \"link_flair_css_class\": \"highlights\", \"downs\": 0, \"hide_score\": false, \"name\": \"t3_cmq9jb\", \"quarantine\": false, \"link_flair_text_color\": \"dark\", \"author_flair_background_color\": null, \"subreddit_type\": \"public\", \"ups\": 152, \"total_awards_received\": 0, \"media_embed\": {\"content\": \"&lt;iframe class=\\\\\"embedly-embed\\\\\" src=\\\\\"https://cdn.embedly.com/widgets/media.html?src=https%3A%2F%2Fstreamable.com%2Fo%2F3j8ms&amp;url=https%3A%2F%2Fstreamable.com%2F3j8ms&amp;image=https%3A%2F%2Fcdn-b-east.streamable.com%2Fimage%2F3j8ms.jpg%3Ftoken%3DaFJaRxs0EJ5SLdKZu2n_pw%26expires%3D1565103300&amp;key=2aa3c4d5f3de4f5b9120b660ad850dc9&amp;type=text%2Fhtml&amp;schema=streamable\\\\\" width=\\\\\"600\\\\\" height=\\\\\"338\\\\\" scrolling=\\\\\"no\\\\\" frameborder=\\\\\"0\\\\\" allow=\\\\\"autoplay; fullscreen\\\\\" allowfullscreen=\\\\\"true\\\\\"&gt;&lt;/iframe&gt;\", \"width\": 600, \"scrolling\": false, \"height\": 338}, \"author_flair_template_id\": \"c155b352-3feb-11e8-aa9f-0ee9b7140190\", \"is_original_content\": false, \"user_reports\": [], \"secure_media\": {\"type\": \"streamable.com\", \"oembed\": {\"provider_url\": \"https://streamable.com\", \"description\": \"Check out this video on Streamable using your phone, tablet or desktop.\", \"title\": \"LeBron Eminem\", \"type\": \"video\", \"thumbnail_width\": 640, \"height\": 338, \"width\": 600, \"html\": \"&lt;iframe class=\\\\\"embedly-embed\\\\\" src=\\\\\"https://cdn.embedly.com/widgets/media.html?src=https%3A%2F%2Fstreamable.com%2Fo%2F3j8ms&amp;url=https%3A%2F%2Fstreamable.com%2F3j8ms&amp;image=https%3A%2F%2Fcdn-b-east.streamable.com%2Fimage%2F3j8ms.jpg%3Ftoken%3DaFJaRxs0EJ5SLdKZu2n_pw%26expires%3D1565103300&amp;key=2aa3c4d5f3de4f5b9120b660ad850dc9&amp;type=text%2Fhtml&amp;schema=streamable\\\\\" width=\\\\\"600\\\\\" height=\\\\\"338\\\\\" scrolling=\\\\\"no\\\\\" frameborder=\\\\\"0\\\\\" allow=\\\\\"autoplay; fullscreen\\\\\" allowfullscreen=\\\\\"true\\\\\"&gt;&lt;/iframe&gt;\", \"version\": \"1.0\", \"provider_name\": \"Streamable\", \"thumbnail_url\": \"https://cdn-b-east.streamable.com/image/3j8ms.jpg?token=aFJaRxs0EJ5SLdKZu2n_pw&amp;expires=1565103300\", \"thumbnail_height\": 360}}, \"is_reddit_media_domain\": false, \"is_meta\": false, \"category\": null, \"secure_media_embed\": {\"content\": \"&lt;iframe class=\\\\\"embedly-embed\\\\\" src=\\\\\"https://cdn.embedly.com/widgets/media.html?src=https%3A%2F%2Fstreamable.com%2Fo%2F3j8ms&amp;url=https%3A%2F%2Fstreamable.com%2F3j8ms&amp;image=https%3A%2F%2Fcdn-b-east.streamable.com%2Fimage%2F3j8ms.jpg%3Ftoken%3DaFJaRxs0EJ5SLdKZu2n_pw%26expires%3D1565103300&amp;key=2aa3c4d5f3de4f5b9120b660ad850dc9&amp;type=text%2Fhtml&amp;schema=streamable\\\\\" width=\\\\\"600\\\\\" height=\\\\\"338\\\\\" scrolling=\\\\\"no\\\\\" frameborder=\\\\\"0\\\\\" allow=\\\\\"autoplay; fullscreen\\\\\" allowfullscreen=\\\\\"true\\\\\"&gt;&lt;/iframe&gt;\", \"width\": 600, \"scrolling\": false, \"media_domain_url\": \"https://www.redditmedia.com/mediaembed/cmq9jb\", \"height\": 338}, \"link_flair_text\": \"Highlights\", \"can_mod_post\": false, \"score\": 152, \"approved_by\": null, \"thumbnail\": \"\", \"edited\": false, \"author_flair_css_class\": \"Cavaliers5\", \"author_flair_richtext\": [], \"gildings\": {}, \"content_categories\": null, \"is_self\": false, \"mod_note\": null, \"created\": 1565125164.0, \"link_flair_type\": \"text\", \"wls\": 6, \"banned_by\": null, \"author_flair_type\": \"text\", \"domain\": \"streamable.com\", \"allow_live_comments\": false, \"selftext_html\": null, \"likes\": null, \"suggested_sort\": null, \"banned_at_utc\": null, \"view_count\": null, \"archived\": false, \"no_follow\": false, \"is_crosspostable\": false, \"pinned\": false, \"over_18\": false, \"all_awardings\": [], \"media_only\": false, \"can_gild\": false, \"spoiler\": false, \"locked\": false, \"author_flair_text\": \"Cavaliers\", \"visited\": false, \"num_reports\": null, \"distinguished\": null, \"subreddit_id\": \"t5_2qo4s\", \"mod_reason_by\": null, \"removal_reason\": null, \"link_flair_background_color\": \"\", \"id\": \"cmq9jb\", \"is_robot_indexable\": true, \"report_reasons\": null, \"author\": \"crispyiress\", \"num_crossposts\": 1, \"num_comments\": 56, \"send_replies\": true, \"whitelist_status\": \"all_ads\", \"contest_mode\": false, \"mod_reports\": [], \"author_patreon_flair\": false, \"author_flair_text_color\": \"dark\", \"permalink\": \"/r/nba/comments/cmq9jb/lebron_raps_to_eminems_way_i_am_before_a_heat_game/\", \"parent_whitelist_status\": \"all_ads\", \"stickied\": false, \"url\": \"https://streamable.com/3j8ms\", \"subreddit_subscribers\": 2573356, \"created_utc\": 1565096364.0, \"discussion_type\": null, \"media\": {\"type\": \"streamable.com\", \"oembed\": {\"provider_url\": \"https://streamable.com\", \"description\": \"Check out this video on Streamable using your phone, tablet or desktop.\", \"title\": \"LeBron Eminem\", \"type\": \"video\", \"thumbnail_width\": 640, \"height\": 338, \"width\": 600, \"html\": \"&lt;iframe class=\\\\\"embedly-embed\\\\\" src=\\\\\"https://cdn.embedly.com/widgets/media.html?src=https%3A%2F%2Fstreamable.com%2Fo%2F3j8ms&amp;url=https%3A%2F%2Fstreamable.com%2F3j8ms&amp;image=https%3A%2F%2Fcdn-b-east.streamable.com%2Fimage%2F3j8ms.jpg%3Ftoken%3DaFJaRxs0EJ5SLdKZu2n_pw%26expires%3D1565103300&amp;key=2aa3c4d5f3de4f5b9120b660ad850dc9&amp;type=text%2Fhtml&amp;schema=streamable\\\\\" width=\\\\\"600\\\\\" height=\\\\\"338\\\\\" scrolling=\\\\\"no\\\\\" frameborder=\\\\\"0\\\\\" allow=\\\\\"autoplay; fullscreen\\\\\" allowfullscreen=\\\\\"true\\\\\"&gt;&lt;/iframe&gt;\", \"version\": \"1.0\", \"provider_name\": \"Streamable\", \"thumbnail_url\": \"https://cdn-b-east.streamable.com/image/3j8ms.jpg?token=aFJaRxs0EJ5SLdKZu2n_pw&amp;expires=1565103300\", \"thumbnail_height\": 360}}, \"is_video\": false}}, {\"kind\": \"t3\", \"data\": {\"approved_at_utc\": null, \"subreddit\": \"nba\", \"selftext\": \"\", \"author_fullname\": \"t2_3r2pj\", \"saved\": false, \"mod_reason_title\": null, \"gilded\": 0, \"clicked\": false, \"title\": \"7-Time NBA All Star Joe Johnson WENT OFF this weekend in the BIG3 league\", \"link_flair_richtext\": [], \"subreddit_name_prefixed\": \"r/nba\", \"hidden\": false, \"pwls\": 6, \"link_flair_css_class\": null, \"downs\": 0, \"hide_score\": false, \"name\": \"t3_cmsxys\", \"quarantine\": false, \"link_flair_text_color\": \"dark\", \"author_flair_background_color\": null, \"subreddit_type\": \"public\", \"ups\": 75, \"total_awards_received\": 0, \"media_embed\": {\"content\": \"&lt;iframe width=\\\\\"600\\\\\" height=\\\\\"338\\\\\" src=\\\\\"https://www.youtube.com/embed/jSq-mvszFvk?feature=oembed&amp;enablejsapi=1\\\\\" frameborder=\\\\\"0\\\\\" allow=\\\\\"accelerometer; autoplay; encrypted-media; gyroscope; picture-in-picture\\\\\" allowfullscreen&gt;&lt;/iframe&gt;\", \"width\": 600, \"scrolling\": false, \"height\": 338}, \"author_flair_template_id\": null, \"is_original_content\": false, \"user_reports\": [], \"secure_media\": {\"type\": \"youtube.com\", \"oembed\": {\"provider_url\": \"https://www.youtube.com/\", \"version\": \"1.0\", \"title\": \"Season 3 Week 7 | 3 Headed Monsters vs. Triplets | Highlights\", \"type\": \"video\", \"thumbnail_width\": 480, \"height\": 338, \"width\": 600, \"html\": \"&lt;iframe width=\\\\\"600\\\\\" height=\\\\\"338\\\\\" src=\\\\\"https://www.youtube.com/embed/jSq-mvszFvk?feature=oembed&amp;enablejsapi=1\\\\\" frameborder=\\\\\"0\\\\\" allow=\\\\\"accelerometer; autoplay; encrypted-media; gyroscope; picture-in-picture\\\\\" allowfullscreen&gt;&lt;/iframe&gt;\", \"author_name\": \"BIG3 Basketball\", \"provider_name\": \"YouTube\", \"thumbnail_url\": \"https://i.ytimg.com/vi/jSq-mvszFvk/hqdefault.jpg\", \"thumbnail_height\": 360, \"author_url\": \"https://www.youtube.com/channel/UCk5rsbZv85KxI55BKzZ3KPA\"}}, \"is_reddit_media_domain\": false, \"is_meta\": false, \"category\": null, \"secure_media_embed\": {\"content\": \"&lt;iframe width=\\\\\"600\\\\\" height=\\\\\"338\\\\\" src=\\\\\"https://www.youtube.com/embed/jSq-mvszFvk?feature=oembed&amp;enablejsapi=1\\\\\" frameborder=\\\\\"0\\\\\" allow=\\\\\"accelerometer; autoplay; encrypted-media; gyroscope; picture-in-picture\\\\\" allowfullscreen&gt;&lt;/iframe&gt;\", \"width\": 600, \"scrolling\": false, \"media_domain_url\": \"https://www.redditmedia.com/mediaembed/cmsxys\", \"height\": 338}, \"link_flair_text\": null, \"can_mod_post\": false, \"score\": 75, \"approved_by\": null, \"thumbnail\": \"\", \"edited\": false, \"author_flair_css_class\": null, \"author_flair_richtext\": [], \"gildings\": {}, \"content_categories\": null, \"is_self\": false, \"mod_note\": null, \"created\": 1565138408.0, \"link_flair_type\": \"text\", \"wls\": 6, \"banned_by\": null, \"author_flair_type\": \"text\", \"domain\": \"youtube.com\", \"allow_live_comments\": true, \"selftext_html\": null, \"likes\": null, \"suggested_sort\": null, \"banned_at_utc\": null, \"view_count\": null, \"archived\": false, \"no_follow\": false, \"is_crosspostable\": false, \"pinned\": false, \"over_18\": false, \"all_awardings\": [], \"media_only\": false, \"can_gild\": false, \"spoiler\": false, \"locked\": false, \"author_flair_text\": null, \"visited\": false, \"num_reports\": null, \"distinguished\": null, \"subreddit_id\": \"t5_2qo4s\", \"mod_reason_by\": null, \"removal_reason\": null, \"link_flair_background_color\": \"\", \"id\": \"cmsxys\", \"is_robot_indexable\": true, \"report_reasons\": null, \"author\": \"bam21\", \"num_crossposts\": 0, \"num_comments\": 34, \"send_replies\": true, \"whitelist_status\": \"all_ads\", \"contest_mode\": false, \"mod_reports\": [], \"author_patreon_flair\": false, \"author_flair_text_color\": null, \"permalink\": \"/r/nba/comments/cmsxys/7time_nba_all_star_joe_johnson_went_off_this/\", \"parent_whitelist_status\": \"all_ads\", \"stickied\": false, \"url\": \"https://www.youtube.com/watch?v=jSq-mvszFvk\", \"subreddit_subscribers\": 2573356, \"created_utc\": 1565109608.0, \"discussion_type\": null, \"media\": {\"type\": \"youtube.com\", \"oembed\": {\"provider_url\": \"https://www.youtube.com/\", \"version\": \"1.0\", \"title\": \"Season 3 Week 7 | 3 Headed Monsters vs. Triplets | Highlights\", \"type\": \"video\", \"thumbnail_width\": 480, \"height\": 338, \"width\": 600, \"html\": \"&lt;iframe width=\\\\\"600\\\\\" height=\\\\\"338\\\\\" src=\\\\\"https://www.youtube.com/embed/jSq-mvszFvk?feature=oembed&amp;enablejsapi=1\\\\\" frameborder=\\\\\"0\\\\\" allow=\\\\\"accelerometer; autoplay; encrypted-media; gyroscope; picture-in-picture\\\\\" allowfullscreen&gt;&lt;/iframe&gt;\", \"author_name\": \"BIG3 Basketball\", \"provider_name\": \"YouTube\", \"thumbnail_url\": \"https://i.ytimg.com/vi/jSq-mvszFvk/hqdefault.jpg\", \"thumbnail_height\": 360, \"author_url\": \"https://www.youtube.com/channel/UCk5rsbZv85KxI55BKzZ3KPA\"}}, \"is_video\": false}}], \"after\": \"t3_cmsxys\", \"before\": null}}'"
      ]
     },
     "execution_count": 6,
     "metadata": {},
     "output_type": "execute_result"
    }
   ],
   "source": [
    "req.content"
   ]
  },
  {
   "cell_type": "markdown",
   "metadata": {},
   "source": [
    "#### Sample URL with a query"
   ]
  },
  {
   "cell_type": "code",
   "execution_count": 7,
   "metadata": {},
   "outputs": [],
   "source": [
    "req2 = requests.get(url, headers = {'User-agent' : 'Jonnel'}, params = {'before' : 't3_c5rayb'})"
   ]
  },
  {
   "cell_type": "code",
   "execution_count": 8,
   "metadata": {},
   "outputs": [
    {
     "data": {
      "text/plain": [
       "'https://www.reddit.com/r/nba.json?before=t3_c5rayb'"
      ]
     },
     "execution_count": 8,
     "metadata": {},
     "output_type": "execute_result"
    }
   ],
   "source": [
    "req2.url"
   ]
  },
  {
   "cell_type": "markdown",
   "metadata": {},
   "source": [
    "##### Everything after the '?' symbol in the URL is a query for specific information from the API. You need to check the API documentation to see what variables you can use to grab what information."
   ]
  },
  {
   "cell_type": "code",
   "execution_count": 9,
   "metadata": {
    "scrolled": false
   },
   "outputs": [
    {
     "data": {
      "text/plain": [
       "'https://www.reddit.com/r/nba.json?before=t3_c5rayb'"
      ]
     },
     "execution_count": 9,
     "metadata": {},
     "output_type": "execute_result"
    }
   ],
   "source": [
    "req2.url"
   ]
  },
  {
   "cell_type": "code",
   "execution_count": 10,
   "metadata": {},
   "outputs": [
    {
     "data": {
      "text/plain": [
       "'{\"kind\": \"Listing\", \"data\": {\"modhash\": \"\", \"dist\": 0, \"children\": [], \"after\": null, \"before\": null}}'"
      ]
     },
     "execution_count": 10,
     "metadata": {},
     "output_type": "execute_result"
    }
   ],
   "source": [
    "req2.text"
   ]
  },
  {
   "cell_type": "markdown",
   "metadata": {},
   "source": [
    "### Another reason to not use pd.read_json()"
   ]
  },
  {
   "cell_type": "code",
   "execution_count": 11,
   "metadata": {},
   "outputs": [
    {
     "data": {
      "text/plain": [
       "'{\"kind\": \"Listing\", \"data\": {\"modhash\": \"\", \"dist\": 0, \"children\": [], \"after\": null, \"before\": null}}'"
      ]
     },
     "execution_count": 11,
     "metadata": {},
     "output_type": "execute_result"
    }
   ],
   "source": [
    "req2.text"
   ]
  },
  {
   "cell_type": "code",
   "execution_count": 12,
   "metadata": {},
   "outputs": [],
   "source": [
    "df = pd.read_json(req.text)"
   ]
  },
  {
   "cell_type": "code",
   "execution_count": 13,
   "metadata": {},
   "outputs": [
    {
     "data": {
      "text/html": [
       "<div>\n",
       "<style scoped>\n",
       "    .dataframe tbody tr th:only-of-type {\n",
       "        vertical-align: middle;\n",
       "    }\n",
       "\n",
       "    .dataframe tbody tr th {\n",
       "        vertical-align: top;\n",
       "    }\n",
       "\n",
       "    .dataframe thead th {\n",
       "        text-align: right;\n",
       "    }\n",
       "</style>\n",
       "<table border=\"1\" class=\"dataframe\">\n",
       "  <thead>\n",
       "    <tr style=\"text-align: right;\">\n",
       "      <th></th>\n",
       "      <th>kind</th>\n",
       "      <th>data</th>\n",
       "    </tr>\n",
       "  </thead>\n",
       "  <tbody>\n",
       "    <tr>\n",
       "      <th>after</th>\n",
       "      <td>Listing</td>\n",
       "      <td>t3_cmsxys</td>\n",
       "    </tr>\n",
       "    <tr>\n",
       "      <th>before</th>\n",
       "      <td>Listing</td>\n",
       "      <td>None</td>\n",
       "    </tr>\n",
       "    <tr>\n",
       "      <th>children</th>\n",
       "      <td>Listing</td>\n",
       "      <td>[{'kind': 't3', 'data': {'approved_at_utc': No...</td>\n",
       "    </tr>\n",
       "    <tr>\n",
       "      <th>dist</th>\n",
       "      <td>Listing</td>\n",
       "      <td>26</td>\n",
       "    </tr>\n",
       "    <tr>\n",
       "      <th>modhash</th>\n",
       "      <td>Listing</td>\n",
       "      <td></td>\n",
       "    </tr>\n",
       "  </tbody>\n",
       "</table>\n",
       "</div>"
      ],
      "text/plain": [
       "             kind                                               data\n",
       "after     Listing                                          t3_cmsxys\n",
       "before    Listing                                               None\n",
       "children  Listing  [{'kind': 't3', 'data': {'approved_at_utc': No...\n",
       "dist      Listing                                                 26\n",
       "modhash   Listing                                                   "
      ]
     },
     "execution_count": 13,
     "metadata": {},
     "output_type": "execute_result"
    }
   ],
   "source": [
    "df"
   ]
  },
  {
   "cell_type": "code",
   "execution_count": 14,
   "metadata": {},
   "outputs": [
    {
     "data": {
      "text/plain": [
       "dict_keys(['kind', 'data'])"
      ]
     },
     "execution_count": 14,
     "metadata": {},
     "output_type": "execute_result"
    }
   ],
   "source": [
    "json.loads(req.content).keys()"
   ]
  },
  {
   "cell_type": "markdown",
   "metadata": {},
   "source": [
    "### Let's check out our request content"
   ]
  },
  {
   "cell_type": "code",
   "execution_count": 15,
   "metadata": {},
   "outputs": [
    {
     "data": {
      "text/plain": [
       "b'{\"kind\": \"Listing\", \"data\": {\"modhash\": \"\", \"dist\": 0, \"children\": [], \"after\": null, \"before\": null}}'"
      ]
     },
     "execution_count": 15,
     "metadata": {},
     "output_type": "execute_result"
    }
   ],
   "source": [
    "# Lots of crazy bytecode \n",
    "\n",
    "req2.content"
   ]
  },
  {
   "cell_type": "markdown",
   "metadata": {},
   "source": [
    "#### Convert it to json and navigate through the json to the data we want"
   ]
  },
  {
   "cell_type": "code",
   "execution_count": 16,
   "metadata": {},
   "outputs": [],
   "source": [
    "page_pull = req2.json()"
   ]
  },
  {
   "cell_type": "code",
   "execution_count": 17,
   "metadata": {},
   "outputs": [
    {
     "data": {
      "text/plain": [
       "{'kind': 'Listing',\n",
       " 'data': {'modhash': '',\n",
       "  'dist': 0,\n",
       "  'children': [],\n",
       "  'after': None,\n",
       "  'before': None}}"
      ]
     },
     "execution_count": 17,
     "metadata": {},
     "output_type": "execute_result"
    }
   ],
   "source": [
    "page_pull"
   ]
  },
  {
   "cell_type": "code",
   "execution_count": 18,
   "metadata": {},
   "outputs": [
    {
     "data": {
      "text/plain": [
       "dict_keys(['kind', 'data'])"
      ]
     },
     "execution_count": 18,
     "metadata": {},
     "output_type": "execute_result"
    }
   ],
   "source": [
    "page_pull.keys()"
   ]
  },
  {
   "cell_type": "code",
   "execution_count": 19,
   "metadata": {
    "scrolled": true
   },
   "outputs": [
    {
     "data": {
      "text/plain": [
       "{'modhash': '', 'dist': 0, 'children': [], 'after': None, 'before': None}"
      ]
     },
     "execution_count": 19,
     "metadata": {},
     "output_type": "execute_result"
    }
   ],
   "source": [
    "page_pull['data']"
   ]
  },
  {
   "cell_type": "code",
   "execution_count": 20,
   "metadata": {},
   "outputs": [
    {
     "data": {
      "text/plain": [
       "dict_keys(['modhash', 'dist', 'children', 'after', 'before'])"
      ]
     },
     "execution_count": 20,
     "metadata": {},
     "output_type": "execute_result"
    }
   ],
   "source": [
    "page_pull['data'].keys()"
   ]
  },
  {
   "cell_type": "code",
   "execution_count": 21,
   "metadata": {},
   "outputs": [
    {
     "data": {
      "text/plain": [
       "[]"
      ]
     },
     "execution_count": 21,
     "metadata": {},
     "output_type": "execute_result"
    }
   ],
   "source": [
    "page_pull['data']['children']"
   ]
  },
  {
   "cell_type": "code",
   "execution_count": 22,
   "metadata": {
    "scrolled": true
   },
   "outputs": [
    {
     "ename": "IndexError",
     "evalue": "list index out of range",
     "output_type": "error",
     "traceback": [
      "\u001b[0;31m---------------------------------------------------------------------------\u001b[0m",
      "\u001b[0;31mIndexError\u001b[0m                                Traceback (most recent call last)",
      "\u001b[0;32m<ipython-input-22-dae50585bae7>\u001b[0m in \u001b[0;36m<module>\u001b[0;34m\u001b[0m\n\u001b[0;32m----> 1\u001b[0;31m \u001b[0mpage_pull\u001b[0m\u001b[0;34m[\u001b[0m\u001b[0;34m'data'\u001b[0m\u001b[0;34m]\u001b[0m\u001b[0;34m[\u001b[0m\u001b[0;34m'children'\u001b[0m\u001b[0;34m]\u001b[0m\u001b[0;34m[\u001b[0m\u001b[0;36m0\u001b[0m\u001b[0;34m]\u001b[0m\u001b[0;34m\u001b[0m\u001b[0;34m\u001b[0m\u001b[0m\n\u001b[0m",
      "\u001b[0;31mIndexError\u001b[0m: list index out of range"
     ]
    }
   ],
   "source": [
    "page_pull['data']['children'][0]"
   ]
  },
  {
   "cell_type": "code",
   "execution_count": 23,
   "metadata": {
    "scrolled": true
   },
   "outputs": [
    {
     "data": {
      "text/plain": [
       "0"
      ]
     },
     "execution_count": 23,
     "metadata": {},
     "output_type": "execute_result"
    }
   ],
   "source": [
    "len(page_pull['data']['children'])"
   ]
  },
  {
   "cell_type": "markdown",
   "metadata": {},
   "source": [
    "name, subreddit, selftext, title, num_comments, url, score"
   ]
  },
  {
   "cell_type": "code",
   "execution_count": 50,
   "metadata": {},
   "outputs": [],
   "source": [
    "# When you are indexing deeply into json, it can help to make variable names for certain levels of indexing\n",
    "# that you plan on reusing, to improve readability and make sure you don't make indexing errors as often\n",
    "\n",
    "post_list = page_pull['data']['children']"
   ]
  },
  {
   "cell_type": "code",
   "execution_count": 51,
   "metadata": {},
   "outputs": [
    {
     "data": {
      "text/plain": [
       "dict_keys(['kind', 'data'])"
      ]
     },
     "execution_count": 51,
     "metadata": {},
     "output_type": "execute_result"
    }
   ],
   "source": [
    "post_list[1].keys()"
   ]
  },
  {
   "cell_type": "code",
   "execution_count": 52,
   "metadata": {},
   "outputs": [
    {
     "name": "stdout",
     "output_type": "stream",
     "text": [
      "t3_c5qx6b\n",
      "t3_c5oy5m\n",
      "t3_c5pw9l\n",
      "t3_c5rayb\n",
      "t3_c5shdu\n",
      "t3_c5qc2k\n",
      "t3_c5oy6t\n",
      "t3_c5olzb\n",
      "t3_c5q8u4\n",
      "t3_c5ta9z\n",
      "t3_c5qwrb\n",
      "t3_c5q4pb\n",
      "t3_c5rax5\n",
      "t3_c5pfjd\n",
      "t3_c5p68t\n",
      "t3_c5ra92\n",
      "t3_c5qlr9\n",
      "t3_c5iu4g\n",
      "t3_c5oadk\n",
      "t3_c5ufj8\n",
      "t3_c5rnzj\n",
      "t3_c5rnbu\n",
      "t3_c5pnwq\n",
      "t3_c5pcj6\n",
      "t3_c5phw1\n",
      "t3_c5te75\n",
      "t3_c5p5zn\n"
     ]
    }
   ],
   "source": [
    "for post in post_list:\n",
    "    print(post['data']['name'])"
   ]
  },
  {
   "cell_type": "code",
   "execution_count": 53,
   "metadata": {},
   "outputs": [
    {
     "data": {
      "text/plain": [
       "'Game Threads Index + Daily Discussion (June 26, 2019)'"
      ]
     },
     "execution_count": 53,
     "metadata": {},
     "output_type": "execute_result"
    }
   ],
   "source": [
    "post_list[0]['data']['title']"
   ]
  },
  {
   "cell_type": "markdown",
   "metadata": {},
   "source": [
    "### Scrape and build a dictionary to make a dataframe"
   ]
  },
  {
   "cell_type": "code",
   "execution_count": 54,
   "metadata": {},
   "outputs": [],
   "source": [
    "# Sloppy way! Too much indexing in loop\n",
    "\n",
    "post_dict = {}\n",
    "\n",
    "for count, post in enumerate(post_list):\n",
    "    post_dict[post_list[count]['data']['name']] = [post_list[count]['data']['title'], post_list[count]['data']['num_comments']]"
   ]
  },
  {
   "cell_type": "code",
   "execution_count": 55,
   "metadata": {},
   "outputs": [],
   "source": [
    "# CLEAN WAY - using an indexer variable!!\n",
    "\n",
    "post_dict = {}\n",
    "\n",
    "for count, post in enumerate(post_list):\n",
    "    post_indexer = post_list[count]['data']\n",
    "    post_dict[post_indexer['name']] = [post_indexer['title'], post_indexer['num_comments']]"
   ]
  },
  {
   "cell_type": "code",
   "execution_count": 56,
   "metadata": {
    "scrolled": true
   },
   "outputs": [
    {
     "data": {
      "text/html": [
       "<div>\n",
       "<style scoped>\n",
       "    .dataframe tbody tr th:only-of-type {\n",
       "        vertical-align: middle;\n",
       "    }\n",
       "\n",
       "    .dataframe tbody tr th {\n",
       "        vertical-align: top;\n",
       "    }\n",
       "\n",
       "    .dataframe thead th {\n",
       "        text-align: right;\n",
       "    }\n",
       "</style>\n",
       "<table border=\"1\" class=\"dataframe\">\n",
       "  <thead>\n",
       "    <tr style=\"text-align: right;\">\n",
       "      <th></th>\n",
       "      <th>title</th>\n",
       "      <th>num_comments</th>\n",
       "    </tr>\n",
       "  </thead>\n",
       "  <tbody>\n",
       "    <tr>\n",
       "      <th>t3_c5qx6b</th>\n",
       "      <td>Game Threads Index + Daily Discussion (June 26...</td>\n",
       "      <td>20</td>\n",
       "    </tr>\n",
       "    <tr>\n",
       "      <th>t3_c5oy5m</th>\n",
       "      <td>[Serious Discussion] Season Review: Portland T...</td>\n",
       "      <td>114</td>\n",
       "    </tr>\n",
       "    <tr>\n",
       "      <th>t3_c5pw9l</th>\n",
       "      <td>Michael Jordan hits a Triple Clutch Layup</td>\n",
       "      <td>1076</td>\n",
       "    </tr>\n",
       "    <tr>\n",
       "      <th>t3_c5rayb</th>\n",
       "      <td>[Wojnarowski] Golden State Warriors star Kevin...</td>\n",
       "      <td>922</td>\n",
       "    </tr>\n",
       "    <tr>\n",
       "      <th>t3_c5shdu</th>\n",
       "      <td>PSA: Carmelo Anthony is at the same age as Vin...</td>\n",
       "      <td>181</td>\n",
       "    </tr>\n",
       "    <tr>\n",
       "      <th>t3_c5qc2k</th>\n",
       "      <td>DeMar DeRozan delivers a powerful message on m...</td>\n",
       "      <td>87</td>\n",
       "    </tr>\n",
       "    <tr>\n",
       "      <th>t3_c5oy6t</th>\n",
       "      <td>Andre Iguodala asked: Who's tougher to guard, ...</td>\n",
       "      <td>919</td>\n",
       "    </tr>\n",
       "    <tr>\n",
       "      <th>t3_c5olzb</th>\n",
       "      <td>The amount of confusion surrounding casual fan...</td>\n",
       "      <td>226</td>\n",
       "    </tr>\n",
       "    <tr>\n",
       "      <th>t3_c5q8u4</th>\n",
       "      <td>Kobe Bryant makes two defenders collide into e...</td>\n",
       "      <td>160</td>\n",
       "    </tr>\n",
       "    <tr>\n",
       "      <th>t3_c5ta9z</th>\n",
       "      <td>[Enes Kanter] I kind of feel like Zion is over...</td>\n",
       "      <td>410</td>\n",
       "    </tr>\n",
       "    <tr>\n",
       "      <th>t3_c5qwrb</th>\n",
       "      <td>[Leitereg] Kevin Durant unloads oceanfront Mal...</td>\n",
       "      <td>416</td>\n",
       "    </tr>\n",
       "    <tr>\n",
       "      <th>t3_c5q4pb</th>\n",
       "      <td>No one will actually consider them, but the Sa...</td>\n",
       "      <td>344</td>\n",
       "    </tr>\n",
       "    <tr>\n",
       "      <th>t3_c5rax5</th>\n",
       "      <td>[6MOTY Lou Williams] “When I see a rookie, I t...</td>\n",
       "      <td>88</td>\n",
       "    </tr>\n",
       "    <tr>\n",
       "      <th>t3_c5pfjd</th>\n",
       "      <td>23 years ago today: The 76ers selected Allen I...</td>\n",
       "      <td>218</td>\n",
       "    </tr>\n",
       "    <tr>\n",
       "      <th>t3_c5p68t</th>\n",
       "      <td>Giannis wants his girlfriend to help him grow ...</td>\n",
       "      <td>309</td>\n",
       "    </tr>\n",
       "    <tr>\n",
       "      <th>t3_c5ra92</th>\n",
       "      <td>Kevin Durant in good spirit</td>\n",
       "      <td>99</td>\n",
       "    </tr>\n",
       "    <tr>\n",
       "      <th>t3_c5qlr9</th>\n",
       "      <td>[Stein] Sad news, @BillSimmons. I've been stro...</td>\n",
       "      <td>162</td>\n",
       "    </tr>\n",
       "    <tr>\n",
       "      <th>t3_c5iu4g</th>\n",
       "      <td>Reddit users spent a total of $227.26 on gildi...</td>\n",
       "      <td>1401</td>\n",
       "    </tr>\n",
       "    <tr>\n",
       "      <th>t3_c5oadk</th>\n",
       "      <td>[OC] The 1981-82 Denver Nuggets had the best o...</td>\n",
       "      <td>202</td>\n",
       "    </tr>\n",
       "    <tr>\n",
       "      <th>t3_c5ufj8</th>\n",
       "      <td>Julius Randle responds to Enes Kanter</td>\n",
       "      <td>86</td>\n",
       "    </tr>\n",
       "    <tr>\n",
       "      <th>t3_c5rnzj</th>\n",
       "      <td>[Wojnarowski] Durant is still considering a nu...</td>\n",
       "      <td>214</td>\n",
       "    </tr>\n",
       "    <tr>\n",
       "      <th>t3_c5rnbu</th>\n",
       "      <td>[Arnovitz] The NBA is seeking feedback from te...</td>\n",
       "      <td>292</td>\n",
       "    </tr>\n",
       "    <tr>\n",
       "      <th>t3_c5pnwq</th>\n",
       "      <td>[Neubeck] Let me repeat something I said earli...</td>\n",
       "      <td>235</td>\n",
       "    </tr>\n",
       "    <tr>\n",
       "      <th>t3_c5pcj6</th>\n",
       "      <td>Cavs 80’s Night Intro</td>\n",
       "      <td>65</td>\n",
       "    </tr>\n",
       "    <tr>\n",
       "      <th>t3_c5phw1</th>\n",
       "      <td>December 17th, 1997. Kobe and Jordan’s first d...</td>\n",
       "      <td>75</td>\n",
       "    </tr>\n",
       "    <tr>\n",
       "      <th>t3_c5te75</th>\n",
       "      <td>[The Lowe Post] RJ Barrett is currently the hi...</td>\n",
       "      <td>47</td>\n",
       "    </tr>\n",
       "    <tr>\n",
       "      <th>t3_c5p5zn</th>\n",
       "      <td>Kareem Abdul-Jabbar in 1969: \"What I really wa...</td>\n",
       "      <td>37</td>\n",
       "    </tr>\n",
       "  </tbody>\n",
       "</table>\n",
       "</div>"
      ],
      "text/plain": [
       "                                                       title num_comments\n",
       "t3_c5qx6b  Game Threads Index + Daily Discussion (June 26...           20\n",
       "t3_c5oy5m  [Serious Discussion] Season Review: Portland T...          114\n",
       "t3_c5pw9l          Michael Jordan hits a Triple Clutch Layup         1076\n",
       "t3_c5rayb  [Wojnarowski] Golden State Warriors star Kevin...          922\n",
       "t3_c5shdu  PSA: Carmelo Anthony is at the same age as Vin...          181\n",
       "t3_c5qc2k  DeMar DeRozan delivers a powerful message on m...           87\n",
       "t3_c5oy6t  Andre Iguodala asked: Who's tougher to guard, ...          919\n",
       "t3_c5olzb  The amount of confusion surrounding casual fan...          226\n",
       "t3_c5q8u4  Kobe Bryant makes two defenders collide into e...          160\n",
       "t3_c5ta9z  [Enes Kanter] I kind of feel like Zion is over...          410\n",
       "t3_c5qwrb  [Leitereg] Kevin Durant unloads oceanfront Mal...          416\n",
       "t3_c5q4pb  No one will actually consider them, but the Sa...          344\n",
       "t3_c5rax5  [6MOTY Lou Williams] “When I see a rookie, I t...           88\n",
       "t3_c5pfjd  23 years ago today: The 76ers selected Allen I...          218\n",
       "t3_c5p68t  Giannis wants his girlfriend to help him grow ...          309\n",
       "t3_c5ra92                        Kevin Durant in good spirit           99\n",
       "t3_c5qlr9  [Stein] Sad news, @BillSimmons. I've been stro...          162\n",
       "t3_c5iu4g  Reddit users spent a total of $227.26 on gildi...         1401\n",
       "t3_c5oadk  [OC] The 1981-82 Denver Nuggets had the best o...          202\n",
       "t3_c5ufj8              Julius Randle responds to Enes Kanter           86\n",
       "t3_c5rnzj  [Wojnarowski] Durant is still considering a nu...          214\n",
       "t3_c5rnbu  [Arnovitz] The NBA is seeking feedback from te...          292\n",
       "t3_c5pnwq  [Neubeck] Let me repeat something I said earli...          235\n",
       "t3_c5pcj6                              Cavs 80’s Night Intro           65\n",
       "t3_c5phw1  December 17th, 1997. Kobe and Jordan’s first d...           75\n",
       "t3_c5te75  [The Lowe Post] RJ Barrett is currently the hi...           47\n",
       "t3_c5p5zn  Kareem Abdul-Jabbar in 1969: \"What I really wa...           37"
      ]
     },
     "execution_count": 56,
     "metadata": {},
     "output_type": "execute_result"
    }
   ],
   "source": [
    "df = pd.DataFrame(post_dict).T\n",
    "df.columns = ['title', 'num_comments']\n",
    "df"
   ]
  },
  {
   "cell_type": "markdown",
   "metadata": {},
   "source": [
    "## Put it in a function!"
   ]
  },
  {
   "cell_type": "code",
   "execution_count": 59,
   "metadata": {},
   "outputs": [],
   "source": [
    "# function to scrape reddit page (takes a reddit .json url)\n",
    "# returns posts \n",
    "\n",
    "headers = {'User-agent' : 'Jonnel'}\n",
    "\n",
    "def scraper_bike(url):\n",
    "    posts = []\n",
    "    after = {}\n",
    "\n",
    "    for page in range(40):\n",
    "        params = {'after' : after}\n",
    "        url = url\n",
    "        pagepull = requests.get(url = url, params = params, headers = headers)\n",
    "        page_dict = pagepull.json()\n",
    "        posts.extend(page_dict['data']['children'])\n",
    "        after = page_dict['data']['after']\n",
    "        # sleep is a best practice (probably not necessary for such a small scrape)\n",
    "\n",
    "        \n",
    "    return posts"
   ]
  },
  {
   "cell_type": "code",
   "execution_count": 58,
   "metadata": {},
   "outputs": [],
   "source": [
    "nba_post_list = scraper_bike('https://www.reddit.com/r/nba.json')"
   ]
  },
  {
   "cell_type": "code",
   "execution_count": 30,
   "metadata": {},
   "outputs": [
    {
     "data": {
      "text/plain": [
       "982"
      ]
     },
     "execution_count": 30,
     "metadata": {},
     "output_type": "execute_result"
    }
   ],
   "source": [
    "len(nba_post_list)"
   ]
  },
  {
   "cell_type": "code",
   "execution_count": 31,
   "metadata": {},
   "outputs": [],
   "source": [
    "# function to convert posts to DataFrame - won't allow duplicate posts since unique id 'name' is set as index\n",
    "# Extract: name (as index) and subreddit, selftext, title (as columns)\n",
    "\n",
    "def posts_to_df(post_list):\n",
    "    post_dict = {}\n",
    "    \n",
    "    for i, post in enumerate(post_list):\n",
    "        ind = post_list[i]['data']\n",
    "        post_dict[ind['name']] = [ind['subreddit'], ind['title'], ind['selftext']]\n",
    "\n",
    "    df_name = pd.DataFrame(post_dict)\n",
    "    df_name = df_name.T\n",
    "    df_name.columns = ['subreddit', 'title', 'selftext'] #'selftext'\n",
    "    \n",
    "    return df_name"
   ]
  },
  {
   "cell_type": "code",
   "execution_count": 32,
   "metadata": {
    "scrolled": true
   },
   "outputs": [
    {
     "data": {
      "text/html": [
       "<div>\n",
       "<style scoped>\n",
       "    .dataframe tbody tr th:only-of-type {\n",
       "        vertical-align: middle;\n",
       "    }\n",
       "\n",
       "    .dataframe tbody tr th {\n",
       "        vertical-align: top;\n",
       "    }\n",
       "\n",
       "    .dataframe thead th {\n",
       "        text-align: right;\n",
       "    }\n",
       "</style>\n",
       "<table border=\"1\" class=\"dataframe\">\n",
       "  <thead>\n",
       "    <tr style=\"text-align: right;\">\n",
       "      <th></th>\n",
       "      <th>subreddit</th>\n",
       "      <th>title</th>\n",
       "      <th>selftext</th>\n",
       "    </tr>\n",
       "  </thead>\n",
       "  <tbody>\n",
       "    <tr>\n",
       "      <th>t3_c5qx6b</th>\n",
       "      <td>nba</td>\n",
       "      <td>Game Threads Index + Daily Discussion (June 26...</td>\n",
       "      <td># Today's Games:\\n\\n|Tip-off|Away||Home||GDT|P...</td>\n",
       "    </tr>\n",
       "    <tr>\n",
       "      <th>t3_c5oy5m</th>\n",
       "      <td>nba</td>\n",
       "      <td>[Serious Discussion] Season Review: Portland T...</td>\n",
       "      <td>**PORTLAND TRAIL BLAZERS** [](/POR)\\n\\nHEAD CO...</td>\n",
       "    </tr>\n",
       "    <tr>\n",
       "      <th>t3_c5pw9l</th>\n",
       "      <td>nba</td>\n",
       "      <td>Michael Jordan hits a Triple Clutch Layup</td>\n",
       "      <td></td>\n",
       "    </tr>\n",
       "    <tr>\n",
       "      <th>t3_c5rayb</th>\n",
       "      <td>nba</td>\n",
       "      <td>[Wojnarowski] Golden State Warriors star Kevin...</td>\n",
       "      <td></td>\n",
       "    </tr>\n",
       "    <tr>\n",
       "      <th>t3_c5shdu</th>\n",
       "      <td>nba</td>\n",
       "      <td>PSA: Carmelo Anthony is at the same age as Vin...</td>\n",
       "      <td></td>\n",
       "    </tr>\n",
       "    <tr>\n",
       "      <th>t3_c5qc2k</th>\n",
       "      <td>nba</td>\n",
       "      <td>DeMar DeRozan delivers a powerful message on m...</td>\n",
       "      <td></td>\n",
       "    </tr>\n",
       "    <tr>\n",
       "      <th>t3_c5oy6t</th>\n",
       "      <td>nba</td>\n",
       "      <td>Andre Iguodala asked: Who's tougher to guard, ...</td>\n",
       "      <td></td>\n",
       "    </tr>\n",
       "    <tr>\n",
       "      <th>t3_c5ta9z</th>\n",
       "      <td>nba</td>\n",
       "      <td>[Enes Kanter] I kind of feel like Zion is over...</td>\n",
       "      <td></td>\n",
       "    </tr>\n",
       "    <tr>\n",
       "      <th>t3_c5q8u4</th>\n",
       "      <td>nba</td>\n",
       "      <td>Kobe Bryant makes two defenders collide into e...</td>\n",
       "      <td></td>\n",
       "    </tr>\n",
       "    <tr>\n",
       "      <th>t3_c5olzb</th>\n",
       "      <td>nba</td>\n",
       "      <td>The amount of confusion surrounding casual fan...</td>\n",
       "      <td>Literally every instagram post where the winne...</td>\n",
       "    </tr>\n",
       "    <tr>\n",
       "      <th>t3_c5qwrb</th>\n",
       "      <td>nba</td>\n",
       "      <td>[Leitereg] Kevin Durant unloads oceanfront Mal...</td>\n",
       "      <td></td>\n",
       "    </tr>\n",
       "    <tr>\n",
       "      <th>t3_c5q4pb</th>\n",
       "      <td>nba</td>\n",
       "      <td>No one will actually consider them, but the Sa...</td>\n",
       "      <td>It barely registered a blip on the national ra...</td>\n",
       "    </tr>\n",
       "    <tr>\n",
       "      <th>t3_c5rax5</th>\n",
       "      <td>nba</td>\n",
       "      <td>[6MOTY Lou Williams] “When I see a rookie, I t...</td>\n",
       "      <td></td>\n",
       "    </tr>\n",
       "    <tr>\n",
       "      <th>t3_c5ra92</th>\n",
       "      <td>nba</td>\n",
       "      <td>Kevin Durant in good spirit</td>\n",
       "      <td></td>\n",
       "    </tr>\n",
       "    <tr>\n",
       "      <th>t3_c5ufj8</th>\n",
       "      <td>nba</td>\n",
       "      <td>Julius Randle responds to Enes Kanter</td>\n",
       "      <td>Enes was on some show earlier and said Zion wa...</td>\n",
       "    </tr>\n",
       "    <tr>\n",
       "      <th>t3_c5pfjd</th>\n",
       "      <td>nba</td>\n",
       "      <td>23 years ago today: The 76ers selected Allen I...</td>\n",
       "      <td>June 26, 1996 the Philadelphia 76ers selected ...</td>\n",
       "    </tr>\n",
       "    <tr>\n",
       "      <th>t3_c5p68t</th>\n",
       "      <td>nba</td>\n",
       "      <td>Giannis wants his girlfriend to help him grow ...</td>\n",
       "      <td></td>\n",
       "    </tr>\n",
       "    <tr>\n",
       "      <th>t3_c5qlr9</th>\n",
       "      <td>nba</td>\n",
       "      <td>[Stein] Sad news, @BillSimmons. I've been stro...</td>\n",
       "      <td></td>\n",
       "    </tr>\n",
       "    <tr>\n",
       "      <th>t3_c5iu4g</th>\n",
       "      <td>nba</td>\n",
       "      <td>Reddit users spent a total of $227.26 on gildi...</td>\n",
       "      <td>As of today, the thread \"Paul Pierce admits sh...</td>\n",
       "    </tr>\n",
       "    <tr>\n",
       "      <th>t3_c5oadk</th>\n",
       "      <td>nba</td>\n",
       "      <td>[OC] The 1981-82 Denver Nuggets had the best o...</td>\n",
       "      <td>With all the talk of pace increasing and the a...</td>\n",
       "    </tr>\n",
       "    <tr>\n",
       "      <th>t3_c5rnzj</th>\n",
       "      <td>nba</td>\n",
       "      <td>[Wojnarowski] Durant is still considering a nu...</td>\n",
       "      <td>Context\\n\\n&amp;gt;Durant is still considering a n...</td>\n",
       "    </tr>\n",
       "    <tr>\n",
       "      <th>t3_c5rnbu</th>\n",
       "      <td>nba</td>\n",
       "      <td>[Arnovitz] The NBA is seeking feedback from te...</td>\n",
       "      <td></td>\n",
       "    </tr>\n",
       "    <tr>\n",
       "      <th>t3_c5pnwq</th>\n",
       "      <td>nba</td>\n",
       "      <td>[Neubeck] Let me repeat something I said earli...</td>\n",
       "      <td>[Link to full tweet here.](https://twitter.com...</td>\n",
       "    </tr>\n",
       "    <tr>\n",
       "      <th>t3_c5pcj6</th>\n",
       "      <td>nba</td>\n",
       "      <td>Cavs 80’s Night Intro</td>\n",
       "      <td></td>\n",
       "    </tr>\n",
       "    <tr>\n",
       "      <th>t3_c5te75</th>\n",
       "      <td>nba</td>\n",
       "      <td>[The Lowe Post] RJ Barrett is currently the hi...</td>\n",
       "      <td>From the most recent podcast with Windhorst, t...</td>\n",
       "    </tr>\n",
       "    <tr>\n",
       "      <th>t3_c5phw1</th>\n",
       "      <td>nba</td>\n",
       "      <td>December 17th, 1997. Kobe and Jordan’s first d...</td>\n",
       "      <td></td>\n",
       "    </tr>\n",
       "    <tr>\n",
       "      <th>t3_c5t9an</th>\n",
       "      <td>nba</td>\n",
       "      <td>In the past year Adrian Wojnarowski has said A...</td>\n",
       "      <td>I’m not one for conspiracy theories, but this ...</td>\n",
       "    </tr>\n",
       "    <tr>\n",
       "      <th>t3_c5u8v0</th>\n",
       "      <td>nba</td>\n",
       "      <td>[Wojnarowski] Reporting w/ @ZachLowe: Houston’...</td>\n",
       "      <td></td>\n",
       "    </tr>\n",
       "    <tr>\n",
       "      <th>t3_c5tiwh</th>\n",
       "      <td>nba</td>\n",
       "      <td>[NY Post] RJ Barrett and Zion Williamson have ...</td>\n",
       "      <td></td>\n",
       "    </tr>\n",
       "    <tr>\n",
       "      <th>t3_c5q6pz</th>\n",
       "      <td>nba</td>\n",
       "      <td>With the first pick in the 2003 NBA draft, the...</td>\n",
       "      <td></td>\n",
       "    </tr>\n",
       "    <tr>\n",
       "      <th>...</th>\n",
       "      <td>...</td>\n",
       "      <td>...</td>\n",
       "      <td>...</td>\n",
       "    </tr>\n",
       "    <tr>\n",
       "      <th>t3_c5dlab</th>\n",
       "      <td>nba</td>\n",
       "      <td>Assuming season length isn’t changed, which do...</td>\n",
       "      <td>7 wins was by the Charlotte Bobcats back in 20...</td>\n",
       "    </tr>\n",
       "    <tr>\n",
       "      <th>t3_c5b1xj</th>\n",
       "      <td>nba</td>\n",
       "      <td>To Timeline on Fultz Return [Bleacher Report]</td>\n",
       "      <td></td>\n",
       "    </tr>\n",
       "    <tr>\n",
       "      <th>t3_c4ywbd</th>\n",
       "      <td>nba</td>\n",
       "      <td>With Kent Bazemore's trade, none of the player...</td>\n",
       "      <td>Pretty crazy how that was the best regular sea...</td>\n",
       "    </tr>\n",
       "    <tr>\n",
       "      <th>t3_c5iogk</th>\n",
       "      <td>nba</td>\n",
       "      <td>Nba Offseason Trade Game 6/25</td>\n",
       "      <td>You are now the GM is your favorite team. Comm...</td>\n",
       "    </tr>\n",
       "    <tr>\n",
       "      <th>t3_c5ddb6</th>\n",
       "      <td>nba</td>\n",
       "      <td>Biggest Draft Busts of all time question</td>\n",
       "      <td>How would you all rank the biggest busts of al...</td>\n",
       "    </tr>\n",
       "    <tr>\n",
       "      <th>t3_c5byoi</th>\n",
       "      <td>nba</td>\n",
       "      <td>Andre Iguodala on Power 105.1 The Breakfast Cl...</td>\n",
       "      <td></td>\n",
       "    </tr>\n",
       "    <tr>\n",
       "      <th>t3_c5il51</th>\n",
       "      <td>nba</td>\n",
       "      <td>Watching baseball makes me want to see basketb...</td>\n",
       "      <td>Some shallow research shows that baseball mana...</td>\n",
       "    </tr>\n",
       "    <tr>\n",
       "      <th>t3_c5fb04</th>\n",
       "      <td>nba</td>\n",
       "      <td>Which players would benefit most from shoe lif...</td>\n",
       "      <td>If players were allowed to have these availabl...</td>\n",
       "    </tr>\n",
       "    <tr>\n",
       "      <th>t3_c5d957</th>\n",
       "      <td>nba</td>\n",
       "      <td>Someone apparently thought that Jeff Weltman, ...</td>\n",
       "      <td></td>\n",
       "    </tr>\n",
       "    <tr>\n",
       "      <th>t3_c5d7aj</th>\n",
       "      <td>nba</td>\n",
       "      <td>Jayson Tatum opening night Highlights</td>\n",
       "      <td></td>\n",
       "    </tr>\n",
       "    <tr>\n",
       "      <th>t3_c5q128</th>\n",
       "      <td>nba</td>\n",
       "      <td>Masai Ujiri finishing 4th in Executive of the ...</td>\n",
       "      <td></td>\n",
       "    </tr>\n",
       "    <tr>\n",
       "      <th>t3_c5bsio</th>\n",
       "      <td>nba</td>\n",
       "      <td>People were talking up Bradley Beal’s trade va...</td>\n",
       "      <td>I really like Bradley Beal. He’s both a good p...</td>\n",
       "    </tr>\n",
       "    <tr>\n",
       "      <th>t3_c5n667</th>\n",
       "      <td>nba</td>\n",
       "      <td>What if Harden demands a trade from the Rocket...</td>\n",
       "      <td>I know it might never happen as Rockets is Har...</td>\n",
       "    </tr>\n",
       "    <tr>\n",
       "      <th>t3_c5ttm2</th>\n",
       "      <td>nba</td>\n",
       "      <td>Chris Vernon is a stain on the Ringer network</td>\n",
       "      <td>The most recent podcast reflects the basketbal...</td>\n",
       "    </tr>\n",
       "    <tr>\n",
       "      <th>t3_c4ojpz</th>\n",
       "      <td>nba</td>\n",
       "      <td>[AP] U.S. turns to Mutombo to spread Ebola mes...</td>\n",
       "      <td></td>\n",
       "    </tr>\n",
       "    <tr>\n",
       "      <th>t3_c5f0jy</th>\n",
       "      <td>nba</td>\n",
       "      <td>What would be the best starting five of all ti...</td>\n",
       "      <td>My first thought was Steph Steph Steph Steph W...</td>\n",
       "    </tr>\n",
       "    <tr>\n",
       "      <th>t3_c4slcd</th>\n",
       "      <td>nba</td>\n",
       "      <td>[Vorkunov] \"The Knicks are seeking medical inf...</td>\n",
       "      <td></td>\n",
       "    </tr>\n",
       "    <tr>\n",
       "      <th>t3_c4uog5</th>\n",
       "      <td>nba</td>\n",
       "      <td>[Wojnarowski] Cap neutral deal for Blazers and...</td>\n",
       "      <td></td>\n",
       "    </tr>\n",
       "    <tr>\n",
       "      <th>t3_c51w9c</th>\n",
       "      <td>nba</td>\n",
       "      <td>[Beck] Voting breakdown for MVP</td>\n",
       "      <td></td>\n",
       "    </tr>\n",
       "    <tr>\n",
       "      <th>t3_c5cv06</th>\n",
       "      <td>nba</td>\n",
       "      <td>Why one extra voter for MVP compared to other ...</td>\n",
       "      <td>101 voters for MVP but 100 for ROY, Defensive...</td>\n",
       "    </tr>\n",
       "    <tr>\n",
       "      <th>t3_c52qjr</th>\n",
       "      <td>nba</td>\n",
       "      <td>Can Giannis at least get on the sidebar for hi...</td>\n",
       "      <td>C'mon mods it's been an hour. I'm a mod on an ...</td>\n",
       "    </tr>\n",
       "    <tr>\n",
       "      <th>t3_c570jx</th>\n",
       "      <td>nba</td>\n",
       "      <td>For the first time in history, 4 out of 5 majo...</td>\n",
       "      <td>Giannis (Greece / Nigeria) = MVP\\n\\nGobert (Fr...</td>\n",
       "    </tr>\n",
       "    <tr>\n",
       "      <th>t3_c5kv2p</th>\n",
       "      <td>nba</td>\n",
       "      <td>Markel Brown Takes Flight for the Monster Smash</td>\n",
       "      <td></td>\n",
       "    </tr>\n",
       "    <tr>\n",
       "      <th>t3_c5ab9o</th>\n",
       "      <td>nba</td>\n",
       "      <td>Question about the ever changing Laker's cap s...</td>\n",
       "      <td>Initially it was reported the Lakers would hav...</td>\n",
       "    </tr>\n",
       "    <tr>\n",
       "      <th>t3_c5m95b</th>\n",
       "      <td>nba</td>\n",
       "      <td>Is this a Travel?</td>\n",
       "      <td></td>\n",
       "    </tr>\n",
       "    <tr>\n",
       "      <th>t3_c4zhhk</th>\n",
       "      <td>nba</td>\n",
       "      <td>[Smith] After Boston and Brooklyn swung their ...</td>\n",
       "      <td></td>\n",
       "    </tr>\n",
       "    <tr>\n",
       "      <th>t3_c5q7jh</th>\n",
       "      <td>nba</td>\n",
       "      <td>If an average player (say Evan Turner) had the...</td>\n",
       "      <td>They can levitate and move around at walking s...</td>\n",
       "    </tr>\n",
       "    <tr>\n",
       "      <th>t3_c57mr9</th>\n",
       "      <td>nba</td>\n",
       "      <td>The 2018 Cavs shot abnormally well against the...</td>\n",
       "      <td>As a team, they shot [52/41/76. This equated t...</td>\n",
       "    </tr>\n",
       "    <tr>\n",
       "      <th>t3_c5hy02</th>\n",
       "      <td>nba</td>\n",
       "      <td>Any predictions on how much $$$ Zion Williams ...</td>\n",
       "      <td>I think a Chinese shoe company is going to giv...</td>\n",
       "    </tr>\n",
       "    <tr>\n",
       "      <th>t3_c5m0tg</th>\n",
       "      <td>nba</td>\n",
       "      <td>Anyone have an ID on the jacket Kawhi has on i...</td>\n",
       "      <td></td>\n",
       "    </tr>\n",
       "  </tbody>\n",
       "</table>\n",
       "<p>780 rows × 3 columns</p>\n",
       "</div>"
      ],
      "text/plain": [
       "          subreddit                                              title  \\\n",
       "t3_c5qx6b       nba  Game Threads Index + Daily Discussion (June 26...   \n",
       "t3_c5oy5m       nba  [Serious Discussion] Season Review: Portland T...   \n",
       "t3_c5pw9l       nba          Michael Jordan hits a Triple Clutch Layup   \n",
       "t3_c5rayb       nba  [Wojnarowski] Golden State Warriors star Kevin...   \n",
       "t3_c5shdu       nba  PSA: Carmelo Anthony is at the same age as Vin...   \n",
       "t3_c5qc2k       nba  DeMar DeRozan delivers a powerful message on m...   \n",
       "t3_c5oy6t       nba  Andre Iguodala asked: Who's tougher to guard, ...   \n",
       "t3_c5ta9z       nba  [Enes Kanter] I kind of feel like Zion is over...   \n",
       "t3_c5q8u4       nba  Kobe Bryant makes two defenders collide into e...   \n",
       "t3_c5olzb       nba  The amount of confusion surrounding casual fan...   \n",
       "t3_c5qwrb       nba  [Leitereg] Kevin Durant unloads oceanfront Mal...   \n",
       "t3_c5q4pb       nba  No one will actually consider them, but the Sa...   \n",
       "t3_c5rax5       nba  [6MOTY Lou Williams] “When I see a rookie, I t...   \n",
       "t3_c5ra92       nba                        Kevin Durant in good spirit   \n",
       "t3_c5ufj8       nba              Julius Randle responds to Enes Kanter   \n",
       "t3_c5pfjd       nba  23 years ago today: The 76ers selected Allen I...   \n",
       "t3_c5p68t       nba  Giannis wants his girlfriend to help him grow ...   \n",
       "t3_c5qlr9       nba  [Stein] Sad news, @BillSimmons. I've been stro...   \n",
       "t3_c5iu4g       nba  Reddit users spent a total of $227.26 on gildi...   \n",
       "t3_c5oadk       nba  [OC] The 1981-82 Denver Nuggets had the best o...   \n",
       "t3_c5rnzj       nba  [Wojnarowski] Durant is still considering a nu...   \n",
       "t3_c5rnbu       nba  [Arnovitz] The NBA is seeking feedback from te...   \n",
       "t3_c5pnwq       nba  [Neubeck] Let me repeat something I said earli...   \n",
       "t3_c5pcj6       nba                              Cavs 80’s Night Intro   \n",
       "t3_c5te75       nba  [The Lowe Post] RJ Barrett is currently the hi...   \n",
       "t3_c5phw1       nba  December 17th, 1997. Kobe and Jordan’s first d...   \n",
       "t3_c5t9an       nba  In the past year Adrian Wojnarowski has said A...   \n",
       "t3_c5u8v0       nba  [Wojnarowski] Reporting w/ @ZachLowe: Houston’...   \n",
       "t3_c5tiwh       nba  [NY Post] RJ Barrett and Zion Williamson have ...   \n",
       "t3_c5q6pz       nba  With the first pick in the 2003 NBA draft, the...   \n",
       "...             ...                                                ...   \n",
       "t3_c5dlab       nba  Assuming season length isn’t changed, which do...   \n",
       "t3_c5b1xj       nba      To Timeline on Fultz Return [Bleacher Report]   \n",
       "t3_c4ywbd       nba  With Kent Bazemore's trade, none of the player...   \n",
       "t3_c5iogk       nba                      Nba Offseason Trade Game 6/25   \n",
       "t3_c5ddb6       nba           Biggest Draft Busts of all time question   \n",
       "t3_c5byoi       nba  Andre Iguodala on Power 105.1 The Breakfast Cl...   \n",
       "t3_c5il51       nba  Watching baseball makes me want to see basketb...   \n",
       "t3_c5fb04       nba  Which players would benefit most from shoe lif...   \n",
       "t3_c5d957       nba  Someone apparently thought that Jeff Weltman, ...   \n",
       "t3_c5d7aj       nba              Jayson Tatum opening night Highlights   \n",
       "t3_c5q128       nba  Masai Ujiri finishing 4th in Executive of the ...   \n",
       "t3_c5bsio       nba  People were talking up Bradley Beal’s trade va...   \n",
       "t3_c5n667       nba  What if Harden demands a trade from the Rocket...   \n",
       "t3_c5ttm2       nba      Chris Vernon is a stain on the Ringer network   \n",
       "t3_c4ojpz       nba  [AP] U.S. turns to Mutombo to spread Ebola mes...   \n",
       "t3_c5f0jy       nba  What would be the best starting five of all ti...   \n",
       "t3_c4slcd       nba  [Vorkunov] \"The Knicks are seeking medical inf...   \n",
       "t3_c4uog5       nba  [Wojnarowski] Cap neutral deal for Blazers and...   \n",
       "t3_c51w9c       nba                    [Beck] Voting breakdown for MVP   \n",
       "t3_c5cv06       nba  Why one extra voter for MVP compared to other ...   \n",
       "t3_c52qjr       nba  Can Giannis at least get on the sidebar for hi...   \n",
       "t3_c570jx       nba  For the first time in history, 4 out of 5 majo...   \n",
       "t3_c5kv2p       nba    Markel Brown Takes Flight for the Monster Smash   \n",
       "t3_c5ab9o       nba  Question about the ever changing Laker's cap s...   \n",
       "t3_c5m95b       nba                                  Is this a Travel?   \n",
       "t3_c4zhhk       nba  [Smith] After Boston and Brooklyn swung their ...   \n",
       "t3_c5q7jh       nba  If an average player (say Evan Turner) had the...   \n",
       "t3_c57mr9       nba  The 2018 Cavs shot abnormally well against the...   \n",
       "t3_c5hy02       nba  Any predictions on how much $$$ Zion Williams ...   \n",
       "t3_c5m0tg       nba  Anyone have an ID on the jacket Kawhi has on i...   \n",
       "\n",
       "                                                    selftext  \n",
       "t3_c5qx6b  # Today's Games:\\n\\n|Tip-off|Away||Home||GDT|P...  \n",
       "t3_c5oy5m  **PORTLAND TRAIL BLAZERS** [](/POR)\\n\\nHEAD CO...  \n",
       "t3_c5pw9l                                                     \n",
       "t3_c5rayb                                                     \n",
       "t3_c5shdu                                                     \n",
       "t3_c5qc2k                                                     \n",
       "t3_c5oy6t                                                     \n",
       "t3_c5ta9z                                                     \n",
       "t3_c5q8u4                                                     \n",
       "t3_c5olzb  Literally every instagram post where the winne...  \n",
       "t3_c5qwrb                                                     \n",
       "t3_c5q4pb  It barely registered a blip on the national ra...  \n",
       "t3_c5rax5                                                     \n",
       "t3_c5ra92                                                     \n",
       "t3_c5ufj8  Enes was on some show earlier and said Zion wa...  \n",
       "t3_c5pfjd  June 26, 1996 the Philadelphia 76ers selected ...  \n",
       "t3_c5p68t                                                     \n",
       "t3_c5qlr9                                                     \n",
       "t3_c5iu4g  As of today, the thread \"Paul Pierce admits sh...  \n",
       "t3_c5oadk  With all the talk of pace increasing and the a...  \n",
       "t3_c5rnzj  Context\\n\\n&gt;Durant is still considering a n...  \n",
       "t3_c5rnbu                                                     \n",
       "t3_c5pnwq  [Link to full tweet here.](https://twitter.com...  \n",
       "t3_c5pcj6                                                     \n",
       "t3_c5te75  From the most recent podcast with Windhorst, t...  \n",
       "t3_c5phw1                                                     \n",
       "t3_c5t9an  I’m not one for conspiracy theories, but this ...  \n",
       "t3_c5u8v0                                                     \n",
       "t3_c5tiwh                                                     \n",
       "t3_c5q6pz                                                     \n",
       "...                                                      ...  \n",
       "t3_c5dlab  7 wins was by the Charlotte Bobcats back in 20...  \n",
       "t3_c5b1xj                                                     \n",
       "t3_c4ywbd  Pretty crazy how that was the best regular sea...  \n",
       "t3_c5iogk  You are now the GM is your favorite team. Comm...  \n",
       "t3_c5ddb6  How would you all rank the biggest busts of al...  \n",
       "t3_c5byoi                                                     \n",
       "t3_c5il51  Some shallow research shows that baseball mana...  \n",
       "t3_c5fb04  If players were allowed to have these availabl...  \n",
       "t3_c5d957                                                     \n",
       "t3_c5d7aj                                                     \n",
       "t3_c5q128                                                     \n",
       "t3_c5bsio  I really like Bradley Beal. He’s both a good p...  \n",
       "t3_c5n667  I know it might never happen as Rockets is Har...  \n",
       "t3_c5ttm2  The most recent podcast reflects the basketbal...  \n",
       "t3_c4ojpz                                                     \n",
       "t3_c5f0jy  My first thought was Steph Steph Steph Steph W...  \n",
       "t3_c4slcd                                                     \n",
       "t3_c4uog5                                                     \n",
       "t3_c51w9c                                                     \n",
       "t3_c5cv06   101 voters for MVP but 100 for ROY, Defensive...  \n",
       "t3_c52qjr  C'mon mods it's been an hour. I'm a mod on an ...  \n",
       "t3_c570jx  Giannis (Greece / Nigeria) = MVP\\n\\nGobert (Fr...  \n",
       "t3_c5kv2p                                                     \n",
       "t3_c5ab9o  Initially it was reported the Lakers would hav...  \n",
       "t3_c5m95b                                                     \n",
       "t3_c4zhhk                                                     \n",
       "t3_c5q7jh  They can levitate and move around at walking s...  \n",
       "t3_c57mr9  As a team, they shot [52/41/76. This equated t...  \n",
       "t3_c5hy02  I think a Chinese shoe company is going to giv...  \n",
       "t3_c5m0tg                                                     \n",
       "\n",
       "[780 rows x 3 columns]"
      ]
     },
     "execution_count": 32,
     "metadata": {},
     "output_type": "execute_result"
    }
   ],
   "source": [
    "posts_to_df(nba_post_list)"
   ]
  },
  {
   "cell_type": "code",
   "execution_count": null,
   "metadata": {},
   "outputs": [],
   "source": []
  },
  {
   "cell_type": "markdown",
   "metadata": {},
   "source": [
    "## Couple extra functions for simplicity in running"
   ]
  },
  {
   "cell_type": "code",
   "execution_count": 86,
   "metadata": {},
   "outputs": [],
   "source": [
    "# takes scraper function and url - outputs dataframe\n",
    "\n",
    "def scrape_to_df(scrape_func, url):\n",
    "    \n",
    "    return posts_to_df(scrape_func(url))"
   ]
  },
  {
   "cell_type": "markdown",
   "metadata": {},
   "source": [
    "### Function to scrape and save to csv. HIGHLY recommended when gathering data online that you want to ensure you maintain a copy of locally (and remotely if you want to be secure)"
   ]
  },
  {
   "cell_type": "code",
   "execution_count": 87,
   "metadata": {},
   "outputs": [],
   "source": [
    "# NOTE: YOU NEED A CSV ALREADY MADE TO SAVE TO IN THIS CASE. \n",
    "# YOU COULD ADD CODE TO CREATE A NEW CSV IF NONE EXISTS\n",
    "\n",
    "# scrape, import csv, concat, drop duplicate, and output to csv\n",
    "\n",
    "# takes in scraper function, url, csv filename to import, csv filename to output\n",
    "\n",
    "# Outputs - Concatenated DataFrame as csv\n",
    "\n",
    "def scrape_add(scrape_func, url, import_file, export_file):\n",
    "    \n",
    "    scrape_df = posts_to_df(scrape_func(url))\n",
    "    \n",
    "    imported_df = pd.read_csv(import_file, index_col = 'Unnamed: 0')\n",
    "    \n",
    "    concat_df = pd.concat([imported_df, scrape_df])\n",
    "    \n",
    "    concat_df = concat_df[~concat_df.index.duplicated(keep='first')]\n",
    "    \n",
    "    concat_df.to_csv(export_file)"
   ]
  },
  {
   "cell_type": "code",
   "execution_count": null,
   "metadata": {},
   "outputs": [],
   "source": []
  }
 ],
 "metadata": {
  "kernelspec": {
   "display_name": "Python 3",
   "language": "python",
   "name": "python3"
  },
  "language_info": {
   "codemirror_mode": {
    "name": "ipython",
    "version": 3
   },
   "file_extension": ".py",
   "mimetype": "text/x-python",
   "name": "python",
   "nbconvert_exporter": "python",
   "pygments_lexer": "ipython3",
   "version": "3.7.3"
  }
 },
 "nbformat": 4,
 "nbformat_minor": 2
}
