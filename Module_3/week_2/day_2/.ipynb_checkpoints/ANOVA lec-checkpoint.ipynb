{
 "cells": [
  {
   "cell_type": "code",
   "execution_count": null,
   "metadata": {},
   "outputs": [],
   "source": []
  },
  {
   "cell_type": "markdown",
   "metadata": {},
   "source": [
    "# ANOVA - Analysis of Variance\n",
    "We will continue our discussion on linear models. Today, we will be learning ANOVA, a generalized form of comparing mean across multiple groups. \n",
    "Agenda today:\n",
    "- Compare t-tests and ANOVA\n",
    "- Learn to calculate ANOVA & details \n",
    "- Implement ANOVA in python\n"
   ]
  },
  {
   "cell_type": "markdown",
   "metadata": {},
   "source": [
    "## Part I. T Test or ANOVA?\n",
    "Suppose we want to compare whether multiple groups differ in some type of measures. For example, we have collected mood data grouped by four types of weather - sunny, raining, overcast, or snowy, and we want to find out whether there is a difference in mood across different weather. What tests would you use?\n",
    "\n",
    "A natural reaction would be to conduct multiple t-tests. However, that comes with many drawbacks. First, you would need $\\frac{n(n-1)}{2}$ t tests, which come out to 6 tests. Having more tests meaning having higher chance of making type I error. In this case, our original probability of making type I error grew from 5% to 5% x 6 = 30%! By conduct 6 tests and comparing their mean to each other, we are running a huge risk of making false positives. How then, can we combat this? -- ANOVA!\n",
    "\n",
    "Instead of looking at each individual difference, ANOVA examines the ratio of variance between groups, and variance within groups, and find out whether the ratio is big enough to be statistically significant. "
   ]
  },
  {
   "cell_type": "markdown",
   "metadata": {},
   "source": [
    "#### T Test statistics \n",
    "## $$t = \\frac{x\\bar - \\mu}{\\frac{s}{\\sqrt n}}$$\n",
    "\n",
    "#### ANOVA - the F test\n",
    "## $$F = \\frac{MS_bet}{MS_within}$$\n",
    "\n",
    "#We can also say that t test is a special case of ANOVA in that we are comparing the means of only two groups."
   ]
  },
  {
   "cell_type": "markdown",
   "metadata": {},
   "source": [
    "Degrees of Freedom for ANOVA:\n",
    "- DFbetween = k - 1\n",
    "- DFwithin = N - k\n",
    "- DFtotal = N - 1"
   ]
  },
  {
   "cell_type": "markdown",
   "metadata": {},
   "source": [
    "## Part II. Calculating ANOVA \n",
    "In this section, we will learn how to calculate ANOVA without using any pacakges. All we need to calculate is:\n",
    "\n",
    "- $SS_b$ = $n\\sum(\\bar X - \\bar X_i)^2 $\n",
    "\n",
    "- $SS_w$ = $\\sum (n_i - 1) s_i ^ 2$\n",
    "\n",
    "- $SS_t$ = $\\sum (X_ij - \\bar X)^2$\n",
    "\n",
    "- $MS_b$ = $\\frac{SS_b}{DF_b}$\n",
    "\n",
    "- $MS_w$ = $\\frac{SS_w}{DF_w}$\n",
    "\n",
    "- $F$ = $\\frac{MS_b}{MS_w}$"
   ]
  },
  {
   "cell_type": "code",
   "execution_count": 3,
   "metadata": {},
   "outputs": [],
   "source": [
    "import pandas as pd\n",
    "import scipy.stats as stats\n",
    "import matplotlib.pyplot as plt"
   ]
  },
  {
   "cell_type": "code",
   "execution_count": null,
   "metadata": {},
   "outputs": [],
   "source": []
  }
 ],
 "metadata": {
  "kernelspec": {
   "display_name": "Python 3",
   "language": "python",
   "name": "python3"
  },
  "language_info": {
   "codemirror_mode": {
    "name": "ipython",
    "version": 3
   },
   "file_extension": ".py",
   "mimetype": "text/x-python",
   "name": "python",
   "nbconvert_exporter": "python",
   "pygments_lexer": "ipython3",
   "version": "3.7.3"
  }
 },
 "nbformat": 4,
 "nbformat_minor": 2
}
