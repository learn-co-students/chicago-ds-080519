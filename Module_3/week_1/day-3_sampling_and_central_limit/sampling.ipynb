{
 "cells": [
  {
   "cell_type": "markdown",
   "metadata": {
    "slideshow": {
     "slide_type": "slide"
    }
   },
   "source": [
    "# Sampling"
   ]
  },
  {
   "cell_type": "markdown",
   "metadata": {
    "slideshow": {
     "slide_type": "slide"
    }
   },
   "source": [
    "## Population Inference"
   ]
  },
  {
   "cell_type": "markdown",
   "metadata": {
    "slideshow": {
     "slide_type": "fragment"
    }
   },
   "source": [
    "The mayor's office has hired Flatiron Data Science Immersive students to determine a way to fix traffic congestion. A good starting point is to determine out what proportion of the population of DC owns a car.\n",
    "\n",
    "In order for us to make any determinations about a population, we must first get information about it.\n",
    "\n",
    "Because it's impractical to ever usually get data about *everyone* in a population, we must take a sample.\n",
    "\n"
   ]
  },
  {
   "cell_type": "markdown",
   "metadata": {
    "slideshow": {
     "slide_type": "slide"
    }
   },
   "source": [
    "Our sample should be:\n",
    "\n",
    "* Randomly selected- every item should have an *equal* chance of being selected\n",
    "* Representative of our population\n",
    "\n",
    "![pop](./img/sample_pop.png)"
   ]
  },
  {
   "cell_type": "markdown",
   "metadata": {
    "slideshow": {
     "slide_type": "slide"
    }
   },
   "source": [
    "**Random sampling is not easy to do, let's look at an example:**\n",
    "\n",
    "Imagine you are trying to determine what proportion of DC metro area people own a car\n",
    "\n",
    "* Stand outside of Flatiron at 12 pm and ask random people until *n* responses\n",
    "\n",
    "\n",
    "* Go to a randomly assigned street corner and at a random time and ask *n* people if they own a car\n",
    "\n"
   ]
  },
  {
   "cell_type": "markdown",
   "metadata": {
    "slideshow": {
     "slide_type": "fragment"
    }
   },
   "source": [
    "When we gather a sample, we are trying to minimize the bias of our sample while also minimizing our cost."
   ]
  },
  {
   "cell_type": "markdown",
   "metadata": {
    "slideshow": {
     "slide_type": "slide"
    }
   },
   "source": [
    "##### Population v Sample Terminology\n",
    "Measurable characteristics of populations are called *parameters*\n",
    "\n",
    "Measurable characteristics of a sample are called *statistics*\n",
    "\n",
    "![imgsample](./img/sample_stats.png)"
   ]
  },
  {
   "cell_type": "markdown",
   "metadata": {},
   "source": [
    "##### Population or sample?\n",
    "\n",
    "A group of students surveys 100 students from their freshman class to determine the number of pets in each student's household. The group plans to compute statistical findings on their data and generalize these findings to the homes of all freshmen students. Should the group consider their data to be a population data set or a sample data set?"
   ]
  },
  {
   "cell_type": "markdown",
   "metadata": {
    "slideshow": {
     "slide_type": "slide"
    }
   },
   "source": [
    "## Central Limit Theorem"
   ]
  },
  {
   "cell_type": "markdown",
   "metadata": {
    "slideshow": {
     "slide_type": "slide"
    }
   },
   "source": [
    "If we take repeated samples of a population, the sampling distribution of sample means will approximate to a normal distribution! \n",
    "\n",
    "## $E(\\bar{x_{n}}) = \\mu$\n",
    "\n",
    "as n --> \"large\"\n",
    "\n",
    "[good D3 example](https://seeing-theory.brown.edu/probability-distributions/index.html)\n",
    "\n",
    "[good video demonstration](https://www.youtube.com/watch?v=jvoxEYmQHNM)\n"
   ]
  },
  {
   "cell_type": "markdown",
   "metadata": {
    "slideshow": {
     "slide_type": "slide"
    }
   },
   "source": [
    "Let's look at an example taken from the ubiquitous Iris dataset. This histogram represents the distributions of sepal length:\n",
    "\n",
    "\n",
    "![probgif](./img/probability-basics.gif)"
   ]
  },
  {
   "cell_type": "markdown",
   "metadata": {
    "slideshow": {
     "slide_type": "slide"
    }
   },
   "source": [
    "### An Example\n",
    "A bicycle advocacy group has come to us to see if it would make sense to increase the length of time users of Capital Bike Share have to ride on their bikes before they have to return them. Let's analyze a collection of Capital Bike Share data to determine if we should lengthen the time people have with their bikes."
   ]
  },
  {
   "cell_type": "code",
<<<<<<< HEAD
   "execution_count": 7,
=======
   "execution_count": 1,
>>>>>>> 52d14ad07af519d26bab28f841fdbffe5772c58b
   "metadata": {},
   "outputs": [
    {
     "data": {
      "text/plain": [
<<<<<<< HEAD
       "'/Users/abdygaziev/Documents/FlatironMaterials/chicago-ds-080519/Module_3/week_1/day-3_sampling_and_central_limit'"
      ]
     },
     "execution_count": 7,
=======
       "'/Users/ahmedsafdar/Desktop/chicago-ds-080519/Module_3/week_1/day-3_sampling_and_central_limit'"
      ]
     },
     "execution_count": 1,
>>>>>>> 52d14ad07af519d26bab28f841fdbffe5772c58b
     "metadata": {},
     "output_type": "execute_result"
    }
   ],
   "source": [
    "pwd"
   ]
  },
  {
   "cell_type": "code",
<<<<<<< HEAD
   "execution_count": 65,
=======
   "execution_count": 2,
>>>>>>> 52d14ad07af519d26bab28f841fdbffe5772c58b
   "metadata": {
    "slideshow": {
     "slide_type": "subslide"
    }
   },
   "outputs": [],
   "source": [
    "import pandas as pd\n",
    "import numpy as np\n",
    "import matplotlib.pyplot as plt\n",
    "%matplotlib inline\n",
    "df = pd.read_csv('data/201904-capitalbikeshare-tripdata.csv')"
   ]
  },
  {
   "cell_type": "code",
<<<<<<< HEAD
   "execution_count": 4,
=======
   "execution_count": 3,
>>>>>>> 52d14ad07af519d26bab28f841fdbffe5772c58b
   "metadata": {
    "slideshow": {
     "slide_type": "slide"
    }
   },
   "outputs": [
    {
     "data": {
      "text/html": [
       "<div>\n",
       "<style scoped>\n",
       "    .dataframe tbody tr th:only-of-type {\n",
       "        vertical-align: middle;\n",
       "    }\n",
       "\n",
       "    .dataframe tbody tr th {\n",
       "        vertical-align: top;\n",
       "    }\n",
       "\n",
       "    .dataframe thead th {\n",
       "        text-align: right;\n",
       "    }\n",
       "</style>\n",
       "<table border=\"1\" class=\"dataframe\">\n",
       "  <thead>\n",
       "    <tr style=\"text-align: right;\">\n",
       "      <th></th>\n",
       "      <th>Duration</th>\n",
       "      <th>Start date</th>\n",
       "      <th>End date</th>\n",
       "      <th>Start station number</th>\n",
       "      <th>Start station</th>\n",
       "      <th>End station number</th>\n",
       "      <th>End station</th>\n",
       "      <th>Bike number</th>\n",
       "      <th>Member type</th>\n",
       "    </tr>\n",
       "  </thead>\n",
       "  <tbody>\n",
       "    <tr>\n",
       "      <th>0</th>\n",
       "      <td>313</td>\n",
       "      <td>2019-04-01 00:03:03</td>\n",
       "      <td>2019-04-01 00:08:16</td>\n",
       "      <td>31618</td>\n",
       "      <td>4th &amp; East Capitol St NE</td>\n",
       "      <td>31630</td>\n",
       "      <td>15th &amp; East Capitol St NE</td>\n",
       "      <td>W24063</td>\n",
       "      <td>Member</td>\n",
       "    </tr>\n",
       "    <tr>\n",
       "      <th>1</th>\n",
       "      <td>453</td>\n",
       "      <td>2019-04-01 00:07:37</td>\n",
       "      <td>2019-04-01 00:15:10</td>\n",
       "      <td>31119</td>\n",
       "      <td>14th &amp; Belmont St NW</td>\n",
       "      <td>31298</td>\n",
       "      <td>15th &amp; M St NW</td>\n",
       "      <td>W22080</td>\n",
       "      <td>Member</td>\n",
       "    </tr>\n",
       "    <tr>\n",
       "      <th>2</th>\n",
       "      <td>333</td>\n",
       "      <td>2019-04-01 00:09:31</td>\n",
       "      <td>2019-04-01 00:15:05</td>\n",
       "      <td>31203</td>\n",
       "      <td>14th &amp; Rhode Island Ave NW</td>\n",
       "      <td>31519</td>\n",
       "      <td>1st &amp; O St NW</td>\n",
       "      <td>W00276</td>\n",
       "      <td>Member</td>\n",
       "    </tr>\n",
       "    <tr>\n",
       "      <th>3</th>\n",
       "      <td>568</td>\n",
       "      <td>2019-04-01 00:10:20</td>\n",
       "      <td>2019-04-01 00:19:49</td>\n",
       "      <td>31202</td>\n",
       "      <td>14th &amp; R St NW</td>\n",
       "      <td>31103</td>\n",
       "      <td>16th &amp; Harvard St NW</td>\n",
       "      <td>W21582</td>\n",
       "      <td>Member</td>\n",
       "    </tr>\n",
       "    <tr>\n",
       "      <th>4</th>\n",
       "      <td>1609</td>\n",
       "      <td>2019-04-01 00:10:38</td>\n",
       "      <td>2019-04-01 00:37:28</td>\n",
       "      <td>31517</td>\n",
       "      <td>Union Market</td>\n",
       "      <td>31655</td>\n",
       "      <td>New Jersey Ave &amp; F St NW</td>\n",
       "      <td>75558</td>\n",
       "      <td>Member</td>\n",
       "    </tr>\n",
       "  </tbody>\n",
       "</table>\n",
       "</div>"
      ],
      "text/plain": [
       "   Duration           Start date             End date  Start station number  \\\n",
       "0       313  2019-04-01 00:03:03  2019-04-01 00:08:16                 31618   \n",
       "1       453  2019-04-01 00:07:37  2019-04-01 00:15:10                 31119   \n",
       "2       333  2019-04-01 00:09:31  2019-04-01 00:15:05                 31203   \n",
       "3       568  2019-04-01 00:10:20  2019-04-01 00:19:49                 31202   \n",
       "4      1609  2019-04-01 00:10:38  2019-04-01 00:37:28                 31517   \n",
       "\n",
       "                Start station  End station number                End station  \\\n",
       "0    4th & East Capitol St NE               31630  15th & East Capitol St NE   \n",
       "1        14th & Belmont St NW               31298             15th & M St NW   \n",
       "2  14th & Rhode Island Ave NW               31519              1st & O St NW   \n",
       "3              14th & R St NW               31103       16th & Harvard St NW   \n",
       "4                Union Market               31655   New Jersey Ave & F St NW   \n",
       "\n",
       "  Bike number Member type  \n",
       "0      W24063      Member  \n",
       "1      W22080      Member  \n",
       "2      W00276      Member  \n",
       "3      W21582      Member  \n",
       "4       75558      Member  "
      ]
     },
<<<<<<< HEAD
     "execution_count": 4,
=======
     "execution_count": 3,
>>>>>>> 52d14ad07af519d26bab28f841fdbffe5772c58b
     "metadata": {},
     "output_type": "execute_result"
    }
   ],
   "source": [
    "df.head()"
   ]
  },
  {
   "cell_type": "code",
<<<<<<< HEAD
   "execution_count": 5,
=======
   "execution_count": 4,
>>>>>>> 52d14ad07af519d26bab28f841fdbffe5772c58b
   "metadata": {},
   "outputs": [
    {
     "data": {
      "text/plain": [
       "(347992, 9)"
      ]
     },
<<<<<<< HEAD
     "execution_count": 5,
=======
     "execution_count": 4,
>>>>>>> 52d14ad07af519d26bab28f841fdbffe5772c58b
     "metadata": {},
     "output_type": "execute_result"
    }
   ],
   "source": [
    "df.shape"
   ]
  },
  {
   "cell_type": "code",
<<<<<<< HEAD
   "execution_count": 18,
=======
   "execution_count": 5,
>>>>>>> 52d14ad07af519d26bab28f841fdbffe5772c58b
   "metadata": {
    "slideshow": {
     "slide_type": "subslide"
    }
   },
   "outputs": [],
   "source": [
    "trip_durations = df['Duration']/60\n",
    "trip_durations = trip_durations[trip_durations < 2*60]"
   ]
  },
  {
   "cell_type": "markdown",
   "metadata": {},
   "source": [
    "#### The length of a bike ride is not normally distributed"
   ]
  },
  {
   "cell_type": "markdown",
   "metadata": {
    "slideshow": {
     "slide_type": "slide"
    }
   },
   "source": [
    "#### Get population statistics"
   ]
  },
  {
   "cell_type": "code",
<<<<<<< HEAD
   "execution_count": 34,
=======
   "execution_count": 6,
>>>>>>> 52d14ad07af519d26bab28f841fdbffe5772c58b
   "metadata": {
    "slideshow": {
     "slide_type": "-"
    }
   },
   "outputs": [
    {
     "data": {
<<<<<<< HEAD
      "image/png": "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\n",
=======
      "text/plain": [
       "<matplotlib.axes._subplots.AxesSubplot at 0x114ea1518>"
      ]
     },
     "execution_count": 6,
     "metadata": {},
     "output_type": "execute_result"
    },
    {
     "data": {
      "image/png": "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\n",
>>>>>>> 52d14ad07af519d26bab28f841fdbffe5772c58b
      "text/plain": [
       "<Figure size 432x288 with 1 Axes>"
      ]
     },
     "metadata": {
      "needs_background": "light"
     },
     "output_type": "display_data"
    }
   ],
   "source": [
<<<<<<< HEAD
    "#population histogram\n",
    "\n",
    "trip_durations.hist(bins = 25)\n",
    "plt.show()"
=======
    "trip_durations.hist(bins=50)"
>>>>>>> 52d14ad07af519d26bab28f841fdbffe5772c58b
   ]
  },
  {
   "cell_type": "code",
<<<<<<< HEAD
   "execution_count": 24,
=======
   "execution_count": 8,
>>>>>>> 52d14ad07af519d26bab28f841fdbffe5772c58b
   "metadata": {
    "slideshow": {
     "slide_type": "-"
    }
   },
   "outputs": [
    {
     "data": {
      "text/plain": [
       "0    6.65\n",
       "dtype: float64"
      ]
     },
<<<<<<< HEAD
     "execution_count": 24,
=======
     "execution_count": 8,
>>>>>>> 52d14ad07af519d26bab28f841fdbffe5772c58b
     "metadata": {},
     "output_type": "execute_result"
    }
   ],
   "source": [
    "#mode\n",
    "trip_durations.mode()"
   ]
  },
  {
   "cell_type": "code",
<<<<<<< HEAD
   "execution_count": 62,
=======
   "execution_count": 17,
>>>>>>> 52d14ad07af519d26bab28f841fdbffe5772c58b
   "metadata": {
    "slideshow": {
     "slide_type": "-"
    }
   },
   "outputs": [],
   "source": [
    "#mean and sd\n",
    "pop_mean = trip_durations.mean()\n",
    "pop_std = trip_durations.std()"
   ]
  },
  {
   "cell_type": "markdown",
   "metadata": {
    "slideshow": {
     "slide_type": "slide"
    }
   },
   "source": [
    "#### When we take multiple samples from the distribution, and plot the means of each sample, the shape of the curve shifts.\n",
    "\n",
    "![means](./img/meansofsamples.png)"
   ]
  },
  {
   "cell_type": "markdown",
   "metadata": {
    "slideshow": {
     "slide_type": "slide"
    }
   },
   "source": [
    "### Let's confirm with code ourselves!"
   ]
  },
  {
   "cell_type": "code",
<<<<<<< HEAD
   "execution_count": 52,
   "metadata": {},
   "outputs": [
    {
     "data": {
      "text/plain": [
       "17.501333333333335"
      ]
     },
     "execution_count": 52,
     "metadata": {},
     "output_type": "execute_result"
=======
   "execution_count": 12,
   "metadata": {
    "slideshow": {
     "slide_type": "fragment"
>>>>>>> 52d14ad07af519d26bab28f841fdbffe5772c58b
    }
   ],
   "source": [
    "def one_sample_mean(population):\n",
<<<<<<< HEAD
    "    sample = np.random.choice(population,size = 200, replace = True)\n",
    "    return np.mean(sample)\n",
    "one_sample_mean(trip_durations)"
=======
    "    sample = np.random.choice(population, size = 200, replace = True)\n",
    "    return sample.mean()"
>>>>>>> 52d14ad07af519d26bab28f841fdbffe5772c58b
   ]
  },
  {
   "cell_type": "code",
<<<<<<< HEAD
   "execution_count": 56,
=======
   "execution_count": 13,
>>>>>>> 52d14ad07af519d26bab28f841fdbffe5772c58b
   "metadata": {},
   "outputs": [
    {
     "data": {
<<<<<<< HEAD
      "image/png": "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\n",
      "text/plain": [
       "<Figure size 432x288 with 1 Axes>"
      ]
     },
     "metadata": {
      "needs_background": "light"
     },
     "output_type": "display_data"
    }
   ],
   "source": [
    "d = [one_sample_mean(trip_durations) for i in range(1000)]\n",
    "plt.hist(d,bins = 50)\n",
=======
      "text/plain": [
       "18.3415"
      ]
     },
     "execution_count": 13,
     "metadata": {},
     "output_type": "execute_result"
    }
   ],
   "source": [
    "one_sample_mean(trip_durations)"
   ]
  },
  {
   "cell_type": "code",
   "execution_count": 14,
   "metadata": {
    "slideshow": {
     "slide_type": "slide"
    }
   },
   "outputs": [
    {
     "data": {
      "image/png": "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\n",
      "text/plain": [
       "<Figure size 432x288 with 1 Axes>"
      ]
     },
     "metadata": {
      "needs_background": "light"
     },
     "output_type": "display_data"
    }
   ],
   "source": [
    "d = [one_sample_mean(trip_durations) for i in range(1000)]\n",
    "plt.hist(d, bins=50)\n",
>>>>>>> 52d14ad07af519d26bab28f841fdbffe5772c58b
    "plt.show()"
   ]
  },
  {
   "cell_type": "code",
<<<<<<< HEAD
   "execution_count": 66,
=======
   "execution_count": 18,
>>>>>>> 52d14ad07af519d26bab28f841fdbffe5772c58b
   "metadata": {
    "slideshow": {
     "slide_type": "slide"
    }
   },
   "outputs": [],
   "source": [
    "import seaborn as sns\n",
    "\n",
    "def central_limit_theorem_plotter(distribution,sample_size,num_samples):\n",
    "    sample_means = np.zeros(num_samples)\n",
    "    for idx,num in enumerate(range(num_samples)):\n",
    "        sample = np.random.choice(distribution,size=sample_size,replace=True)\n",
    "        sample_means[idx] = sample.mean()\n",
    "    sns.distplot(sample_means,bins=80,kde=True)\n",
    "    title = 'Sample Distribution n = {} and number of samples = {}, std error = {}'.format(sample_size,num_samples,pop_std/num_samples)\n",
    "    print('mean = {}'.format(sample_means.mean()))\n",
    "    plt.title(title)"
   ]
  },
  {
   "cell_type": "code",
<<<<<<< HEAD
   "execution_count": 67,
=======
   "execution_count": 20,
>>>>>>> 52d14ad07af519d26bab28f841fdbffe5772c58b
   "metadata": {
    "scrolled": true,
    "slideshow": {
     "slide_type": "slide"
    }
   },
   "outputs": [
    {
     "name": "stdout",
     "output_type": "stream",
     "text": [
<<<<<<< HEAD
      "mean = 17.32014275666667\n"
=======
      "mean = 17.324519016666667\n"
     ]
    },
    {
     "name": "stderr",
     "output_type": "stream",
     "text": [
      "//anaconda3/envs/learn-env/lib/python3.6/site-packages/scipy/stats/stats.py:1713: FutureWarning: Using a non-tuple sequence for multidimensional indexing is deprecated; use `arr[tuple(seq)]` instead of `arr[seq]`. In the future this will be interpreted as an array index, `arr[np.array(seq)]`, which will result either in an error or a different result.\n",
      "  return np.add.reduce(sorted[indexer] * weights, axis=axis) / sumval\n"
>>>>>>> 52d14ad07af519d26bab28f841fdbffe5772c58b
     ]
    },
    {
     "data": {
<<<<<<< HEAD
      "image/png": "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\n",
=======
      "image/png": "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\n",
>>>>>>> 52d14ad07af519d26bab28f841fdbffe5772c58b
      "text/plain": [
       "<Figure size 432x288 with 1 Axes>"
      ]
     },
     "metadata": {
      "needs_background": "light"
     },
     "output_type": "display_data"
    }
   ],
   "source": [
    "central_limit_theorem_plotter(trip_durations,10000,500)"
   ]
  },
  {
   "cell_type": "code",
<<<<<<< HEAD
   "execution_count": 68,
=======
   "execution_count": 19,
>>>>>>> 52d14ad07af519d26bab28f841fdbffe5772c58b
   "metadata": {
    "scrolled": true,
    "slideshow": {
     "slide_type": "slide"
    }
   },
   "outputs": [
    {
     "name": "stdout",
     "output_type": "stream",
     "text": [
<<<<<<< HEAD
      "mean = 17.156879999999997\n"
=======
      "mean = 17.30875\n"
     ]
    },
    {
     "name": "stderr",
     "output_type": "stream",
     "text": [
      "//anaconda3/envs/learn-env/lib/python3.6/site-packages/scipy/stats/stats.py:1713: FutureWarning: Using a non-tuple sequence for multidimensional indexing is deprecated; use `arr[tuple(seq)]` instead of `arr[seq]`. In the future this will be interpreted as an array index, `arr[np.array(seq)]`, which will result either in an error or a different result.\n",
      "  return np.add.reduce(sorted[indexer] * weights, axis=axis) / sumval\n"
>>>>>>> 52d14ad07af519d26bab28f841fdbffe5772c58b
     ]
    },
    {
     "data": {
<<<<<<< HEAD
      "image/png": "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\n",
=======
      "image/png": "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\n",
>>>>>>> 52d14ad07af519d26bab28f841fdbffe5772c58b
      "text/plain": [
       "<Figure size 432x288 with 1 Axes>"
      ]
     },
     "metadata": {
      "needs_background": "light"
     },
     "output_type": "display_data"
    }
   ],
   "source": [
    "central_limit_theorem_plotter(trip_durations,100,50)"
   ]
  },
  {
   "cell_type": "markdown",
   "metadata": {},
   "source": [
    "* What happens as we increase the sample size?\n",
    "* How does the height of the distribution change? Why does it change?"
   ]
  },
  {
   "cell_type": "markdown",
   "metadata": {},
   "source": [
    "https://www.kaggle.com/tentotheminus9/central-limit-theorem-animation"
   ]
  },
  {
   "cell_type": "markdown",
   "metadata": {
    "slideshow": {
     "slide_type": "slide"
    }
   },
   "source": [
    "### Show with exponential"
   ]
  },
  {
   "cell_type": "code",
<<<<<<< HEAD
   "execution_count": 69,
=======
   "execution_count": 21,
>>>>>>> 52d14ad07af519d26bab28f841fdbffe5772c58b
   "metadata": {},
   "outputs": [],
   "source": [
    "exponential = np.random.exponential(scale=1, size=1000)"
   ]
  },
  {
   "cell_type": "code",
<<<<<<< HEAD
   "execution_count": 71,
=======
   "execution_count": 22,
>>>>>>> 52d14ad07af519d26bab28f841fdbffe5772c58b
   "metadata": {
    "slideshow": {
     "slide_type": "slide"
    }
   },
   "outputs": [
    {
     "data": {
<<<<<<< HEAD
      "image/png": "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\n",
=======
      "image/png": "iVBORw0KGgoAAAANSUhEUgAAAXoAAAD8CAYAAAB5Pm/hAAAABHNCSVQICAgIfAhkiAAAAAlwSFlzAAALEgAACxIB0t1+/AAAADl0RVh0U29mdHdhcmUAbWF0cGxvdGxpYiB2ZXJzaW9uIDMuMC4yLCBodHRwOi8vbWF0cGxvdGxpYi5vcmcvOIA7rQAAD1tJREFUeJzt3X+MZWV9x/H3R9ZfYMmCO5LtLsnQZGNLTVvIhGpJjHFtC0KAPzSBtHZjSbZNqMXaRBb7B+kfJmva+KNJa7Jh0TWlUIoaSLFWghBrUtBZpPJjUbaIMILsmIqKJqXot3/M2XZKZ2fu3HPv3rnPvl/J5N7z3Ofc881k93Ofec45z01VIUlq18smXYAkabwMeklqnEEvSY0z6CWpcQa9JDXOoJekxhn0ktQ4g16SGmfQS1LjNk26AIAtW7bU7OzspMuQpKly8ODB71XVzFr9NkTQz87OMj8/P+kyJGmqJPn2IP2cupGkxhn0ktQ4g16SGmfQS1LjDHpJapxBL0mNM+glqXFrBn2SG5IcSfLQsra/SPJokq8n+WySzcteuzbJ4STfSPLb4ypckjSYQUb0nwQueEnbncAbqupXgG8C1wIkORu4HPjlbp+/SXLSyKqVJK3bmnfGVtWXksy+pO0LyzbvBd7RPb8UuLmq/hP4VpLDwHnAv46k2hXM7rnjmK89sfeicR1WkqbGKObofx/4p+75NuCpZa8tdG3/T5LdSeaTzC8uLo6gDEnSSnoFfZI/A14EbjzatEK3WmnfqtpXVXNVNTczs+aaPJKkIQ29qFmSXcDFwM6qOhrmC8CZy7ptB54evjxJUl9DjeiTXABcA1xSVT9Z9tLtwOVJXpnkLGAH8JX+ZUqShrXmiD7JTcBbgC1JFoDrWLrK5pXAnUkA7q2qP6yqh5PcAjzC0pTOVVX103EVL0la2yBX3VyxQvP+Vfp/EPhgn6IkSaPjnbGS1DiDXpIaZ9BLUuMMeklqnEEvSY0z6CWpcQa9JDXOoJekxhn0ktQ4g16SGmfQS1LjDHpJapxBL0mNM+glqXEGvSQ1zqCXpMYZ9JLUOINekhpn0EtS4wx6SWqcQS9JjTPoJalxBr0kNc6gl6TGGfSS1Lg1gz7JDUmOJHloWdvpSe5M8lj3eFrXniR/leRwkq8nOXecxUuS1jbIiP6TwAUvadsD3FVVO4C7um2AC4Ed3c9u4OOjKVOSNKxNa3Woqi8lmX1J86XAW7rnB4B7gGu69k9VVQH3JtmcZGtVPTOqgkdhds8dK7Y/sfei41yJJI3fsHP0ZxwN7+7xdV37NuCpZf0WujZJ0oSM+mRsVmirFTsmu5PMJ5lfXFwccRmSpKOGDfpnk2wF6B6PdO0LwJnL+m0Hnl7pDapqX1XNVdXczMzMkGVIktYybNDfDuzqnu8CblvW/nvd1TdvBH6w0ebnJelEs+bJ2CQ3sXTidUuSBeA6YC9wS5IrgSeBd3bdPwe8HTgM/AR49xhqliStwyBX3VxxjJd2rtC3gKv6FiVJGh3vjJWkxhn0ktQ4g16SGmfQS1LjDHpJapxBL0mNM+glqXEGvSQ1zqCXpMYZ9JLUOINekhpn0EtS49Zc1GyaHesrAyXpROKIXpIaZ9BLUuMMeklqnEEvSY0z6CWpcQa9JDXOoJekxhn0ktQ4g16SGmfQS1LjDHpJapxBL0mN6xX0Sf4kycNJHkpyU5JXJTkryX1JHkvy90leMapiJUnrN3TQJ9kG/DEwV1VvAE4CLgc+BHykqnYA3weuHEWhkqTh9J262QS8Oskm4GTgGeCtwK3d6weAy3oeQ5LUw9BBX1XfAf4SeJKlgP8BcBB4rqpe7LotANv6FilJGl6fqZvTgEuBs4CfB04BLlyhax1j/91J5pPMLy4uDluGJGkNfaZu3gZ8q6oWq+q/gM8AvwFs7qZyALYDT6+0c1Xtq6q5qpqbmZnpUYYkaTV9gv5J4I1JTk4SYCfwCHA38I6uzy7gtn4lSpL66DNHfx9LJ13vBx7s3msfcA3wviSHgdcC+0dQpyRpSL2+HLyqrgOue0nz48B5fd5XkjQ63hkrSY0z6CWpcQa9JDWu1xz9iWJ2zx0rtj+x96LjXIkkrZ8jeklqnEEvSY0z6CWpcQa9JDXOoJekxhn0ktQ4g16SGmfQS1LjvGFqmWPdGCVJ08wRvSQ1zqCXpMYZ9JLUOINekhpn0EtS4wx6SWqcQS9JjTPoJalx3jDVg988JWkaOKKXpMYZ9JLUOKduxsApHUkbSa8RfZLNSW5N8miSQ0nelOT0JHcmeax7PG1UxUqS1q/v1M3HgM9X1S8CvwocAvYAd1XVDuCubluSNCFDB32SU4E3A/sBquqFqnoOuBQ40HU7AFzWt0hJ0vD6jOh/AVgEPpHka0muT3IKcEZVPQPQPb5uBHVKkobUJ+g3AecCH6+qc4Afs45pmiS7k8wnmV9cXOxRhiRpNX2CfgFYqKr7uu1bWQr+Z5NsBegej6y0c1Xtq6q5qpqbmZnpUYYkaTVDB31VfRd4Ksnru6adwCPA7cCurm0XcFuvCiVJvfS9jv49wI1JXgE8DrybpQ+PW5JcCTwJvLPnMSRJPfQK+qp6AJhb4aWdfd5XkjQ6LoEgSY0z6CWpcQa9JDXOoJekxhn0ktQ4g16SGmfQS1LjDHpJapxBL0mNM+glqXEGvSQ1zqCXpMYZ9JLUOINekhrXdz16jcDsnjtWbH9i70XHuRJJLXJEL0mNM+glqXEGvSQ1zqCXpMYZ9JLUOINekhpn0EtS4wx6SWqcQS9JjTPoJalxBr0kNa73WjdJTgLmge9U1cVJzgJuBk4H7gfeVVUv9D2O/pdr40haj1GM6K8GDi3b/hDwkaraAXwfuHIEx5AkDalX0CfZDlwEXN9tB3grcGvX5QBwWZ9jSJL66Tui/yjwfuBn3fZrgeeq6sVuewHYttKOSXYnmU8yv7i42LMMSdKxDB30SS4GjlTVweXNK3Stlfavqn1VNVdVczMzM8OWIUlaQ5+TsecDlyR5O/Aq4FSWRvibk2zqRvXbgaf7l9mGY51ElaRxGnpEX1XXVtX2qpoFLge+WFW/A9wNvKPrtgu4rXeVkqShjeM6+muA9yU5zNKc/f4xHEOSNKCRfGdsVd0D3NM9fxw4bxTvK0nqzztjJalxIxnRa2Nb7SSwd9NK7XNEL0mNM+glqXEGvSQ1zqCXpMYZ9JLUOINekhpn0EtS4wx6SWqcN0xtYK52KWkUHNFLUuMMeklqnEEvSY0z6CWpcQa9JDXOoJekxhn0ktQ4r6M/wR3rWn2/kERqhyN6SWqcI/qGeCetpJU4opekxhn0ktQ4g16SGmfQS1Ljhg76JGcmuTvJoSQPJ7m6az89yZ1JHuseTxtduZKk9eozon8R+NOq+iXgjcBVSc4G9gB3VdUO4K5uW5I0IUMHfVU9U1X3d89/BBwCtgGXAge6bgeAy/oWKUka3kjm6JPMAucA9wFnVNUzsPRhALxuFMeQJA2nd9AneQ3waeC9VfXDdey3O8l8kvnFxcW+ZUiSjqHXnbFJXs5SyN9YVZ/pmp9NsrWqnkmyFTiy0r5VtQ/YBzA3N1d96tDx49o40vTpc9VNgP3Aoar68LKXbgd2dc93AbcNX54kqa8+I/rzgXcBDyZ5oGv7ALAXuCXJlcCTwDv7lShJ6mPooK+qLwM5xss7h31fSdJoeWesJDXOZYo1Ep6klTYuR/SS1DhH9BorR/rS5Dmil6TGOaLXivxaQqkdjuglqXGO6DUVnOuXhueIXpIaZ9BLUuOcutFEOBUjHT+O6CWpcY7otaGM6rLOSf7F4F8r2mgc0UtS4wx6SWqcQS9JjTPoJalxBr0kNc6gl6TGeXmlptooV9n0ski1yqDXCWWYDwY/ADTtnLqRpMYZ9JLUOINekhrnHL00YeM+BzDK9/d8xXRKVY3njZMLgI8BJwHXV9XeY/Wdm5ur+fn5oY7jd5vqRLPeUF3v/5HV3n9U/99OxA+GcXxIJjlYVXNr9RvL1E2Sk4C/Bi4EzgauSHL2OI4lSVrduKZuzgMOV9XjAEluBi4FHhnT8aQTxqSmeqbJRlymepLGdTJ2G/DUsu2Frk2SdJyNa0SfFdr+z8mAJLuB3d3m80m+MeSxtgDfG3LfSbLu42caa4Z11p0PjbGS9Vmz7knVuspxJ/ZvpOfv4vWDdBpX0C8AZy7b3g48vbxDVe0D9vU9UJL5QU5GbDTWffxMY81g3cfTNNYMS3UP0m9cUzdfBXYkOSvJK4DLgdvHdCxJ0irGMqKvqheT/BHwzyxdXnlDVT08jmNJklY3thumqupzwOfG9f7L9J7+mRDrPn6msWaw7uNpGmuGAese2w1TkqSNwbVuJKlxUx30SS5I8o0kh5PsmXQ9g0hyQ5IjSR6adC2DSnJmkruTHErycJKrJ13TIJK8KslXkvxbV/efT7qmQSU5KcnXkvzjpGsZVJInkjyY5IFBrwbZCJJsTnJrkke7f+NvmnRNa0ny+u73fPTnh0nee8z+0zp10y2z8E3gN1m6nPOrwBVVtaHvvk3yZuB54FNV9YZJ1zOIJFuBrVV1f5KfAw4Cl03B7zrAKVX1fJKXA18Grq6qeydc2pqSvA+YA06tqosnXc8gkjwBzFXVVN2zkOQA8C9VdX13leDJVfXcpOsaVJeF3wF+vaq+vVKfaR7R/88yC1X1AnB0mYUNraq+BPzHpOtYj6p6pqru757/CDjEFNzpXEue7zZf3v1s+JFNku3ARcD1k66ldUlOBd4M7AeoqhemKeQ7O4F/P1bIw3QHvcssTECSWeAc4L7JVjKYbgrkAeAIcGdVTUPdHwXeD/xs0oWsUwFfSHKwu/N9GvwCsAh8opsquz7JKZMuap0uB25arcM0B/2ayyxotJK8Bvg08N6q+uGk6xlEVf20qn6Npbuzz0uyoafLklwMHKmqg5OuZQjnV9W5LK1ae1U3TbnRbQLOBT5eVecAPwam4nwfQDfVdAnwD6v1m+agX3OZBY1ON8f9aeDGqvrMpOtZr+7P8XuACyZcylrOBy7p5rtvBt6a5G8nW9Jgqurp7vEI8FmWplc3ugVgYdlfereyFPzT4kLg/qp6drVO0xz0LrNwnHQnNfcDh6rqw5OuZ1BJZpJs7p6/Gngb8Ohkq1pdVV1bVdurapalf9NfrKrfnXBZa0pySneinm7q47eADX9lWVV9F3gqydHFwXYyXcupX8Ea0zYwxV8lOK3LLCS5CXgLsCXJAnBdVe2fbFVrOh94F/BgN98N8IHu7ueNbCtwoLsq4WXALVU1NZcrTpkzgM8ujQnYBPxdVX1+siUN7D3Ajd2A8XHg3ROuZyBJTmbpqsM/WLPvtF5eKUkazDRP3UiSBmDQS1LjDHpJapxBL0mNM+glqXEGvSQ1zqCXpMYZ9JLUuP8GVMTp4wTuboAAAAAASUVORK5CYII=\n",
>>>>>>> 52d14ad07af519d26bab28f841fdbffe5772c58b
      "text/plain": [
       "<Figure size 432x288 with 1 Axes>"
      ]
     },
     "metadata": {
      "needs_background": "light"
     },
     "output_type": "display_data"
    }
   ],
   "source": [
<<<<<<< HEAD
    "plt.hist(exponential, bins = 50)\n",
=======
    "plt.hist(exponential, bins=50)\n",
>>>>>>> 52d14ad07af519d26bab28f841fdbffe5772c58b
    "plt.show()"
   ]
  },
  {
   "cell_type": "code",
<<<<<<< HEAD
   "execution_count": 73,
=======
   "execution_count": 23,
>>>>>>> 52d14ad07af519d26bab28f841fdbffe5772c58b
   "metadata": {
    "slideshow": {
     "slide_type": "slide"
    }
   },
   "outputs": [
    {
     "name": "stdout",
     "output_type": "stream",
     "text": [
<<<<<<< HEAD
      "mean = 1.018403940677546\n"
=======
      "mean = 1.0655505323930614\n"
     ]
    },
    {
     "name": "stderr",
     "output_type": "stream",
     "text": [
      "//anaconda3/envs/learn-env/lib/python3.6/site-packages/scipy/stats/stats.py:1713: FutureWarning: Using a non-tuple sequence for multidimensional indexing is deprecated; use `arr[tuple(seq)]` instead of `arr[seq]`. In the future this will be interpreted as an array index, `arr[np.array(seq)]`, which will result either in an error or a different result.\n",
      "  return np.add.reduce(sorted[indexer] * weights, axis=axis) / sumval\n"
>>>>>>> 52d14ad07af519d26bab28f841fdbffe5772c58b
     ]
    },
    {
     "data": {
<<<<<<< HEAD
      "image/png": "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\n",
=======
      "image/png": "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\n",
>>>>>>> 52d14ad07af519d26bab28f841fdbffe5772c58b
      "text/plain": [
       "<Figure size 432x288 with 1 Axes>"
      ]
     },
     "metadata": {
      "needs_background": "light"
     },
     "output_type": "display_data"
    }
   ],
   "source": [
<<<<<<< HEAD
    "central_limit_theorem_plotter(exponential, 4000, 100000)"
=======
    "central_limit_theorem_plotter(exponential,4000,10000)"
>>>>>>> 52d14ad07af519d26bab28f841fdbffe5772c58b
   ]
  },
  {
   "cell_type": "markdown",
   "metadata": {
    "slideshow": {
     "slide_type": "slide"
    }
   },
   "source": [
    "### Standard Error of the Mean"
   ]
  },
  {
   "cell_type": "markdown",
   "metadata": {},
   "source": [
    "The standard error of the mean is the standard deviation of the sampling distribution.\n",
    "The issue is that a sample is not an exact replica of the population. We need to account for the fact that in order to make our estimate of the $\\mu$ value possible. Let's break it down:\n",
    "\n",
    "**Population sigma**\n",
    "### $\\sigma _{x} = \\frac{\\sigma }{\\sqrt{n}}$\n",
    "\n",
    "* $ \\sigma _{x}$ = standard error of $\\bar{x} $\n",
    "* $ \\sigma $ = standard deviation of population"
   ]
  },
  {
   "cell_type": "markdown",
   "metadata": {
    "slideshow": {
     "slide_type": "slide"
    }
   },
   "source": [
    "\n",
    "**What if we do not know the population sigma?**<br>\n",
    "If we do not know the population standard deviation, we can approximate for it by used the sample standard deviation.\n",
    "\n",
    "### $\\sigma _{x} ≈ \\frac{s}{\\sqrt{n}}$\n",
    "\n",
    "* s = sample standard deviation"
   ]
  },
  {
   "cell_type": "markdown",
   "metadata": {
    "slideshow": {
     "slide_type": "slide"
    }
   },
   "source": [
    "**Sample size impact on standard error of mean**<br>\n",
    "\n",
    "How should sample size influence standard error of the mean?\n",
    "\n",
    "It will get *smaller* as sample size *increases*\n",
    "\n",
    "![error](./img/diminishing_error.png)\n",
    "Important implication: The Standard Error of the mean remains the same as long as the population standard deviation is known and sample size remains the same.\n"
   ]
  },
  {
   "cell_type": "markdown",
   "metadata": {
    "slideshow": {
     "slide_type": "slide"
    }
   },
   "source": [
    "### Confidence Intervals"
   ]
  },
  {
   "cell_type": "markdown",
   "metadata": {
    "slideshow": {
     "slide_type": "fragment"
    }
   },
   "source": [
    "![formula](./img/margin_of_error.png)\n",
    "\n",
    "Point estimate +/- margin of error"
   ]
  },
  {
   "cell_type": "markdown",
   "metadata": {
    "slideshow": {
     "slide_type": "slide"
    }
   },
   "source": [
    "**KEY POINT** : Our level of confidence that if we obtained a sample of equal size, our sample interval would contain the population mean.\n",
    "\n",
    "**IT IS NOT** : The probability that the population mean lies within our sample interval. <-- this implies that there is an element of probability related to having the population mean within our sample. It either is or it is not."
   ]
  },
  {
   "cell_type": "markdown",
   "metadata": {
    "slideshow": {
     "slide_type": "slide"
    }
   },
   "source": [
    "#### Example 1:\n",
    "Let's construct an 80% and 95% confidence interval for one of our samples: \n",
    "\n"
   ]
  },
  {
   "cell_type": "code",
   "execution_count": 76,
   "metadata": {},
   "outputs": [
    {
     "data": {
      "text/plain": [
       "(14.318836315101741, 19.027663684898258)"
      ]
     },
     "execution_count": 76,
     "metadata": {},
     "output_type": "execute_result"
    }
   ],
   "source": [
    "import scipy.stats as scs\n",
    "sample = np.random.choice(trip_durations, size=200)\n",
    "sample_size = 200\n",
    "sample_mean = sample.mean()\n",
    "z_critical_upper = scs.norm.ppf(0.975)\n",
    "# z_critical_lower = scs.norm.ppf(0.025)\n",
    "margin_of_error = z_critical_upper * (pop_std/(sample_size**0.5))\n",
    "confidence_interval = (sample_mean - margin_of_error,\n",
    "                       sample_mean + margin_of_error)\n",
    "confidence_interval"
   ]
  },
  {
   "cell_type": "markdown",
   "metadata": {
    "slideshow": {
     "slide_type": "slide"
    }
   },
   "source": [
    "#### Example 2:\n",
    "The EPA considers indoor radon levels above 4 picocuries per liter (pCi/L) of air to be high enough to warrant amelioration efforts.  Tests in a sample of 200 Centre County Pennsylvania homes found 127 (63.5%) of these sampled households to have indoor radon levels above 4 pCi/L.  What is the population value being estimated by this sample percentage? What is the standard error of the corresponding sample proportion? What is the 95% confidence interval?\""
   ]
  },
  {
   "cell_type": "code",
   "execution_count": 77,
   "metadata": {
    "slideshow": {
     "slide_type": "slide"
    }
   },
   "outputs": [
    {
     "name": "stdout",
     "output_type": "stream",
     "text": [
      "(0.6028782141111354, 0.6671217858888646)\n"
     ]
    }
   ],
   "source": [
    "p = 0.635\n",
    "std_error = (p*(1-p))/(200**0.5)\n",
    "\n",
    "critical_value = scs.norm.ppf(0.975)\n",
    "margin_of_error = critical_value*std_error\n",
    "confidence_interval = (p - margin_of_error, p + margin_of_error)\n",
    "print(confidence_interval)"
   ]
  },
  {
   "cell_type": "markdown",
   "metadata": {
    "slideshow": {
     "slide_type": "slide"
    }
   },
   "source": [
    "## Student's T Distribution\n",
    "\n",
    "![imgguiness](./img/guiness.png)"
   ]
  },
  {
   "cell_type": "markdown",
   "metadata": {
    "slideshow": {
     "slide_type": "-"
    }
   },
   "source": [
    "We can use the normal distribution when either:\n",
    "* the population standard deviation is known\n",
    "* the sample size is greater than 100.\n",
    "\n",
    "If **neither** of those hold true, we need to use the **T-distribution**. The t-distribution is wider and has different critical values for different sample sizes.\n"
   ]
  },
  {
   "cell_type": "markdown",
   "metadata": {
    "slideshow": {
     "slide_type": "slide"
    }
   },
   "source": [
    "PDF of T-distribution: ${\\frac {\\Gamma \\left({\\frac {\\nu +1}{2}}\\right)}{{\\sqrt {\\nu \\pi }}\\,\\Gamma \\left({\\frac {\\nu }{2}}\\right)}}\\left(1+{\\frac {x^{2}}{\\nu }}\\right)^{-{\\frac {\\nu +1}{2}}}\\!$\n",
    "\n",
    "parameter: $\\nu > 0$ where $\\nu$ is degrees of freedom (n-1)"
   ]
  },
  {
   "cell_type": "markdown",
   "metadata": {},
   "source": [
    "**T distribution becomes closer to Z distribuution as n increases**\n",
    "![zvt](./img/z_vs_t.png)"
   ]
  },
  {
   "cell_type": "markdown",
   "metadata": {
    "slideshow": {
     "slide_type": "slide"
    }
   },
   "source": [
    "#### T-Distribution Example"
   ]
  },
  {
   "cell_type": "markdown",
   "metadata": {},
   "source": [
    "1. You are inspecting a hardware factory and want to construct a 90% confidence interval of acceptable screw lengths. You draw a sample of 30 screws and calculate their mean length as 4.8 centimeters and the standard deviation as 0.4 centimeters. What are the bounds of your confidence interval?\n",
    "\n"
   ]
  },
  {
   "cell_type": "code",
   "execution_count": 78,
   "metadata": {},
   "outputs": [],
   "source": [
    "import scipy.stats as scs\n",
    "n = 30\n",
    "mean = 4.8\n",
    "t_value = scs.t.ppf(0.95, n-1)\n",
    "margin_error = t_value * 0.4/(n**0.5)\n",
    "confidence_interval = (mean - margin_error, mean + margin_error)"
   ]
  },
  {
   "cell_type": "code",
   "execution_count": 79,
   "metadata": {},
   "outputs": [
    {
     "data": {
      "text/plain": [
       "(4.6759133066001235, 4.924086693399876)"
      ]
     },
     "execution_count": 79,
     "metadata": {},
     "output_type": "execute_result"
    }
   ],
   "source": [
    "confidence_interval"
   ]
  },
  {
   "cell_type": "markdown",
   "metadata": {
    "slideshow": {
     "slide_type": "slide"
    }
   },
   "source": [
    "\n"
   ]
  },
  {
   "cell_type": "code",
   "execution_count": null,
   "metadata": {},
   "outputs": [],
   "source": []
  }
 ],
 "metadata": {
  "kernelspec": {
   "display_name": "Python 3",
   "language": "python",
   "name": "python3"
  },
  "language_info": {
   "codemirror_mode": {
    "name": "ipython",
    "version": 3
   },
   "file_extension": ".py",
   "mimetype": "text/x-python",
   "name": "python",
   "nbconvert_exporter": "python",
   "pygments_lexer": "ipython3",
   "version": "3.6.6"
  }
 },
 "nbformat": 4,
 "nbformat_minor": 4
}
