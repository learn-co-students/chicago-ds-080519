{
 "cells": [
  {
   "cell_type": "markdown",
   "metadata": {
    "ein.tags": "worksheet-0",
    "slideshow": {
     "slide_type": "-"
    }
   },
   "source": [
    "# Module 3 Assessment"
   ]
  },
  {
   "cell_type": "markdown",
   "metadata": {
    "ein.tags": "worksheet-0",
    "slideshow": {
     "slide_type": "-"
    }
   },
   "source": [
    "Welcome to your Mod 3 Assessment. You will be tested for your understanding of concepts and ability to solve problems that have been covered in class and in the curriculum.\n",
    "\n",
    "Use any libraries you want to solve the problems in the assessment.\n",
    "\n",
    "_Read the instructions carefully_. You will be asked both to write code and respond to a few short answer questions.\n",
    "\n",
    "**Note on the short answer questions**: For the short answer questions please use your own words. The expectation is that you have not copied and pasted from an external source, even if you consult another source to help craft your response. While the short answer questions are not necessarily being assessed on grammatical correctness or sentence structure, you should do your best to communicate yourself clearly.\n",
    "\n",
    "The sections of the assessment are:\n",
    "- Combinatorics, Probability and Discrete Distributions\n",
    "- Statistical Distributions\n",
    "- Statistical Tests\n",
    "\n",
    "\n"
   ]
  },
  {
   "cell_type": "code",
<<<<<<< HEAD
   "execution_count": 1,
=======
   "execution_count": 16,
>>>>>>> 52d14ad07af519d26bab28f841fdbffe5772c58b
   "metadata": {
    "autoscroll": false,
    "ein.hycell": false,
    "ein.tags": "worksheet-0",
    "jupyter": {
     "outputs_hidden": false
    },
    "slideshow": {
     "slide_type": "-"
    }
   },
   "outputs": [],
   "source": [
    "# import the necessary libraries\n",
    "import numpy as np\n",
    "import pandas as pd \n",
    "from scipy import stats\n",
    "import matplotlib.pyplot as plt\n",
    "import pickle\n",
    "import math"
   ]
  },
  {
   "cell_type": "markdown",
   "metadata": {
    "ein.tags": "worksheet-0",
    "slideshow": {
     "slide_type": "-"
    }
   },
   "source": [
    "## Part 1: Combinatorics, Probability & Discrete Distributions [Suggested time: 20 minutes]\n",
    "\n",
    "### a. Set Theory\n",
    "\n",
    "Given the following probabilities:\n",
    "\n",
    "$P(A) = 0.7$\n",
    "\n",
    "$P(B) = 0.5$\n",
    "\n",
    "$P(B|A) = 0.4$\n",
    "\n",
    "Calculate the following probabilities and assign to the variables `ans1` and `ans2`, respectively, in the next cell:\n",
    "\n",
    "1.a.1) $P(A and B)$\n",
    "1.a.2) $P(A|B)$\n",
    "\n",
    "Hint: draw a diagram!\n"
   ]
  },
  {
   "cell_type": "code",
<<<<<<< HEAD
   "execution_count": 3,
   "metadata": {},
   "outputs": [],
   "source": [
    "a = 0.7\n",
    "b = 0.5\n",
    "b_a = 0.4"
   ]
  },
  {
   "cell_type": "code",
   "execution_count": 4,
=======
   "execution_count": 30,
>>>>>>> 52d14ad07af519d26bab28f841fdbffe5772c58b
   "metadata": {
    "autoscroll": false,
    "ein.hycell": false,
    "ein.tags": "worksheet-0",
    "jupyter": {
     "outputs_hidden": false
    },
    "slideshow": {
     "slide_type": "-"
    }
   },
   "outputs": [],
   "source": [
<<<<<<< HEAD
    "ans1 = a+b-(a*b)\n",
    "ans2 = 1-b_a"
=======
    "ans1 = 0.7 * 0.5\n",
    "ans2 = (0.7 + 0.5) - (0.7 * 0.5)"
>>>>>>> 52d14ad07af519d26bab28f841fdbffe5772c58b
   ]
  },
  {
   "cell_type": "markdown",
   "metadata": {
    "ein.tags": "worksheet-0",
    "slideshow": {
     "slide_type": "-"
    }
   },
   "source": [
    "### b. Card Combinatorics\n",
    "\n",
    "A standard deck of playing cards consists of 52 cards in each of the four suits of spades, hearts, diamonds, and clubs. Each suit contains 13 cards: Ace, 2, 3, 4, 5, 6, 7, 8, 9, 10, Jack, Queen, and King.\n",
    "    \n",
    "You have a standard deck of 52 cards and are asked the following questions:\n",
    "\n",
    "1.b.1) What is the probability of drawing a King or a Queen?\n",
    "\n",
    "1.b.2) How many possible 5-card combinations can be formed with this deck of 52 cards?\n",
    "\n",
    "Answer the questions below:"
   ]
  },
  {
   "cell_type": "code",
<<<<<<< HEAD
   "execution_count": 5,
=======
   "execution_count": 4,
>>>>>>> 52d14ad07af519d26bab28f841fdbffe5772c58b
   "metadata": {
    "autoscroll": false,
    "ein.hycell": false,
    "ein.tags": "worksheet-0",
    "jupyter": {
     "outputs_hidden": false
    },
    "slideshow": {
     "slide_type": "-"
    }
   },
   "outputs": [
    {
     "data": {
      "text/plain": [
       "2598960.0"
      ]
     },
     "execution_count": 4,
     "metadata": {},
     "output_type": "execute_result"
    }
   ],
   "source": [
<<<<<<< HEAD
    "import math\n",
    "ans1 = 4/52 + 4/52\n",
    "ans2 = math.factorial(72)/(math.factorial(72-5)*math.factorial(5))"
=======
    "ans1 = 8/52\n",
    "\n",
    "def factorial(n):\n",
    "    prod = 1\n",
    "    while n >= 1:\n",
    "        prod = prod * n\n",
    "        n = n - 1\n",
    "    return prod\n",
    "\n",
    "ans2 = factorial(52)/(factorial(47)*factorial(5))"
>>>>>>> 52d14ad07af519d26bab28f841fdbffe5772c58b
   ]
  },
  {
   "cell_type": "markdown",
   "metadata": {
    "ein.tags": "worksheet-0",
    "slideshow": {
     "slide_type": "-"
    }
   },
   "source": [
    "### c. Discrete Probability Distributions\n",
    "\n",
    "In a game with the same deck of 52 cards, you draw a card $n$ times with replacement. You win a point by drawing a face card (Jack, Queen, or King). \n",
    "\n",
    "The function `probability_of_scoring_k` is provided below. In this function, $k$ is the number of points won in the game, $n$ is the number of draws, and $p$ is the probability of winning a point. The function returns the corresponding probability of scoring $k$ points given $n$ and $p$."
   ]
  },
  {
   "cell_type": "code",
<<<<<<< HEAD
   "execution_count": 7,
=======
   "execution_count": 5,
>>>>>>> 52d14ad07af519d26bab28f841fdbffe5772c58b
   "metadata": {
    "autoscroll": false,
    "ein.hycell": false,
    "ein.tags": "worksheet-0",
    "jupyter": {
     "outputs_hidden": false
    },
    "slideshow": {
     "slide_type": "-"
    }
   },
   "outputs": [],
   "source": [
    "def probability_of_scoring_k(n, p, k):\n",
    "    \"\"\"\n",
    "    n = number of draws\n",
    "    p = probability of winning a point\n",
    "    k = number of points scored\n",
    "    \n",
    "    Use np.factorial()\n",
    "    \"\"\"\n",
    "    # defining a helper function for factorial\n",
    "    def fact(n):\n",
    "        return np.math.factorial(n)\n",
    "    \n",
    "    return (fact(n)/(fact(k)*fact(n-k)))*(p**(k))*((1-p)**(n-k))"
   ]
  },
  {
   "cell_type": "markdown",
   "metadata": {
    "ein.tags": "worksheet-0",
    "slideshow": {
     "slide_type": "-"
    }
   },
   "source": [
    "1.c.1) What is the probability $p$ of winning a point? "
   ]
  },
  {
   "cell_type": "code",
<<<<<<< HEAD
   "execution_count": 8,
=======
   "execution_count": 6,
>>>>>>> 52d14ad07af519d26bab28f841fdbffe5772c58b
   "metadata": {
    "autoscroll": false,
    "ein.hycell": false,
    "ein.tags": "worksheet-0",
    "jupyter": {
     "outputs_hidden": false
    },
    "slideshow": {
     "slide_type": "-"
    }
   },
   "outputs": [],
   "source": [
    "# your code here \n",
<<<<<<< HEAD
    "\n",
    "p = 4/52+4/52+4/52"
=======
    "p = 12/52"
>>>>>>> 52d14ad07af519d26bab28f841fdbffe5772c58b
   ]
  },
  {
   "cell_type": "markdown",
   "metadata": {
    "ein.tags": "worksheet-0",
    "slideshow": {
     "slide_type": "-"
    }
   },
   "source": [
    "1.c.2) Use the function `probability_of_scoring_k` to compute the probability of scoring 8 points out out of 22 draws."
   ]
  },
  {
   "cell_type": "code",
<<<<<<< HEAD
   "execution_count": 10,
=======
   "execution_count": 8,
>>>>>>> 52d14ad07af519d26bab28f841fdbffe5772c58b
   "metadata": {
    "autoscroll": false,
    "ein.hycell": false,
    "ein.tags": "worksheet-0",
    "jupyter": {
     "outputs_hidden": false
    },
    "slideshow": {
     "slide_type": "-"
    }
   },
   "outputs": [
    {
     "name": "stdout",
     "output_type": "stream",
     "text": [
      "0.06532117736042573\n"
     ]
    }
   ],
   "source": [
    "# your code here \n",
    "ans1 = probability_of_scoring_k(22,p,8)\n",
    "print(ans1)"
   ]
  },
  {
   "cell_type": "markdown",
   "metadata": {
    "ein.tags": "worksheet-0",
    "slideshow": {
     "slide_type": "-"
    }
   },
   "source": [
    "1.c.3) Use the function `probability_of_scoring_k` to calculate the probability of drawing $k$ points out of 22 draws, for $k$ ranging from 0 to 22. \n",
    "\n",
    "_Hint: Your final result should be in the form of a list or array._"
   ]
  },
  {
   "cell_type": "code",
<<<<<<< HEAD
   "execution_count": 14,
=======
   "execution_count": 9,
>>>>>>> 52d14ad07af519d26bab28f841fdbffe5772c58b
   "metadata": {
    "autoscroll": false,
    "ein.hycell": false,
    "ein.tags": "worksheet-0",
    "jupyter": {
     "outputs_hidden": false
    },
    "slideshow": {
     "slide_type": "-"
    }
   },
   "outputs": [
    {
     "ename": "TypeError",
     "evalue": "an integer is required (got type range)",
     "output_type": "error",
     "traceback": [
      "\u001b[0;31m---------------------------------------------------------------------------\u001b[0m",
      "\u001b[0;31mTypeError\u001b[0m                                 Traceback (most recent call last)",
      "\u001b[0;32m<ipython-input-9-bb5eb7da1add>\u001b[0m in \u001b[0;36m<module>\u001b[0;34m()\u001b[0m\n\u001b[1;32m      1\u001b[0m \u001b[0mk_values\u001b[0m \u001b[0;34m=\u001b[0m \u001b[0mrange\u001b[0m\u001b[0;34m(\u001b[0m\u001b[0;36m23\u001b[0m\u001b[0;34m)\u001b[0m\u001b[0;34m\u001b[0m\u001b[0m\n\u001b[0;32m----> 2\u001b[0;31m \u001b[0mprobability_of_scoring_k\u001b[0m\u001b[0;34m(\u001b[0m\u001b[0;36m22\u001b[0m\u001b[0;34m,\u001b[0m\u001b[0mp\u001b[0m\u001b[0;34m,\u001b[0m\u001b[0mk_values\u001b[0m\u001b[0;34m)\u001b[0m\u001b[0;34m\u001b[0m\u001b[0m\n\u001b[0m",
      "\u001b[0;32m<ipython-input-5-e44e0e0612ac>\u001b[0m in \u001b[0;36mprobability_of_scoring_k\u001b[0;34m(n, p, k)\u001b[0m\n\u001b[1;32m     13\u001b[0m         \u001b[0;32mreturn\u001b[0m \u001b[0mnp\u001b[0m\u001b[0;34m.\u001b[0m\u001b[0mmath\u001b[0m\u001b[0;34m.\u001b[0m\u001b[0mfactorial\u001b[0m\u001b[0;34m(\u001b[0m\u001b[0mn\u001b[0m\u001b[0;34m)\u001b[0m\u001b[0;34m\u001b[0m\u001b[0m\n\u001b[1;32m     14\u001b[0m \u001b[0;34m\u001b[0m\u001b[0m\n\u001b[0;32m---> 15\u001b[0;31m     \u001b[0;32mreturn\u001b[0m \u001b[0;34m(\u001b[0m\u001b[0mfact\u001b[0m\u001b[0;34m(\u001b[0m\u001b[0mn\u001b[0m\u001b[0;34m)\u001b[0m\u001b[0;34m/\u001b[0m\u001b[0;34m(\u001b[0m\u001b[0mfact\u001b[0m\u001b[0;34m(\u001b[0m\u001b[0mk\u001b[0m\u001b[0;34m)\u001b[0m\u001b[0;34m*\u001b[0m\u001b[0mfact\u001b[0m\u001b[0;34m(\u001b[0m\u001b[0mn\u001b[0m\u001b[0;34m-\u001b[0m\u001b[0mk\u001b[0m\u001b[0;34m)\u001b[0m\u001b[0;34m)\u001b[0m\u001b[0;34m)\u001b[0m\u001b[0;34m*\u001b[0m\u001b[0;34m(\u001b[0m\u001b[0mp\u001b[0m\u001b[0;34m**\u001b[0m\u001b[0;34m(\u001b[0m\u001b[0mk\u001b[0m\u001b[0;34m)\u001b[0m\u001b[0;34m)\u001b[0m\u001b[0;34m*\u001b[0m\u001b[0;34m(\u001b[0m\u001b[0;34m(\u001b[0m\u001b[0;36m1\u001b[0m\u001b[0;34m-\u001b[0m\u001b[0mp\u001b[0m\u001b[0;34m)\u001b[0m\u001b[0;34m**\u001b[0m\u001b[0;34m(\u001b[0m\u001b[0mn\u001b[0m\u001b[0;34m-\u001b[0m\u001b[0mk\u001b[0m\u001b[0;34m)\u001b[0m\u001b[0;34m)\u001b[0m\u001b[0;34m\u001b[0m\u001b[0m\n\u001b[0m",
      "\u001b[0;32m<ipython-input-5-e44e0e0612ac>\u001b[0m in \u001b[0;36mfact\u001b[0;34m(n)\u001b[0m\n\u001b[1;32m     11\u001b[0m     \u001b[0;31m# defining a helper function for factorial\u001b[0m\u001b[0;34m\u001b[0m\u001b[0;34m\u001b[0m\u001b[0m\n\u001b[1;32m     12\u001b[0m     \u001b[0;32mdef\u001b[0m \u001b[0mfact\u001b[0m\u001b[0;34m(\u001b[0m\u001b[0mn\u001b[0m\u001b[0;34m)\u001b[0m\u001b[0;34m:\u001b[0m\u001b[0;34m\u001b[0m\u001b[0m\n\u001b[0;32m---> 13\u001b[0;31m         \u001b[0;32mreturn\u001b[0m \u001b[0mnp\u001b[0m\u001b[0;34m.\u001b[0m\u001b[0mmath\u001b[0m\u001b[0;34m.\u001b[0m\u001b[0mfactorial\u001b[0m\u001b[0;34m(\u001b[0m\u001b[0mn\u001b[0m\u001b[0;34m)\u001b[0m\u001b[0;34m\u001b[0m\u001b[0m\n\u001b[0m\u001b[1;32m     14\u001b[0m \u001b[0;34m\u001b[0m\u001b[0m\n\u001b[1;32m     15\u001b[0m     \u001b[0;32mreturn\u001b[0m \u001b[0;34m(\u001b[0m\u001b[0mfact\u001b[0m\u001b[0;34m(\u001b[0m\u001b[0mn\u001b[0m\u001b[0;34m)\u001b[0m\u001b[0;34m/\u001b[0m\u001b[0;34m(\u001b[0m\u001b[0mfact\u001b[0m\u001b[0;34m(\u001b[0m\u001b[0mk\u001b[0m\u001b[0;34m)\u001b[0m\u001b[0;34m*\u001b[0m\u001b[0mfact\u001b[0m\u001b[0;34m(\u001b[0m\u001b[0mn\u001b[0m\u001b[0;34m-\u001b[0m\u001b[0mk\u001b[0m\u001b[0;34m)\u001b[0m\u001b[0;34m)\u001b[0m\u001b[0;34m)\u001b[0m\u001b[0;34m*\u001b[0m\u001b[0;34m(\u001b[0m\u001b[0mp\u001b[0m\u001b[0;34m**\u001b[0m\u001b[0;34m(\u001b[0m\u001b[0mk\u001b[0m\u001b[0;34m)\u001b[0m\u001b[0;34m)\u001b[0m\u001b[0;34m*\u001b[0m\u001b[0;34m(\u001b[0m\u001b[0;34m(\u001b[0m\u001b[0;36m1\u001b[0m\u001b[0;34m-\u001b[0m\u001b[0mp\u001b[0m\u001b[0;34m)\u001b[0m\u001b[0;34m**\u001b[0m\u001b[0;34m(\u001b[0m\u001b[0mn\u001b[0m\u001b[0;34m-\u001b[0m\u001b[0mk\u001b[0m\u001b[0;34m)\u001b[0m\u001b[0;34m)\u001b[0m\u001b[0;34m\u001b[0m\u001b[0m\n",
      "\u001b[0;31mTypeError\u001b[0m: an integer is required (got type range)"
     ]
    }
   ],
   "source": [
<<<<<<< HEAD
    "# your code here\n",
    "k_values = range(23)\n",
    "p_list = []\n",
    "for k in k_values:\n",
    "    p_list.append(probability_of_scoring_k(22,p,k))"
=======
    "k_values = range(23)\n",
    "probability_of_scoring_k(22,p,k_values)\n"
>>>>>>> 52d14ad07af519d26bab28f841fdbffe5772c58b
   ]
  },
  {
   "cell_type": "markdown",
   "metadata": {
    "ein.tags": "worksheet-0",
    "slideshow": {
     "slide_type": "-"
    }
   },
   "source": [
    "1.c.4) Plot your results to create the probability mass function. Use a bar plot. What type of distribution does the `probability_of_scoring_k` have?"
   ]
  },
  {
   "cell_type": "code",
   "execution_count": 35,
   "metadata": {
    "autoscroll": false,
    "ein.hycell": false,
    "ein.tags": "worksheet-0",
    "jupyter": {
     "outputs_hidden": false
    },
    "slideshow": {
     "slide_type": "-"
    }
   },
   "outputs": [
    {
     "data": {
      "image/png": "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\n",
      "text/plain": [
       "<Figure size 432x288 with 1 Axes>"
      ]
     },
     "metadata": {
      "needs_background": "light"
     },
     "output_type": "display_data"
    }
   ],
   "source": [
    "# your code here \n",
    "x=range(23)\n",
    "plt.bar(x,height=p_list,data=p_list)\n",
    "plt.show()"
   ]
  },
  {
   "cell_type": "code",
   "execution_count": 39,
   "metadata": {
    "autoscroll": false,
    "ein.hycell": false,
    "ein.tags": "worksheet-0",
    "jupyter": {
     "outputs_hidden": false
    },
    "slideshow": {
     "slide_type": "-"
    }
   },
   "outputs": [
    {
     "data": {
      "text/plain": [
       "'It is normally distributed'"
      ]
     },
     "execution_count": 39,
     "metadata": {},
     "output_type": "execute_result"
    }
   ],
   "source": [
    "\"It is normally distributed\"\n"
   ]
  },
  {
   "cell_type": "markdown",
   "metadata": {
    "ein.tags": "worksheet-0",
    "slideshow": {
     "slide_type": "-"
    }
   },
   "source": [
    "## Part 2: Statistical Distributions [Suggested time: 25 minutes]"
   ]
  },
  {
   "cell_type": "markdown",
   "metadata": {
    "ein.tags": "worksheet-0",
    "slideshow": {
     "slide_type": "-"
    }
   },
   "source": [
    "### a. Normal Distributions\n",
    "\n",
    "Say we have check totals for all checks ever written at a TexMex restaurant. \n",
    "\n",
    "The distribution for this population of check totals happens to be normally distributed with a population mean of $\\mu = 20$ and population standard deviation of $\\sigma = 2$. "
   ]
  },
  {
   "cell_type": "markdown",
   "metadata": {
    "ein.tags": "worksheet-0",
    "slideshow": {
     "slide_type": "-"
    }
   },
   "source": [
    "2.a.1) Write a function to compute the z-scores for single checks of amount `check_amt`."
   ]
  },
  {
   "cell_type": "code",
<<<<<<< HEAD
   "execution_count": 84,
   "metadata": {},
   "outputs": [],
   "source": [
    "df = pd.read_pickle('data/data10000.pkl')\n",
    "df1 = pd.read_pickle('data/no_queso.pkl')"
   ]
  },
  {
   "cell_type": "code",
   "execution_count": 107,
=======
   "execution_count": 12,
>>>>>>> 52d14ad07af519d26bab28f841fdbffe5772c58b
   "metadata": {
    "autoscroll": false,
    "ein.hycell": false,
    "ein.tags": "worksheet-0",
    "jupyter": {
     "outputs_hidden": false
    },
    "slideshow": {
     "slide_type": "-"
    }
   },
   "outputs": [],
   "source": [
    "pop_mean = 20\n",
    "sigma = 2\n",
    "sample_mean= np.mean(df)\n",
    "\n",
    "def z_score(check_amt):\n",
<<<<<<< HEAD
    "    \"\"\"\n",
    "    check_amt = the amount for which we want to compute the z-score\n",
    "    \"\"\"\n",
    "    return (sample_mean-pop_mean)/((sigma)/np.sqrt(check_amt))"
=======
    "    \n",
    "    return (check_amt-20)/2"
>>>>>>> 52d14ad07af519d26bab28f841fdbffe5772c58b
   ]
  },
  {
   "cell_type": "markdown",
   "metadata": {
    "ein.tags": "worksheet-0",
    "slideshow": {
     "slide_type": "-"
    }
   },
   "source": [
    "2.a.2) I go to the TexMex restaurant and get a check for 24 dollars. \n",
    "\n",
    "Use your function to compute your check's z-score, and interpret the result using the empirical rule. "
   ]
  },
  {
   "cell_type": "code",
<<<<<<< HEAD
   "execution_count": 108,
=======
   "execution_count": 13,
>>>>>>> 52d14ad07af519d26bab28f841fdbffe5772c58b
   "metadata": {
    "autoscroll": false,
    "ein.hycell": false,
    "ein.tags": "worksheet-0",
    "jupyter": {
     "outputs_hidden": false
    },
    "slideshow": {
     "slide_type": "-"
    }
   },
   "outputs": [
    {
     "data": {
      "text/plain": [
<<<<<<< HEAD
       "0.0689927910937579"
      ]
     },
     "execution_count": 108,
=======
       "2.0"
      ]
     },
     "execution_count": 13,
>>>>>>> 52d14ad07af519d26bab28f841fdbffe5772c58b
     "metadata": {},
     "output_type": "execute_result"
    }
   ],
   "source": [
<<<<<<< HEAD
    "# your code here \n",
    "z_score(24)\n"
=======
    "z_score(24)"
>>>>>>> 52d14ad07af519d26bab28f841fdbffe5772c58b
   ]
  },
  {
   "cell_type": "code",
   "execution_count": 109,
   "metadata": {
    "autoscroll": false,
    "ein.hycell": false,
    "ein.tags": "worksheet-0",
    "jupyter": {
     "outputs_hidden": false
    },
    "slideshow": {
     "slide_type": "-"
    }
   },
   "outputs": [
    {
     "data": {
      "text/plain": [
       "'Our check was 0.0689927910937579 std.dev above the mean'"
      ]
     },
     "execution_count": 109,
     "metadata": {},
     "output_type": "execute_result"
    }
   ],
   "source": [
<<<<<<< HEAD
    "# your answer here\n",
    "\"Our check was 0.0689927910937579 std.dev above the mean\""
=======
    "#The amount is 2 standard deviations above the mean"
>>>>>>> 52d14ad07af519d26bab28f841fdbffe5772c58b
   ]
  },
  {
   "cell_type": "markdown",
   "metadata": {
    "ein.tags": "worksheet-0",
    "slideshow": {
     "slide_type": "-"
    }
   },
   "source": [
    "2.a.3) Using $\\alpha = 0.05$, is my 25 dollar check significantly **greater** than the mean? How do you know this?  \n",
    "\n",
    "Hint: Here's a link to a [z-table](https://www.math.arizona.edu/~rsims/ma464/standardnormaltable.pdf). "
   ]
  },
  {
   "cell_type": "code",
<<<<<<< HEAD
   "execution_count": 111,
=======
   "execution_count": 14,
>>>>>>> 52d14ad07af519d26bab28f841fdbffe5772c58b
   "metadata": {
    "autoscroll": false,
    "ein.hycell": false,
    "ein.tags": "worksheet-0",
    "jupyter": {
     "outputs_hidden": false
    },
    "slideshow": {
     "slide_type": "-"
    }
   },
   "outputs": [
    {
     "data": {
      "text/plain": [
<<<<<<< HEAD
       "0.5280685117469502"
      ]
     },
     "execution_count": 111,
=======
       "2.5"
      ]
     },
     "execution_count": 14,
>>>>>>> 52d14ad07af519d26bab28f841fdbffe5772c58b
     "metadata": {},
     "output_type": "execute_result"
    }
   ],
   "source": [
<<<<<<< HEAD
    "a = 0.05\n",
    "z_ = z_score(25)\n",
    "\n",
    "stats.norm.cdf(z_)"
=======
    "z_score(25)"
>>>>>>> 52d14ad07af519d26bab28f841fdbffe5772c58b
   ]
  },
  {
   "cell_type": "code",
   "execution_count": 97,
   "metadata": {
    "autoscroll": false,
    "ein.hycell": false,
    "ein.tags": "worksheet-0",
    "jupyter": {
     "outputs_hidden": false
    },
    "slideshow": {
     "slide_type": "-"
    }
   },
   "outputs": [
    {
     "data": {
      "text/plain": [
       "'at z-score of 0.54, z-table shows that sample mean is 70.5% higher than pop_mean'"
      ]
     },
     "execution_count": 97,
     "metadata": {},
     "output_type": "execute_result"
    }
   ],
   "source": [
<<<<<<< HEAD
    "# your answer here \n",
    "\"at z-score of 0.52, z-table shows that sample mean is 70.5% higher than pop_mean\""
=======
    "# Yes"
>>>>>>> 52d14ad07af519d26bab28f841fdbffe5772c58b
   ]
  },
  {
   "cell_type": "markdown",
   "metadata": {
    "ein.tags": "worksheet-0",
    "slideshow": {
     "slide_type": "-"
    }
   },
   "source": [
    "### b. Confidence Intervals and the Central Limit Theorem"
   ]
  },
  {
   "cell_type": "markdown",
   "metadata": {
    "ein.tags": "worksheet-0",
    "slideshow": {
     "slide_type": "-"
    }
   },
   "source": [
    "2.b.1) Determine the 95% confidence interval around the mean check total for this population. Interpret your result. "
   ]
  },
  {
   "cell_type": "code",
<<<<<<< HEAD
   "execution_count": 122,
=======
   "execution_count": 17,
>>>>>>> 52d14ad07af519d26bab28f841fdbffe5772c58b
   "metadata": {
    "autoscroll": false,
    "ein.hycell": false,
    "ein.tags": "worksheet-0",
    "jupyter": {
     "outputs_hidden": false
    },
    "slideshow": {
     "slide_type": "-"
    }
   },
   "outputs": [
    {
<<<<<<< HEAD
     "name": "stdout",
     "output_type": "stream",
     "text": [
      "(19.904207182557446, 20.152125195479268) 0.1239590064609123\n"
     ]
    }
   ],
   "source": [
    "# your code here \n",
    "conf_interval = 0.95\n",
    "q = 0.975\n",
    "z = stats.norm.ppf(q)\n",
    "sample_size = len(df1)\n",
    "moe = z * (sigma/math.sqrt(sample_size))\n",
    "conf = (sample_mean - moe,sample_mean + moe)\n",
    "print(conf, moe)"
=======
     "data": {
      "text/plain": [
       "2.7718585822512662"
      ]
     },
     "execution_count": 17,
     "metadata": {},
     "output_type": "execute_result"
    }
   ],
   "source": [
    "margin_of_error = (1.96 * 2)/math.sqrt(2)\n",
    "margin_of_error"
>>>>>>> 52d14ad07af519d26bab28f841fdbffe5772c58b
   ]
  },
  {
   "cell_type": "code",
   "execution_count": 124,
   "metadata": {
    "autoscroll": false,
    "ein.hycell": false,
    "ein.tags": "worksheet-0",
    "jupyter": {
     "outputs_hidden": false
    },
    "slideshow": {
     "slide_type": "-"
    }
   },
   "outputs": [
    {
     "data": {
      "text/plain": [
       "' The 95% of our true data is contained in between 19.90 and 20.15'"
      ]
     },
     "execution_count": 124,
     "metadata": {},
     "output_type": "execute_result"
    }
   ],
   "source": [
    "# your written answer here\n",
    "\" The 95% of our true data is contained in between 19.90 and 20.15\""
   ]
  },
  {
   "cell_type": "markdown",
   "metadata": {
    "ein.tags": "worksheet-0",
    "slideshow": {
     "slide_type": "-"
    }
   },
   "source": [
    "2.b.2) Imagine that we didn't know how the population of check totals was distributed. How would **sampling** and the **Central Limit Theorem** allow us to **make inferences on the population mean**, i.e. estimate $\\mu, \\sigma$ of the population mean?"
   ]
  },
  {
   "cell_type": "code",
   "execution_count": null,
   "metadata": {
    "autoscroll": false,
    "ein.hycell": false,
    "ein.tags": "worksheet-0",
    "jupyter": {
     "outputs_hidden": false
    },
    "slideshow": {
     "slide_type": "-"
    }
   },
   "outputs": [],
   "source": [
    "# Your written answer here\n"
   ]
  },
  {
   "cell_type": "markdown",
   "metadata": {
    "ein.tags": "worksheet-0",
    "slideshow": {
     "slide_type": "-"
    }
   },
   "source": [
    "## Part 3: Statistical Testing [Suggested time: 15 minutes]"
   ]
  },
  {
   "cell_type": "markdown",
   "metadata": {
    "ein.tags": "worksheet-0",
    "slideshow": {
     "slide_type": "-"
    }
   },
   "source": [
    "The TexMex restaurant recently introduced Queso to its menu.\n",
    "\n",
    "We have random samples of 1000 \"No Queso\" order check totals and 1000 \"Queso\" order check totals for orders made by different customers.\n",
    "\n",
    "In the cell below, we load the sample data for you into the arrays `no_queso` and `queso` for the \"no queso\" and \"queso\" order check totals. Then, we create histograms of the distribution of the check amounts for the \"no queso\" and \"queso\" samples. "
   ]
  },
  {
   "cell_type": "code",
<<<<<<< HEAD
   "execution_count": 113,
=======
   "execution_count": 18,
>>>>>>> 52d14ad07af519d26bab28f841fdbffe5772c58b
   "metadata": {
    "autoscroll": false,
    "ein.hycell": false,
    "ein.tags": "worksheet-0",
    "jupyter": {
     "outputs_hidden": false
    },
    "slideshow": {
     "slide_type": "-"
    }
   },
   "outputs": [
    {
     "data": {
<<<<<<< HEAD
      "image/png": "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\n",
=======
      "image/png": "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\n",
>>>>>>> 52d14ad07af519d26bab28f841fdbffe5772c58b
      "text/plain": [
       "<Figure size 864x288 with 2 Axes>"
      ]
     },
     "metadata": {
      "needs_background": "light"
     },
     "output_type": "display_data"
    }
   ],
   "source": [
    "# Load the sample data \n",
    "no_queso = pickle.load(open(\"data/no_queso.pkl\", \"rb\"))\n",
    "queso = pickle.load(open(\"data/queso.pkl\", \"rb\"))\n",
    "\n",
    "# Plot histograms\n",
    "\n",
    "fig, (ax1, ax2) = plt.subplots(1, 2, figsize=(12, 4))\n",
    "\n",
    "ax1.set_title('Sample of Non-Queso Check Totals')\n",
    "ax1.set_xlabel('Amount')\n",
    "ax1.set_ylabel('Frequency')\n",
    "ax1.hist(no_queso, bins=20)\n",
    "\n",
    "ax2.set_title('Sample of Queso Check Totals')\n",
    "ax2.set_xlabel('Amount')\n",
    "ax2.set_ylabel('Frequency')\n",
    "ax2.hist(queso, bins=20)\n",
    "plt.show()"
   ]
  },
  {
   "cell_type": "markdown",
   "metadata": {
    "ein.tags": "worksheet-0",
    "slideshow": {
     "slide_type": "-"
    }
   },
   "source": [
    "### a. Hypotheses and Errors\n",
    "\n",
    "The restaurant owners want to know if customers who order Queso spend **more or less** than customers who do not order Queso.\n",
    "\n",
    "3.a.1) Set up the null $H_{0}$ and alternative hypotheses $H_{A}$ for this test."
   ]
  },
  {
   "cell_type": "code",
   "execution_count": 115,
   "metadata": {
    "autoscroll": false,
    "ein.hycell": false,
    "ein.tags": "worksheet-0",
    "jupyter": {
     "outputs_hidden": false
    },
    "slideshow": {
     "slide_type": "-"
    }
   },
   "outputs": [
    {
     "data": {
      "text/plain": [
       "\"Ha -> customers who order Queso spend more or less than the customers who don't order Queso\""
      ]
     },
     "execution_count": 115,
     "metadata": {},
     "output_type": "execute_result"
    }
   ],
   "source": [
<<<<<<< HEAD
    "# Your written answer here\n",
    "\"H0 -> customers who oreder Queso spends the same amount of money as who don't order Queso\"\n",
    "\"Ha -> customers who order Queso spend more or less than the customers who don't order Queso\""
=======
    "'''\n",
    "Null hypothesis: Customers who order queso do not spend more than customers who do not.\n",
    "Alternative: Customers who order queso do spend more than those who do not.\n",
    "'''"
>>>>>>> 52d14ad07af519d26bab28f841fdbffe5772c58b
   ]
  },
  {
   "cell_type": "markdown",
   "metadata": {
    "ein.tags": "worksheet-0",
    "slideshow": {
     "slide_type": "-"
    }
   },
   "source": [
    "3.a.2) What does it mean to make `Type I` and `Type II` errors in this specific context?"
   ]
  },
  {
   "cell_type": "code",
   "execution_count": 116,
   "metadata": {
    "autoscroll": false,
    "ein.hycell": false,
    "ein.tags": "worksheet-0",
    "jupyter": {
     "outputs_hidden": false
    },
    "slideshow": {
     "slide_type": "-"
    }
   },
   "outputs": [
    {
     "data": {
      "text/plain": [
       "\"to make type2 erros is failing to reject H0 even though it's actually false\""
      ]
     },
     "execution_count": 116,
     "metadata": {},
     "output_type": "execute_result"
    }
   ],
   "source": [
<<<<<<< HEAD
    "# your answer here\n",
    "\" to make type1 error is failing to reject the H0 when there is a difference\"\n",
    "\"to make type2 erros is failing to reject H0 even though it's actually false\""
=======
    "'''A type 1 error, or false positive, would be to say that customers who order queso *do* spend\n",
    "    more, when in fact they do not (i.e. the null is true).\n",
    "    \n",
    "    A type 2 error, or false negative would be to say that customers who order queso *do not*\n",
    "    spend more, when they do (i.e. accepting the null when it is false).\n",
    "'''"
>>>>>>> 52d14ad07af519d26bab28f841fdbffe5772c58b
   ]
  },
  {
   "cell_type": "markdown",
   "metadata": {
    "ein.tags": "worksheet-0",
    "slideshow": {
     "slide_type": "-"
    }
   },
   "source": [
    "### b. Sample Testing"
   ]
  },
  {
   "cell_type": "markdown",
   "metadata": {
    "ein.tags": "worksheet-0",
    "slideshow": {
     "slide_type": "-"
    }
   },
   "source": [
    "3.b.1) Run a statistical test on the two samples. Use a significance level of $\\alpha = 0.05$. You can assume the two samples have equal variance. Can you reject the null hypothesis? \n",
    "\n",
    "_Hint: Use `scipy.stats`._"
   ]
  },
  {
   "cell_type": "code",
<<<<<<< HEAD
   "execution_count": 123,
=======
   "execution_count": 28,
>>>>>>> 52d14ad07af519d26bab28f841fdbffe5772c58b
   "metadata": {
    "autoscroll": false,
    "ein.hycell": false,
    "ein.tags": "worksheet-0",
    "jupyter": {
     "outputs_hidden": false
    },
    "slideshow": {
     "slide_type": "-"
    }
   },
   "outputs": [
    {
     "data": {
      "text/plain": [
       "Ttest_indResult(statistic=-45.16857748646329, pvalue=1.29670967092511e-307)"
      ]
     },
<<<<<<< HEAD
     "execution_count": 123,
=======
     "execution_count": 28,
>>>>>>> 52d14ad07af519d26bab28f841fdbffe5772c58b
     "metadata": {},
     "output_type": "execute_result"
    }
   ],
   "source": [
<<<<<<< HEAD
    "# your code here \n",
    "stats.ttest_ind(no_queso,queso,equal_var=True)"
=======
    "stats.ttest_ind(no_queso,queso)"
>>>>>>> 52d14ad07af519d26bab28f841fdbffe5772c58b
   ]
  },
  {
   "cell_type": "code",
   "execution_count": 121,
   "metadata": {
    "autoscroll": false,
    "ein.hycell": false,
    "ein.tags": "worksheet-0",
    "jupyter": {
     "outputs_hidden": false
    },
    "slideshow": {
     "slide_type": "-"
    }
   },
   "outputs": [
    {
     "data": {
      "text/plain": [
       "'P-value is larger than 0.05, so we can not reject the Null. This means, these two samples have no difference'"
      ]
     },
     "execution_count": 121,
     "metadata": {},
     "output_type": "execute_result"
    }
   ],
   "source": [
<<<<<<< HEAD
    "# your answer here\n",
    "\"P-value is larger than 0.05, so we can not reject the Null. This means, these two samples have no difference\""
=======
    "# We can reject the null hypothesis. Customers who order queso do spend more than those who don't."
>>>>>>> 52d14ad07af519d26bab28f841fdbffe5772c58b
   ]
  }
 ],
 "metadata": {
  "kernelspec": {
   "display_name": "Python 3",
   "language": "python",
   "name": "python3"
  },
  "language_info": {
   "codemirror_mode": {
    "name": "ipython",
    "version": 3
   },
   "file_extension": ".py",
   "mimetype": "text/x-python",
   "name": "python",
   "nbconvert_exporter": "python",
   "pygments_lexer": "ipython3",
   "version": "3.6.6"
  },
  "name": "index.ipynb",
  "toc": {
   "base_numbering": 1,
   "nav_menu": null,
   "number_sections": true,
   "sideBar": true,
   "skip_h1_title": false,
   "title_cell": "Table of Contents",
   "title_sidebar": "Contents",
   "toc_cell": false,
   "toc_position": null,
   "toc_section_display": true,
   "toc_window_display": false
  }
 },
 "nbformat": 4,
 "nbformat_minor": 4
}
