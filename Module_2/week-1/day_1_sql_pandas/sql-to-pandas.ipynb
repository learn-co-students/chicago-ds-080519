{
 "cells": [
  {
   "cell_type": "markdown",
   "metadata": {
    "slideshow": {
     "slide_type": "slide"
    }
   },
   "source": [
    "![sql](img/sql-logo.jpg)\n",
    "\n",
    "# A beginner's guide to databases, SQL, & using them with `pandas`"
   ]
  },
  {
   "cell_type": "markdown",
   "metadata": {
    "slideshow": {
     "slide_type": "slide"
    }
   },
   "source": [
    "**Scenario:** You are a data analyst for the Homeland Security, trying to create reports on the active airports world wide. The data you need to access is in a SQL database. YOu need to be able to query for the data in a database!"
   ]
  },
  {
   "cell_type": "markdown",
   "metadata": {
    "slideshow": {
     "slide_type": "slide"
    }
   },
   "source": [
    "## Learning goals:\n",
    "- Goal 1: Summarize the use case for sql in the data science skill set\n",
    "- Goal 2: Define key sql terminology\n",
    "- Goal 3: Get information about DB schema and table structure\n",
    "- Goal 4: Use basic SQL commands:\n",
    "    - Construct SQL queries\n",
    "    - Use JOIN to merge tables along logical columns\n",
    "    - Grouping Data with SQL\n",
    "- Goal 5: Query data from pandas dataframes using SQL\n",
    "- Goal 6: Convert SQL to pandas"
   ]
  },
  {
   "cell_type": "markdown",
   "metadata": {
    "slideshow": {
     "slide_type": "slide"
    }
   },
   "source": [
    "## Goal 1: Summarize\n",
    "\n",
    "[Netflix has a great article](https://medium.com/netflix-techblog/notebook-innovation-591ee3221233) describing three different data roles at their company, their different needs, and their toolsets.\n",
    "\n",
    "![netflix](img/netflix-data-roles.jpeg)\n",
    "\n",
    "Examining that graphic, SQL shows up as one of the tools of the _Data Engineer_ "
   ]
  },
  {
   "cell_type": "markdown",
   "metadata": {
    "slideshow": {
     "slide_type": "slide"
    }
   },
   "source": [
    "Data Engineers provide the essential data architecture services that make data science possible.\n",
    "\n",
    "![hierarchy](img/ai-hierachy.png)\n",
    "\n",
    "[Source: Monica Rogati’s fantastic Medium post “The AI Hierarchy of Needs”\n",
    "](https://hackernoon.com/the-ai-hierarchy-of-needs-18f111fcc007)"
   ]
  },
  {
   "cell_type": "markdown",
   "metadata": {
    "slideshow": {
     "slide_type": "slide"
    }
   },
   "source": [
    "![etl](img/etl.png)\n",
    "\n",
    "[img source: Jeff Hammerbacher’s slide from UC Berkeley CS 194 course ](https://bcourses.berkeley.edu/courses/1377158/pages/cs-194-16-introduction-to-data-science-fall-2015)"
   ]
  },
  {
   "cell_type": "markdown",
   "metadata": {
    "slideshow": {
     "slide_type": "slide"
    }
   },
   "source": [
    "### What is a Relational Database? \n",
    "\n",
    "![rdb](img/relational-dbms-model.png)\n",
    "[reference for image ](https://www.studytonight.com/dbms/database-model.php)"
   ]
  },
  {
   "cell_type": "markdown",
   "metadata": {
    "slideshow": {
     "slide_type": "slide"
    }
   },
   "source": [
    "### POPULAR RDBMS\n",
    "\n",
    "- SQLite\n",
    "- MySQL\n",
    "- PostgreSql\n",
    "- Oracle DB\n",
    "- SQL Server"
   ]
  },
  {
   "cell_type": "markdown",
   "metadata": {
    "slideshow": {
     "slide_type": "slide"
    }
   },
   "source": [
    "***\n",
    "## Goal 2: Database terminology\n",
    "\n",
    "### Relational Database Schema\n",
    "\n",
    "![schema](img/MySQL_Schema_Music_Example.png)\n",
    "\n",
    "[source of image](https://database.guide/what-is-a-database-schema/)"
   ]
  },
  {
   "cell_type": "markdown",
   "metadata": {
    "slideshow": {
     "slide_type": "slide"
    }
   },
   "source": [
    "### Table columns view\n",
    "![table example](img/columns.png)"
   ]
  },
  {
   "cell_type": "markdown",
   "metadata": {
    "slideshow": {
     "slide_type": "slide"
    }
   },
   "source": [
    "### Terminology\n",
    "\n",
    "- Schema\n",
    "- Primary Key\n",
    "- Foreign Key\n",
    "- Structured queries\n",
    "- Views"
   ]
  },
  {
   "cell_type": "markdown",
   "metadata": {
    "slideshow": {
     "slide_type": "slide"
    }
   },
   "source": [
    "***\n",
    "### SQLite\n",
    "\n",
    "![sqlite](img/SQLite-Python.jpg)\n",
    "\n",
    "\"SQLite is a C library that provides a lightweight disk-based database that doesn’t require a separate server process and allows accessing the database using a nonstandard variant of the SQL query language. Some applications can use SQLite for internal data storage. It’s also possible to prototype an application using SQLite and then port the code to a larger database such as PostgreSQL or Oracle.\" - [sqlite documentation](https://docs.python.org/2/library/sqlite3.html)\n",
    "\n"
   ]
  },
  {
   "cell_type": "markdown",
   "metadata": {
    "slideshow": {
     "slide_type": "slide"
    }
   },
   "source": [
    "## But what about connecting to database servers?\n",
    "\n",
    "To connect to an Oracle database server there is a different package, `cx_Oracle`. The documentation for that package is [here](https://oracle.github.io/python-cx_Oracle/)"
   ]
  },
  {
   "cell_type": "markdown",
   "metadata": {
    "slideshow": {
     "slide_type": "slide"
    }
   },
   "source": [
    "***\n",
    "## Goal 3: Get going with sqlite!"
   ]
  },
  {
   "cell_type": "code",
   "execution_count": 1,
   "metadata": {
    "slideshow": {
     "slide_type": "fragment"
    }
   },
   "outputs": [],
   "source": [
    "import sqlite3"
   ]
  },
  {
   "cell_type": "markdown",
   "metadata": {
    "slideshow": {
     "slide_type": "slide"
    }
   },
   "source": [
    "#### Load a DB object with `connect` and `cursor`"
   ]
  },
  {
   "cell_type": "code",
   "execution_count": 2,
   "metadata": {
    "slideshow": {
     "slide_type": "fragment"
    }
   },
   "outputs": [],
   "source": [
    "con = sqlite3.connect('flights.db')\n",
    "cursor = con.cursor()"
   ]
  },
  {
   "cell_type": "markdown",
   "metadata": {
    "slideshow": {
     "slide_type": "slide"
    }
   },
   "source": [
    "#### Use sqlite_master to find all the tables in the schema\n",
    "Get the schema of a database from a db in sqlite"
   ]
  },
  {
   "cell_type": "code",
   "execution_count": 3,
   "metadata": {},
   "outputs": [
    {
     "name": "stdout",
     "output_type": "stream",
     "text": [
      "[('airports',), ('airlines',), ('routes',)]\n"
     ]
    }
   ],
   "source": [
    "cursor.execute(\"SELECT name FROM sqlite_master WHERE type='table';\")\n",
    "print(cursor.fetchall())"
   ]
  },
  {
   "cell_type": "markdown",
   "metadata": {
    "slideshow": {
     "slide_type": "slide"
    }
   },
   "source": [
    "#### Get information about one table\n",
    "\n",
    "**A note about** `execute`<br>\n",
    "Each time you use it, you reset the value of cursor"
   ]
  },
  {
   "cell_type": "code",
   "execution_count": 4,
   "metadata": {},
   "outputs": [
    {
     "data": {
      "text/plain": [
       "<sqlite3.Cursor at 0x1059698f0>"
      ]
     },
     "execution_count": 4,
     "metadata": {},
     "output_type": "execute_result"
    }
   ],
   "source": [
    "cursor.execute(\"SELECT * FROM airports\")"
   ]
  },
  {
   "cell_type": "markdown",
   "metadata": {
    "slideshow": {
     "slide_type": "slide"
    }
   },
   "source": [
    "#### Use description"
   ]
  },
  {
   "cell_type": "code",
   "execution_count": 5,
   "metadata": {
    "slideshow": {
     "slide_type": "fragment"
    }
   },
   "outputs": [
    {
     "data": {
      "text/plain": [
       "(('index', None, None, None, None, None, None),\n",
       " ('id', None, None, None, None, None, None),\n",
       " ('name', None, None, None, None, None, None),\n",
       " ('city', None, None, None, None, None, None),\n",
       " ('country', None, None, None, None, None, None),\n",
       " ('code', None, None, None, None, None, None),\n",
       " ('icao', None, None, None, None, None, None),\n",
       " ('latitude', None, None, None, None, None, None),\n",
       " ('longitude', None, None, None, None, None, None),\n",
       " ('altitude', None, None, None, None, None, None),\n",
       " ('offset', None, None, None, None, None, None),\n",
       " ('dst', None, None, None, None, None, None),\n",
       " ('timezone', None, None, None, None, None, None))"
      ]
     },
     "execution_count": 5,
     "metadata": {},
     "output_type": "execute_result"
    }
   ],
   "source": [
    "cursor.description"
   ]
  },
  {
   "cell_type": "markdown",
   "metadata": {
    "slideshow": {
     "slide_type": "slide"
    }
   },
   "source": [
    "#### Or use `Pragma`\n",
    "`Pragma` tool [link here](https://www.sqlite.org/pragma.html#pragma_table_info)\n",
    "\n",
    "**output**<br>\n",
    "`(column id, column name, data type, whether or not the column can be NULL, and the default value for the column)`"
   ]
  },
  {
   "cell_type": "code",
   "execution_count": 8,
   "metadata": {
    "slideshow": {
     "slide_type": "slide"
    }
   },
   "outputs": [
    {
     "name": "stdout",
     "output_type": "stream",
     "text": [
      "(0, 'index', 'INTEGER', 0, None, 0)\n",
      "(1, 'id', 'TEXT', 0, None, 0)\n",
      "(2, 'name', 'TEXT', 0, None, 0)\n",
      "(3, 'city', 'TEXT', 0, None, 0)\n",
      "(4, 'country', 'TEXT', 0, None, 0)\n",
      "(5, 'code', 'TEXT', 0, None, 0)\n",
      "(6, 'icao', 'TEXT', 0, None, 0)\n",
      "(7, 'latitude', 'TEXT', 0, None, 0)\n",
      "(8, 'longitude', 'TEXT', 0, None, 0)\n",
      "(9, 'altitude', 'TEXT', 0, None, 0)\n",
      "(10, 'offset', 'TEXT', 0, None, 0)\n",
      "(11, 'dst', 'TEXT', 0, None, 0)\n",
      "(12, 'timezone', 'TEXT', 0, None, 0)\n"
     ]
    }
   ],
   "source": [
    "cursor.execute(\"PRAGMA table_info(airports)\")\n",
    "info = cursor.fetchall()\n",
    "print(*info, sep = \"\\n\") "
   ]
  },
  {
   "cell_type": "markdown",
   "metadata": {
    "slideshow": {
     "slide_type": "slide"
    }
   },
   "source": [
    "#### Making fetch happen\n",
    "\n",
    "`.fetchall()` is how you get the query results out of the object.\n",
    "\n",
    "You can also `.fetchone()` or `.fetchmany()`"
   ]
  },
  {
   "cell_type": "markdown",
   "metadata": {
    "slideshow": {
     "slide_type": "slide"
    }
   },
   "source": [
    "**Task:** Get the descriptive data for airlines and routes tables"
   ]
  },
  {
   "cell_type": "code",
   "execution_count": 20,
   "metadata": {},
   "outputs": [
    {
     "data": {
      "text/plain": [
       "(0, '1', 'Private flight', '\\\\N', '-', None, None, None, 'Y')"
      ]
     },
     "execution_count": 20,
     "metadata": {},
     "output_type": "execute_result"
    }
   ],
   "source": [
    "cursor.execute(\"SELECT * FROM airlines\")\n",
    "cursor.fetchone()"
   ]
  },
  {
   "cell_type": "code",
   "execution_count": 24,
   "metadata": {},
   "outputs": [],
   "source": [
    "cursor.execute(\"SELECT * FROM routes\")\n",
    "cursor.fetchmany(4)\n",
    "import pandas as pd\n"
   ]
  },
  {
   "cell_type": "markdown",
   "metadata": {
    "slideshow": {
     "slide_type": "slide"
    }
   },
   "source": [
    "***\n",
    "## Goal 4: Use basic SQL commands \n",
    "- Construct SQL queries\n",
    "- Use JOIN to merge tables along logical columns\n",
    "- Grouping Data with SQL"
   ]
  },
  {
   "cell_type": "markdown",
   "metadata": {
    "slideshow": {
     "slide_type": "slide"
    }
   },
   "source": [
    "### Construct SQL queries"
   ]
  },
  {
   "cell_type": "markdown",
   "metadata": {
    "slideshow": {
     "slide_type": "fragment"
    }
   },
   "source": [
    "**Select**"
   ]
  },
  {
   "cell_type": "markdown",
   "metadata": {
    "slideshow": {
     "slide_type": "fragment"
    }
   },
   "source": [
    "**From**"
   ]
  },
  {
   "cell_type": "markdown",
   "metadata": {
    "slideshow": {
     "slide_type": "fragment"
    }
   },
   "source": [
    "**Where**"
   ]
  },
  {
   "cell_type": "markdown",
   "metadata": {
    "slideshow": {
     "slide_type": "fragment"
    }
   },
   "source": [
    "**Order by**"
   ]
  },
  {
   "cell_type": "markdown",
   "metadata": {
    "slideshow": {
     "slide_type": "fragment"
    }
   },
   "source": [
    "**Limit**"
   ]
  },
  {
   "cell_type": "markdown",
   "metadata": {
    "slideshow": {
     "slide_type": "slide"
    }
   },
   "source": [
    "#### Options for each:"
   ]
  },
  {
   "cell_type": "markdown",
   "metadata": {
    "slideshow": {
     "slide_type": "fragment"
    }
   },
   "source": [
    "**Select**:  `distinct`, using `as` to rename columns, single number aggregates"
   ]
  },
  {
   "cell_type": "markdown",
   "metadata": {
    "slideshow": {
     "slide_type": "fragment"
    }
   },
   "source": [
    "**From:** also uses aliasing with `as`"
   ]
  },
  {
   "cell_type": "markdown",
   "metadata": {
    "slideshow": {
     "slide_type": "fragment"
    }
   },
   "source": [
    "**Where**: equals is only one `=`, `between`, `in`, wildcards `%`, `AND`, `OR`, `NOT`"
   ]
  },
  {
   "cell_type": "markdown",
   "metadata": {
    "slideshow": {
     "slide_type": "fragment"
    }
   },
   "source": [
    "**Order by**: `asc` and `desc`"
   ]
  },
  {
   "cell_type": "markdown",
   "metadata": {
    "slideshow": {
     "slide_type": "fragment"
    }
   },
   "source": [
    "**Limit**:  #"
   ]
  },
  {
   "cell_type": "code",
   "execution_count": 32,
   "metadata": {
    "slideshow": {
     "slide_type": "skip"
    }
   },
   "outputs": [
    {
     "data": {
      "text/html": [
       "<div>\n",
       "<style scoped>\n",
       "    .dataframe tbody tr th:only-of-type {\n",
       "        vertical-align: middle;\n",
       "    }\n",
       "\n",
       "    .dataframe tbody tr th {\n",
       "        vertical-align: top;\n",
       "    }\n",
       "\n",
       "    .dataframe thead th {\n",
       "        text-align: right;\n",
       "    }\n",
       "</style>\n",
       "<table border=\"1\" class=\"dataframe\">\n",
       "  <thead>\n",
       "    <tr style=\"text-align: right;\">\n",
       "      <th></th>\n",
       "      <th>0</th>\n",
       "    </tr>\n",
       "  </thead>\n",
       "  <tbody>\n",
       "    <tr>\n",
       "      <th>0</th>\n",
       "      <td>Astraeus</td>\n",
       "    </tr>\n",
       "    <tr>\n",
       "      <th>1</th>\n",
       "      <td>Air Southwest</td>\n",
       "    </tr>\n",
       "    <tr>\n",
       "      <th>2</th>\n",
       "      <td>Aurigny Air Services</td>\n",
       "    </tr>\n",
       "    <tr>\n",
       "      <th>3</th>\n",
       "      <td>Air Wales</td>\n",
       "    </tr>\n",
       "    <tr>\n",
       "      <th>4</th>\n",
       "      <td>AD Aviation</td>\n",
       "    </tr>\n",
       "    <tr>\n",
       "      <th>5</th>\n",
       "      <td>Air Foyle</td>\n",
       "    </tr>\n",
       "    <tr>\n",
       "      <th>6</th>\n",
       "      <td>British Airways</td>\n",
       "    </tr>\n",
       "    <tr>\n",
       "      <th>7</th>\n",
       "      <td>British International Helicopters</td>\n",
       "    </tr>\n",
       "    <tr>\n",
       "      <th>8</th>\n",
       "      <td>bmi</td>\n",
       "    </tr>\n",
       "    <tr>\n",
       "      <th>9</th>\n",
       "      <td>bmibaby</td>\n",
       "    </tr>\n",
       "    <tr>\n",
       "      <th>10</th>\n",
       "      <td>British Midland Regional</td>\n",
       "    </tr>\n",
       "    <tr>\n",
       "      <th>11</th>\n",
       "      <td>British Mediterranean Airways</td>\n",
       "    </tr>\n",
       "    <tr>\n",
       "      <th>12</th>\n",
       "      <td>BA CityFlyer</td>\n",
       "    </tr>\n",
       "    <tr>\n",
       "      <th>13</th>\n",
       "      <td>Crest Aviation</td>\n",
       "    </tr>\n",
       "    <tr>\n",
       "      <th>14</th>\n",
       "      <td>Eastern Airways</td>\n",
       "    </tr>\n",
       "    <tr>\n",
       "      <th>15</th>\n",
       "      <td>Excel Airways</td>\n",
       "    </tr>\n",
       "    <tr>\n",
       "      <th>16</th>\n",
       "      <td>Excel Charter</td>\n",
       "    </tr>\n",
       "    <tr>\n",
       "      <th>17</th>\n",
       "      <td>easyJet</td>\n",
       "    </tr>\n",
       "    <tr>\n",
       "      <th>18</th>\n",
       "      <td>First Choice Airways</td>\n",
       "    </tr>\n",
       "    <tr>\n",
       "      <th>19</th>\n",
       "      <td>Flightline</td>\n",
       "    </tr>\n",
       "    <tr>\n",
       "      <th>20</th>\n",
       "      <td>Flybe</td>\n",
       "    </tr>\n",
       "    <tr>\n",
       "      <th>21</th>\n",
       "      <td>Flyglobespan</td>\n",
       "    </tr>\n",
       "    <tr>\n",
       "      <th>22</th>\n",
       "      <td>GB Airways</td>\n",
       "    </tr>\n",
       "    <tr>\n",
       "      <th>23</th>\n",
       "      <td>Highland Airways</td>\n",
       "    </tr>\n",
       "    <tr>\n",
       "      <th>24</th>\n",
       "      <td>Jet2.com</td>\n",
       "    </tr>\n",
       "    <tr>\n",
       "      <th>25</th>\n",
       "      <td>Monarch Airlines</td>\n",
       "    </tr>\n",
       "    <tr>\n",
       "      <th>26</th>\n",
       "      <td>MyTravel Airways</td>\n",
       "    </tr>\n",
       "    <tr>\n",
       "      <th>27</th>\n",
       "      <td>Norfolk County Flight College</td>\n",
       "    </tr>\n",
       "    <tr>\n",
       "      <th>28</th>\n",
       "      <td>Kinloss Flying Training Unit</td>\n",
       "    </tr>\n",
       "    <tr>\n",
       "      <th>29</th>\n",
       "      <td>ScotAirways</td>\n",
       "    </tr>\n",
       "    <tr>\n",
       "      <th>30</th>\n",
       "      <td>Thomas Cook Airlines</td>\n",
       "    </tr>\n",
       "    <tr>\n",
       "      <th>31</th>\n",
       "      <td>Thomsonfly</td>\n",
       "    </tr>\n",
       "    <tr>\n",
       "      <th>32</th>\n",
       "      <td>Virgin Atlantic Airways</td>\n",
       "    </tr>\n",
       "    <tr>\n",
       "      <th>33</th>\n",
       "      <td>Jc royal.britannica</td>\n",
       "    </tr>\n",
       "    <tr>\n",
       "      <th>34</th>\n",
       "      <td>Royal European Airlines</td>\n",
       "    </tr>\n",
       "    <tr>\n",
       "      <th>35</th>\n",
       "      <td>CB Airways UK ( Interliging Flights )</td>\n",
       "    </tr>\n",
       "    <tr>\n",
       "      <th>36</th>\n",
       "      <td>Air Cudlua</td>\n",
       "    </tr>\n",
       "    <tr>\n",
       "      <th>37</th>\n",
       "      <td>BBN-Airways</td>\n",
       "    </tr>\n",
       "    <tr>\n",
       "      <th>38</th>\n",
       "      <td>Rainbow Air Euro</td>\n",
       "    </tr>\n",
       "    <tr>\n",
       "      <th>39</th>\n",
       "      <td>All Europe</td>\n",
       "    </tr>\n",
       "  </tbody>\n",
       "</table>\n",
       "</div>"
      ],
      "text/plain": [
       "                                        0\n",
       "0                                Astraeus\n",
       "1                           Air Southwest\n",
       "2                    Aurigny Air Services\n",
       "3                               Air Wales\n",
       "4                             AD Aviation\n",
       "5                               Air Foyle\n",
       "6                         British Airways\n",
       "7       British International Helicopters\n",
       "8                                     bmi\n",
       "9                                 bmibaby\n",
       "10               British Midland Regional\n",
       "11          British Mediterranean Airways\n",
       "12                           BA CityFlyer\n",
       "13                         Crest Aviation\n",
       "14                        Eastern Airways\n",
       "15                          Excel Airways\n",
       "16                          Excel Charter\n",
       "17                                easyJet\n",
       "18                   First Choice Airways\n",
       "19                             Flightline\n",
       "20                                  Flybe\n",
       "21                           Flyglobespan\n",
       "22                             GB Airways\n",
       "23                       Highland Airways\n",
       "24                               Jet2.com\n",
       "25                       Monarch Airlines\n",
       "26                       MyTravel Airways\n",
       "27          Norfolk County Flight College\n",
       "28           Kinloss Flying Training Unit\n",
       "29                            ScotAirways\n",
       "30                   Thomas Cook Airlines\n",
       "31                             Thomsonfly\n",
       "32                Virgin Atlantic Airways\n",
       "33                    Jc royal.britannica\n",
       "34                Royal European Airlines\n",
       "35  CB Airways UK ( Interliging Flights )\n",
       "36                             Air Cudlua\n",
       "37                            BBN-Airways\n",
       "38                       Rainbow Air Euro\n",
       "39                             All Europe"
      ]
     },
     "execution_count": 32,
     "metadata": {},
     "output_type": "execute_result"
    }
   ],
   "source": [
    "pd.DataFrame(cursor.execute(\"\"\" SELECT name FROM airlines\n",
    "                            WHERE country == 'United Kingdom' AND active =='Y'\"\"\").fetchall())"
   ]
  },
  {
   "cell_type": "markdown",
   "metadata": {
    "slideshow": {
     "slide_type": "slide"
    }
   },
   "source": [
    "**Task**: \n",
    "- Select only active airlines in the UK from the airlines table\n",
    "- Select the unique list of countries with airports"
   ]
  },
  {
   "cell_type": "code",
   "execution_count": 35,
   "metadata": {},
   "outputs": [
    {
     "data": {
      "text/plain": [
       "[('Papua New Guinea',),\n",
       " ('Greenland',),\n",
       " ('Iceland',),\n",
       " ('Canada',),\n",
       " ('Algeria',),\n",
       " ('Benin',),\n",
       " ('Burkina Faso',),\n",
       " ('Ghana',),\n",
       " (\"Cote d'Ivoire\",),\n",
       " ('Nigeria',),\n",
       " ('Niger',),\n",
       " ('Tunisia',),\n",
       " ('Togo',),\n",
       " ('Belgium',),\n",
       " ('Germany',),\n",
       " ('United States',),\n",
       " ('Estonia',),\n",
       " ('Finland',),\n",
       " ('United Kingdom',),\n",
       " ('Guernsey',),\n",
       " ('Jersey',),\n",
       " ('Isle of Man',),\n",
       " ('Falkland Islands',),\n",
       " ('Netherlands',),\n",
       " ('Ireland',),\n",
       " ('Denmark',),\n",
       " ('Faroe Islands',),\n",
       " ('Luxembourg',),\n",
       " ('Norway',),\n",
       " ('Poland',),\n",
       " ('Sweden',),\n",
       " ('South Africa',),\n",
       " ('Botswana',),\n",
       " ('Congo (Brazzaville)',),\n",
       " ('Congo (Kinshasa)',),\n",
       " ('Swaziland',),\n",
       " ('Central African Republic',),\n",
       " ('Equatorial Guinea',),\n",
       " ('Saint Helena',),\n",
       " ('Mauritius',),\n",
       " ('British Indian Ocean Territory',),\n",
       " ('Cameroon',),\n",
       " ('Zambia',),\n",
       " ('Comoros',),\n",
       " ('Mayotte',),\n",
       " ('Reunion',),\n",
       " ('Madagascar',),\n",
       " ('Angola',),\n",
       " ('Puerto Rico',),\n",
       " ('Gabon',),\n",
       " ('Sao Tome and Principe',),\n",
       " ('Mozambique',),\n",
       " ('Seychelles',),\n",
       " ('Chad',),\n",
       " ('Zimbabwe',),\n",
       " ('Malawi',),\n",
       " ('Lesotho',),\n",
       " ('Mali',),\n",
       " ('Gambia',),\n",
       " ('Spain',),\n",
       " ('Sierra Leone',),\n",
       " ('Guinea-Bissau',),\n",
       " ('Liberia',),\n",
       " ('Morocco',),\n",
       " ('Senegal',),\n",
       " ('Mauritania',),\n",
       " ('Guinea',),\n",
       " ('Cape Verde',),\n",
       " ('Ethiopia',),\n",
       " ('Maldives',),\n",
       " ('Burundi',),\n",
       " ('Somalia',),\n",
       " ('Egypt',),\n",
       " ('Kenya',),\n",
       " ('Libya',),\n",
       " ('Rwanda',),\n",
       " ('Sudan',),\n",
       " ('South Sudan',),\n",
       " ('Tanzania',),\n",
       " ('Uganda',),\n",
       " ('Albania',),\n",
       " ('Bulgaria',),\n",
       " ('Cyprus',),\n",
       " ('Croatia',),\n",
       " ('Greece',),\n",
       " ('France',),\n",
       " ('Saint Pierre and Miquelon',),\n",
       " ('Hungary',),\n",
       " ('Italy',),\n",
       " ('Slovenia',),\n",
       " ('Czech Republic',),\n",
       " ('Israel',),\n",
       " ('Malta',),\n",
       " ('Austria',),\n",
       " ('Portugal',),\n",
       " ('Bosnia and Herzegovina',),\n",
       " ('Romania',),\n",
       " ('Switzerland',),\n",
       " ('Turkey',),\n",
       " ('Moldova',),\n",
       " ('Macedonia',),\n",
       " ('Gibraltar',),\n",
       " ('Serbia',),\n",
       " ('Montenegro',),\n",
       " ('Slovakia',),\n",
       " ('Turks and Caicos Islands',),\n",
       " ('Dominican Republic',),\n",
       " ('Guatemala',),\n",
       " ('Honduras',),\n",
       " ('Jamaica',),\n",
       " ('Mexico',),\n",
       " ('Nicaragua',),\n",
       " ('Panama',),\n",
       " ('Costa Rica',),\n",
       " ('El Salvador',),\n",
       " ('Haiti',),\n",
       " ('Cuba',),\n",
       " ('Cayman Islands',),\n",
       " ('Bahamas',),\n",
       " ('Belize',),\n",
       " ('Cook Islands',),\n",
       " ('Fiji',),\n",
       " ('Tonga',),\n",
       " ('Kiribati',),\n",
       " ('Australia',),\n",
       " ('Wallis and Futuna',),\n",
       " ('Samoa',),\n",
       " ('American Samoa',),\n",
       " ('French Polynesia',),\n",
       " ('Vanuatu',),\n",
       " ('New Caledonia',),\n",
       " ('New Zealand',),\n",
       " ('Antarctica',),\n",
       " ('Afghanistan',),\n",
       " ('Bahrain',),\n",
       " ('Saudi Arabia',),\n",
       " ('Iran',),\n",
       " ('Argentina',),\n",
       " ('Jordan',),\n",
       " ('West Bank',),\n",
       " ('Kuwait',),\n",
       " ('Lebanon',),\n",
       " ('United Arab Emirates',),\n",
       " ('Oman',),\n",
       " ('Pakistan',),\n",
       " ('Iraq',),\n",
       " ('Syria',),\n",
       " ('Qatar',),\n",
       " ('Northern Mariana Islands',),\n",
       " ('Guam',),\n",
       " ('Marshall Islands',),\n",
       " ('Midway Islands',),\n",
       " ('Micronesia',),\n",
       " ('Palau',),\n",
       " ('Taiwan',),\n",
       " ('Japan',),\n",
       " ('South Korea',),\n",
       " ('Philippines',),\n",
       " ('Turkmenistan',),\n",
       " ('Brazil',),\n",
       " ('Chile',),\n",
       " ('Ecuador',),\n",
       " ('Paraguay',),\n",
       " ('Colombia',),\n",
       " ('Bolivia',),\n",
       " ('Suriname',),\n",
       " ('French Guiana',),\n",
       " ('Peru',),\n",
       " ('Uruguay',),\n",
       " ('Venezuela',),\n",
       " ('Guyana',),\n",
       " ('Antigua and Barbuda',),\n",
       " ('Barbados',),\n",
       " ('Dominica',),\n",
       " ('Martinique',),\n",
       " ('Guadeloupe',),\n",
       " ('Grenada',),\n",
       " ('Virgin Islands',),\n",
       " ('Saint Kitts and Nevis',),\n",
       " ('Saint Lucia',),\n",
       " ('Aruba',),\n",
       " ('Netherlands Antilles',),\n",
       " ('Anguilla',),\n",
       " ('Trinidad and Tobago',),\n",
       " ('British Virgin Islands',),\n",
       " ('Saint Vincent and the Grenadines',),\n",
       " ('Kazakhstan',),\n",
       " ('Kyrgyzstan',),\n",
       " ('Azerbaijan',),\n",
       " ('Russia',),\n",
       " ('Ukraine',),\n",
       " ('Belarus',),\n",
       " ('Tajikistan',),\n",
       " ('Uzbekistan',),\n",
       " ('India',),\n",
       " ('Sri Lanka',),\n",
       " ('Cambodia',),\n",
       " ('Bangladesh',),\n",
       " ('Hong Kong',),\n",
       " ('Laos',),\n",
       " ('Macau',),\n",
       " ('Nepal',),\n",
       " ('Bhutan',),\n",
       " ('Thailand',),\n",
       " ('Indonesia',),\n",
       " ('Vietnam',),\n",
       " ('Burma',),\n",
       " ('Malaysia',),\n",
       " ('Brunei',),\n",
       " ('East Timor',),\n",
       " ('Singapore',),\n",
       " ('Christmas Island',),\n",
       " ('Norfolk Island',),\n",
       " ('China',),\n",
       " ('Korea',),\n",
       " ('Mongolia',),\n",
       " ('Latvia',),\n",
       " ('Lithuania',),\n",
       " ('Armenia',),\n",
       " ('Eritrea',),\n",
       " ('Palestine',),\n",
       " ('Yemen',),\n",
       " ('Georgia',),\n",
       " ('Bermuda',),\n",
       " ('Solomon Islands',),\n",
       " ('Nauru',),\n",
       " ('Tuvalu',),\n",
       " ('Namibia',),\n",
       " ('Djibouti',),\n",
       " ('Montserrat',),\n",
       " ('Monaco',),\n",
       " ('Johnston Atoll',),\n",
       " ('Niue',),\n",
       " ('Western Sahara',),\n",
       " ('Cocos (Keeling) Islands',),\n",
       " ('South Georgia and the Islands',),\n",
       " ('Myanmar',),\n",
       " ('Svalbard',),\n",
       " ('North Korea',),\n",
       " ('Wake Island',)]"
      ]
     },
     "execution_count": 35,
     "metadata": {},
     "output_type": "execute_result"
    }
   ],
   "source": [
    "cursor.execute(\"\"\"SELECT DISTINCT country FROM airports\"\"\").fetchall()"
   ]
  },
  {
   "cell_type": "markdown",
   "metadata": {
    "slideshow": {
     "slide_type": "slide"
    }
   },
   "source": [
    "### SQL Joins"
   ]
  },
  {
   "cell_type": "markdown",
   "metadata": {
    "slideshow": {
     "slide_type": "fragment"
    }
   },
   "source": [
    "SQL joins can be used to both **add** data to a table and **remove** data from a table. "
   ]
  },
  {
   "cell_type": "markdown",
   "metadata": {
    "slideshow": {
     "slide_type": "fragment"
    }
   },
   "source": [
    "![venn](img/venn.png)"
   ]
  },
  {
   "cell_type": "markdown",
   "metadata": {
    "slideshow": {
     "slide_type": "slide"
    }
   },
   "source": [
    "**Task** Write a query that will join the latitude and longitude data from the airports table to the information on the routes table"
   ]
  },
  {
   "cell_type": "code",
   "execution_count": null,
   "metadata": {
    "slideshow": {
     "slide_type": "skip"
    }
   },
   "outputs": [],
   "source": []
  },
  {
   "cell_type": "markdown",
   "metadata": {
    "slideshow": {
     "slide_type": "slide"
    }
   },
   "source": [
    "### Grouping statements\n",
    "\n",
    "Combines `select` and `group by` when you want aggregates by values"
   ]
  },
  {
   "cell_type": "markdown",
   "metadata": {
    "slideshow": {
     "slide_type": "fragment"
    }
   },
   "source": [
    "`select` `min(x)` ... `max()`, `sum()`, etc"
   ]
  },
  {
   "cell_type": "markdown",
   "metadata": {
    "slideshow": {
     "slide_type": "fragment"
    }
   },
   "source": [
    "`group by x`"
   ]
  },
  {
   "cell_type": "markdown",
   "metadata": {
    "slideshow": {
     "slide_type": "slide"
    }
   },
   "source": [
    "**Task**<br>\n",
    "- Which countries have the highest amount of active airports?\n",
    "- Which countries have the highest amount of inactive airports?\n",
    "- What about airports by timezones?"
   ]
  },
  {
   "cell_type": "code",
   "execution_count": 61,
   "metadata": {
    "slideshow": {
     "slide_type": "skip"
    }
   },
   "outputs": [
    {
     "data": {
      "text/plain": [
       "[('America/New_York', 628),\n",
       " ('America/Chicago', 373),\n",
       " ('Europe/Berlin', 319),\n",
       " ('America/Anchorage', 258),\n",
       " ('Europe/Paris', 232),\n",
       " ('America/Los_Angeles', 226),\n",
       " ('Asia/Chongqing', 222),\n",
       " ('Europe/London', 193),\n",
       " ('America/Toronto', 159),\n",
       " ('Asia/Calcutta', 141),\n",
       " ('America/Denver', 135),\n",
       " ('Asia/Tokyo', 131),\n",
       " ('Africa/Johannesburg', 104),\n",
       " ('America/Cordoba', 104),\n",
       " ('Europe/Moscow', 100),\n",
       " ('America/Sao_Paulo', 97),\n",
       " ('Europe/Rome', 93),\n",
       " ('\\\\N', 92),\n",
       " ('Europe/Stockholm', 86),\n",
       " ('Asia/Tehran', 81),\n",
       " ('Australia/Brisbane', 81),\n",
       " ('America/Vancouver', 78),\n",
       " ('Europe/Istanbul', 77),\n",
       " ('Europe/Madrid', 74),\n",
       " ('America/Bogota', 72),\n",
       " ('Europe/Oslo', 67),\n",
       " ('America/Edmonton', 66),\n",
       " ('America/Mexico_City', 65),\n",
       " ('America/Winnipeg', 65),\n",
       " ('Asia/Manila', 63),\n",
       " ('Europe/Athens', 60),\n",
       " ('America/Caracas', 58),\n",
       " ('Asia/Bangkok', 58),\n",
       " ('Pacific/Port_Moresby', 57),\n",
       " ('Africa/Nairobi', 54),\n",
       " ('Pacific/Auckland', 54),\n",
       " ('America/Boa_Vista', 52),\n",
       " ('Australia/Sydney', 52),\n",
       " ('Europe/Helsinki', 50),\n",
       " ('Europe/Zurich', 50),\n",
       " ('Asia/Jakarta', 49),\n",
       " ('Asia/Karachi', 46),\n",
       " ('Asia/Kuala_Lumpur', 45),\n",
       " ('Australia/Perth', 45),\n",
       " ('Indian/Antananarivo', 45),\n",
       " ('Africa/Algiers', 44),\n",
       " ('America/Fortaleza', 44),\n",
       " ('America/Lima', 43),\n",
       " ('Asia/Rangoon', 43),\n",
       " ('America/Phoenix', 42),\n",
       " ('Asia/Makassar', 42),\n",
       " ('Asia/Riyadh', 42),\n",
       " ('Europe/Amsterdam', 41),\n",
       " ('Indian/Maldives', 38),\n",
       " ('America/Nassau', 37),\n",
       " ('America/Santiago', 37),\n",
       " ('Asia/Katmandu', 36),\n",
       " ('America/Guayaquil', 35),\n",
       " ('Europe/Brussels', 35),\n",
       " ('Europe/Warsaw', 35),\n",
       " ('Europe/Kiev', 33),\n",
       " ('Asia/Taipei', 32),\n",
       " ('Pacific/Majuro', 32),\n",
       " ('Africa/Addis_Ababa', 31),\n",
       " ('Asia/Saigon', 30),\n",
       " ('Asia/Seoul', 30),\n",
       " ('Europe/Vienna', 30),\n",
       " ('America/Costa_Rica', 29),\n",
       " ('America/Havana', 29),\n",
       " ('Asia/Yekaterinburg', 29),\n",
       " ('Pacific/Efate', 29),\n",
       " ('Africa/Dar_es_Salaam', 28),\n",
       " ('Europe/Copenhagen', 28),\n",
       " ('Africa/Lagos', 27),\n",
       " ('America/Halifax', 27),\n",
       " ('America/La_Paz', 27),\n",
       " ('Europe/Prague', 27),\n",
       " ('America/Panama', 26),\n",
       " ('Europe/Bucharest', 26),\n",
       " ('Europe/Lisbon', 26),\n",
       " ('Pacific/Guadalcanal', 26),\n",
       " ('Africa/Gaborone', 25),\n",
       " ('Africa/Luanda', 25),\n",
       " ('Pacific/Honolulu', 25),\n",
       " ('Pacific/Tahiti', 25),\n",
       " ('Asia/Irkutsk', 24),\n",
       " ('America/Paramaribo', 23),\n",
       " ('Australia/Adelaide', 23),\n",
       " ('Europe/Dublin', 23),\n",
       " ('Africa/Casablanca', 22),\n",
       " ('Africa/Maputo', 22),\n",
       " ('Africa/Tripoli', 22),\n",
       " ('America/Godthab', 22),\n",
       " ('Asia/Kabul', 22),\n",
       " ('Atlantic/Reykjavik', 22),\n",
       " ('Australia/Darwin', 22),\n",
       " ('Australia/Hobart', 22),\n",
       " ('Africa/Cairo', 21),\n",
       " ('America/Cayenne', 21),\n",
       " ('Asia/Jayapura', 21),\n",
       " ('Asia/Qyzylorda', 21),\n",
       " ('Asia/Yakutsk', 21),\n",
       " ('Asia/Jerusalem', 20),\n",
       " ('Antarctica/South_Pole', 19),\n",
       " ('Asia/Dubai', 19),\n",
       " ('Asia/Vladivostok', 19),\n",
       " ('Africa/Kinshasa', 18),\n",
       " ('Africa/Windhoek', 18),\n",
       " ('America/Regina', 18),\n",
       " ('Asia/Omsk', 17),\n",
       " ('Pacific/Fiji', 17),\n",
       " ('Africa/Harare', 16),\n",
       " ('America/Mazatlan', 16),\n",
       " ('Asia/Krasnoyarsk', 16),\n",
       " ('Asia/Magadan', 16),\n",
       " ('Africa/Lubumbashi', 15),\n",
       " ('America/Campo_Grande', 15),\n",
       " ('America/Puerto_Rico', 15),\n",
       " ('Asia/Colombo', 15),\n",
       " ('Africa/Khartoum', 14),\n",
       " ('Africa/Libreville', 14),\n",
       " ('America/Guyana', 14),\n",
       " ('America/Port-au-Prince', 14),\n",
       " ('America/Santo_Domingo', 14),\n",
       " ('Europe/Budapest', 14),\n",
       " ('Africa/Lusaka', 13),\n",
       " ('Africa/Tunis', 13),\n",
       " ('Asia/Dhaka', 13),\n",
       " ('Asia/Hong_Kong', 13),\n",
       " ('Asia/Phnom_Penh', 13),\n",
       " ('Europe/Zagreb', 13),\n",
       " ('America/Belize', 12),\n",
       " ('America/Montevideo', 12),\n",
       " ('Asia/Samarkand', 12),\n",
       " ('Africa/Mogadishu', 11),\n",
       " ('Africa/Nouakchott', 11),\n",
       " ('America/Managua', 11),\n",
       " ('America/Tegucigalpa', 11),\n",
       " ('Asia/Aden', 11),\n",
       " ('Asia/Ulaanbaatar', 11),\n",
       " ('Asia/Vientiane', 11),\n",
       " ('Pacific/Noumea', 11),\n",
       " ('Africa/Douala', 10),\n",
       " ('America/Guatemala', 10),\n",
       " ('Asia/Baghdad', 10),\n",
       " ('Atlantic/Azores', 10),\n",
       " ('Atlantic/Canary', 10),\n",
       " ('Indian/Mahe', 10),\n",
       " ('Indian/Reunion', 10),\n",
       " ('Africa/Dakar', 9),\n",
       " ('Africa/Kampala', 9),\n",
       " ('America/St_Johns', 9),\n",
       " ('Asia/Baku', 9),\n",
       " ('Europe/Tallinn', 9),\n",
       " ('Africa/Bamako', 8),\n",
       " ('Africa/Blantyre', 8),\n",
       " ('Africa/Freetown', 8),\n",
       " ('America/Asuncion', 8),\n",
       " ('America/Curacao', 8),\n",
       " ('America/St_Thomas', 8),\n",
       " ('Asia/Ashgabat', 8),\n",
       " ('Europe/Bratislava', 8),\n",
       " ('Europe/Minsk', 8),\n",
       " ('Europe/Vilnius', 8),\n",
       " ('Pacific/Rarotonga', 8),\n",
       " ('Pacific/Tarawa', 8),\n",
       " ('Africa/Abidjan', 7),\n",
       " ('Africa/Juba', 7),\n",
       " ('Africa/Ndjamena', 7),\n",
       " ('Africa/Niamey', 7),\n",
       " ('America/Blanc-Sablon', 7),\n",
       " ('America/Jamaica', 7),\n",
       " ('Arctic/Longyearbyen', 7),\n",
       " ('Asia/Oral', 7),\n",
       " ('Atlantic/Cape_Verde', 7),\n",
       " ('Australia/Melbourne', 7),\n",
       " ('Europe/Malta', 7),\n",
       " ('Europe/Sofia', 7),\n",
       " ('Africa/Accra', 6),\n",
       " ('Africa/Conakry', 6),\n",
       " ('America/Grand_Turk', 6),\n",
       " ('America/Guadeloupe', 6),\n",
       " ('America/Tijuana', 6),\n",
       " ('Asia/Amman', 6),\n",
       " ('Asia/Damascus', 6),\n",
       " ('Asia/Muscat', 6),\n",
       " ('Asia/Pyongyang', 6),\n",
       " ('Asia/Singapore', 6),\n",
       " ('Pacific/Tongatapu', 6),\n",
       " ('Africa/Brazzaville', 5),\n",
       " ('America/Hermosillo', 5),\n",
       " ('America/St_Vincent', 5),\n",
       " ('Asia/Tbilisi', 5),\n",
       " ('Atlantic/Stanley', 5),\n",
       " ('Europe/Ljubljana', 5),\n",
       " ('Africa/Asmera', 4),\n",
       " ('Africa/Kigali', 4),\n",
       " ('America/Martinique', 4),\n",
       " ('Asia/Bishkek', 4),\n",
       " ('Asia/Dushanbe', 4),\n",
       " ('Asia/Macau', 4),\n",
       " ('Asia/Nicosia', 4),\n",
       " ('Asia/Yerevan', 4),\n",
       " ('Europe/Belgrade', 4),\n",
       " ('Europe/Sarajevo', 4),\n",
       " ('Indian/Comoro', 4),\n",
       " ('Pacific/Apia', 4),\n",
       " ('Pacific/Marquesas', 4),\n",
       " ('Africa/Bangui', 3),\n",
       " ('Africa/Djibouti', 3),\n",
       " ('Africa/El_Aaiun', 3),\n",
       " ('Africa/Maseru', 3),\n",
       " ('Africa/Monrovia', 3),\n",
       " ('America/Cayman', 3),\n",
       " ('America/Coral_Harbour', 3),\n",
       " ('America/Dominica', 3),\n",
       " ('America/Grenada', 3),\n",
       " ('America/Rio_Branco', 3),\n",
       " ('America/St_Kitts', 3),\n",
       " ('America/St_Lucia', 3),\n",
       " ('Asia/Dili', 3),\n",
       " ('Asia/Hovd', 3),\n",
       " ('Asia/Qatar', 3),\n",
       " ('Atlantic/Faeroe', 3),\n",
       " ('Europe/Chisinau', 3),\n",
       " ('Europe/Riga', 3),\n",
       " ('Pacific/Galapagos', 3),\n",
       " ('Pacific/Pago_Pago', 3),\n",
       " ('Pacific/Palau', 3),\n",
       " ('Pacific/Saipan', 3),\n",
       " ('Pacific/Truk', 3),\n",
       " ('Africa/Bissau', 2),\n",
       " ('Africa/Lome', 2),\n",
       " ('Africa/Malabo', 2),\n",
       " ('Africa/Ouagadougou', 2),\n",
       " ('Africa/Sao_Tome', 2),\n",
       " ('America/Antigua', 2),\n",
       " ('America/Danmarkshavn', 2),\n",
       " ('America/Dawson_Creek', 2),\n",
       " ('America/El_Salvador', 2),\n",
       " ('America/Miquelon', 2),\n",
       " ('America/Montserrat', 2),\n",
       " ('America/Port_of_Spain', 2),\n",
       " ('America/Scoresbysund', 2),\n",
       " ('America/Thule', 2),\n",
       " ('America/Tortola', 2),\n",
       " ('Asia/Bahrain', 2),\n",
       " ('Asia/Beirut', 2),\n",
       " ('Asia/Brunei', 2),\n",
       " ('Asia/Gaza', 2),\n",
       " ('Asia/Kuwait', 2),\n",
       " ('Atlantic/Bermuda', 2),\n",
       " ('Atlantic/South_Georgia', 2),\n",
       " ('Atlantic/St_Helena', 2),\n",
       " ('Europe/Guernsey', 2),\n",
       " ('Europe/Podgorica', 2),\n",
       " ('Europe/Skopje', 2),\n",
       " ('Indian/Mauritius', 2),\n",
       " ('Pacific/Chatham', 2),\n",
       " ('Pacific/Guam', 2),\n",
       " ('Pacific/Wallis', 2),\n",
       " ('Africa/Banjul', 1),\n",
       " ('Africa/Bujumbura', 1),\n",
       " ('Africa/Mbabane', 1),\n",
       " ('Africa/Porto-Novo', 1),\n",
       " ('America/Anguilla', 1),\n",
       " ('America/Aruba', 1),\n",
       " ('America/Barbados', 1),\n",
       " ('Asia/Thimphu', 1),\n",
       " ('Europe/Gibraltar', 1),\n",
       " ('Europe/Isle_of_Man', 1),\n",
       " ('Europe/Jersey', 1),\n",
       " ('Europe/Kaliningrad', 1),\n",
       " ('Europe/Luxembourg', 1),\n",
       " ('Europe/Mariehamn', 1),\n",
       " ('Europe/Monaco', 1),\n",
       " ('Europe/Tirane', 1),\n",
       " ('Europe/Vaduz', 1),\n",
       " ('Indian/Chagos', 1),\n",
       " ('Indian/Christmas', 1),\n",
       " ('Indian/Cocos', 1),\n",
       " ('Indian/Mayotte', 1),\n",
       " ('Pacific/Easter', 1),\n",
       " ('Pacific/Enderbury', 1),\n",
       " ('Pacific/Funafuti', 1),\n",
       " ('Pacific/Gambier', 1),\n",
       " ('Pacific/Johnston', 1),\n",
       " ('Pacific/Kosrae', 1),\n",
       " ('Pacific/Midway', 1),\n",
       " ('Pacific/Nauru', 1),\n",
       " ('Pacific/Niue', 1),\n",
       " ('Pacific/Norfolk', 1),\n",
       " ('Pacific/Ponape', 1),\n",
       " ('Pacific/Wake', 1)]"
      ]
     },
     "execution_count": 61,
     "metadata": {},
     "output_type": "execute_result"
    }
   ],
   "source": [
    "cursor.execute(\"\"\"SELECT timezone, count(*) FROM airports\n",
    "                GROUP BY timezone\n",
    "                ORDER BY count(*) DESC\"\"\").fetchall()"
   ]
  },
  {
   "cell_type": "markdown",
   "metadata": {
    "slideshow": {
     "slide_type": "slide"
    }
   },
   "source": [
    "## Goal 5: Using sql within pandas to filter\n",
    "\n",
    "`.query()`\n",
    "\n",
    "[query documentation](https://pandas.pydata.org/pandas-docs/stable/reference/api/pandas.DataFrame.query.html)"
   ]
  },
  {
   "cell_type": "code",
   "execution_count": 67,
   "metadata": {
    "slideshow": {
     "slide_type": "slide"
    }
   },
   "outputs": [
    {
     "data": {
      "text/plain": [
       "Animal ID           object\n",
       "Name                object\n",
       "DateTime            object\n",
       "MonthYear           object\n",
       "Date of Birth       object\n",
       "Outcome Type        object\n",
       "Outcome Subtype     object\n",
       "Animal Type         object\n",
       "Sex upon Outcome    object\n",
       "Age upon Outcome    object\n",
       "Breed               object\n",
       "Color               object\n",
       "dtype: object"
      ]
     },
     "execution_count": 67,
     "metadata": {},
     "output_type": "execute_result"
    }
   ],
   "source": [
    "# Get data for an example\n",
    "shelter_data=pd.read_csv('https://data.austintexas.gov/api/views/9t4d-g238/rows.csv?accessType=DOWNLOAD')\n",
    "shelter_data.dtypes"
   ]
  },
  {
   "cell_type": "code",
   "execution_count": 71,
   "metadata": {
    "slideshow": {
     "slide_type": "slide"
    }
   },
   "outputs": [
    {
     "data": {
      "text/html": [
       "<div>\n",
       "<style scoped>\n",
       "    .dataframe tbody tr th:only-of-type {\n",
       "        vertical-align: middle;\n",
       "    }\n",
       "\n",
       "    .dataframe tbody tr th {\n",
       "        vertical-align: top;\n",
       "    }\n",
       "\n",
       "    .dataframe thead th {\n",
       "        text-align: right;\n",
       "    }\n",
       "</style>\n",
       "<table border=\"1\" class=\"dataframe\">\n",
       "  <thead>\n",
       "    <tr style=\"text-align: right;\">\n",
       "      <th></th>\n",
       "      <th>Animal ID</th>\n",
       "      <th>Name</th>\n",
       "      <th>DateTime</th>\n",
       "      <th>MonthYear</th>\n",
       "      <th>Date of Birth</th>\n",
       "      <th>Outcome Type</th>\n",
       "      <th>Outcome Subtype</th>\n",
       "      <th>Animal Type</th>\n",
       "      <th>Sex upon Outcome</th>\n",
       "      <th>Age upon Outcome</th>\n",
       "      <th>Breed</th>\n",
       "      <th>Color</th>\n",
       "    </tr>\n",
       "  </thead>\n",
       "  <tbody>\n",
       "    <tr>\n",
       "      <th>12</th>\n",
       "      <td>A653408</td>\n",
       "      <td>Max</td>\n",
       "      <td>08/23/2019 11:33:00 AM</td>\n",
       "      <td>08/23/2019 11:33:00 AM</td>\n",
       "      <td>05/06/2009</td>\n",
       "      <td>Return to Owner</td>\n",
       "      <td>NaN</td>\n",
       "      <td>Dog</td>\n",
       "      <td>Neutered Male</td>\n",
       "      <td>10 years</td>\n",
       "      <td>American Bulldog Mix</td>\n",
       "      <td>White/Black</td>\n",
       "    </tr>\n",
       "    <tr>\n",
       "      <th>156</th>\n",
       "      <td>A783700</td>\n",
       "      <td>Max</td>\n",
       "      <td>08/20/2019 06:36:00 PM</td>\n",
       "      <td>08/20/2019 06:36:00 PM</td>\n",
       "      <td>11/04/2017</td>\n",
       "      <td>Adoption</td>\n",
       "      <td>NaN</td>\n",
       "      <td>Dog</td>\n",
       "      <td>Neutered Male</td>\n",
       "      <td>1 year</td>\n",
       "      <td>Labrador Retriever Mix</td>\n",
       "      <td>Chocolate/White</td>\n",
       "    </tr>\n",
       "    <tr>\n",
       "      <th>936</th>\n",
       "      <td>A744193</td>\n",
       "      <td>Max</td>\n",
       "      <td>08/08/2019 03:17:00 PM</td>\n",
       "      <td>08/08/2019 03:17:00 PM</td>\n",
       "      <td>09/27/2016</td>\n",
       "      <td>Adoption</td>\n",
       "      <td>Foster</td>\n",
       "      <td>Dog</td>\n",
       "      <td>Neutered Male</td>\n",
       "      <td>2 years</td>\n",
       "      <td>Cairn Terrier Mix</td>\n",
       "      <td>Tan/White</td>\n",
       "    </tr>\n",
       "    <tr>\n",
       "      <th>982</th>\n",
       "      <td>A789119</td>\n",
       "      <td>Max</td>\n",
       "      <td>08/07/2019 06:56:00 PM</td>\n",
       "      <td>08/07/2019 06:56:00 PM</td>\n",
       "      <td>12/17/2014</td>\n",
       "      <td>Adoption</td>\n",
       "      <td>Foster</td>\n",
       "      <td>Dog</td>\n",
       "      <td>Neutered Male</td>\n",
       "      <td>4 years</td>\n",
       "      <td>Catahoula Mix</td>\n",
       "      <td>Red</td>\n",
       "    </tr>\n",
       "    <tr>\n",
       "      <th>1225</th>\n",
       "      <td>A801136</td>\n",
       "      <td>Max</td>\n",
       "      <td>08/04/2019 11:26:00 AM</td>\n",
       "      <td>08/04/2019 11:26:00 AM</td>\n",
       "      <td>03/22/2008</td>\n",
       "      <td>Rto-Adopt</td>\n",
       "      <td>NaN</td>\n",
       "      <td>Dog</td>\n",
       "      <td>Intact Male</td>\n",
       "      <td>11 years</td>\n",
       "      <td>Miniature Pinscher</td>\n",
       "      <td>Red</td>\n",
       "    </tr>\n",
       "  </tbody>\n",
       "</table>\n",
       "</div>"
      ],
      "text/plain": [
       "     Animal ID Name                DateTime               MonthYear  \\\n",
       "12     A653408  Max  08/23/2019 11:33:00 AM  08/23/2019 11:33:00 AM   \n",
       "156    A783700  Max  08/20/2019 06:36:00 PM  08/20/2019 06:36:00 PM   \n",
       "936    A744193  Max  08/08/2019 03:17:00 PM  08/08/2019 03:17:00 PM   \n",
       "982    A789119  Max  08/07/2019 06:56:00 PM  08/07/2019 06:56:00 PM   \n",
       "1225   A801136  Max  08/04/2019 11:26:00 AM  08/04/2019 11:26:00 AM   \n",
       "\n",
       "     Date of Birth     Outcome Type Outcome Subtype Animal Type  \\\n",
       "12      05/06/2009  Return to Owner             NaN         Dog   \n",
       "156     11/04/2017         Adoption             NaN         Dog   \n",
       "936     09/27/2016         Adoption          Foster         Dog   \n",
       "982     12/17/2014         Adoption          Foster         Dog   \n",
       "1225    03/22/2008        Rto-Adopt             NaN         Dog   \n",
       "\n",
       "     Sex upon Outcome Age upon Outcome                   Breed  \\\n",
       "12      Neutered Male         10 years    American Bulldog Mix   \n",
       "156     Neutered Male           1 year  Labrador Retriever Mix   \n",
       "936     Neutered Male          2 years       Cairn Terrier Mix   \n",
       "982     Neutered Male          4 years           Catahoula Mix   \n",
       "1225      Intact Male         11 years      Miniature Pinscher   \n",
       "\n",
       "                Color  \n",
       "12        White/Black  \n",
       "156   Chocolate/White  \n",
       "936         Tan/White  \n",
       "982               Red  \n",
       "1225              Red  "
      ]
     },
     "execution_count": 71,
     "metadata": {},
     "output_type": "execute_result"
    }
   ],
   "source": [
    "max_data = shelter_data.query('Name == \"Max\"')\n",
    "max_data.head()\n",
    "#vs\n",
    "shelter_data[shelter_data['Name']==\"Max\"].head()"
   ]
  },
  {
   "cell_type": "code",
   "execution_count": 65,
   "metadata": {
    "slideshow": {
     "slide_type": "slide"
    }
   },
   "outputs": [
    {
     "data": {
      "text/html": [
       "<div>\n",
       "<style scoped>\n",
       "    .dataframe tbody tr th:only-of-type {\n",
       "        vertical-align: middle;\n",
       "    }\n",
       "\n",
       "    .dataframe tbody tr th {\n",
       "        vertical-align: top;\n",
       "    }\n",
       "\n",
       "    .dataframe thead th {\n",
       "        text-align: right;\n",
       "    }\n",
       "</style>\n",
       "<table border=\"1\" class=\"dataframe\">\n",
       "  <thead>\n",
       "    <tr style=\"text-align: right;\">\n",
       "      <th></th>\n",
       "      <th>Animal ID</th>\n",
       "      <th>Name</th>\n",
       "      <th>DateTime</th>\n",
       "      <th>MonthYear</th>\n",
       "      <th>Date of Birth</th>\n",
       "      <th>Outcome Type</th>\n",
       "      <th>Outcome Subtype</th>\n",
       "      <th>animal_type</th>\n",
       "      <th>Sex upon Outcome</th>\n",
       "      <th>Age upon Outcome</th>\n",
       "      <th>Breed</th>\n",
       "      <th>Color</th>\n",
       "    </tr>\n",
       "  </thead>\n",
       "  <tbody>\n",
       "    <tr>\n",
       "      <th>0</th>\n",
       "      <td>A802778</td>\n",
       "      <td>Angel</td>\n",
       "      <td>08/23/2019 12:57:00 PM</td>\n",
       "      <td>08/23/2019 12:57:00 PM</td>\n",
       "      <td>08/22/2012</td>\n",
       "      <td>Adoption</td>\n",
       "      <td>NaN</td>\n",
       "      <td>Dog</td>\n",
       "      <td>Spayed Female</td>\n",
       "      <td>7 years</td>\n",
       "      <td>Chihuahua Longhair</td>\n",
       "      <td>Tan/Cream</td>\n",
       "    </tr>\n",
       "    <tr>\n",
       "      <th>1</th>\n",
       "      <td>A802776</td>\n",
       "      <td>Buster</td>\n",
       "      <td>08/23/2019 12:56:00 PM</td>\n",
       "      <td>08/23/2019 12:56:00 PM</td>\n",
       "      <td>08/22/2012</td>\n",
       "      <td>Adoption</td>\n",
       "      <td>NaN</td>\n",
       "      <td>Dog</td>\n",
       "      <td>Neutered Male</td>\n",
       "      <td>7 years</td>\n",
       "      <td>Miniature Poodle</td>\n",
       "      <td>Apricot</td>\n",
       "    </tr>\n",
       "    <tr>\n",
       "      <th>4</th>\n",
       "      <td>A802371</td>\n",
       "      <td>NaN</td>\n",
       "      <td>08/23/2019 12:51:00 PM</td>\n",
       "      <td>08/23/2019 12:51:00 PM</td>\n",
       "      <td>05/26/2019</td>\n",
       "      <td>Transfer</td>\n",
       "      <td>Partner</td>\n",
       "      <td>Dog</td>\n",
       "      <td>Intact Female</td>\n",
       "      <td>2 months</td>\n",
       "      <td>Siberian Husky</td>\n",
       "      <td>Red/White</td>\n",
       "    </tr>\n",
       "    <tr>\n",
       "      <th>5</th>\n",
       "      <td>A802369</td>\n",
       "      <td>NaN</td>\n",
       "      <td>08/23/2019 12:51:00 PM</td>\n",
       "      <td>08/23/2019 12:51:00 PM</td>\n",
       "      <td>05/26/2019</td>\n",
       "      <td>Transfer</td>\n",
       "      <td>Partner</td>\n",
       "      <td>Dog</td>\n",
       "      <td>Intact Male</td>\n",
       "      <td>2 months</td>\n",
       "      <td>Siberian Husky</td>\n",
       "      <td>Red/White</td>\n",
       "    </tr>\n",
       "    <tr>\n",
       "      <th>6</th>\n",
       "      <td>A802370</td>\n",
       "      <td>NaN</td>\n",
       "      <td>08/23/2019 12:51:00 PM</td>\n",
       "      <td>08/23/2019 12:51:00 PM</td>\n",
       "      <td>05/26/2019</td>\n",
       "      <td>Transfer</td>\n",
       "      <td>Partner</td>\n",
       "      <td>Dog</td>\n",
       "      <td>Intact Male</td>\n",
       "      <td>2 months</td>\n",
       "      <td>Siberian Husky</td>\n",
       "      <td>Red/White</td>\n",
       "    </tr>\n",
       "  </tbody>\n",
       "</table>\n",
       "</div>"
      ],
      "text/plain": [
       "  Animal ID    Name                DateTime               MonthYear  \\\n",
       "0   A802778   Angel  08/23/2019 12:57:00 PM  08/23/2019 12:57:00 PM   \n",
       "1   A802776  Buster  08/23/2019 12:56:00 PM  08/23/2019 12:56:00 PM   \n",
       "4   A802371     NaN  08/23/2019 12:51:00 PM  08/23/2019 12:51:00 PM   \n",
       "5   A802369     NaN  08/23/2019 12:51:00 PM  08/23/2019 12:51:00 PM   \n",
       "6   A802370     NaN  08/23/2019 12:51:00 PM  08/23/2019 12:51:00 PM   \n",
       "\n",
       "  Date of Birth Outcome Type Outcome Subtype animal_type Sex upon Outcome  \\\n",
       "0    08/22/2012     Adoption             NaN         Dog    Spayed Female   \n",
       "1    08/22/2012     Adoption             NaN         Dog    Neutered Male   \n",
       "4    05/26/2019     Transfer         Partner         Dog    Intact Female   \n",
       "5    05/26/2019     Transfer         Partner         Dog      Intact Male   \n",
       "6    05/26/2019     Transfer         Partner         Dog      Intact Male   \n",
       "\n",
       "  Age upon Outcome               Breed      Color  \n",
       "0          7 years  Chihuahua Longhair  Tan/Cream  \n",
       "1          7 years    Miniature Poodle    Apricot  \n",
       "4         2 months      Siberian Husky  Red/White  \n",
       "5         2 months      Siberian Husky  Red/White  \n",
       "6         2 months      Siberian Husky  Red/White  "
      ]
     },
     "execution_count": 65,
     "metadata": {},
     "output_type": "execute_result"
    }
   ],
   "source": [
    "shelter_data.rename(index=str, columns={\"Animal Type\": \"animal_type\"}, inplace = True)\n",
    "test = shelter_data.query('animal_type == \"Dog\"')\n",
    "test.head()"
   ]
  },
  {
   "cell_type": "markdown",
   "metadata": {
    "slideshow": {
     "slide_type": "slide"
    }
   },
   "source": [
    "## Goal 6: Transfering from sqlite to pandas"
   ]
  },
  {
   "cell_type": "code",
   "execution_count": null,
   "metadata": {
    "slideshow": {
     "slide_type": "fragment"
    }
   },
   "outputs": [],
   "source": [
    "conn = sqlite3.connect(\"flights.db\")\n",
    "df = pd.read_sql_query(\";\", conn)\n",
    "df"
   ]
  },
  {
   "cell_type": "markdown",
   "metadata": {
    "slideshow": {
     "slide_type": "slide"
    }
   },
   "source": [
    "**Task**: \n",
    "Convert one of the earlier queries in the lesson to a pandas data frame"
   ]
  },
  {
   "cell_type": "markdown",
   "metadata": {
    "slideshow": {
     "slide_type": "slide"
    }
   },
   "source": [
    "## Integration\n",
    "\n",
    "The [Chinook database](https://github.com/lerocha/chinook-database) is a sample database, representing a digital media store.\n",
    "\n",
    "You need to create a query that can rank tracks in term of popularity.\n",
    "\n",
    "The name of the database is `Chinook_Sqlite.sqlite`"
   ]
  },
  {
   "cell_type": "markdown",
   "metadata": {
    "slideshow": {
     "slide_type": "slide"
    }
   },
   "source": [
    "Database information:<br>\n",
    "- How many tables are in the database?\n",
    "- What's the primary key of each table?\n",
    "- What foreign keys join the tables together?\n",
    "- If you had to draw a schema of how the tables are connected, what would it look like?"
   ]
  },
  {
   "cell_type": "markdown",
   "metadata": {
    "slideshow": {
     "slide_type": "slide"
    }
   },
   "source": [
    "To answer the question:<br>\n",
    "- What are the max and min dates in the Invoice table?\n",
    "- What tables would you need to answer \"what is your most popular track?\"\n",
    "- What values from each table?"
   ]
  },
  {
   "cell_type": "code",
   "execution_count": null,
   "metadata": {
    "slideshow": {
     "slide_type": "skip"
    }
   },
   "outputs": [],
   "source": []
  },
  {
   "cell_type": "markdown",
   "metadata": {
    "slideshow": {
     "slide_type": "slide"
    }
   },
   "source": [
    "## Reflection"
   ]
  }
 ],
 "metadata": {
  "kernelspec": {
   "display_name": "Python 3",
   "language": "python",
   "name": "python3"
  },
  "language_info": {
   "codemirror_mode": {
    "name": "ipython",
    "version": 3
   },
   "file_extension": ".py",
   "mimetype": "text/x-python",
   "name": "python",
   "nbconvert_exporter": "python",
   "pygments_lexer": "ipython3",
   "version": "3.7.3"
  }
 },
 "nbformat": 4,
 "nbformat_minor": 2
}
