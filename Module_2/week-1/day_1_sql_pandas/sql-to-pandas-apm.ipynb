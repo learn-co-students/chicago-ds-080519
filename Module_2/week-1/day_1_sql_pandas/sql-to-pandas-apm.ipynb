{
 "cells": [
  {
   "cell_type": "markdown",
   "metadata": {
    "slideshow": {
     "slide_type": "slide"
    }
   },
   "source": [
    "![sql](img/sql-logo.jpg)\n",
    "\n",
    "# A beginner's guide to databases, SQL, & using them with `pandas`"
   ]
  },
  {
   "cell_type": "markdown",
   "metadata": {
    "slideshow": {
     "slide_type": "slide"
    }
   },
   "source": [
    "**Scenario:** You are a data analyst for the Homeland Security, trying to create reports on the active airports world wide. The data you need to access is in a SQL database. YOu need to be able to query for the data in a database!"
   ]
  },
  {
   "cell_type": "markdown",
   "metadata": {
    "slideshow": {
     "slide_type": "slide"
    }
   },
   "source": [
    "## Learning goals:\n",
    "- Goal 1: Summarize the use case for sql in the data science skill set\n",
    "- Goal 2: Define key sql terminology\n",
    "- Goal 3: Get information about DB schema and table structure\n",
    "- Goal 4: Use basic SQL commands:\n",
    "    - Construct SQL queries\n",
    "    - Use JOIN to merge tables along logical columns\n",
    "    - Grouping Data with SQL\n",
    "- Goal 5: Query data from pandas dataframes using SQL\n",
    "- Goal 6: Convert SQL to pandas"
   ]
  },
  {
   "cell_type": "markdown",
   "metadata": {
    "slideshow": {
     "slide_type": "slide"
    }
   },
   "source": [
    "## Goal 1: Summarize\n",
    "\n",
    "[Netflix has a great article](https://medium.com/netflix-techblog/notebook-innovation-591ee3221233) describing three different data roles at their company, their different needs, and their toolsets.\n",
    "\n",
    "![netflix](img/netflix-data-roles.jpeg)\n",
    "\n",
    "Examining that graphic, SQL shows up as one of the tools of the _Data Engineer_ "
   ]
  },
  {
   "cell_type": "markdown",
   "metadata": {
    "slideshow": {
     "slide_type": "slide"
    }
   },
   "source": [
    "Data Engineers provide the essential data architecture services that make data science possible.\n",
    "\n",
    "![hierarchy](img/ai-hierachy.png)\n",
    "\n",
    "[Source: Monica Rogati’s fantastic Medium post “The AI Hierarchy of Needs”\n",
    "](https://hackernoon.com/the-ai-hierarchy-of-needs-18f111fcc007)"
   ]
  },
  {
   "cell_type": "markdown",
   "metadata": {
    "slideshow": {
     "slide_type": "slide"
    }
   },
   "source": [
    "![etl](img/etl.png)\n",
    "\n",
    "[img source: Jeff Hammerbacher’s slide from UC Berkeley CS 194 course ](https://bcourses.berkeley.edu/courses/1377158/pages/cs-194-16-introduction-to-data-science-fall-2015)"
   ]
  },
  {
   "cell_type": "markdown",
   "metadata": {
    "slideshow": {
     "slide_type": "slide"
    }
   },
   "source": [
    "### What is a Relational Database? \n",
    "\n",
    "![rdb](img/relational-dbms-model.png)\n",
    "[reference for image ](https://www.studytonight.com/dbms/database-model.php)"
   ]
  },
  {
   "cell_type": "markdown",
   "metadata": {
    "slideshow": {
     "slide_type": "slide"
    }
   },
   "source": [
    "### POPULAR RDBMS\n",
    "\n",
    "- SQLite\n",
    "- MySQL\n",
    "- PostgreSql\n",
    "- Oracle DB\n",
    "- SQL Server"
   ]
  },
  {
   "cell_type": "markdown",
   "metadata": {
    "slideshow": {
     "slide_type": "slide"
    }
   },
   "source": [
    "***\n",
    "## Goal 2: Database terminology\n",
    "\n",
    "### Relational Database Schema\n",
    "\n",
    "![schema](img/MySQL_Schema_Music_Example.png)\n",
    "\n",
    "[source of image](https://database.guide/what-is-a-database-schema/)"
   ]
  },
  {
   "cell_type": "markdown",
   "metadata": {
    "slideshow": {
     "slide_type": "slide"
    }
   },
   "source": [
    "### Table columns view\n",
    "![table example](img/columns.png)"
   ]
  },
  {
   "cell_type": "markdown",
   "metadata": {
    "slideshow": {
     "slide_type": "slide"
    }
   },
   "source": [
    "### Terminology\n",
    "\n",
    "- Schema\n",
    "- Primary Key\n",
    "- Foreign Key\n",
    "- Structured queries\n",
    "- Views"
   ]
  },
  {
   "cell_type": "markdown",
   "metadata": {
    "slideshow": {
     "slide_type": "slide"
    }
   },
   "source": [
    "***\n",
    "### SQLite\n",
    "\n",
    "![sqlite](img/SQLite-Python.jpg)\n",
    "\n",
    "\"SQLite is a C library that provides a lightweight disk-based database that doesn’t require a separate server process and allows accessing the database using a nonstandard variant of the SQL query language. Some applications can use SQLite for internal data storage. It’s also possible to prototype an application using SQLite and then port the code to a larger database such as PostgreSQL or Oracle.\" - [sqlite documentation](https://docs.python.org/2/library/sqlite3.html)\n",
    "\n"
   ]
  },
  {
   "cell_type": "markdown",
   "metadata": {
    "slideshow": {
     "slide_type": "slide"
    }
   },
   "source": [
    "## But what about connecting to database servers?\n",
    "\n",
    "To connect to an Oracle database server there is a different package, `cx_Oracle`. The documentation for that package is [here](https://oracle.github.io/python-cx_Oracle/)"
   ]
  },
  {
   "cell_type": "markdown",
   "metadata": {
    "slideshow": {
     "slide_type": "slide"
    }
   },
   "source": [
    "***\n",
    "## Goal 3: Get going with sqlite!"
   ]
  },
  {
   "cell_type": "code",
   "execution_count": 2,
   "metadata": {
    "slideshow": {
     "slide_type": "fragment"
    }
   },
   "outputs": [],
   "source": [
    "import sqlite3"
   ]
  },
  {
   "cell_type": "code",
   "execution_count": 3,
   "metadata": {},
   "outputs": [
    {
     "name": "stdout",
     "output_type": "stream",
     "text": [
      "total 13472\r\n",
      "drwxr-xr-x   9 philipklein-rodick  staff      288 Aug 23 13:57 \u001b[34m.\u001b[m\u001b[m\r\n",
      "drwxr-xr-x   4 philipklein-rodick  staff      128 Aug 26 11:54 \u001b[34m..\u001b[m\u001b[m\r\n",
      "drwxr-xr-x   3 philipklein-rodick  staff       96 Aug 23 13:09 \u001b[34m.ipynb_checkpoints\u001b[m\u001b[m\r\n",
      "-rwxr-xr-x   1 philipklein-rodick  staff  1067008 Aug 23 13:05 \u001b[31mChinook_Sqlite.sqlite\u001b[m\u001b[m\r\n",
      "-rwxr-xr-x   1 philipklein-rodick  staff  5415936 Aug 23 13:05 \u001b[31mflights.db\u001b[m\u001b[m\r\n",
      "drwxr-xr-x  13 philipklein-rodick  staff      416 Aug 23 13:05 \u001b[34mimg\u001b[m\u001b[m\r\n",
      "-rwxr-xr-x   1 philipklein-rodick  staff    26243 Aug 23 13:05 \u001b[31msql-to-pandas-apm.ipynb\u001b[m\u001b[m\r\n",
      "-rwxr-xr-x   1 philipklein-rodick  staff    58356 Aug 23 14:54 \u001b[31msql-to-pandas.ipynb\u001b[m\u001b[m\r\n",
      "-rwxr-xr-x   1 philipklein-rodick  staff   317533 Aug 23 13:05 \u001b[31msql-to-pandas.slides.html\u001b[m\u001b[m\r\n"
     ]
    }
   ],
   "source": [
    "!ls -la"
   ]
  },
  {
   "cell_type": "markdown",
   "metadata": {
    "slideshow": {
     "slide_type": "slide"
    }
   },
   "source": [
    "#### Load a DB object with `connect` and `cursor`"
   ]
  },
  {
   "cell_type": "code",
   "execution_count": 4,
   "metadata": {
    "slideshow": {
     "slide_type": "fragment"
    }
   },
   "outputs": [],
   "source": [
    "con = sqlite3.connect('flights.db')\n",
    "cursor = con.cursor()"
   ]
  },
  {
   "cell_type": "markdown",
   "metadata": {
    "slideshow": {
     "slide_type": "slide"
    }
   },
   "source": [
    "#### Use sqlite_master to find all the tables in the schema\n",
    "Get the schema of a database from a db in sqlite"
   ]
  },
  {
   "cell_type": "code",
   "execution_count": 5,
   "metadata": {},
   "outputs": [
    {
     "name": "stdout",
     "output_type": "stream",
     "text": [
      "[('airports',), ('airlines',), ('routes',)]\n"
     ]
    }
   ],
   "source": [
    "cursor.execute(\"SELECT name FROM sqlite_master WHERE type='table';\")\n",
    "print(cursor.fetchall())"
   ]
  },
  {
   "cell_type": "code",
   "execution_count": 6,
   "metadata": {},
   "outputs": [
    {
     "data": {
      "text/plain": [
       "(('name', None, None, None, None, None, None),)"
      ]
     },
     "execution_count": 6,
     "metadata": {},
     "output_type": "execute_result"
    }
   ],
   "source": [
    "cursor.description"
   ]
  },
  {
   "cell_type": "code",
   "execution_count": 7,
   "metadata": {},
   "outputs": [
    {
     "name": "stdout",
     "output_type": "stream",
     "text": [
      "[('airports', 'table'), ('ix_airports_index', 'index'), ('airlines', 'table'), ('ix_airlines_index', 'index'), ('routes', 'table'), ('ix_routes_index', 'index')]\n"
     ]
    }
   ],
   "source": [
    "cursor.execute(\"SELECT name, type FROM sqlite_master;\")\n",
    "print(cursor.fetchall())"
   ]
  },
  {
   "cell_type": "code",
   "execution_count": 8,
   "metadata": {},
   "outputs": [
    {
     "name": "stdout",
     "output_type": "stream",
     "text": [
      "('table', 'airports', 'airports', 2, 'CREATE TABLE airports (\\n[index] INTEGER,\\n  [id] TEXT,\\n  [name] TEXT,\\n  [city] TEXT,\\n  [country] TEXT,\\n  [code] TEXT,\\n  [icao] TEXT,\\n  [latitude] TEXT,\\n  [longitude] TEXT,\\n  [altitude] TEXT,\\n  [offset] TEXT,\\n  [dst] TEXT,\\n  [timezone] TEXT\\n)')\n",
      "('index', 'ix_airports_index', 'airports', 3, 'CREATE INDEX ix_airports_index ON airports ([index])')\n",
      "('table', 'airlines', 'airlines', 945, 'CREATE TABLE airlines (\\n[index] INTEGER,\\n  [id] TEXT,\\n  [name] TEXT,\\n  [alias] TEXT,\\n  [iata] TEXT,\\n  [icao] TEXT,\\n  [callsign] TEXT,\\n  [country] TEXT,\\n  [active] TEXT\\n)')\n",
      "('index', 'ix_airlines_index', 'airlines', 946, 'CREATE INDEX ix_airlines_index ON airlines ([index])')\n",
      "('table', 'routes', 'routes', 1393, 'CREATE TABLE routes (\\n[index] INTEGER,\\n  [airline] TEXT,\\n  [airline_id] TEXT,\\n  [source] TEXT,\\n  [source_id] TEXT,\\n  [dest] TEXT,\\n  [dest_id] TEXT,\\n  [codeshare] TEXT,\\n  [stops] TEXT,\\n  [equipment] TEXT\\n)')\n",
      "('index', 'ix_routes_index', 'routes', 1394, 'CREATE INDEX ix_routes_index ON routes ([index])')\n"
     ]
    }
   ],
   "source": [
    "cursor.execute(\"SELECT * FROM sqlite_master;\")\n",
    "results = cursor.fetchall()\n",
    "for res in results:\n",
    "    print(res)"
   ]
  },
  {
   "cell_type": "markdown",
   "metadata": {
    "slideshow": {
     "slide_type": "slide"
    }
   },
   "source": [
    "#### Get information about one table\n",
    "\n",
    "**A note about** `execute`<br>\n",
    "Each time you use it, you reset the value of cursor"
   ]
  },
  {
   "cell_type": "code",
   "execution_count": 9,
   "metadata": {},
   "outputs": [
    {
     "data": {
      "text/plain": [
       "(0,\n",
       " '1',\n",
       " 'Goroka',\n",
       " 'Goroka',\n",
       " 'Papua New Guinea',\n",
       " 'GKA',\n",
       " 'AYGA',\n",
       " '-6.081689',\n",
       " '145.391881',\n",
       " '5282',\n",
       " '10',\n",
       " 'U',\n",
       " 'Pacific/Port_Moresby')"
      ]
     },
     "execution_count": 9,
     "metadata": {},
     "output_type": "execute_result"
    }
   ],
   "source": [
    "cursor.execute(\"SELECT * FROM airports as a\").fetchone()"
   ]
  },
  {
   "cell_type": "code",
   "execution_count": 10,
   "metadata": {},
   "outputs": [
    {
     "data": {
      "text/plain": [
       "(1,\n",
       " '2',\n",
       " 'Madang',\n",
       " 'Madang',\n",
       " 'Papua New Guinea',\n",
       " 'MAG',\n",
       " 'AYMD',\n",
       " '-5.207083',\n",
       " '145.7887',\n",
       " '20',\n",
       " '10',\n",
       " 'U',\n",
       " 'Pacific/Port_Moresby')"
      ]
     },
     "execution_count": 10,
     "metadata": {},
     "output_type": "execute_result"
    }
   ],
   "source": [
    "cursor.fetchone()"
   ]
  },
  {
   "cell_type": "code",
   "execution_count": 11,
   "metadata": {},
   "outputs": [
    {
     "data": {
      "text/plain": [
       "[(2,\n",
       "  '3',\n",
       "  'Mount Hagen',\n",
       "  'Mount Hagen',\n",
       "  'Papua New Guinea',\n",
       "  'HGU',\n",
       "  'AYMH',\n",
       "  '-5.826789',\n",
       "  '144.295861',\n",
       "  '5388',\n",
       "  '10',\n",
       "  'U',\n",
       "  'Pacific/Port_Moresby'),\n",
       " (3,\n",
       "  '4',\n",
       "  'Nadzab',\n",
       "  'Nadzab',\n",
       "  'Papua New Guinea',\n",
       "  'LAE',\n",
       "  'AYNZ',\n",
       "  '-6.569828',\n",
       "  '146.726242',\n",
       "  '239',\n",
       "  '10',\n",
       "  'U',\n",
       "  'Pacific/Port_Moresby'),\n",
       " (4,\n",
       "  '5',\n",
       "  'Port Moresby Jacksons Intl',\n",
       "  'Port Moresby',\n",
       "  'Papua New Guinea',\n",
       "  'POM',\n",
       "  'AYPY',\n",
       "  '-9.443383',\n",
       "  '147.22005',\n",
       "  '146',\n",
       "  '10',\n",
       "  'U',\n",
       "  'Pacific/Port_Moresby'),\n",
       " (5,\n",
       "  '6',\n",
       "  'Wewak Intl',\n",
       "  'Wewak',\n",
       "  'Papua New Guinea',\n",
       "  'WWK',\n",
       "  'AYWK',\n",
       "  '-3.583828',\n",
       "  '143.669186',\n",
       "  '19',\n",
       "  '10',\n",
       "  'U',\n",
       "  'Pacific/Port_Moresby')]"
      ]
     },
     "execution_count": 11,
     "metadata": {},
     "output_type": "execute_result"
    }
   ],
   "source": [
    "cursor.fetchmany(4)"
   ]
  },
  {
   "cell_type": "markdown",
   "metadata": {
    "slideshow": {
     "slide_type": "slide"
    }
   },
   "source": [
    "#### Use description"
   ]
  },
  {
   "cell_type": "code",
   "execution_count": 12,
   "metadata": {
    "slideshow": {
     "slide_type": "fragment"
    }
   },
   "outputs": [
    {
     "data": {
      "text/plain": [
       "(('index', None, None, None, None, None, None),\n",
       " ('id', None, None, None, None, None, None),\n",
       " ('name', None, None, None, None, None, None),\n",
       " ('city', None, None, None, None, None, None),\n",
       " ('country', None, None, None, None, None, None),\n",
       " ('code', None, None, None, None, None, None),\n",
       " ('icao', None, None, None, None, None, None),\n",
       " ('latitude', None, None, None, None, None, None),\n",
       " ('longitude', None, None, None, None, None, None),\n",
       " ('altitude', None, None, None, None, None, None),\n",
       " ('offset', None, None, None, None, None, None),\n",
       " ('dst', None, None, None, None, None, None),\n",
       " ('timezone', None, None, None, None, None, None))"
      ]
     },
     "execution_count": 12,
     "metadata": {},
     "output_type": "execute_result"
    }
   ],
   "source": [
    "cursor.description"
   ]
  },
  {
   "cell_type": "markdown",
   "metadata": {
    "slideshow": {
     "slide_type": "slide"
    }
   },
   "source": [
    "#### Or use `Pragma`\n",
    "`Pragma` tool [link here](https://www.sqlite.org/pragma.html#pragma_table_info)\n",
    "\n",
    "**output**<br>\n",
    "`(column id, column name, data type, whether or not the column can be NULL, and the default value for the column)`"
   ]
  },
  {
   "cell_type": "code",
   "execution_count": 13,
   "metadata": {
    "slideshow": {
     "slide_type": "slide"
    }
   },
   "outputs": [
    {
     "name": "stdout",
     "output_type": "stream",
     "text": [
      "(0, 'index', 'INTEGER', 0, None, 0)\n",
      "(1, 'id', 'TEXT', 0, None, 0)\n",
      "(2, 'name', 'TEXT', 0, None, 0)\n",
      "(3, 'city', 'TEXT', 0, None, 0)\n",
      "(4, 'country', 'TEXT', 0, None, 0)\n",
      "(5, 'code', 'TEXT', 0, None, 0)\n",
      "(6, 'icao', 'TEXT', 0, None, 0)\n",
      "(7, 'latitude', 'TEXT', 0, None, 0)\n",
      "(8, 'longitude', 'TEXT', 0, None, 0)\n",
      "(9, 'altitude', 'TEXT', 0, None, 0)\n",
      "(10, 'offset', 'TEXT', 0, None, 0)\n",
      "(11, 'dst', 'TEXT', 0, None, 0)\n",
      "(12, 'timezone', 'TEXT', 0, None, 0)\n"
     ]
    }
   ],
   "source": [
    "cursor.execute(\"PRAGMA table_info(airports)\")\n",
    "info = cursor.fetchall()\n",
    "print(*info, sep = \"\\n\") "
   ]
  },
  {
   "cell_type": "markdown",
   "metadata": {
    "slideshow": {
     "slide_type": "slide"
    }
   },
   "source": [
    "#### Making fetch happen\n",
    "\n",
    "`.fetchall()` is how you get the query results out of the object.\n",
    "\n",
    "You can also `.fetchone()` or `.fetchmany()`"
   ]
  },
  {
   "cell_type": "markdown",
   "metadata": {
    "slideshow": {
     "slide_type": "slide"
    }
   },
   "source": [
    "**Task:** Get the descriptive data for airlines and routes tables"
   ]
  },
  {
   "cell_type": "code",
   "execution_count": 14,
   "metadata": {},
   "outputs": [
    {
     "name": "stdout",
     "output_type": "stream",
     "text": [
      "(0, 'index', 'INTEGER', 0, None, 0)\n",
      "(1, 'id', 'TEXT', 0, None, 0)\n",
      "(2, 'name', 'TEXT', 0, None, 0)\n",
      "(3, 'alias', 'TEXT', 0, None, 0)\n",
      "(4, 'iata', 'TEXT', 0, None, 0)\n",
      "(5, 'icao', 'TEXT', 0, None, 0)\n",
      "(6, 'callsign', 'TEXT', 0, None, 0)\n",
      "(7, 'country', 'TEXT', 0, None, 0)\n",
      "(8, 'active', 'TEXT', 0, None, 0)\n"
     ]
    }
   ],
   "source": [
    "cursor.execute(\"PRAGMA table_info(airlines)\")\n",
    "info = cursor.fetchall()\n",
    "print(*info, sep = \"\\n\")"
   ]
  },
  {
   "cell_type": "code",
   "execution_count": 15,
   "metadata": {},
   "outputs": [
    {
     "name": "stdout",
     "output_type": "stream",
     "text": [
      "(0, 'index', 'INTEGER', 0, None, 0)\n",
      "(1, 'airline', 'TEXT', 0, None, 0)\n",
      "(2, 'airline_id', 'TEXT', 0, None, 0)\n",
      "(3, 'source', 'TEXT', 0, None, 0)\n",
      "(4, 'source_id', 'TEXT', 0, None, 0)\n",
      "(5, 'dest', 'TEXT', 0, None, 0)\n",
      "(6, 'dest_id', 'TEXT', 0, None, 0)\n",
      "(7, 'codeshare', 'TEXT', 0, None, 0)\n",
      "(8, 'stops', 'TEXT', 0, None, 0)\n",
      "(9, 'equipment', 'TEXT', 0, None, 0)\n"
     ]
    }
   ],
   "source": [
    "cursor.execute(\"PRAGMA table_info(routes)\")\n",
    "info = cursor.fetchall()\n",
    "print(*info, sep = \"\\n\")"
   ]
  },
  {
   "cell_type": "markdown",
   "metadata": {
    "slideshow": {
     "slide_type": "slide"
    }
   },
   "source": [
    "***\n",
    "## Goal 4: Use basic SQL commands \n",
    "- Construct SQL queries\n",
    "- Use JOIN to merge tables along logical columns\n",
    "- Grouping Data with SQL"
   ]
  },
  {
   "cell_type": "code",
   "execution_count": 16,
   "metadata": {},
   "outputs": [
    {
     "data": {
      "text/plain": [
       "[('Flatiron School',)]"
      ]
     },
     "execution_count": 16,
     "metadata": {},
     "output_type": "execute_result"
    }
   ],
   "source": [
    "cursor.execute(\"\"\"select \"Flatiron School\\\"\"\"\").fetchall()"
   ]
  },
  {
   "cell_type": "markdown",
   "metadata": {
    "slideshow": {
     "slide_type": "slide"
    }
   },
   "source": [
    "### Construct SQL queries"
   ]
  },
  {
   "cell_type": "markdown",
   "metadata": {
    "slideshow": {
     "slide_type": "fragment"
    }
   },
   "source": [
    "**Select**"
   ]
  },
  {
   "cell_type": "markdown",
   "metadata": {
    "slideshow": {
     "slide_type": "fragment"
    }
   },
   "source": [
    "**From**"
   ]
  },
  {
   "cell_type": "markdown",
   "metadata": {
    "slideshow": {
     "slide_type": "fragment"
    }
   },
   "source": [
    "**Where**"
   ]
  },
  {
   "cell_type": "markdown",
   "metadata": {
    "slideshow": {
     "slide_type": "fragment"
    }
   },
   "source": [
    "**Order by**"
   ]
  },
  {
   "cell_type": "markdown",
   "metadata": {
    "slideshow": {
     "slide_type": "fragment"
    }
   },
   "source": [
    "**Limit**"
   ]
  },
  {
   "cell_type": "markdown",
   "metadata": {
    "slideshow": {
     "slide_type": "slide"
    }
   },
   "source": [
    "#### Options for each:"
   ]
  },
  {
   "cell_type": "markdown",
   "metadata": {
    "slideshow": {
     "slide_type": "fragment"
    }
   },
   "source": [
    "**Select**:  `distinct`, using `as` to rename columns, single number aggregates"
   ]
  },
  {
   "cell_type": "markdown",
   "metadata": {
    "slideshow": {
     "slide_type": "fragment"
    }
   },
   "source": [
    "**From:** also uses aliasing with `as`"
   ]
  },
  {
   "cell_type": "markdown",
   "metadata": {
    "slideshow": {
     "slide_type": "fragment"
    }
   },
   "source": [
    "**Where**: equals is only one `=`, `between`, `in`, wildcards `%`, `AND`, `OR`, `NOT`"
   ]
  },
  {
   "cell_type": "markdown",
   "metadata": {
    "slideshow": {
     "slide_type": "fragment"
    }
   },
   "source": [
    "**Order by**: `asc` and `desc`"
   ]
  },
  {
   "cell_type": "markdown",
   "metadata": {
    "slideshow": {
     "slide_type": "fragment"
    }
   },
   "source": [
    "**Limit**:  #"
   ]
  },
  {
   "cell_type": "markdown",
   "metadata": {
    "slideshow": {
     "slide_type": "slide"
    }
   },
   "source": [
    "**Task**: \n",
    "- Select only active airlines in the UK from the airlines table\n",
    "- Select the unique list of countries with airports"
   ]
  },
  {
   "cell_type": "code",
   "execution_count": 17,
   "metadata": {},
   "outputs": [
    {
     "data": {
      "text/plain": [
       "[(None,),\n",
       " ('United States',),\n",
       " ('South Africa',),\n",
       " ('United Kingdom',),\n",
       " ('Russia',),\n",
       " ('Thailand',),\n",
       " ('Canada',),\n",
       " ('Australia',),\n",
       " ('Singapore',),\n",
       " ('Belgium',),\n",
       " ('Mexico',),\n",
       " ('Spain',),\n",
       " ('France',),\n",
       " ('United Arab Emirates',),\n",
       " ('Republic of Korea',),\n",
       " ('Pakistan',),\n",
       " ('Libya',),\n",
       " ('Gambia',),\n",
       " ('Ivory Coast',),\n",
       " ('Ukraine',),\n",
       " ('Democratic Republic of the Congo',),\n",
       " ('Iran',),\n",
       " ('Finland',),\n",
       " ('Brazil',),\n",
       " ('Colombia',),\n",
       " ('AEROCENTER',),\n",
       " ('Ghana',),\n",
       " ('Kenya',),\n",
       " ('Liberia',),\n",
       " ('Togo',),\n",
       " ('Somali Republic',),\n",
       " ('Morocco',),\n",
       " ('Canadian Territories',),\n",
       " ('Dominican Republic',),\n",
       " ('Japan',),\n",
       " ('Albania',),\n",
       " ('Nigeria',),\n",
       " ('Germany',),\n",
       " ('Slovenia',),\n",
       " ('Czech Republic',),\n",
       " ('Benin',),\n",
       " ('AEROCESAR',),\n",
       " ('Greece',),\n",
       " ('Chile',),\n",
       " ('Tanzania',),\n",
       " ('Bolivia',),\n",
       " ('Italy',),\n",
       " ('Sweden',),\n",
       " ('Argentina',),\n",
       " ('Sierra Leone',),\n",
       " ('Indonesia',),\n",
       " ('Senegal',),\n",
       " ('Afghanistan',),\n",
       " ('Uganda',),\n",
       " ('Bosnia and Herzegovina',),\n",
       " ('Gabon',),\n",
       " ('Angola',),\n",
       " ('Uzbekistan',),\n",
       " ('Namibia',),\n",
       " ('Turkey',),\n",
       " ('Vietnam',),\n",
       " ('Zambia',),\n",
       " ('Venezuela',),\n",
       " ('Egypt',),\n",
       " ('Ireland',),\n",
       " ('Switzerland',),\n",
       " ('Serbia',),\n",
       " ('Peru',),\n",
       " ('Slovakia',),\n",
       " ('Denmark',),\n",
       " ('Azerbaijan',),\n",
       " ('AIRPORT HELICOPTER',),\n",
       " ('Hong Kong',),\n",
       " ('Croatia',),\n",
       " ('Hungary',),\n",
       " ('Estonia',),\n",
       " ('Swaziland',),\n",
       " ('India',),\n",
       " ('Reunion',),\n",
       " ('Iceland',),\n",
       " ('Israel',),\n",
       " ('Austria',),\n",
       " ('Jamaica',),\n",
       " ('Malta',),\n",
       " ('Portugal',),\n",
       " ('Cyprus',),\n",
       " ('Kazakhstan',),\n",
       " ('Kyrgyzstan',),\n",
       " ('Turkmenistan',),\n",
       " ('Kiribati',),\n",
       " ('Cambodia',),\n",
       " ('Netherlands Antilles',),\n",
       " ('Sao Tome and Principe',),\n",
       " ('ALNACIONAL',),\n",
       " ('Lithuania',),\n",
       " ('Maldives',),\n",
       " ('Malawi',),\n",
       " ('Moldova',),\n",
       " ('Montenegro',),\n",
       " ('Macao',),\n",
       " ('Seychelles',),\n",
       " ('Bulgaria',),\n",
       " ('Papua New Guinea',),\n",
       " ('Latvia',),\n",
       " ('ANTARES',),\n",
       " ('AVINOR',),\n",
       " ('New Zealand',),\n",
       " ('ALCON',),\n",
       " ('ASTORIA',),\n",
       " ('COMPANY AS',),\n",
       " ('Philippines',),\n",
       " ('AIRPAC',),\n",
       " ('AIRFLIGHT',),\n",
       " ('ASA PESADA',),\n",
       " ('AIR PRINT',),\n",
       " ('APPALACHIAN',),\n",
       " ('ALASKA PACIFIC',),\n",
       " ('AEROPERLAS',),\n",
       " ('AEROPUMA',),\n",
       " ('ATCO',),\n",
       " ('AVIOQUINTANA',),\n",
       " ('Aruba',),\n",
       " (' S.A.',),\n",
       " ('ARMSTRONG',),\n",
       " ('Armenia',),\n",
       " ('AIREX',),\n",
       " ('Chad',),\n",
       " ('ALASKA',),\n",
       " ('SCHEFF',),\n",
       " ('AEROSUN',),\n",
       " ('ALL STAR',),\n",
       " ('AIR CLASS',),\n",
       " ('Nepal',),\n",
       " ('Sudan',),\n",
       " ('Panama',),\n",
       " ('Guinea-Bissau',),\n",
       " ('ATLANTIS CANADA',),\n",
       " ('Burkina Faso',),\n",
       " ('Netherlands',),\n",
       " ('Ecuador',),\n",
       " ('AUDI AIR',),\n",
       " ('Uruguay',),\n",
       " ('AURORA AIR',),\n",
       " ('AUSA',),\n",
       " ('AVIANCA',),\n",
       " ('ALAMO',),\n",
       " ('Djibouti',),\n",
       " ('AVEMEX',),\n",
       " ('Vanuatu',),\n",
       " ('AQUILINE',),\n",
       " ('ACTIVE AERO',),\n",
       " ('Bangladesh',),\n",
       " ('Georgia',),\n",
       " ('El Salvador',),\n",
       " ('AEROVARADERO',),\n",
       " ('AIRNAT',),\n",
       " ('Niger',),\n",
       " ('Jordan',),\n",
       " ('AIRWAVE',),\n",
       " ('AEROWEE',),\n",
       " ('AIR FREIGHTER',),\n",
       " ('Malaysia',),\n",
       " ('RENTAXEL',),\n",
       " ('Macedonia',),\n",
       " ('AIRMAN',),\n",
       " ('ATLANTIC NICARAGUA',),\n",
       " ('AZIMUT',),\n",
       " ('Zimbabwe',),\n",
       " ('ARIZAIR',),\n",
       " ('Lebanon',),\n",
       " ('Guatemala',),\n",
       " ('Bahrain',),\n",
       " ('Barbados',),\n",
       " ('Botswana',),\n",
       " ('French Polynesia',),\n",
       " ('Russian Federation',),\n",
       " ('China',),\n",
       " ('Belize',),\n",
       " ('Mozambique',),\n",
       " ('Marshall Islands',),\n",
       " ('Algeria',),\n",
       " ('Ethiopia',),\n",
       " ('Air S',),\n",
       " ('Fiji',),\n",
       " ('Mali',),\n",
       " ('Faroe Islands',),\n",
       " ('Mauritania',),\n",
       " ('Cameroon',),\n",
       " ('Guinea',),\n",
       " ('Belarus',),\n",
       " ('French Guiana',),\n",
       " ('Haiti',),\n",
       " ('Comoros',),\n",
       " ('Honduras',),\n",
       " ('Norway',),\n",
       " ('Myanmar',),\n",
       " (\"Democratic People's Republic of Korea\",),\n",
       " ('Mauritius',),\n",
       " ('Madagascar',),\n",
       " ('Mongolia',),\n",
       " ('Burundi',),\n",
       " ('Sri Lanka',),\n",
       " ('Romania',),\n",
       " ('Republic of the Congo',),\n",
       " ('Rwanda',),\n",
       " ('Nicaragua',),\n",
       " ('Turks and Caicos Islands',),\n",
       " ('S',),\n",
       " ('Bahamas',),\n",
       " ('Suriname',),\n",
       " ('Syrian Arab Republic',),\n",
       " ('AIR-MAUR',),\n",
       " ('Cape Verde',),\n",
       " ('Luxembourg',),\n",
       " ('Oman',),\n",
       " ('Antigua and Barbuda',),\n",
       " ('Trinidad and Tobago',),\n",
       " ('Hong Kong SAR of China',),\n",
       " ('Cayman Islands',),\n",
       " ('Central African Republic',),\n",
       " ('Democratic Republic of Congo',),\n",
       " ('Poland',),\n",
       " ('Taiwan',),\n",
       " ('ASUR',),\n",
       " ('Paraguay',),\n",
       " ('Cuba',),\n",
       " ('DRAGON',),\n",
       " ('Bhutan',),\n",
       " ('Equatorial Guinea',),\n",
       " ('UNIFORM OSCAR',),\n",
       " ('Russia]]',),\n",
       " ('Eritrea',),\n",
       " ('Tunisia',),\n",
       " ('Costa Rica',),\n",
       " ('Saint Lucia',),\n",
       " ('Monaco',),\n",
       " ('Solomon Islands',),\n",
       " ('ALDAWLYH AIR',),\n",
       " ('Iraq',),\n",
       " ('Kuwait',),\n",
       " ('ODINN',),\n",
       " ('LAP',),\n",
       " ('Lao Peoples Democratic Republic',),\n",
       " ('Bermuda',),\n",
       " ('WATCHDOG',),\n",
       " ('Montserrat',),\n",
       " ('Nauru',),\n",
       " ('Saudi Arabia',),\n",
       " ('Palau',),\n",
       " ('Tonga',),\n",
       " ('Samoa',),\n",
       " ('Qatar',),\n",
       " ('UNited Kingdom',),\n",
       " ('Netherland',),\n",
       " ('Guyana',),\n",
       " ('Cook Islands',),\n",
       " ('Brunei',),\n",
       " ('ACOM',),\n",
       " (' Boonville Stage Line',),\n",
       " ('Saint Vincent and the Grenadines',),\n",
       " ('SWISSBIRD',),\n",
       " ('Yemen',),\n",
       " ('Tajikistan',),\n",
       " ('AEROSOL',),\n",
       " ('Saint Kitts and Nevis',),\n",
       " ('VELES',),\n",
       " (\"Cote d'Ivoire\",),\n",
       " ('\\\\N',),\n",
       " ('Burma',),\n",
       " ('South Korea',),\n",
       " ('Guadeloupe',),\n",
       " ('Congo (Kinshasa)',),\n",
       " ('Syria',),\n",
       " ('American Samoa',),\n",
       " ('British Virgin Islands',),\n",
       " ('Puerto Rico',),\n",
       " ('Congo (Brazzaville)',)]"
      ]
     },
     "execution_count": 17,
     "metadata": {},
     "output_type": "execute_result"
    }
   ],
   "source": [
    "cursor.execute(\"\"\"SELECT distinct country \n",
    "                  FROM airlines\"\"\").fetchall()"
   ]
  },
  {
   "cell_type": "code",
   "execution_count": 18,
   "metadata": {},
   "outputs": [
    {
     "data": {
      "text/plain": [
       "[('Astraeus',),\n",
       " ('Air Southwest',),\n",
       " ('Aurigny Air Services',),\n",
       " ('Air Wales',),\n",
       " ('AD Aviation',)]"
      ]
     },
     "execution_count": 18,
     "metadata": {},
     "output_type": "execute_result"
    }
   ],
   "source": [
    "cursor.execute(\"\"\"\n",
    "SELECT name\n",
    "FROM airlines\n",
    "WHERE active = 'Y'\n",
    "  AND country = 'United Kingdom';\n",
    "\"\"\")\n",
    "cursor.fetchmany(5)"
   ]
  },
  {
   "cell_type": "markdown",
   "metadata": {
    "slideshow": {
     "slide_type": "slide"
    }
   },
   "source": [
    "### SQL Joins"
   ]
  },
  {
   "cell_type": "markdown",
   "metadata": {
    "slideshow": {
     "slide_type": "fragment"
    }
   },
   "source": [
    "SQL joins can be used to both **add** data to a table and **remove** data from a table. "
   ]
  },
  {
   "cell_type": "markdown",
   "metadata": {
    "slideshow": {
     "slide_type": "fragment"
    }
   },
   "source": [
    "![venn](img/venn.png)"
   ]
  },
  {
   "cell_type": "markdown",
   "metadata": {
    "slideshow": {
     "slide_type": "slide"
    }
   },
   "source": [
    "**Task** Write a query that will join the latitude and longitude data from the airports table to the information on the routes table"
   ]
  },
  {
   "cell_type": "code",
   "execution_count": 19,
   "metadata": {
    "slideshow": {
     "slide_type": "skip"
    }
   },
   "outputs": [
    {
     "name": "stdout",
     "output_type": "stream",
     "text": [
      "('index', None, None, None, None, None, None)\n",
      "('airline', None, None, None, None, None, None)\n",
      "('airline_id', None, None, None, None, None, None)\n",
      "('source', None, None, None, None, None, None)\n",
      "('source_id', None, None, None, None, None, None)\n",
      "('dest', None, None, None, None, None, None)\n",
      "('dest_id', None, None, None, None, None, None)\n",
      "('codeshare', None, None, None, None, None, None)\n",
      "('stops', None, None, None, None, None, None)\n",
      "('equipment', None, None, None, None, None, None)\n"
     ]
    }
   ],
   "source": [
    "cursor.execute(\"\"\"\n",
    "SELECT *\n",
    "FROM routes\n",
    "\"\"\")\n",
    "print(*cursor.description, sep='\\n')"
   ]
  },
  {
   "cell_type": "code",
   "execution_count": 20,
   "metadata": {},
   "outputs": [
    {
     "name": "stdout",
     "output_type": "stream",
     "text": [
      "('index', None, None, None, None, None, None)\n",
      "('id', None, None, None, None, None, None)\n",
      "('name', None, None, None, None, None, None)\n",
      "('city', None, None, None, None, None, None)\n",
      "('country', None, None, None, None, None, None)\n",
      "('code', None, None, None, None, None, None)\n",
      "('icao', None, None, None, None, None, None)\n",
      "('latitude', None, None, None, None, None, None)\n",
      "('longitude', None, None, None, None, None, None)\n",
      "('altitude', None, None, None, None, None, None)\n",
      "('offset', None, None, None, None, None, None)\n",
      "('dst', None, None, None, None, None, None)\n",
      "('timezone', None, None, None, None, None, None)\n"
     ]
    }
   ],
   "source": [
    "cursor.execute(\"\"\"\n",
    "SELECT *\n",
    "FROM airports\n",
    "\"\"\")\n",
    "print(*cursor.description, sep='\\n')"
   ]
  },
  {
   "cell_type": "code",
   "execution_count": 21,
   "metadata": {},
   "outputs": [
    {
     "data": {
      "text/plain": [
       "('-6.081689', '145.391881', 'CG', 'GKA', 'HGU')"
      ]
     },
     "execution_count": 21,
     "metadata": {},
     "output_type": "execute_result"
    }
   ],
   "source": [
    "cursor.execute(\"\"\"SELECT a.latitude, a.longitude, r.airline, r.source, r.dest\n",
    "                    FROM airports as a\n",
    "                    JOIN routes as r on r.source_id = a.id  \"\"\").fetchone()\n"
   ]
  },
  {
   "cell_type": "markdown",
   "metadata": {
    "slideshow": {
     "slide_type": "slide"
    }
   },
   "source": [
    "### Grouping statements\n",
    "\n",
    "Combines `select` and `group by` when you want aggregates by values"
   ]
  },
  {
   "cell_type": "markdown",
   "metadata": {
    "slideshow": {
     "slide_type": "fragment"
    }
   },
   "source": [
    "`select` `min(x)` ... `max()`, `sum()`, etc"
   ]
  },
  {
   "cell_type": "markdown",
   "metadata": {
    "slideshow": {
     "slide_type": "fragment"
    }
   },
   "source": [
    "`group by x`"
   ]
  },
  {
   "cell_type": "markdown",
   "metadata": {
    "slideshow": {
     "slide_type": "slide"
    }
   },
   "source": [
    "**Task**<br>\n",
    "- Which countries have the highest amount of active airlines?\n",
    "- Which countries have the highest amount of inactive airlines?\n",
    "- What about airports by timezones?"
   ]
  },
  {
   "cell_type": "code",
   "execution_count": 22,
   "metadata": {
    "slideshow": {
     "slide_type": "skip"
    }
   },
   "outputs": [
    {
     "name": "stdout",
     "output_type": "stream",
     "text": [
      "('United States', 141)\n",
      "('Russia', 72)\n",
      "('United Kingdom', 40)\n",
      "('Germany', 37)\n",
      "('Canada', 34)\n",
      "('Australia', 26)\n",
      "('China', 25)\n",
      "('Spain', 24)\n",
      "('Brazil', 23)\n",
      "('France', 22)\n"
     ]
    }
   ],
   "source": [
    "# Which countries have the highest amount of active airlines?\n",
    "cursor.execute(\"\"\"\n",
    "SELECT country, count(*) AS count\n",
    "FROM airlines\n",
    "WHERE active = 'Y'\n",
    "GROUP BY country\n",
    "ORDER BY count DESC\n",
    "LIMIT 10\n",
    "\"\"\")\n",
    "print(*cursor.fetchall(), sep='\\n')"
   ]
  },
  {
   "cell_type": "code",
   "execution_count": 23,
   "metadata": {
    "slideshow": {
     "slide_type": "skip"
    }
   },
   "outputs": [
    {
     "name": "stdout",
     "output_type": "stream",
     "text": [
      "('United States', 939)\n",
      "('Mexico', 427)\n",
      "('United Kingdom', 367)\n",
      "('Canada', 284)\n",
      "('Russia', 158)\n",
      "('Spain', 142)\n",
      "('France', 97)\n",
      "('Germany', 94)\n",
      "('South Africa', 81)\n",
      "('Nigeria', 80)\n"
     ]
    }
   ],
   "source": [
    "# Which countries have the highest amount of inactive airports?\n",
    "cursor.execute(\"\"\"\n",
    "SELECT country, count(*) AS count\n",
    "FROM airlines\n",
    "WHERE active = 'N'\n",
    "GROUP BY country\n",
    "ORDER BY count DESC\n",
    "LIMIT 10\n",
    "\"\"\")\n",
    "print(*cursor.fetchall(), sep='\\n')"
   ]
  },
  {
   "cell_type": "code",
   "execution_count": 24,
   "metadata": {
    "slideshow": {
     "slide_type": "skip"
    }
   },
   "outputs": [
    {
     "name": "stdout",
     "output_type": "stream",
     "text": [
      "('America/New_York', 628)\n",
      "('America/Chicago', 373)\n",
      "('Europe/Berlin', 319)\n",
      "('America/Anchorage', 258)\n",
      "('Europe/Paris', 232)\n",
      "('America/Los_Angeles', 226)\n",
      "('Asia/Chongqing', 222)\n",
      "('Europe/London', 193)\n",
      "('America/Toronto', 159)\n",
      "('Asia/Calcutta', 141)\n"
     ]
    }
   ],
   "source": [
    "# What about airports by timezones?\n",
    "cursor.execute(\"\"\"\n",
    "SELECT timezone, count(*) AS count\n",
    "FROM airports\n",
    "GROUP BY 1\n",
    "ORDER BY 2 DESC\n",
    "LIMIT 10\n",
    "\"\"\")\n",
    "print(*cursor.fetchall(), sep='\\n')"
   ]
  },
  {
   "cell_type": "code",
   "execution_count": 25,
   "metadata": {},
   "outputs": [],
   "source": [
    "# It's always a good idea to close our connections when we're done\n",
    "cursor.close()\n",
    "con.close()"
   ]
  },
  {
   "cell_type": "markdown",
   "metadata": {
    "slideshow": {
     "slide_type": "slide"
    }
   },
   "source": [
    "## Goal 5: Using sql within pandas to filter\n",
    "\n",
    "`.query()`\n",
    "\n",
    "[query documentation](https://pandas.pydata.org/pandas-docs/stable/reference/api/pandas.DataFrame.query.html)"
   ]
  },
  {
   "cell_type": "code",
   "execution_count": 26,
   "metadata": {
    "slideshow": {
     "slide_type": "slide"
    }
   },
   "outputs": [
    {
     "data": {
      "text/plain": [
       "Animal ID           object\n",
       "Name                object\n",
       "DateTime            object\n",
       "MonthYear           object\n",
       "Date of Birth       object\n",
       "Outcome Type        object\n",
       "Outcome Subtype     object\n",
       "Animal Type         object\n",
       "Sex upon Outcome    object\n",
       "Age upon Outcome    object\n",
       "Breed               object\n",
       "Color               object\n",
       "dtype: object"
      ]
     },
     "execution_count": 26,
     "metadata": {},
     "output_type": "execute_result"
    }
   ],
   "source": [
    "# Get data for an example\n",
    "import pandas as pd\n",
    "shelter_data=pd.read_csv('https://data.austintexas.gov/api/views/9t4d-g238/rows.csv?accessType=DOWNLOAD')\n",
    "shelter_data.dtypes"
   ]
  },
  {
   "cell_type": "code",
   "execution_count": 27,
   "metadata": {
    "slideshow": {
     "slide_type": "slide"
    }
   },
   "outputs": [
    {
     "data": {
      "text/html": [
       "<div>\n",
       "<style scoped>\n",
       "    .dataframe tbody tr th:only-of-type {\n",
       "        vertical-align: middle;\n",
       "    }\n",
       "\n",
       "    .dataframe tbody tr th {\n",
       "        vertical-align: top;\n",
       "    }\n",
       "\n",
       "    .dataframe thead th {\n",
       "        text-align: right;\n",
       "    }\n",
       "</style>\n",
       "<table border=\"1\" class=\"dataframe\">\n",
       "  <thead>\n",
       "    <tr style=\"text-align: right;\">\n",
       "      <th></th>\n",
       "      <th>Animal ID</th>\n",
       "      <th>Name</th>\n",
       "      <th>DateTime</th>\n",
       "      <th>MonthYear</th>\n",
       "      <th>Date of Birth</th>\n",
       "      <th>Outcome Type</th>\n",
       "      <th>Outcome Subtype</th>\n",
       "      <th>Animal Type</th>\n",
       "      <th>Sex upon Outcome</th>\n",
       "      <th>Age upon Outcome</th>\n",
       "      <th>Breed</th>\n",
       "      <th>Color</th>\n",
       "    </tr>\n",
       "  </thead>\n",
       "  <tbody>\n",
       "    <tr>\n",
       "      <th>128</th>\n",
       "      <td>A796351</td>\n",
       "      <td>Max</td>\n",
       "      <td>08/24/2019 12:03:00 PM</td>\n",
       "      <td>08/24/2019 12:03:00 PM</td>\n",
       "      <td>05/31/2010</td>\n",
       "      <td>Transfer</td>\n",
       "      <td>Partner</td>\n",
       "      <td>Cat</td>\n",
       "      <td>Neutered Male</td>\n",
       "      <td>9 years</td>\n",
       "      <td>Domestic Shorthair</td>\n",
       "      <td>Black/White</td>\n",
       "    </tr>\n",
       "    <tr>\n",
       "      <th>157</th>\n",
       "      <td>A618405</td>\n",
       "      <td>Max</td>\n",
       "      <td>08/23/2019 06:38:00 PM</td>\n",
       "      <td>08/23/2019 06:38:00 PM</td>\n",
       "      <td>07/15/2010</td>\n",
       "      <td>Adoption</td>\n",
       "      <td>NaN</td>\n",
       "      <td>Dog</td>\n",
       "      <td>Neutered Male</td>\n",
       "      <td>9 years</td>\n",
       "      <td>American Pit Bull Terrier Mix</td>\n",
       "      <td>White/Blue</td>\n",
       "    </tr>\n",
       "    <tr>\n",
       "      <th>206</th>\n",
       "      <td>A653408</td>\n",
       "      <td>Max</td>\n",
       "      <td>08/23/2019 11:33:00 AM</td>\n",
       "      <td>08/23/2019 11:33:00 AM</td>\n",
       "      <td>05/06/2009</td>\n",
       "      <td>Return to Owner</td>\n",
       "      <td>NaN</td>\n",
       "      <td>Dog</td>\n",
       "      <td>Neutered Male</td>\n",
       "      <td>10 years</td>\n",
       "      <td>American Bulldog Mix</td>\n",
       "      <td>White/Black</td>\n",
       "    </tr>\n",
       "    <tr>\n",
       "      <th>352</th>\n",
       "      <td>A783700</td>\n",
       "      <td>Max</td>\n",
       "      <td>08/20/2019 06:36:00 PM</td>\n",
       "      <td>08/20/2019 06:36:00 PM</td>\n",
       "      <td>11/04/2017</td>\n",
       "      <td>Adoption</td>\n",
       "      <td>NaN</td>\n",
       "      <td>Dog</td>\n",
       "      <td>Neutered Male</td>\n",
       "      <td>1 year</td>\n",
       "      <td>Labrador Retriever Mix</td>\n",
       "      <td>Chocolate/White</td>\n",
       "    </tr>\n",
       "    <tr>\n",
       "      <th>1132</th>\n",
       "      <td>A744193</td>\n",
       "      <td>Max</td>\n",
       "      <td>08/08/2019 03:17:00 PM</td>\n",
       "      <td>08/08/2019 03:17:00 PM</td>\n",
       "      <td>09/27/2016</td>\n",
       "      <td>Adoption</td>\n",
       "      <td>Foster</td>\n",
       "      <td>Dog</td>\n",
       "      <td>Neutered Male</td>\n",
       "      <td>2 years</td>\n",
       "      <td>Cairn Terrier Mix</td>\n",
       "      <td>Tan/White</td>\n",
       "    </tr>\n",
       "    <tr>\n",
       "      <th>1178</th>\n",
       "      <td>A789119</td>\n",
       "      <td>Max</td>\n",
       "      <td>08/07/2019 06:56:00 PM</td>\n",
       "      <td>08/07/2019 06:56:00 PM</td>\n",
       "      <td>12/17/2014</td>\n",
       "      <td>Adoption</td>\n",
       "      <td>Foster</td>\n",
       "      <td>Dog</td>\n",
       "      <td>Neutered Male</td>\n",
       "      <td>4 years</td>\n",
       "      <td>Catahoula Mix</td>\n",
       "      <td>Red</td>\n",
       "    </tr>\n",
       "    <tr>\n",
       "      <th>1422</th>\n",
       "      <td>A801136</td>\n",
       "      <td>Max</td>\n",
       "      <td>08/04/2019 11:26:00 AM</td>\n",
       "      <td>08/04/2019 11:26:00 AM</td>\n",
       "      <td>03/22/2008</td>\n",
       "      <td>Rto-Adopt</td>\n",
       "      <td>NaN</td>\n",
       "      <td>Dog</td>\n",
       "      <td>Intact Male</td>\n",
       "      <td>11 years</td>\n",
       "      <td>Miniature Pinscher</td>\n",
       "      <td>Red</td>\n",
       "    </tr>\n",
       "    <tr>\n",
       "      <th>1598</th>\n",
       "      <td>A800872</td>\n",
       "      <td>Max</td>\n",
       "      <td>08/01/2019 04:37:00 PM</td>\n",
       "      <td>08/01/2019 04:37:00 PM</td>\n",
       "      <td>06/12/2019</td>\n",
       "      <td>Adoption</td>\n",
       "      <td>NaN</td>\n",
       "      <td>Dog</td>\n",
       "      <td>Neutered Male</td>\n",
       "      <td>1 month</td>\n",
       "      <td>German Shepherd Mix</td>\n",
       "      <td>Tan/Black</td>\n",
       "    </tr>\n",
       "    <tr>\n",
       "      <th>1756</th>\n",
       "      <td>A800791</td>\n",
       "      <td>Max</td>\n",
       "      <td>07/29/2019 06:07:00 PM</td>\n",
       "      <td>07/29/2019 06:07:00 PM</td>\n",
       "      <td>07/26/2017</td>\n",
       "      <td>Return to Owner</td>\n",
       "      <td>NaN</td>\n",
       "      <td>Dog</td>\n",
       "      <td>Intact Male</td>\n",
       "      <td>2 years</td>\n",
       "      <td>Pit Bull</td>\n",
       "      <td>Brown/White</td>\n",
       "    </tr>\n",
       "    <tr>\n",
       "      <th>1891</th>\n",
       "      <td>A788916</td>\n",
       "      <td>Max</td>\n",
       "      <td>07/27/2019 05:16:00 PM</td>\n",
       "      <td>07/27/2019 05:16:00 PM</td>\n",
       "      <td>11/26/2018</td>\n",
       "      <td>Return to Owner</td>\n",
       "      <td>NaN</td>\n",
       "      <td>Dog</td>\n",
       "      <td>Neutered Male</td>\n",
       "      <td>7 months</td>\n",
       "      <td>Pit Bull Mix</td>\n",
       "      <td>Brown Brindle/White</td>\n",
       "    </tr>\n",
       "    <tr>\n",
       "      <th>1918</th>\n",
       "      <td>A799870</td>\n",
       "      <td>Max</td>\n",
       "      <td>07/26/2019 07:17:00 PM</td>\n",
       "      <td>07/26/2019 07:17:00 PM</td>\n",
       "      <td>07/13/2017</td>\n",
       "      <td>Return to Owner</td>\n",
       "      <td>NaN</td>\n",
       "      <td>Dog</td>\n",
       "      <td>Intact Male</td>\n",
       "      <td>2 years</td>\n",
       "      <td>German Shepherd</td>\n",
       "      <td>Brown/Black</td>\n",
       "    </tr>\n",
       "    <tr>\n",
       "      <th>2806</th>\n",
       "      <td>A799881</td>\n",
       "      <td>Max</td>\n",
       "      <td>07/13/2019 02:33:00 PM</td>\n",
       "      <td>07/13/2019 02:33:00 PM</td>\n",
       "      <td>05/13/2019</td>\n",
       "      <td>Transfer</td>\n",
       "      <td>Partner</td>\n",
       "      <td>Dog</td>\n",
       "      <td>Intact Male</td>\n",
       "      <td>1 month</td>\n",
       "      <td>Yorkshire Terrier Mix</td>\n",
       "      <td>Brown/White</td>\n",
       "    </tr>\n",
       "    <tr>\n",
       "      <th>3174</th>\n",
       "      <td>A798950</td>\n",
       "      <td>Max</td>\n",
       "      <td>07/07/2019 01:31:00 PM</td>\n",
       "      <td>07/07/2019 01:31:00 PM</td>\n",
       "      <td>07/02/2017</td>\n",
       "      <td>Adoption</td>\n",
       "      <td>NaN</td>\n",
       "      <td>Dog</td>\n",
       "      <td>Neutered Male</td>\n",
       "      <td>2 years</td>\n",
       "      <td>American Bulldog</td>\n",
       "      <td>White/Blue</td>\n",
       "    </tr>\n",
       "    <tr>\n",
       "      <th>3323</th>\n",
       "      <td>A799025</td>\n",
       "      <td>Max</td>\n",
       "      <td>07/05/2019 11:13:00 AM</td>\n",
       "      <td>07/05/2019 11:13:00 AM</td>\n",
       "      <td>01/19/2019</td>\n",
       "      <td>Return to Owner</td>\n",
       "      <td>NaN</td>\n",
       "      <td>Dog</td>\n",
       "      <td>Neutered Male</td>\n",
       "      <td>5 months</td>\n",
       "      <td>German Shepherd Mix</td>\n",
       "      <td>Tan</td>\n",
       "    </tr>\n",
       "    <tr>\n",
       "      <th>3607</th>\n",
       "      <td>A798743</td>\n",
       "      <td>Max</td>\n",
       "      <td>06/30/2019 04:54:00 PM</td>\n",
       "      <td>06/30/2019 04:54:00 PM</td>\n",
       "      <td>10/29/2018</td>\n",
       "      <td>Return to Owner</td>\n",
       "      <td>NaN</td>\n",
       "      <td>Dog</td>\n",
       "      <td>Intact Male</td>\n",
       "      <td>8 months</td>\n",
       "      <td>Maltese/Miniature Poodle</td>\n",
       "      <td>White/Tan</td>\n",
       "    </tr>\n",
       "    <tr>\n",
       "      <th>4062</th>\n",
       "      <td>A700767</td>\n",
       "      <td>Max</td>\n",
       "      <td>06/25/2019 02:12:00 PM</td>\n",
       "      <td>06/25/2019 02:12:00 PM</td>\n",
       "      <td>04/19/2011</td>\n",
       "      <td>Return to Owner</td>\n",
       "      <td>NaN</td>\n",
       "      <td>Dog</td>\n",
       "      <td>Neutered Male</td>\n",
       "      <td>8 years</td>\n",
       "      <td>Labrador Retriever/Plott Hound</td>\n",
       "      <td>Brown Brindle/White</td>\n",
       "    </tr>\n",
       "    <tr>\n",
       "      <th>4372</th>\n",
       "      <td>A797355</td>\n",
       "      <td>Max</td>\n",
       "      <td>06/21/2019 06:39:00 PM</td>\n",
       "      <td>06/21/2019 06:39:00 PM</td>\n",
       "      <td>12/12/2017</td>\n",
       "      <td>Adoption</td>\n",
       "      <td>NaN</td>\n",
       "      <td>Dog</td>\n",
       "      <td>Neutered Male</td>\n",
       "      <td>1 year</td>\n",
       "      <td>Pit Bull Mix</td>\n",
       "      <td>Chocolate/White</td>\n",
       "    </tr>\n",
       "    <tr>\n",
       "      <th>4384</th>\n",
       "      <td>A797407</td>\n",
       "      <td>Max</td>\n",
       "      <td>06/21/2019 04:05:00 PM</td>\n",
       "      <td>06/21/2019 04:05:00 PM</td>\n",
       "      <td>03/13/2019</td>\n",
       "      <td>Adoption</td>\n",
       "      <td>NaN</td>\n",
       "      <td>Dog</td>\n",
       "      <td>Neutered Male</td>\n",
       "      <td>3 months</td>\n",
       "      <td>German Shepherd/Chinese Sharpei</td>\n",
       "      <td>Tricolor</td>\n",
       "    </tr>\n",
       "    <tr>\n",
       "      <th>4539</th>\n",
       "      <td>A797258</td>\n",
       "      <td>Max</td>\n",
       "      <td>06/19/2019 12:58:00 PM</td>\n",
       "      <td>06/19/2019 12:58:00 PM</td>\n",
       "      <td>02/11/2018</td>\n",
       "      <td>Transfer</td>\n",
       "      <td>Partner</td>\n",
       "      <td>Dog</td>\n",
       "      <td>Intact Male</td>\n",
       "      <td>1 year</td>\n",
       "      <td>Rottweiler Mix</td>\n",
       "      <td>Black/Tan</td>\n",
       "    </tr>\n",
       "    <tr>\n",
       "      <th>4606</th>\n",
       "      <td>A797814</td>\n",
       "      <td>Max</td>\n",
       "      <td>06/18/2019 12:52:00 PM</td>\n",
       "      <td>06/18/2019 12:52:00 PM</td>\n",
       "      <td>06/18/2017</td>\n",
       "      <td>Return to Owner</td>\n",
       "      <td>NaN</td>\n",
       "      <td>Dog</td>\n",
       "      <td>Intact Male</td>\n",
       "      <td>2 years</td>\n",
       "      <td>Pug</td>\n",
       "      <td>Tan/Black</td>\n",
       "    </tr>\n",
       "    <tr>\n",
       "      <th>4650</th>\n",
       "      <td>A797341</td>\n",
       "      <td>Max</td>\n",
       "      <td>06/17/2019 05:12:00 PM</td>\n",
       "      <td>06/17/2019 05:12:00 PM</td>\n",
       "      <td>03/12/2019</td>\n",
       "      <td>Adoption</td>\n",
       "      <td>NaN</td>\n",
       "      <td>Cat</td>\n",
       "      <td>Neutered Male</td>\n",
       "      <td>3 months</td>\n",
       "      <td>Domestic Shorthair</td>\n",
       "      <td>Cream Tabby/White</td>\n",
       "    </tr>\n",
       "    <tr>\n",
       "      <th>4869</th>\n",
       "      <td>A680607</td>\n",
       "      <td>Max</td>\n",
       "      <td>06/14/2019 11:50:00 AM</td>\n",
       "      <td>06/14/2019 11:50:00 AM</td>\n",
       "      <td>04/04/2014</td>\n",
       "      <td>Return to Owner</td>\n",
       "      <td>NaN</td>\n",
       "      <td>Dog</td>\n",
       "      <td>Neutered Male</td>\n",
       "      <td>5 years</td>\n",
       "      <td>Chihuahua Shorthair Mix</td>\n",
       "      <td>Tan/White</td>\n",
       "    </tr>\n",
       "    <tr>\n",
       "      <th>4935</th>\n",
       "      <td>A797339</td>\n",
       "      <td>Max</td>\n",
       "      <td>06/13/2019 11:39:00 AM</td>\n",
       "      <td>06/13/2019 11:39:00 AM</td>\n",
       "      <td>06/12/2017</td>\n",
       "      <td>Return to Owner</td>\n",
       "      <td>NaN</td>\n",
       "      <td>Dog</td>\n",
       "      <td>Intact Male</td>\n",
       "      <td>2 years</td>\n",
       "      <td>Welsh Terrier/Miniature Poodle</td>\n",
       "      <td>Tan/Gray</td>\n",
       "    </tr>\n",
       "    <tr>\n",
       "      <th>5174</th>\n",
       "      <td>A780200</td>\n",
       "      <td>Max</td>\n",
       "      <td>06/10/2019 10:53:00 AM</td>\n",
       "      <td>06/10/2019 10:53:00 AM</td>\n",
       "      <td>09/11/2014</td>\n",
       "      <td>Rto-Adopt</td>\n",
       "      <td>NaN</td>\n",
       "      <td>Dog</td>\n",
       "      <td>Neutered Male</td>\n",
       "      <td>4 years</td>\n",
       "      <td>German Shepherd Mix</td>\n",
       "      <td>Brown/Black</td>\n",
       "    </tr>\n",
       "    <tr>\n",
       "      <th>5198</th>\n",
       "      <td>A793073</td>\n",
       "      <td>Max</td>\n",
       "      <td>06/09/2019 05:52:00 PM</td>\n",
       "      <td>06/09/2019 05:52:00 PM</td>\n",
       "      <td>06/02/2018</td>\n",
       "      <td>Adoption</td>\n",
       "      <td>NaN</td>\n",
       "      <td>Dog</td>\n",
       "      <td>Neutered Male</td>\n",
       "      <td>1 year</td>\n",
       "      <td>Boxer Mix</td>\n",
       "      <td>Brown/Tricolor</td>\n",
       "    </tr>\n",
       "    <tr>\n",
       "      <th>5551</th>\n",
       "      <td>A744193</td>\n",
       "      <td>Max</td>\n",
       "      <td>06/04/2019 03:30:00 PM</td>\n",
       "      <td>06/04/2019 03:30:00 PM</td>\n",
       "      <td>09/27/2016</td>\n",
       "      <td>Adoption</td>\n",
       "      <td>NaN</td>\n",
       "      <td>Dog</td>\n",
       "      <td>Neutered Male</td>\n",
       "      <td>2 years</td>\n",
       "      <td>Cairn Terrier Mix</td>\n",
       "      <td>Tan/White</td>\n",
       "    </tr>\n",
       "    <tr>\n",
       "      <th>5614</th>\n",
       "      <td>A794951</td>\n",
       "      <td>Max</td>\n",
       "      <td>06/03/2019 07:30:00 PM</td>\n",
       "      <td>06/03/2019 07:30:00 PM</td>\n",
       "      <td>05/14/2017</td>\n",
       "      <td>Rto-Adopt</td>\n",
       "      <td>NaN</td>\n",
       "      <td>Dog</td>\n",
       "      <td>Intact Male</td>\n",
       "      <td>2 years</td>\n",
       "      <td>Labrador Retriever</td>\n",
       "      <td>Red</td>\n",
       "    </tr>\n",
       "    <tr>\n",
       "      <th>5773</th>\n",
       "      <td>A796351</td>\n",
       "      <td>Max</td>\n",
       "      <td>06/01/2019 04:18:00 PM</td>\n",
       "      <td>06/01/2019 04:18:00 PM</td>\n",
       "      <td>05/31/2010</td>\n",
       "      <td>Return to Owner</td>\n",
       "      <td>NaN</td>\n",
       "      <td>Cat</td>\n",
       "      <td>Neutered Male</td>\n",
       "      <td>9 years</td>\n",
       "      <td>Domestic Shorthair</td>\n",
       "      <td>Black/White</td>\n",
       "    </tr>\n",
       "    <tr>\n",
       "      <th>5905</th>\n",
       "      <td>A795976</td>\n",
       "      <td>Max</td>\n",
       "      <td>05/30/2019 11:20:00 AM</td>\n",
       "      <td>05/30/2019 11:20:00 AM</td>\n",
       "      <td>05/27/2008</td>\n",
       "      <td>Transfer</td>\n",
       "      <td>Partner</td>\n",
       "      <td>Dog</td>\n",
       "      <td>Neutered Male</td>\n",
       "      <td>11 years</td>\n",
       "      <td>Maltese</td>\n",
       "      <td>White</td>\n",
       "    </tr>\n",
       "    <tr>\n",
       "      <th>6404</th>\n",
       "      <td>A784016</td>\n",
       "      <td>Max</td>\n",
       "      <td>05/21/2019 03:13:00 PM</td>\n",
       "      <td>05/21/2019 03:13:00 PM</td>\n",
       "      <td>08/10/2018</td>\n",
       "      <td>Return to Owner</td>\n",
       "      <td>NaN</td>\n",
       "      <td>Dog</td>\n",
       "      <td>Intact Male</td>\n",
       "      <td>9 months</td>\n",
       "      <td>Staffordshire Mix</td>\n",
       "      <td>Brown Brindle/White</td>\n",
       "    </tr>\n",
       "    <tr>\n",
       "      <th>...</th>\n",
       "      <td>...</td>\n",
       "      <td>...</td>\n",
       "      <td>...</td>\n",
       "      <td>...</td>\n",
       "      <td>...</td>\n",
       "      <td>...</td>\n",
       "      <td>...</td>\n",
       "      <td>...</td>\n",
       "      <td>...</td>\n",
       "      <td>...</td>\n",
       "      <td>...</td>\n",
       "      <td>...</td>\n",
       "    </tr>\n",
       "    <tr>\n",
       "      <th>99803</th>\n",
       "      <td>A648236</td>\n",
       "      <td>Max</td>\n",
       "      <td>02/26/2014 04:50:00 PM</td>\n",
       "      <td>02/26/2014 04:50:00 PM</td>\n",
       "      <td>04/24/2012</td>\n",
       "      <td>Return to Owner</td>\n",
       "      <td>NaN</td>\n",
       "      <td>Dog</td>\n",
       "      <td>Neutered Male</td>\n",
       "      <td>1 year</td>\n",
       "      <td>Australian Cattle Dog Mix</td>\n",
       "      <td>Red Tick/White</td>\n",
       "    </tr>\n",
       "    <tr>\n",
       "      <th>100066</th>\n",
       "      <td>A673191</td>\n",
       "      <td>Max</td>\n",
       "      <td>02/20/2014 03:40:00 PM</td>\n",
       "      <td>02/20/2014 03:40:00 PM</td>\n",
       "      <td>02/19/2011</td>\n",
       "      <td>Euthanasia</td>\n",
       "      <td>Rabies Risk</td>\n",
       "      <td>Dog</td>\n",
       "      <td>Intact Male</td>\n",
       "      <td>3 years</td>\n",
       "      <td>Labrador Retriever Mix</td>\n",
       "      <td>Brown/White</td>\n",
       "    </tr>\n",
       "    <tr>\n",
       "      <th>100264</th>\n",
       "      <td>A671314</td>\n",
       "      <td>Max</td>\n",
       "      <td>02/16/2014 11:53:00 AM</td>\n",
       "      <td>02/16/2014 11:53:00 AM</td>\n",
       "      <td>03/22/2013</td>\n",
       "      <td>Adoption</td>\n",
       "      <td>NaN</td>\n",
       "      <td>Dog</td>\n",
       "      <td>Neutered Male</td>\n",
       "      <td>10 months</td>\n",
       "      <td>Collie Rough Mix</td>\n",
       "      <td>White/Black</td>\n",
       "    </tr>\n",
       "    <tr>\n",
       "      <th>100431</th>\n",
       "      <td>A672335</td>\n",
       "      <td>Max</td>\n",
       "      <td>02/11/2014 06:20:00 PM</td>\n",
       "      <td>02/11/2014 06:20:00 PM</td>\n",
       "      <td>02/08/2012</td>\n",
       "      <td>Return to Owner</td>\n",
       "      <td>NaN</td>\n",
       "      <td>Dog</td>\n",
       "      <td>Neutered Male</td>\n",
       "      <td>2 years</td>\n",
       "      <td>Chihuahua Shorthair Mix</td>\n",
       "      <td>Black/Tan</td>\n",
       "    </tr>\n",
       "    <tr>\n",
       "      <th>100728</th>\n",
       "      <td>A671503</td>\n",
       "      <td>Max</td>\n",
       "      <td>02/03/2014 06:11:00 PM</td>\n",
       "      <td>02/03/2014 06:11:00 PM</td>\n",
       "      <td>01/25/2012</td>\n",
       "      <td>Adoption</td>\n",
       "      <td>NaN</td>\n",
       "      <td>Dog</td>\n",
       "      <td>Neutered Male</td>\n",
       "      <td>2 years</td>\n",
       "      <td>Beagle/Dachshund</td>\n",
       "      <td>White/Brown</td>\n",
       "    </tr>\n",
       "    <tr>\n",
       "      <th>100771</th>\n",
       "      <td>A652954</td>\n",
       "      <td>Max</td>\n",
       "      <td>02/03/2014 11:40:00 AM</td>\n",
       "      <td>02/03/2014 11:40:00 AM</td>\n",
       "      <td>12/17/2012</td>\n",
       "      <td>Adoption</td>\n",
       "      <td>NaN</td>\n",
       "      <td>Dog</td>\n",
       "      <td>Neutered Male</td>\n",
       "      <td>1 year</td>\n",
       "      <td>German Shepherd/Labrador Retriever</td>\n",
       "      <td>Brown/Black</td>\n",
       "    </tr>\n",
       "    <tr>\n",
       "      <th>100802</th>\n",
       "      <td>A671583</td>\n",
       "      <td>Max</td>\n",
       "      <td>02/02/2014 02:59:00 PM</td>\n",
       "      <td>02/02/2014 02:59:00 PM</td>\n",
       "      <td>04/01/2013</td>\n",
       "      <td>Adoption</td>\n",
       "      <td>NaN</td>\n",
       "      <td>Dog</td>\n",
       "      <td>Neutered Male</td>\n",
       "      <td>10 months</td>\n",
       "      <td>Wire Hair Fox Terrier Mix</td>\n",
       "      <td>White/Black</td>\n",
       "    </tr>\n",
       "    <tr>\n",
       "      <th>100831</th>\n",
       "      <td>A671583</td>\n",
       "      <td>Max</td>\n",
       "      <td>02/01/2014 05:40:00 PM</td>\n",
       "      <td>02/01/2014 05:40:00 PM</td>\n",
       "      <td>04/01/2013</td>\n",
       "      <td>Adoption</td>\n",
       "      <td>NaN</td>\n",
       "      <td>Dog</td>\n",
       "      <td>Neutered Male</td>\n",
       "      <td>10 months</td>\n",
       "      <td>Wire Hair Fox Terrier Mix</td>\n",
       "      <td>White/Black</td>\n",
       "    </tr>\n",
       "    <tr>\n",
       "      <th>101521</th>\n",
       "      <td>A670802</td>\n",
       "      <td>Max</td>\n",
       "      <td>01/15/2014 06:53:00 PM</td>\n",
       "      <td>01/15/2014 06:53:00 PM</td>\n",
       "      <td>07/14/2010</td>\n",
       "      <td>Return to Owner</td>\n",
       "      <td>NaN</td>\n",
       "      <td>Dog</td>\n",
       "      <td>Neutered Male</td>\n",
       "      <td>3 years</td>\n",
       "      <td>Labrador Retriever Mix</td>\n",
       "      <td>Tan</td>\n",
       "    </tr>\n",
       "    <tr>\n",
       "      <th>101726</th>\n",
       "      <td>A665405</td>\n",
       "      <td>Max</td>\n",
       "      <td>01/10/2014 06:41:00 PM</td>\n",
       "      <td>01/10/2014 06:41:00 PM</td>\n",
       "      <td>06/17/2013</td>\n",
       "      <td>Adoption</td>\n",
       "      <td>NaN</td>\n",
       "      <td>Dog</td>\n",
       "      <td>Neutered Male</td>\n",
       "      <td>6 months</td>\n",
       "      <td>Labrador Retriever Mix</td>\n",
       "      <td>Black/White</td>\n",
       "    </tr>\n",
       "    <tr>\n",
       "      <th>101744</th>\n",
       "      <td>A648236</td>\n",
       "      <td>Max</td>\n",
       "      <td>01/10/2014 03:19:00 PM</td>\n",
       "      <td>01/10/2014 03:19:00 PM</td>\n",
       "      <td>04/24/2012</td>\n",
       "      <td>Return to Owner</td>\n",
       "      <td>NaN</td>\n",
       "      <td>Dog</td>\n",
       "      <td>Neutered Male</td>\n",
       "      <td>1 year</td>\n",
       "      <td>Australian Cattle Dog Mix</td>\n",
       "      <td>Red Tick/White</td>\n",
       "    </tr>\n",
       "    <tr>\n",
       "      <th>101800</th>\n",
       "      <td>A664369</td>\n",
       "      <td>Max</td>\n",
       "      <td>01/08/2014 07:19:00 PM</td>\n",
       "      <td>01/08/2014 07:19:00 PM</td>\n",
       "      <td>05/27/2013</td>\n",
       "      <td>Return to Owner</td>\n",
       "      <td>NaN</td>\n",
       "      <td>Dog</td>\n",
       "      <td>Neutered Male</td>\n",
       "      <td>7 months</td>\n",
       "      <td>Labrador Retriever/German Shepherd</td>\n",
       "      <td>Black</td>\n",
       "    </tr>\n",
       "    <tr>\n",
       "      <th>101906</th>\n",
       "      <td>A669946</td>\n",
       "      <td>Max</td>\n",
       "      <td>01/05/2014 06:11:00 PM</td>\n",
       "      <td>01/05/2014 06:11:00 PM</td>\n",
       "      <td>12/30/2012</td>\n",
       "      <td>Adoption</td>\n",
       "      <td>NaN</td>\n",
       "      <td>Dog</td>\n",
       "      <td>Neutered Male</td>\n",
       "      <td>1 year</td>\n",
       "      <td>Labrador Retriever Mix</td>\n",
       "      <td>Black</td>\n",
       "    </tr>\n",
       "    <tr>\n",
       "      <th>102158</th>\n",
       "      <td>A669266</td>\n",
       "      <td>Max</td>\n",
       "      <td>12/31/2013 04:51:00 PM</td>\n",
       "      <td>12/31/2013 04:51:00 PM</td>\n",
       "      <td>07/27/2013</td>\n",
       "      <td>Adoption</td>\n",
       "      <td>NaN</td>\n",
       "      <td>Dog</td>\n",
       "      <td>Neutered Male</td>\n",
       "      <td>5 months</td>\n",
       "      <td>Pit Bull Mix</td>\n",
       "      <td>White/Black Brindle</td>\n",
       "    </tr>\n",
       "    <tr>\n",
       "      <th>102573</th>\n",
       "      <td>A522774</td>\n",
       "      <td>Max</td>\n",
       "      <td>12/23/2013 04:45:00 PM</td>\n",
       "      <td>12/23/2013 04:45:00 PM</td>\n",
       "      <td>10/02/2006</td>\n",
       "      <td>Return to Owner</td>\n",
       "      <td>NaN</td>\n",
       "      <td>Dog</td>\n",
       "      <td>Neutered Male</td>\n",
       "      <td>7 years</td>\n",
       "      <td>Chihuahua Shorthair</td>\n",
       "      <td>Tricolor</td>\n",
       "    </tr>\n",
       "    <tr>\n",
       "      <th>102691</th>\n",
       "      <td>A669211</td>\n",
       "      <td>Max</td>\n",
       "      <td>12/21/2013 06:25:00 PM</td>\n",
       "      <td>12/21/2013 06:25:00 PM</td>\n",
       "      <td>12/17/2011</td>\n",
       "      <td>Adoption</td>\n",
       "      <td>NaN</td>\n",
       "      <td>Dog</td>\n",
       "      <td>Neutered Male</td>\n",
       "      <td>2 years</td>\n",
       "      <td>Chihuahua Shorthair Mix</td>\n",
       "      <td>White/Brown</td>\n",
       "    </tr>\n",
       "    <tr>\n",
       "      <th>102804</th>\n",
       "      <td>A669274</td>\n",
       "      <td>Max</td>\n",
       "      <td>12/19/2013 05:10:00 PM</td>\n",
       "      <td>12/19/2013 05:10:00 PM</td>\n",
       "      <td>12/17/2011</td>\n",
       "      <td>Return to Owner</td>\n",
       "      <td>NaN</td>\n",
       "      <td>Dog</td>\n",
       "      <td>Neutered Male</td>\n",
       "      <td>2 years</td>\n",
       "      <td>Cardigan Welsh Corgi Mix</td>\n",
       "      <td>White</td>\n",
       "    </tr>\n",
       "    <tr>\n",
       "      <th>103072</th>\n",
       "      <td>A590637</td>\n",
       "      <td>Max</td>\n",
       "      <td>12/14/2013 01:10:00 PM</td>\n",
       "      <td>12/14/2013 01:10:00 PM</td>\n",
       "      <td>12/21/2009</td>\n",
       "      <td>Adoption</td>\n",
       "      <td>NaN</td>\n",
       "      <td>Dog</td>\n",
       "      <td>Neutered Male</td>\n",
       "      <td>3 years</td>\n",
       "      <td>German Shepherd Mix</td>\n",
       "      <td>Tan/White</td>\n",
       "    </tr>\n",
       "    <tr>\n",
       "      <th>103117</th>\n",
       "      <td>A668634</td>\n",
       "      <td>Max</td>\n",
       "      <td>12/13/2013 12:10:00 PM</td>\n",
       "      <td>12/13/2013 12:10:00 PM</td>\n",
       "      <td>02/06/2013</td>\n",
       "      <td>Adoption</td>\n",
       "      <td>NaN</td>\n",
       "      <td>Dog</td>\n",
       "      <td>Neutered Male</td>\n",
       "      <td>10 months</td>\n",
       "      <td>Anatol Shepherd/Labrador Retriever</td>\n",
       "      <td>Brown Brindle/White</td>\n",
       "    </tr>\n",
       "    <tr>\n",
       "      <th>103310</th>\n",
       "      <td>A668750</td>\n",
       "      <td>Max</td>\n",
       "      <td>12/08/2013 06:13:00 PM</td>\n",
       "      <td>12/08/2013 06:13:00 PM</td>\n",
       "      <td>12/08/2011</td>\n",
       "      <td>Return to Owner</td>\n",
       "      <td>NaN</td>\n",
       "      <td>Dog</td>\n",
       "      <td>Neutered Male</td>\n",
       "      <td>2 years</td>\n",
       "      <td>Basset Hound Mix</td>\n",
       "      <td>Black/White</td>\n",
       "    </tr>\n",
       "    <tr>\n",
       "      <th>103350</th>\n",
       "      <td>A668202</td>\n",
       "      <td>Max</td>\n",
       "      <td>12/08/2013 01:01:00 PM</td>\n",
       "      <td>12/08/2013 01:01:00 PM</td>\n",
       "      <td>01/29/2013</td>\n",
       "      <td>Adoption</td>\n",
       "      <td>NaN</td>\n",
       "      <td>Dog</td>\n",
       "      <td>Neutered Male</td>\n",
       "      <td>10 months</td>\n",
       "      <td>German Shepherd Mix</td>\n",
       "      <td>Brown/White</td>\n",
       "    </tr>\n",
       "    <tr>\n",
       "      <th>104246</th>\n",
       "      <td>A661874</td>\n",
       "      <td>Max</td>\n",
       "      <td>11/17/2013 12:53:00 PM</td>\n",
       "      <td>11/17/2013 12:53:00 PM</td>\n",
       "      <td>06/15/2013</td>\n",
       "      <td>Transfer</td>\n",
       "      <td>Partner</td>\n",
       "      <td>Dog</td>\n",
       "      <td>Neutered Male</td>\n",
       "      <td>5 months</td>\n",
       "      <td>Miniature Schnauzer Mix</td>\n",
       "      <td>Black/White</td>\n",
       "    </tr>\n",
       "    <tr>\n",
       "      <th>104960</th>\n",
       "      <td>A605315</td>\n",
       "      <td>Max</td>\n",
       "      <td>11/02/2013 12:08:00 PM</td>\n",
       "      <td>11/02/2013 12:08:00 PM</td>\n",
       "      <td>01/06/2009</td>\n",
       "      <td>Return to Owner</td>\n",
       "      <td>NaN</td>\n",
       "      <td>Dog</td>\n",
       "      <td>Neutered Male</td>\n",
       "      <td>4 years</td>\n",
       "      <td>American Pit Bull Terrier</td>\n",
       "      <td>Black/White</td>\n",
       "    </tr>\n",
       "    <tr>\n",
       "      <th>105017</th>\n",
       "      <td>A665263</td>\n",
       "      <td>Max</td>\n",
       "      <td>11/01/2013 11:37:00 AM</td>\n",
       "      <td>11/01/2013 11:37:00 AM</td>\n",
       "      <td>07/31/2013</td>\n",
       "      <td>Adoption</td>\n",
       "      <td>NaN</td>\n",
       "      <td>Dog</td>\n",
       "      <td>Neutered Male</td>\n",
       "      <td>3 months</td>\n",
       "      <td>Labrador Retriever Mix</td>\n",
       "      <td>Black</td>\n",
       "    </tr>\n",
       "    <tr>\n",
       "      <th>105050</th>\n",
       "      <td>A665445</td>\n",
       "      <td>Max</td>\n",
       "      <td>10/31/2013 01:03:00 PM</td>\n",
       "      <td>10/31/2013 01:03:00 PM</td>\n",
       "      <td>06/18/2013</td>\n",
       "      <td>Adoption</td>\n",
       "      <td>NaN</td>\n",
       "      <td>Dog</td>\n",
       "      <td>Neutered Male</td>\n",
       "      <td>4 months</td>\n",
       "      <td>Labrador Retriever Mix</td>\n",
       "      <td>Brown/Black</td>\n",
       "    </tr>\n",
       "    <tr>\n",
       "      <th>105234</th>\n",
       "      <td>A664692</td>\n",
       "      <td>Max</td>\n",
       "      <td>10/27/2013 02:45:00 PM</td>\n",
       "      <td>10/27/2013 02:45:00 PM</td>\n",
       "      <td>10/07/2007</td>\n",
       "      <td>Transfer</td>\n",
       "      <td>Partner</td>\n",
       "      <td>Cat</td>\n",
       "      <td>Neutered Male</td>\n",
       "      <td>6 years</td>\n",
       "      <td>Russian Blue Mix</td>\n",
       "      <td>Blue</td>\n",
       "    </tr>\n",
       "    <tr>\n",
       "      <th>105264</th>\n",
       "      <td>A665743</td>\n",
       "      <td>Max</td>\n",
       "      <td>10/26/2013 06:38:00 PM</td>\n",
       "      <td>10/26/2013 06:38:00 PM</td>\n",
       "      <td>12/22/2012</td>\n",
       "      <td>Adoption</td>\n",
       "      <td>NaN</td>\n",
       "      <td>Dog</td>\n",
       "      <td>Neutered Male</td>\n",
       "      <td>10 months</td>\n",
       "      <td>Jack Russell Terrier/Chihuahua Shorthair</td>\n",
       "      <td>White/Brown</td>\n",
       "    </tr>\n",
       "    <tr>\n",
       "      <th>105510</th>\n",
       "      <td>A665405</td>\n",
       "      <td>Max</td>\n",
       "      <td>10/21/2013 04:59:00 PM</td>\n",
       "      <td>10/21/2013 04:59:00 PM</td>\n",
       "      <td>06/17/2013</td>\n",
       "      <td>Adoption</td>\n",
       "      <td>NaN</td>\n",
       "      <td>Dog</td>\n",
       "      <td>Neutered Male</td>\n",
       "      <td>4 months</td>\n",
       "      <td>Labrador Retriever Mix</td>\n",
       "      <td>Black/White</td>\n",
       "    </tr>\n",
       "    <tr>\n",
       "      <th>106039</th>\n",
       "      <td>A664369</td>\n",
       "      <td>Max</td>\n",
       "      <td>10/12/2013 06:00:00 PM</td>\n",
       "      <td>10/12/2013 06:00:00 PM</td>\n",
       "      <td>05/27/2013</td>\n",
       "      <td>Return to Owner</td>\n",
       "      <td>NaN</td>\n",
       "      <td>Dog</td>\n",
       "      <td>Neutered Male</td>\n",
       "      <td>4 months</td>\n",
       "      <td>Labrador Retriever/German Shepherd</td>\n",
       "      <td>Black</td>\n",
       "    </tr>\n",
       "    <tr>\n",
       "      <th>106047</th>\n",
       "      <td>A662933</td>\n",
       "      <td>Max</td>\n",
       "      <td>10/12/2013 05:13:00 PM</td>\n",
       "      <td>10/12/2013 05:13:00 PM</td>\n",
       "      <td>09/10/2006</td>\n",
       "      <td>Return to Owner</td>\n",
       "      <td>NaN</td>\n",
       "      <td>Dog</td>\n",
       "      <td>Neutered Male</td>\n",
       "      <td>7 years</td>\n",
       "      <td>Pug Mix</td>\n",
       "      <td>Brown/Black</td>\n",
       "    </tr>\n",
       "  </tbody>\n",
       "</table>\n",
       "<p>477 rows × 12 columns</p>\n",
       "</div>"
      ],
      "text/plain": [
       "       Animal ID Name                DateTime               MonthYear  \\\n",
       "128      A796351  Max  08/24/2019 12:03:00 PM  08/24/2019 12:03:00 PM   \n",
       "157      A618405  Max  08/23/2019 06:38:00 PM  08/23/2019 06:38:00 PM   \n",
       "206      A653408  Max  08/23/2019 11:33:00 AM  08/23/2019 11:33:00 AM   \n",
       "352      A783700  Max  08/20/2019 06:36:00 PM  08/20/2019 06:36:00 PM   \n",
       "1132     A744193  Max  08/08/2019 03:17:00 PM  08/08/2019 03:17:00 PM   \n",
       "1178     A789119  Max  08/07/2019 06:56:00 PM  08/07/2019 06:56:00 PM   \n",
       "1422     A801136  Max  08/04/2019 11:26:00 AM  08/04/2019 11:26:00 AM   \n",
       "1598     A800872  Max  08/01/2019 04:37:00 PM  08/01/2019 04:37:00 PM   \n",
       "1756     A800791  Max  07/29/2019 06:07:00 PM  07/29/2019 06:07:00 PM   \n",
       "1891     A788916  Max  07/27/2019 05:16:00 PM  07/27/2019 05:16:00 PM   \n",
       "1918     A799870  Max  07/26/2019 07:17:00 PM  07/26/2019 07:17:00 PM   \n",
       "2806     A799881  Max  07/13/2019 02:33:00 PM  07/13/2019 02:33:00 PM   \n",
       "3174     A798950  Max  07/07/2019 01:31:00 PM  07/07/2019 01:31:00 PM   \n",
       "3323     A799025  Max  07/05/2019 11:13:00 AM  07/05/2019 11:13:00 AM   \n",
       "3607     A798743  Max  06/30/2019 04:54:00 PM  06/30/2019 04:54:00 PM   \n",
       "4062     A700767  Max  06/25/2019 02:12:00 PM  06/25/2019 02:12:00 PM   \n",
       "4372     A797355  Max  06/21/2019 06:39:00 PM  06/21/2019 06:39:00 PM   \n",
       "4384     A797407  Max  06/21/2019 04:05:00 PM  06/21/2019 04:05:00 PM   \n",
       "4539     A797258  Max  06/19/2019 12:58:00 PM  06/19/2019 12:58:00 PM   \n",
       "4606     A797814  Max  06/18/2019 12:52:00 PM  06/18/2019 12:52:00 PM   \n",
       "4650     A797341  Max  06/17/2019 05:12:00 PM  06/17/2019 05:12:00 PM   \n",
       "4869     A680607  Max  06/14/2019 11:50:00 AM  06/14/2019 11:50:00 AM   \n",
       "4935     A797339  Max  06/13/2019 11:39:00 AM  06/13/2019 11:39:00 AM   \n",
       "5174     A780200  Max  06/10/2019 10:53:00 AM  06/10/2019 10:53:00 AM   \n",
       "5198     A793073  Max  06/09/2019 05:52:00 PM  06/09/2019 05:52:00 PM   \n",
       "5551     A744193  Max  06/04/2019 03:30:00 PM  06/04/2019 03:30:00 PM   \n",
       "5614     A794951  Max  06/03/2019 07:30:00 PM  06/03/2019 07:30:00 PM   \n",
       "5773     A796351  Max  06/01/2019 04:18:00 PM  06/01/2019 04:18:00 PM   \n",
       "5905     A795976  Max  05/30/2019 11:20:00 AM  05/30/2019 11:20:00 AM   \n",
       "6404     A784016  Max  05/21/2019 03:13:00 PM  05/21/2019 03:13:00 PM   \n",
       "...          ...  ...                     ...                     ...   \n",
       "99803    A648236  Max  02/26/2014 04:50:00 PM  02/26/2014 04:50:00 PM   \n",
       "100066   A673191  Max  02/20/2014 03:40:00 PM  02/20/2014 03:40:00 PM   \n",
       "100264   A671314  Max  02/16/2014 11:53:00 AM  02/16/2014 11:53:00 AM   \n",
       "100431   A672335  Max  02/11/2014 06:20:00 PM  02/11/2014 06:20:00 PM   \n",
       "100728   A671503  Max  02/03/2014 06:11:00 PM  02/03/2014 06:11:00 PM   \n",
       "100771   A652954  Max  02/03/2014 11:40:00 AM  02/03/2014 11:40:00 AM   \n",
       "100802   A671583  Max  02/02/2014 02:59:00 PM  02/02/2014 02:59:00 PM   \n",
       "100831   A671583  Max  02/01/2014 05:40:00 PM  02/01/2014 05:40:00 PM   \n",
       "101521   A670802  Max  01/15/2014 06:53:00 PM  01/15/2014 06:53:00 PM   \n",
       "101726   A665405  Max  01/10/2014 06:41:00 PM  01/10/2014 06:41:00 PM   \n",
       "101744   A648236  Max  01/10/2014 03:19:00 PM  01/10/2014 03:19:00 PM   \n",
       "101800   A664369  Max  01/08/2014 07:19:00 PM  01/08/2014 07:19:00 PM   \n",
       "101906   A669946  Max  01/05/2014 06:11:00 PM  01/05/2014 06:11:00 PM   \n",
       "102158   A669266  Max  12/31/2013 04:51:00 PM  12/31/2013 04:51:00 PM   \n",
       "102573   A522774  Max  12/23/2013 04:45:00 PM  12/23/2013 04:45:00 PM   \n",
       "102691   A669211  Max  12/21/2013 06:25:00 PM  12/21/2013 06:25:00 PM   \n",
       "102804   A669274  Max  12/19/2013 05:10:00 PM  12/19/2013 05:10:00 PM   \n",
       "103072   A590637  Max  12/14/2013 01:10:00 PM  12/14/2013 01:10:00 PM   \n",
       "103117   A668634  Max  12/13/2013 12:10:00 PM  12/13/2013 12:10:00 PM   \n",
       "103310   A668750  Max  12/08/2013 06:13:00 PM  12/08/2013 06:13:00 PM   \n",
       "103350   A668202  Max  12/08/2013 01:01:00 PM  12/08/2013 01:01:00 PM   \n",
       "104246   A661874  Max  11/17/2013 12:53:00 PM  11/17/2013 12:53:00 PM   \n",
       "104960   A605315  Max  11/02/2013 12:08:00 PM  11/02/2013 12:08:00 PM   \n",
       "105017   A665263  Max  11/01/2013 11:37:00 AM  11/01/2013 11:37:00 AM   \n",
       "105050   A665445  Max  10/31/2013 01:03:00 PM  10/31/2013 01:03:00 PM   \n",
       "105234   A664692  Max  10/27/2013 02:45:00 PM  10/27/2013 02:45:00 PM   \n",
       "105264   A665743  Max  10/26/2013 06:38:00 PM  10/26/2013 06:38:00 PM   \n",
       "105510   A665405  Max  10/21/2013 04:59:00 PM  10/21/2013 04:59:00 PM   \n",
       "106039   A664369  Max  10/12/2013 06:00:00 PM  10/12/2013 06:00:00 PM   \n",
       "106047   A662933  Max  10/12/2013 05:13:00 PM  10/12/2013 05:13:00 PM   \n",
       "\n",
       "       Date of Birth     Outcome Type Outcome Subtype Animal Type  \\\n",
       "128       05/31/2010         Transfer         Partner         Cat   \n",
       "157       07/15/2010         Adoption             NaN         Dog   \n",
       "206       05/06/2009  Return to Owner             NaN         Dog   \n",
       "352       11/04/2017         Adoption             NaN         Dog   \n",
       "1132      09/27/2016         Adoption          Foster         Dog   \n",
       "1178      12/17/2014         Adoption          Foster         Dog   \n",
       "1422      03/22/2008        Rto-Adopt             NaN         Dog   \n",
       "1598      06/12/2019         Adoption             NaN         Dog   \n",
       "1756      07/26/2017  Return to Owner             NaN         Dog   \n",
       "1891      11/26/2018  Return to Owner             NaN         Dog   \n",
       "1918      07/13/2017  Return to Owner             NaN         Dog   \n",
       "2806      05/13/2019         Transfer         Partner         Dog   \n",
       "3174      07/02/2017         Adoption             NaN         Dog   \n",
       "3323      01/19/2019  Return to Owner             NaN         Dog   \n",
       "3607      10/29/2018  Return to Owner             NaN         Dog   \n",
       "4062      04/19/2011  Return to Owner             NaN         Dog   \n",
       "4372      12/12/2017         Adoption             NaN         Dog   \n",
       "4384      03/13/2019         Adoption             NaN         Dog   \n",
       "4539      02/11/2018         Transfer         Partner         Dog   \n",
       "4606      06/18/2017  Return to Owner             NaN         Dog   \n",
       "4650      03/12/2019         Adoption             NaN         Cat   \n",
       "4869      04/04/2014  Return to Owner             NaN         Dog   \n",
       "4935      06/12/2017  Return to Owner             NaN         Dog   \n",
       "5174      09/11/2014        Rto-Adopt             NaN         Dog   \n",
       "5198      06/02/2018         Adoption             NaN         Dog   \n",
       "5551      09/27/2016         Adoption             NaN         Dog   \n",
       "5614      05/14/2017        Rto-Adopt             NaN         Dog   \n",
       "5773      05/31/2010  Return to Owner             NaN         Cat   \n",
       "5905      05/27/2008         Transfer         Partner         Dog   \n",
       "6404      08/10/2018  Return to Owner             NaN         Dog   \n",
       "...              ...              ...             ...         ...   \n",
       "99803     04/24/2012  Return to Owner             NaN         Dog   \n",
       "100066    02/19/2011       Euthanasia     Rabies Risk         Dog   \n",
       "100264    03/22/2013         Adoption             NaN         Dog   \n",
       "100431    02/08/2012  Return to Owner             NaN         Dog   \n",
       "100728    01/25/2012         Adoption             NaN         Dog   \n",
       "100771    12/17/2012         Adoption             NaN         Dog   \n",
       "100802    04/01/2013         Adoption             NaN         Dog   \n",
       "100831    04/01/2013         Adoption             NaN         Dog   \n",
       "101521    07/14/2010  Return to Owner             NaN         Dog   \n",
       "101726    06/17/2013         Adoption             NaN         Dog   \n",
       "101744    04/24/2012  Return to Owner             NaN         Dog   \n",
       "101800    05/27/2013  Return to Owner             NaN         Dog   \n",
       "101906    12/30/2012         Adoption             NaN         Dog   \n",
       "102158    07/27/2013         Adoption             NaN         Dog   \n",
       "102573    10/02/2006  Return to Owner             NaN         Dog   \n",
       "102691    12/17/2011         Adoption             NaN         Dog   \n",
       "102804    12/17/2011  Return to Owner             NaN         Dog   \n",
       "103072    12/21/2009         Adoption             NaN         Dog   \n",
       "103117    02/06/2013         Adoption             NaN         Dog   \n",
       "103310    12/08/2011  Return to Owner             NaN         Dog   \n",
       "103350    01/29/2013         Adoption             NaN         Dog   \n",
       "104246    06/15/2013         Transfer         Partner         Dog   \n",
       "104960    01/06/2009  Return to Owner             NaN         Dog   \n",
       "105017    07/31/2013         Adoption             NaN         Dog   \n",
       "105050    06/18/2013         Adoption             NaN         Dog   \n",
       "105234    10/07/2007         Transfer         Partner         Cat   \n",
       "105264    12/22/2012         Adoption             NaN         Dog   \n",
       "105510    06/17/2013         Adoption             NaN         Dog   \n",
       "106039    05/27/2013  Return to Owner             NaN         Dog   \n",
       "106047    09/10/2006  Return to Owner             NaN         Dog   \n",
       "\n",
       "       Sex upon Outcome Age upon Outcome  \\\n",
       "128       Neutered Male          9 years   \n",
       "157       Neutered Male          9 years   \n",
       "206       Neutered Male         10 years   \n",
       "352       Neutered Male           1 year   \n",
       "1132      Neutered Male          2 years   \n",
       "1178      Neutered Male          4 years   \n",
       "1422        Intact Male         11 years   \n",
       "1598      Neutered Male          1 month   \n",
       "1756        Intact Male          2 years   \n",
       "1891      Neutered Male         7 months   \n",
       "1918        Intact Male          2 years   \n",
       "2806        Intact Male          1 month   \n",
       "3174      Neutered Male          2 years   \n",
       "3323      Neutered Male         5 months   \n",
       "3607        Intact Male         8 months   \n",
       "4062      Neutered Male          8 years   \n",
       "4372      Neutered Male           1 year   \n",
       "4384      Neutered Male         3 months   \n",
       "4539        Intact Male           1 year   \n",
       "4606        Intact Male          2 years   \n",
       "4650      Neutered Male         3 months   \n",
       "4869      Neutered Male          5 years   \n",
       "4935        Intact Male          2 years   \n",
       "5174      Neutered Male          4 years   \n",
       "5198      Neutered Male           1 year   \n",
       "5551      Neutered Male          2 years   \n",
       "5614        Intact Male          2 years   \n",
       "5773      Neutered Male          9 years   \n",
       "5905      Neutered Male         11 years   \n",
       "6404        Intact Male         9 months   \n",
       "...                 ...              ...   \n",
       "99803     Neutered Male           1 year   \n",
       "100066      Intact Male          3 years   \n",
       "100264    Neutered Male        10 months   \n",
       "100431    Neutered Male          2 years   \n",
       "100728    Neutered Male          2 years   \n",
       "100771    Neutered Male           1 year   \n",
       "100802    Neutered Male        10 months   \n",
       "100831    Neutered Male        10 months   \n",
       "101521    Neutered Male          3 years   \n",
       "101726    Neutered Male         6 months   \n",
       "101744    Neutered Male           1 year   \n",
       "101800    Neutered Male         7 months   \n",
       "101906    Neutered Male           1 year   \n",
       "102158    Neutered Male         5 months   \n",
       "102573    Neutered Male          7 years   \n",
       "102691    Neutered Male          2 years   \n",
       "102804    Neutered Male          2 years   \n",
       "103072    Neutered Male          3 years   \n",
       "103117    Neutered Male        10 months   \n",
       "103310    Neutered Male          2 years   \n",
       "103350    Neutered Male        10 months   \n",
       "104246    Neutered Male         5 months   \n",
       "104960    Neutered Male          4 years   \n",
       "105017    Neutered Male         3 months   \n",
       "105050    Neutered Male         4 months   \n",
       "105234    Neutered Male          6 years   \n",
       "105264    Neutered Male        10 months   \n",
       "105510    Neutered Male         4 months   \n",
       "106039    Neutered Male         4 months   \n",
       "106047    Neutered Male          7 years   \n",
       "\n",
       "                                           Breed                Color  \n",
       "128                           Domestic Shorthair          Black/White  \n",
       "157                American Pit Bull Terrier Mix           White/Blue  \n",
       "206                         American Bulldog Mix          White/Black  \n",
       "352                       Labrador Retriever Mix      Chocolate/White  \n",
       "1132                           Cairn Terrier Mix            Tan/White  \n",
       "1178                               Catahoula Mix                  Red  \n",
       "1422                          Miniature Pinscher                  Red  \n",
       "1598                         German Shepherd Mix            Tan/Black  \n",
       "1756                                    Pit Bull          Brown/White  \n",
       "1891                                Pit Bull Mix  Brown Brindle/White  \n",
       "1918                             German Shepherd          Brown/Black  \n",
       "2806                       Yorkshire Terrier Mix          Brown/White  \n",
       "3174                            American Bulldog           White/Blue  \n",
       "3323                         German Shepherd Mix                  Tan  \n",
       "3607                    Maltese/Miniature Poodle            White/Tan  \n",
       "4062              Labrador Retriever/Plott Hound  Brown Brindle/White  \n",
       "4372                                Pit Bull Mix      Chocolate/White  \n",
       "4384             German Shepherd/Chinese Sharpei             Tricolor  \n",
       "4539                              Rottweiler Mix            Black/Tan  \n",
       "4606                                         Pug            Tan/Black  \n",
       "4650                          Domestic Shorthair    Cream Tabby/White  \n",
       "4869                     Chihuahua Shorthair Mix            Tan/White  \n",
       "4935              Welsh Terrier/Miniature Poodle             Tan/Gray  \n",
       "5174                         German Shepherd Mix          Brown/Black  \n",
       "5198                                   Boxer Mix       Brown/Tricolor  \n",
       "5551                           Cairn Terrier Mix            Tan/White  \n",
       "5614                          Labrador Retriever                  Red  \n",
       "5773                          Domestic Shorthair          Black/White  \n",
       "5905                                     Maltese                White  \n",
       "6404                           Staffordshire Mix  Brown Brindle/White  \n",
       "...                                          ...                  ...  \n",
       "99803                  Australian Cattle Dog Mix       Red Tick/White  \n",
       "100066                    Labrador Retriever Mix          Brown/White  \n",
       "100264                          Collie Rough Mix          White/Black  \n",
       "100431                   Chihuahua Shorthair Mix            Black/Tan  \n",
       "100728                          Beagle/Dachshund          White/Brown  \n",
       "100771        German Shepherd/Labrador Retriever          Brown/Black  \n",
       "100802                 Wire Hair Fox Terrier Mix          White/Black  \n",
       "100831                 Wire Hair Fox Terrier Mix          White/Black  \n",
       "101521                    Labrador Retriever Mix                  Tan  \n",
       "101726                    Labrador Retriever Mix          Black/White  \n",
       "101744                 Australian Cattle Dog Mix       Red Tick/White  \n",
       "101800        Labrador Retriever/German Shepherd                Black  \n",
       "101906                    Labrador Retriever Mix                Black  \n",
       "102158                              Pit Bull Mix  White/Black Brindle  \n",
       "102573                       Chihuahua Shorthair             Tricolor  \n",
       "102691                   Chihuahua Shorthair Mix          White/Brown  \n",
       "102804                  Cardigan Welsh Corgi Mix                White  \n",
       "103072                       German Shepherd Mix            Tan/White  \n",
       "103117        Anatol Shepherd/Labrador Retriever  Brown Brindle/White  \n",
       "103310                          Basset Hound Mix          Black/White  \n",
       "103350                       German Shepherd Mix          Brown/White  \n",
       "104246                   Miniature Schnauzer Mix          Black/White  \n",
       "104960                 American Pit Bull Terrier          Black/White  \n",
       "105017                    Labrador Retriever Mix                Black  \n",
       "105050                    Labrador Retriever Mix          Brown/Black  \n",
       "105234                          Russian Blue Mix                 Blue  \n",
       "105264  Jack Russell Terrier/Chihuahua Shorthair          White/Brown  \n",
       "105510                    Labrador Retriever Mix          Black/White  \n",
       "106039        Labrador Retriever/German Shepherd                Black  \n",
       "106047                                   Pug Mix          Brown/Black  \n",
       "\n",
       "[477 rows x 12 columns]"
      ]
     },
     "execution_count": 27,
     "metadata": {},
     "output_type": "execute_result"
    }
   ],
   "source": [
    "max_data = shelter_data.query('Name == \"Max\"')\n",
    "max_data.head()\n",
    "#vs\n",
    "shelter_data[shelter_data['Name']==\"Max\"]"
   ]
  },
  {
   "cell_type": "code",
   "execution_count": 28,
   "metadata": {
    "slideshow": {
     "slide_type": "slide"
    }
   },
   "outputs": [
    {
     "data": {
      "text/html": [
       "<div>\n",
       "<style scoped>\n",
       "    .dataframe tbody tr th:only-of-type {\n",
       "        vertical-align: middle;\n",
       "    }\n",
       "\n",
       "    .dataframe tbody tr th {\n",
       "        vertical-align: top;\n",
       "    }\n",
       "\n",
       "    .dataframe thead th {\n",
       "        text-align: right;\n",
       "    }\n",
       "</style>\n",
       "<table border=\"1\" class=\"dataframe\">\n",
       "  <thead>\n",
       "    <tr style=\"text-align: right;\">\n",
       "      <th></th>\n",
       "      <th>Animal ID</th>\n",
       "      <th>Name</th>\n",
       "      <th>DateTime</th>\n",
       "      <th>MonthYear</th>\n",
       "      <th>Date of Birth</th>\n",
       "      <th>Outcome Type</th>\n",
       "      <th>Outcome Subtype</th>\n",
       "      <th>animal_type</th>\n",
       "      <th>Sex upon Outcome</th>\n",
       "      <th>Age upon Outcome</th>\n",
       "      <th>Breed</th>\n",
       "      <th>Color</th>\n",
       "    </tr>\n",
       "  </thead>\n",
       "  <tbody>\n",
       "    <tr>\n",
       "      <th>1</th>\n",
       "      <td>A802752</td>\n",
       "      <td>NaN</td>\n",
       "      <td>08/26/2019 01:17:00 PM</td>\n",
       "      <td>08/26/2019 01:17:00 PM</td>\n",
       "      <td>08/22/2016</td>\n",
       "      <td>Transfer</td>\n",
       "      <td>Partner</td>\n",
       "      <td>Dog</td>\n",
       "      <td>Intact Male</td>\n",
       "      <td>3 years</td>\n",
       "      <td>Shih Tzu</td>\n",
       "      <td>Black/White</td>\n",
       "    </tr>\n",
       "    <tr>\n",
       "      <th>2</th>\n",
       "      <td>A802979</td>\n",
       "      <td>Percy</td>\n",
       "      <td>08/26/2019 01:00:00 PM</td>\n",
       "      <td>08/26/2019 01:00:00 PM</td>\n",
       "      <td>08/26/2004</td>\n",
       "      <td>Return to Owner</td>\n",
       "      <td>NaN</td>\n",
       "      <td>Dog</td>\n",
       "      <td>Spayed Female</td>\n",
       "      <td>15 years</td>\n",
       "      <td>Labrador Retriever Mix</td>\n",
       "      <td>Tan</td>\n",
       "    </tr>\n",
       "    <tr>\n",
       "      <th>3</th>\n",
       "      <td>A802978</td>\n",
       "      <td>Seeker</td>\n",
       "      <td>08/26/2019 12:43:00 PM</td>\n",
       "      <td>08/26/2019 12:43:00 PM</td>\n",
       "      <td>08/25/2013</td>\n",
       "      <td>Return to Owner</td>\n",
       "      <td>NaN</td>\n",
       "      <td>Dog</td>\n",
       "      <td>Intact Female</td>\n",
       "      <td>6 years</td>\n",
       "      <td>Chihuahua Shorthair</td>\n",
       "      <td>Black/Tan</td>\n",
       "    </tr>\n",
       "    <tr>\n",
       "      <th>4</th>\n",
       "      <td>A791541</td>\n",
       "      <td>*Nabisco</td>\n",
       "      <td>08/26/2019 12:34:00 PM</td>\n",
       "      <td>08/26/2019 12:34:00 PM</td>\n",
       "      <td>09/27/2017</td>\n",
       "      <td>Transfer</td>\n",
       "      <td>Partner</td>\n",
       "      <td>Dog</td>\n",
       "      <td>Neutered Male</td>\n",
       "      <td>1 year</td>\n",
       "      <td>Pit Bull Mix</td>\n",
       "      <td>Red/White</td>\n",
       "    </tr>\n",
       "    <tr>\n",
       "      <th>5</th>\n",
       "      <td>A802826</td>\n",
       "      <td>Lovely</td>\n",
       "      <td>08/26/2019 12:14:00 PM</td>\n",
       "      <td>08/26/2019 12:14:00 PM</td>\n",
       "      <td>01/23/2017</td>\n",
       "      <td>Return to Owner</td>\n",
       "      <td>NaN</td>\n",
       "      <td>Dog</td>\n",
       "      <td>Spayed Female</td>\n",
       "      <td>2 years</td>\n",
       "      <td>Chihuahua Shorthair</td>\n",
       "      <td>Black/Brown</td>\n",
       "    </tr>\n",
       "  </tbody>\n",
       "</table>\n",
       "</div>"
      ],
      "text/plain": [
       "  Animal ID      Name                DateTime               MonthYear  \\\n",
       "1   A802752       NaN  08/26/2019 01:17:00 PM  08/26/2019 01:17:00 PM   \n",
       "2   A802979     Percy  08/26/2019 01:00:00 PM  08/26/2019 01:00:00 PM   \n",
       "3   A802978    Seeker  08/26/2019 12:43:00 PM  08/26/2019 12:43:00 PM   \n",
       "4   A791541  *Nabisco  08/26/2019 12:34:00 PM  08/26/2019 12:34:00 PM   \n",
       "5   A802826    Lovely  08/26/2019 12:14:00 PM  08/26/2019 12:14:00 PM   \n",
       "\n",
       "  Date of Birth     Outcome Type Outcome Subtype animal_type Sex upon Outcome  \\\n",
       "1    08/22/2016         Transfer         Partner         Dog      Intact Male   \n",
       "2    08/26/2004  Return to Owner             NaN         Dog    Spayed Female   \n",
       "3    08/25/2013  Return to Owner             NaN         Dog    Intact Female   \n",
       "4    09/27/2017         Transfer         Partner         Dog    Neutered Male   \n",
       "5    01/23/2017  Return to Owner             NaN         Dog    Spayed Female   \n",
       "\n",
       "  Age upon Outcome                   Breed        Color  \n",
       "1          3 years                Shih Tzu  Black/White  \n",
       "2         15 years  Labrador Retriever Mix          Tan  \n",
       "3          6 years     Chihuahua Shorthair    Black/Tan  \n",
       "4           1 year            Pit Bull Mix    Red/White  \n",
       "5          2 years     Chihuahua Shorthair  Black/Brown  "
      ]
     },
     "execution_count": 28,
     "metadata": {},
     "output_type": "execute_result"
    }
   ],
   "source": [
    "shelter_data.rename(index=str, columns={\"Animal Type\": \"animal_type\"}, inplace = True)\n",
    "test = shelter_data.query('animal_type == \"Dog\"')\n",
    "test.head()"
   ]
  },
  {
   "cell_type": "markdown",
   "metadata": {
    "slideshow": {
     "slide_type": "slide"
    }
   },
   "source": [
    "## Goal 6: Transfering from sqlite to pandas"
   ]
  },
  {
   "cell_type": "code",
   "execution_count": 29,
   "metadata": {
    "slideshow": {
     "slide_type": "fragment"
    }
   },
   "outputs": [
    {
     "data": {
      "text/html": [
       "<div>\n",
       "<style scoped>\n",
       "    .dataframe tbody tr th:only-of-type {\n",
       "        vertical-align: middle;\n",
       "    }\n",
       "\n",
       "    .dataframe tbody tr th {\n",
       "        vertical-align: top;\n",
       "    }\n",
       "\n",
       "    .dataframe thead th {\n",
       "        text-align: right;\n",
       "    }\n",
       "</style>\n",
       "<table border=\"1\" class=\"dataframe\">\n",
       "  <thead>\n",
       "    <tr style=\"text-align: right;\">\n",
       "      <th></th>\n",
       "      <th>index</th>\n",
       "      <th>id</th>\n",
       "      <th>name</th>\n",
       "      <th>city</th>\n",
       "      <th>country</th>\n",
       "      <th>code</th>\n",
       "      <th>icao</th>\n",
       "      <th>latitude</th>\n",
       "      <th>longitude</th>\n",
       "      <th>altitude</th>\n",
       "      <th>offset</th>\n",
       "      <th>dst</th>\n",
       "      <th>timezone</th>\n",
       "    </tr>\n",
       "  </thead>\n",
       "  <tbody>\n",
       "    <tr>\n",
       "      <th>0</th>\n",
       "      <td>0</td>\n",
       "      <td>1</td>\n",
       "      <td>Goroka</td>\n",
       "      <td>Goroka</td>\n",
       "      <td>Papua New Guinea</td>\n",
       "      <td>GKA</td>\n",
       "      <td>AYGA</td>\n",
       "      <td>-6.081689</td>\n",
       "      <td>145.391881</td>\n",
       "      <td>5282</td>\n",
       "      <td>10</td>\n",
       "      <td>U</td>\n",
       "      <td>Pacific/Port_Moresby</td>\n",
       "    </tr>\n",
       "    <tr>\n",
       "      <th>1</th>\n",
       "      <td>1</td>\n",
       "      <td>2</td>\n",
       "      <td>Madang</td>\n",
       "      <td>Madang</td>\n",
       "      <td>Papua New Guinea</td>\n",
       "      <td>MAG</td>\n",
       "      <td>AYMD</td>\n",
       "      <td>-5.207083</td>\n",
       "      <td>145.7887</td>\n",
       "      <td>20</td>\n",
       "      <td>10</td>\n",
       "      <td>U</td>\n",
       "      <td>Pacific/Port_Moresby</td>\n",
       "    </tr>\n",
       "    <tr>\n",
       "      <th>2</th>\n",
       "      <td>2</td>\n",
       "      <td>3</td>\n",
       "      <td>Mount Hagen</td>\n",
       "      <td>Mount Hagen</td>\n",
       "      <td>Papua New Guinea</td>\n",
       "      <td>HGU</td>\n",
       "      <td>AYMH</td>\n",
       "      <td>-5.826789</td>\n",
       "      <td>144.295861</td>\n",
       "      <td>5388</td>\n",
       "      <td>10</td>\n",
       "      <td>U</td>\n",
       "      <td>Pacific/Port_Moresby</td>\n",
       "    </tr>\n",
       "    <tr>\n",
       "      <th>3</th>\n",
       "      <td>3</td>\n",
       "      <td>4</td>\n",
       "      <td>Nadzab</td>\n",
       "      <td>Nadzab</td>\n",
       "      <td>Papua New Guinea</td>\n",
       "      <td>LAE</td>\n",
       "      <td>AYNZ</td>\n",
       "      <td>-6.569828</td>\n",
       "      <td>146.726242</td>\n",
       "      <td>239</td>\n",
       "      <td>10</td>\n",
       "      <td>U</td>\n",
       "      <td>Pacific/Port_Moresby</td>\n",
       "    </tr>\n",
       "    <tr>\n",
       "      <th>4</th>\n",
       "      <td>4</td>\n",
       "      <td>5</td>\n",
       "      <td>Port Moresby Jacksons Intl</td>\n",
       "      <td>Port Moresby</td>\n",
       "      <td>Papua New Guinea</td>\n",
       "      <td>POM</td>\n",
       "      <td>AYPY</td>\n",
       "      <td>-9.443383</td>\n",
       "      <td>147.22005</td>\n",
       "      <td>146</td>\n",
       "      <td>10</td>\n",
       "      <td>U</td>\n",
       "      <td>Pacific/Port_Moresby</td>\n",
       "    </tr>\n",
       "  </tbody>\n",
       "</table>\n",
       "</div>"
      ],
      "text/plain": [
       "   index id                        name          city           country code  \\\n",
       "0      0  1                      Goroka        Goroka  Papua New Guinea  GKA   \n",
       "1      1  2                      Madang        Madang  Papua New Guinea  MAG   \n",
       "2      2  3                 Mount Hagen   Mount Hagen  Papua New Guinea  HGU   \n",
       "3      3  4                      Nadzab        Nadzab  Papua New Guinea  LAE   \n",
       "4      4  5  Port Moresby Jacksons Intl  Port Moresby  Papua New Guinea  POM   \n",
       "\n",
       "   icao   latitude   longitude altitude offset dst              timezone  \n",
       "0  AYGA  -6.081689  145.391881     5282     10   U  Pacific/Port_Moresby  \n",
       "1  AYMD  -5.207083    145.7887       20     10   U  Pacific/Port_Moresby  \n",
       "2  AYMH  -5.826789  144.295861     5388     10   U  Pacific/Port_Moresby  \n",
       "3  AYNZ  -6.569828  146.726242      239     10   U  Pacific/Port_Moresby  \n",
       "4  AYPY  -9.443383   147.22005      146     10   U  Pacific/Port_Moresby  "
      ]
     },
     "execution_count": 29,
     "metadata": {},
     "output_type": "execute_result"
    }
   ],
   "source": [
    "pd_con = sqlite3.connect(\"flights.db\")\n",
    "df = pd.read_sql_query(\"select * from airports limit 5;\", pd_con)\n",
    "df"
   ]
  },
  {
   "cell_type": "markdown",
   "metadata": {
    "slideshow": {
     "slide_type": "slide"
    }
   },
   "source": [
    "**Task**: \n",
    "Convert one of the earlier queries in the lesson to a pandas data frame"
   ]
  },
  {
   "cell_type": "code",
   "execution_count": 30,
   "metadata": {},
   "outputs": [
    {
     "data": {
      "text/html": [
       "<div>\n",
       "<style scoped>\n",
       "    .dataframe tbody tr th:only-of-type {\n",
       "        vertical-align: middle;\n",
       "    }\n",
       "\n",
       "    .dataframe tbody tr th {\n",
       "        vertical-align: top;\n",
       "    }\n",
       "\n",
       "    .dataframe thead th {\n",
       "        text-align: right;\n",
       "    }\n",
       "</style>\n",
       "<table border=\"1\" class=\"dataframe\">\n",
       "  <thead>\n",
       "    <tr style=\"text-align: right;\">\n",
       "      <th></th>\n",
       "      <th>country</th>\n",
       "      <th>count</th>\n",
       "    </tr>\n",
       "  </thead>\n",
       "  <tbody>\n",
       "    <tr>\n",
       "      <th>0</th>\n",
       "      <td>United States</td>\n",
       "      <td>141</td>\n",
       "    </tr>\n",
       "    <tr>\n",
       "      <th>1</th>\n",
       "      <td>Russia</td>\n",
       "      <td>72</td>\n",
       "    </tr>\n",
       "    <tr>\n",
       "      <th>2</th>\n",
       "      <td>United Kingdom</td>\n",
       "      <td>40</td>\n",
       "    </tr>\n",
       "    <tr>\n",
       "      <th>3</th>\n",
       "      <td>Germany</td>\n",
       "      <td>37</td>\n",
       "    </tr>\n",
       "    <tr>\n",
       "      <th>4</th>\n",
       "      <td>Canada</td>\n",
       "      <td>34</td>\n",
       "    </tr>\n",
       "    <tr>\n",
       "      <th>5</th>\n",
       "      <td>Australia</td>\n",
       "      <td>26</td>\n",
       "    </tr>\n",
       "    <tr>\n",
       "      <th>6</th>\n",
       "      <td>China</td>\n",
       "      <td>25</td>\n",
       "    </tr>\n",
       "    <tr>\n",
       "      <th>7</th>\n",
       "      <td>Spain</td>\n",
       "      <td>24</td>\n",
       "    </tr>\n",
       "    <tr>\n",
       "      <th>8</th>\n",
       "      <td>Brazil</td>\n",
       "      <td>23</td>\n",
       "    </tr>\n",
       "    <tr>\n",
       "      <th>9</th>\n",
       "      <td>France</td>\n",
       "      <td>22</td>\n",
       "    </tr>\n",
       "  </tbody>\n",
       "</table>\n",
       "</div>"
      ],
      "text/plain": [
       "          country  count\n",
       "0   United States    141\n",
       "1          Russia     72\n",
       "2  United Kingdom     40\n",
       "3         Germany     37\n",
       "4          Canada     34\n",
       "5       Australia     26\n",
       "6           China     25\n",
       "7           Spain     24\n",
       "8          Brazil     23\n",
       "9          France     22"
      ]
     },
     "execution_count": 30,
     "metadata": {},
     "output_type": "execute_result"
    }
   ],
   "source": [
    "# Which countries have the highest amount of active airports?\n",
    "df = pd.read_sql_query(\"\"\"\n",
    "SELECT country, count(*) AS count\n",
    "FROM airlines\n",
    "WHERE active = 'Y'\n",
    "GROUP BY country\n",
    "ORDER BY 2 DESC\n",
    "LIMIT 10\n",
    "\"\"\", pd_con)\n",
    "df"
   ]
  },
  {
   "cell_type": "markdown",
   "metadata": {
    "slideshow": {
     "slide_type": "slide"
    }
   },
   "source": [
    "## Integration\n",
    "\n",
    "The [Chinook database](https://github.com/lerocha/chinook-database) is a sample database, representing a digital media store.\n",
    "\n",
    "You need to create a query that can rank tracks in term of popularity.\n",
    "\n",
    "The name of the database is `Chinook_Sqlite.sqlite`"
   ]
  },
  {
   "cell_type": "markdown",
   "metadata": {
    "slideshow": {
     "slide_type": "slide"
    }
   },
   "source": [
    "Database information:<br>\n",
    "- How many tables are in the database?\n",
    "- What's the primary key of each table?\n",
    "- What foreign keys join the tables together?\n",
    "- If you had to draw a schema of how the tables are connected, what would it look like?"
   ]
  },
  {
   "cell_type": "markdown",
   "metadata": {
    "slideshow": {
     "slide_type": "slide"
    }
   },
   "source": [
    "To answer the question:<br>\n",
    "- What are the max and min dates in the Invoice table?\n",
    "- What tables would you need to answer \"what is your most popular track?\"\n",
    "- What values from each table?"
   ]
  },
  {
   "cell_type": "code",
   "execution_count": 31,
   "metadata": {
    "slideshow": {
     "slide_type": "skip"
    }
   },
   "outputs": [],
   "source": [
    "conn = sqlite3.connect('Chinook_Sqlite.sqlite')\n",
    "cur = conn.cursor()"
   ]
  },
  {
   "cell_type": "code",
   "execution_count": 32,
   "metadata": {},
   "outputs": [
    {
     "data": {
      "text/plain": [
       "(11,)"
      ]
     },
     "execution_count": 32,
     "metadata": {},
     "output_type": "execute_result"
    }
   ],
   "source": [
    "# How many tables are in the database?\n",
    "cur.execute(\"SELECT count(*) as table_count FROM sqlite_master WHERE type = 'table';\").fetchone()"
   ]
  },
  {
   "cell_type": "code",
   "execution_count": 41,
   "metadata": {},
   "outputs": [
    {
     "name": "stdout",
     "output_type": "stream",
     "text": [
      "Album.AlbumId\n",
      "Artist.ArtistId\n",
      "Customer.CustomerId\n",
      "Employee.EmployeeId\n",
      "Genre.GenreId\n",
      "Invoice.InvoiceId\n",
      "InvoiceLine.InvoiceLineId\n",
      "MediaType.MediaTypeId\n",
      "Playlist.PlaylistId\n",
      "PlaylistTrack.PlaylistId\n",
      "Track.TrackId\n"
     ]
    }
   ],
   "source": [
    "# What's the primary key of each table?\n",
    "table_names = cur.execute(\"SELECT name FROM sqlite_master WHERE type = 'table';\").fetchall()\n",
    "for table_name in table_names:\n",
    "    tname = table_name[0]\n",
    "    # table_name is still a tuple of length 1, so we have to unpack to get the table name value\n",
    "    results = cur.execute(f\"PRAGMA table_info({tname});\").fetchall()\n",
    "\n",
    "    # column name is 2nd column,\n",
    "    # primary key is the 4th column, according to https://www.sqlite.org/pragma.html#pragma_table_info\n",
    "    pk_column_name = [x[1] for x in results ]\n",
    "    print(f\"{tname}.{pk_column_name[0]}\")"
   ]
  },
  {
   "cell_type": "code",
   "execution_count": 46,
   "metadata": {},
   "outputs": [
    {
     "name": "stdout",
     "output_type": "stream",
     "text": [
      "Album table:\n",
      "(0, 0, 'Artist', 'ArtistId', 'ArtistId', 'NO ACTION', 'NO ACTION', 'NONE')\n",
      "Customer table:\n",
      "(0, 0, 'Employee', 'SupportRepId', 'EmployeeId', 'NO ACTION', 'NO ACTION', 'NONE')\n",
      "Employee table:\n",
      "(0, 0, 'Employee', 'ReportsTo', 'EmployeeId', 'NO ACTION', 'NO ACTION', 'NONE')\n",
      "Invoice table:\n",
      "(0, 0, 'Customer', 'CustomerId', 'CustomerId', 'NO ACTION', 'NO ACTION', 'NONE')\n",
      "InvoiceLine table:\n",
      "(0, 0, 'Track', 'TrackId', 'TrackId', 'NO ACTION', 'NO ACTION', 'NONE')\n",
      "(1, 0, 'Invoice', 'InvoiceId', 'InvoiceId', 'NO ACTION', 'NO ACTION', 'NONE')\n",
      "PlaylistTrack table:\n",
      "(0, 0, 'Track', 'TrackId', 'TrackId', 'NO ACTION', 'NO ACTION', 'NONE')\n",
      "(1, 0, 'Playlist', 'PlaylistId', 'PlaylistId', 'NO ACTION', 'NO ACTION', 'NONE')\n",
      "Track table:\n",
      "(0, 0, 'MediaType', 'MediaTypeId', 'MediaTypeId', 'NO ACTION', 'NO ACTION', 'NONE')\n",
      "(1, 0, 'Genre', 'GenreId', 'GenreId', 'NO ACTION', 'NO ACTION', 'NONE')\n",
      "(2, 0, 'Album', 'AlbumId', 'AlbumId', 'NO ACTION', 'NO ACTION', 'NONE')\n"
     ]
    }
   ],
   "source": [
    "# What foreign keys join the tables together?\n",
    "table_names = cur.execute(\"SELECT name FROM sqlite_master WHERE type = 'table';\").fetchall()\n",
    "for table_name in table_names:\n",
    "    tname = table_name[0]\n",
    "    # table_name is still a tuple of length 1, so we have to unpack to get the table name value\n",
    "    results = cur.execute(f\"PRAGMA foreign_key_list({tname});\").fetchall()\n",
    "    if results:\n",
    "        print(tname, 'table:')\n",
    "        print(*results, sep='\\n')"
   ]
  },
  {
   "cell_type": "code",
   "execution_count": null,
   "metadata": {},
   "outputs": [],
   "source": [
    "# What are the max and min dates in the Invoice table?\n",
    "cur.execute(\"\"\"\n",
    "SELECT max(InvoiceDate) AS max_date,\n",
    "min(InvoiceDate) AS min_date\n",
    "FROM Invoice\"\"\").fetchall()"
   ]
  },
  {
   "cell_type": "code",
   "execution_count": null,
   "metadata": {},
   "outputs": [],
   "source": [
    "# What tables would you need to answer \"what is your most popular track?\"\n",
    "\n",
    "# Track (for track info)\n",
    "# InvoiceLine (for track puchase quantity)"
   ]
  },
  {
   "cell_type": "code",
   "execution_count": null,
   "metadata": {},
   "outputs": [],
   "source": [
    "# What values from each table?\n",
    "\n",
    "# Track.TrackId, Track.Name, Track.AlbumId\n",
    "# InvoiceLine.TrackId, InvoiceLine.Quantity\n",
    "# Album.AlbumId, Album.ArtistId\n",
    "# Artist.ArtistId, Artist.Name"
   ]
  },
  {
   "cell_type": "code",
   "execution_count": null,
   "metadata": {},
   "outputs": [],
   "source": [
    "# Put it all together:\n",
    "# You need to create a query that can rank tracks in term of popularity.\n",
    "\n",
    "results = cur.execute(\"\"\"\n",
    "SELECT\n",
    "t.name as track_name,\n",
    "sum(il.quantity) AS purchase_count\n",
    "FROM Track t\n",
    "JOIN InvoiceLine il USING (TrackId)\n",
    "GROUP BY 1\n",
    "ORDER BY 2 DESC\n",
    "LIMIT 10\n",
    "\"\"\").fetchall()\n",
    "\n",
    "print(*results, sep='\\n')"
   ]
  },
  {
   "cell_type": "code",
   "execution_count": null,
   "metadata": {},
   "outputs": [],
   "source": [
    "# Advanced: get the artist who sang the song!\n",
    "results = cur.execute(\"\"\"\n",
    "SELECT\n",
    "t.name as track_name,\n",
    "a.name as artist_name,\n",
    "sum(il.quantity) AS purchase_count\n",
    "FROM Track t\n",
    "JOIN InvoiceLine il USING (TrackId)\n",
    "JOIN Album USING (AlbumId)\n",
    "JOIN Artist a USING (ArtistId)\n",
    "GROUP BY 1, 2\n",
    "ORDER BY 3 DESC\n",
    "LIMIT 10\n",
    "\"\"\").fetchall()\n",
    "\n",
    "print(*results, sep='\\n')"
   ]
  },
  {
   "cell_type": "markdown",
   "metadata": {
    "slideshow": {
     "slide_type": "slide"
    }
   },
   "source": [
    "## Reflection"
   ]
  }
 ],
 "metadata": {
  "kernelspec": {
   "display_name": "Python 3",
   "language": "python",
   "name": "python3"
  },
  "language_info": {
   "codemirror_mode": {
    "name": "ipython",
    "version": 3
   },
   "file_extension": ".py",
   "mimetype": "text/x-python",
   "name": "python",
   "nbconvert_exporter": "python",
   "pygments_lexer": "ipython3",
   "version": "3.7.3"
  }
 },
 "nbformat": 4,
 "nbformat_minor": 2
}
