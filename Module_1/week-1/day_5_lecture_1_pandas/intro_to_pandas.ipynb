{
 "cells": [
  {
   "cell_type": "markdown",
   "metadata": {},
   "source": [
    "# Module 1 - Introduction to Pandas\n",
    "## Pandas Part 1"
   ]
  },
  {
   "cell_type": "markdown",
   "metadata": {},
   "source": [
    "### Introduction\n",
    "\n",
    "![austin](http://www.austintexas.gov/sites/default/files/aac_logo.jpg)\n",
    "You have decided that you want to start your own animal shelter, but you want to get an idea of what that will entail and get more information about planning. \n",
    "\n",
    "You have found out that Austin has one of the largest no-kill animal shelters in the country, and they keep meticulous track of animals that have been taken in and released. \n",
    "\n",
    "However, there are challenges:\n",
    "- it is a [large file](https://data.austintexas.gov/Health-and-Community-Services/Austin-Animal-Center-Intakes/wter-evkm)\n",
    "- the online visualization tools provided are terrible\n",
    "- the data is sorted as strings\n",
    "- the file holds an overwhelming amount  of information. Is there an easy way to look at this data? Can we do this with base Python? Is there a better way?\n",
    "\n",
    "\n",
    "#### _Our goals today are to be able to_: <br/>\n",
    "\n",
    "- Import/read data using Pandas\n",
    "- Identify Pandas objects and manipulate Pandas objects by index and columns\n",
    "- Filter data using Pandas\n",
    "\n",
    "We will do this with the Austin data and with an animal-related dataset from NYC."
   ]
  },
  {
   "cell_type": "markdown",
   "metadata": {},
   "source": [
    "### Activation:\n",
    "\n",
    "<img src=\"https://cdn-images-1.medium.com/max/1600/1*9IU5fBzJisilYjRAi-f55Q.png\" width=700, height=700>  \n",
    "\n",
    "\n",
    "\n",
    "\n",
    "- The data manipulation capabilities of pandas are built on top of the numpy library.\n",
    "- Pandas dataframe object represents a spreadsheet with cell values, column names, and row index labels."
   ]
  },
  {
   "cell_type": "markdown",
   "metadata": {},
   "source": [
    "### _Big questions for this lesson_: Why use Pandas? \n",
    " \n",
    " (a) Provides methods able analyze data stored in the format Data Scientist most often encounter (.csv, .tsv, or .xlsx). \n",
    " \n",
    " (b) Makes it very convenient to load, process, and analyze in the aforementioned formats. \n",
    " \n",
    " (c) Along with python visualization packages allows for the visual analysis of tabular data.\n"
   ]
  },
  {
   "cell_type": "markdown",
   "metadata": {},
   "source": [
    "### Qualities of a pandas DataFrame\n",
    "- The data structures in Pandas are implemented using series and dataframe classes.  \n",
    "\n",
    "- A series is a one-dimensional indexed array of some fixed data type.  \n",
    "- While a dataframe is a two-dimensional data structure like a table where each column contains data of the same type.\n",
    "\n",
    "- DataFrames are great for representing real data: rows correspond to instances (examples, observations, etc.), and columns correspond to features of these instances."
   ]
  },
  {
   "cell_type": "markdown",
   "metadata": {},
   "source": [
    "### What are the **_disadvantages_** of using Pandas?<br>                    \n",
    "https://wesmckinney.com/blog/apache-arrow-pandas-internals/"
   ]
  },
  {
   "cell_type": "markdown",
   "metadata": {},
   "source": [
    "When do we want to use NumPy versus Pandas?\n",
    "- What are the advantages of using Pandas?    \n",
    "https://stackabuse.com/beginners-tutorial-on-the-pandas-python-library/"
   ]
  },
  {
   "cell_type": "markdown",
   "metadata": {},
   "source": [
    "### 1. Importing and reading data with Pandas!\n",
    "\n",
    "#### Let's use pandas to read some csv files so we can interact with them."
   ]
  },
  {
   "cell_type": "code",
   "execution_count": null,
   "metadata": {},
   "outputs": [],
   "source": [
    "# First, let's check which directory we are in so the files we expect to see are there.\n",
    "!pwd #or chdir\n",
    "!ls -al"
   ]
  },
  {
   "cell_type": "code",
   "execution_count": null,
   "metadata": {},
   "outputs": [],
   "source": [
    "import pandas as pd\n",
    "\n",
    "# This is to set how many decimal places pandas shows floats\n",
    "pd.set_option(\"display.precision\", 2)"
   ]
  },
  {
   "cell_type": "markdown",
   "metadata": {
    "slideshow": {
     "slide_type": "slide"
    }
   },
   "source": [
    "Getting help with a function, two options:"
   ]
  },
  {
   "cell_type": "code",
   "execution_count": null,
   "metadata": {},
   "outputs": [],
   "source": [
    "# press shift+enter\n",
    "pd.DataFrame?"
   ]
  },
  {
   "cell_type": "code",
   "execution_count": null,
   "metadata": {},
   "outputs": [],
   "source": [
    "# place cursor in parenthesis then press shit+tab\n",
    "pd.DataFrame()"
   ]
  },
  {
   "cell_type": "markdown",
   "metadata": {
    "slideshow": {
     "slide_type": "slide"
    }
   },
   "source": [
    "### Getting data in to pandas\n",
    "\n",
    "There is also `read_excel` and many other pandas `read` functions.  \n",
    "http://pandas.pydata.org/pandas-docs/stable/user_guide/io.html"
   ]
  },
  {
   "cell_type": "code",
   "execution_count": null,
   "metadata": {},
   "outputs": [],
   "source": [
    "# For the simplest of examples, let's first use a tiny fake dataset\n",
    "example_csv=pd.read_csv('example1.csv')\n",
    "example_csv.head()"
   ]
  },
  {
   "cell_type": "markdown",
   "metadata": {},
   "source": [
    "You can also load in data by using the url of an associated dataset."
   ]
  },
  {
   "cell_type": "code",
   "execution_count": null,
   "metadata": {},
   "outputs": [],
   "source": [
    "#this link is copied directly from the download option for CSV\n",
    "shelter_data=pd.read_csv('https://data.austintexas.gov/resource/wter-evkm.csv') \n"
   ]
  },
  {
   "cell_type": "markdown",
   "metadata": {
    "slideshow": {
     "slide_type": "slide"
    }
   },
   "source": [
    "### Inspect data\n",
    "#### Check top of dataset"
   ]
  },
  {
   "cell_type": "code",
   "execution_count": null,
   "metadata": {},
   "outputs": [],
   "source": [
    "shelter_data.head()"
   ]
  },
  {
   "cell_type": "markdown",
   "metadata": {
    "slideshow": {
     "slide_type": "slide"
    }
   },
   "source": [
    "Now that we can read in data, let's get more comfortable with our Pandas data structures."
   ]
  },
  {
   "cell_type": "code",
   "execution_count": null,
   "metadata": {},
   "outputs": [],
   "source": [
    "type(shelter_data)"
   ]
  },
  {
   "cell_type": "markdown",
   "metadata": {
    "slideshow": {
     "slide_type": "slide"
    }
   },
   "source": [
    "#### What's the length and width of our dataframe?"
   ]
  },
  {
   "cell_type": "code",
   "execution_count": null,
   "metadata": {},
   "outputs": [],
   "source": [
    "shelter_data.shape"
   ]
  },
  {
   "cell_type": "markdown",
   "metadata": {
    "slideshow": {
     "slide_type": "slide"
    }
   },
   "source": [
    "#### Get column names"
   ]
  },
  {
   "cell_type": "code",
   "execution_count": null,
   "metadata": {},
   "outputs": [],
   "source": [
    "shelter_data.columns"
   ]
  },
  {
   "cell_type": "markdown",
   "metadata": {
    "slideshow": {
     "slide_type": "slide"
    }
   },
   "source": [
    "#### Check data type of each column"
   ]
  },
  {
   "cell_type": "code",
   "execution_count": null,
   "metadata": {},
   "outputs": [],
   "source": [
    "shelter_data.dtypes"
   ]
  },
  {
   "cell_type": "code",
   "execution_count": null,
   "metadata": {},
   "outputs": [],
   "source": [
    "# We can find the type of a particular columns in a data frame in this way.\n",
    "\n",
    "shelter_data['animal_id'].dtypes"
   ]
  },
  {
   "cell_type": "markdown",
   "metadata": {
    "slideshow": {
     "slide_type": "slide"
    }
   },
   "source": [
    "#### Get data type *and* an idea of how many missing values"
   ]
  },
  {
   "cell_type": "code",
   "execution_count": null,
   "metadata": {},
   "outputs": [],
   "source": [
    "shelter_data.info()"
   ]
  },
  {
   "cell_type": "markdown",
   "metadata": {},
   "source": [
    "### 2. Utilizing and identifying Pandas objects\n",
    "\n",
    "- What is a DataFrame object and what is a Series object? \n",
    "- How are they different from Python lists?\n",
    "\n",
    "These are questions we will cover in this section. To start, let's start with this list of pets."
   ]
  },
  {
   "cell_type": "code",
   "execution_count": null,
   "metadata": {},
   "outputs": [],
   "source": [
    "#define your list here!\n",
    "\n",
    "dogs = ['bulldog','labs','great dane','shitzu','bull terrier']\n",
    "\n",
    "print(dogs)"
   ]
  },
  {
   "cell_type": "markdown",
   "metadata": {},
   "source": [
    "Using our list of dogs, we can create a pandas object called a 'series' which is much like an array or a vector."
   ]
  },
  {
   "cell_type": "code",
   "execution_count": null,
   "metadata": {},
   "outputs": [],
   "source": [
    "dogs_series = pd.Series(dogs)\n",
    "\n",
    "print(dogs_series)\n",
    "type(dogs_series)"
   ]
  },
  {
   "cell_type": "markdown",
   "metadata": {},
   "source": [
    "One difference between python **list objects** and pandas **series objects** is the fact that you can define the index manually for a **series objects**."
   ]
  },
  {
   "cell_type": "code",
   "execution_count": null,
   "metadata": {},
   "outputs": [],
   "source": [
    "ind = ['a','b','c','d','e']\n",
    "\n",
    "dogs_series = pd.Series(dogs,index=ind)\n",
    "\n",
    "print(dogs_series)"
   ]
  },
  {
   "cell_type": "markdown",
   "metadata": {},
   "source": [
    "### Other ways to make DataFrames\n",
    "\n",
    "We can do a simliar thing with Python **dictionaries**. This time, however, we will create a DataFrame object from a python dictionary."
   ]
  },
  {
   "cell_type": "code",
   "execution_count": null,
   "metadata": {},
   "outputs": [],
   "source": [
    "# Dictionary with list object in values\n",
    "pet_dict = {\n",
    "    'name' : ['Samantha', 'Alex', 'Dante'],\n",
    "    'age' : ['4','2','3'],\n",
    "    'animal' : ['cat', 'dog', 'dog']\n",
    "}\n",
    "\n",
    "pet_df = pd.DataFrame(pet_dict)\n",
    "\n",
    "pet_df.head()"
   ]
  },
  {
   "cell_type": "code",
   "execution_count": null,
   "metadata": {},
   "outputs": [],
   "source": [
    "#to find data types of columns\n",
    "pet_df.dtypes"
   ]
  },
  {
   "cell_type": "markdown",
   "metadata": {},
   "source": [
    "### Data type conversion by columns\n",
    "Let's change the data type of ages to int.\n",
    "\n",
    "Use the method `astype()` to convert a series"
   ]
  },
  {
   "cell_type": "code",
   "execution_count": null,
   "metadata": {},
   "outputs": [],
   "source": [
    "# We can also change a columns type but the change has to make sense.\n",
    "pet_df.age = pet_df.age.astype(int)\n",
    "\n",
    "#Uncomment line below and observe what happens when trying to convert student's name to int or float\n",
    "#pet_df.name = pet_df.name.astype(int)\n",
    "\n",
    "#How about what happens converting numeric to string\n",
    "pet_df.age = pet_df.age.astype(str)\n",
    "\n",
    "pet_df.dtypes"
   ]
  },
  {
   "cell_type": "markdown",
   "metadata": {},
   "source": [
    "### String manipulation by columns\n",
    "\n",
    "using the attribute `.str`, you can apply string methods such as `lower()`, `upper()`, and `title()` to adjust a column. "
   ]
  },
  {
   "cell_type": "code",
   "execution_count": null,
   "metadata": {},
   "outputs": [],
   "source": [
    "pet_df.name = pet_df.name.str.lower()\n",
    "pet_df.head()"
   ]
  },
  {
   "cell_type": "markdown",
   "metadata": {},
   "source": [
    "### Custom index\n",
    "\n",
    "We can also use a custom index for these items. For example, we might want them to be the individual pet ID numbers."
   ]
  },
  {
   "cell_type": "code",
   "execution_count": null,
   "metadata": {},
   "outputs": [],
   "source": [
    "pet_ids = ['1111','1145','0096']\n",
    "\n",
    "#Notice here we use pd.DataFrame not pd.Series as we did for a pandas series.\n",
    "pet_df = pd.DataFrame(pet_dict,index=pet_ids)\n",
    "\n",
    "pet_df.head()"
   ]
  },
  {
   "cell_type": "markdown",
   "metadata": {
    "slideshow": {
     "slide_type": "slide"
    }
   },
   "source": [
    "Using Pandas, we can also rename column names using assignment."
   ]
  },
  {
   "cell_type": "code",
   "execution_count": null,
   "metadata": {},
   "outputs": [],
   "source": [
    "pet_df.columns = ['NAME', 'AGE','ANIMAL']\n",
    "pet_df.head()"
   ]
  },
  {
   "cell_type": "markdown",
   "metadata": {
    "slideshow": {
     "slide_type": "slide"
    }
   },
   "source": [
    "**Or**, we can also change the column names using the method `rename`."
   ]
  },
  {
   "cell_type": "code",
   "execution_count": null,
   "metadata": {},
   "outputs": [],
   "source": [
    "pet_df.rename(columns={'AGE': 'YEARS'})"
   ]
  },
  {
   "cell_type": "code",
   "execution_count": null,
   "metadata": {
    "slideshow": {
     "slide_type": "slide"
    }
   },
   "outputs": [],
   "source": [
    "# But notice what happens when we print students_df\n",
    "\n",
    "pet_df"
   ]
  },
  {
   "cell_type": "markdown",
   "metadata": {
    "slideshow": {
     "slide_type": "slide"
    }
   },
   "source": [
    "To save the file over itself, you need to use the `inplace = True` option in`rename()` "
   ]
  },
  {
   "cell_type": "code",
   "execution_count": null,
   "metadata": {},
   "outputs": [],
   "source": [
    "pet_df.rename(columns={'AGE': 'YEARS'}, inplace=True)\n",
    "pet_df.head()"
   ]
  },
  {
   "cell_type": "markdown",
   "metadata": {},
   "source": [
    "Similarly, there is a method to remove rows and columns from your DataFrame: `drop()` <br>\n",
    "`drop()` also has an `inplace` option."
   ]
  },
  {
   "cell_type": "code",
   "execution_count": null,
   "metadata": {},
   "outputs": [],
   "source": [
    "pet_df.drop(columns=['YEARS', 'ANIMAL'])"
   ]
  },
  {
   "cell_type": "code",
   "execution_count": null,
   "metadata": {},
   "outputs": [],
   "source": [
    "#Notice again what happens if we print students_df \n",
    "pet_df"
   ]
  },
  {
   "cell_type": "code",
   "execution_count": null,
   "metadata": {},
   "outputs": [],
   "source": [
    "pet_df.drop(columns=['YEARS', 'ANIMAL'], inplace=True)\n",
    "pet_df"
   ]
  },
  {
   "cell_type": "markdown",
   "metadata": {},
   "source": [
    "If you want the file to save over itself, use the option `inplace = True`.\n",
    "\n",
    "Every function has options. Let's read more about `drop` [here](https://pandas.pydata.org/pandas-docs/stable/reference/api/pandas.DataFrame.drop.html)"
   ]
  },
  {
   "cell_type": "markdown",
   "metadata": {},
   "source": [
    "### 3. Filtering Data Using Pandas\n",
    "There are several ways to grab particular data from a DataFrame. \n",
    "- Python lists allow for selection of data only through integer location. \n",
    "- You can use a single integer or slice notation to make the selection but NOT a list of integers.\n",
    "- Dictionaries only allow selection with a single label. Slices and lists of labels are not allowed."
   ]
  },
  {
   "cell_type": "markdown",
   "metadata": {
    "slideshow": {
     "slide_type": "slide"
    }
   },
   "source": [
    "### DataFrames can be indexed by column name (label) or row name (index) or by position.   \n",
    "#### The `.loc` method is used for indexing by name.  \n",
    "#### While `.iloc` is used for indexing by number."
   ]
  },
  {
   "cell_type": "markdown",
   "metadata": {},
   "source": [
    "For this example we will use the [dog licensing dataset from NYC] (https://a816-healthpsi.nyc.gov/DogLicense) to practice filtering."
   ]
  },
  {
   "cell_type": "code",
   "execution_count": null,
   "metadata": {},
   "outputs": [],
   "source": [
    "nyc_dogs = pd.read_csv('https://data.cityofnewyork.us/resource/nu7n-tubp.csv') "
   ]
  },
  {
   "cell_type": "code",
   "execution_count": null,
   "metadata": {},
   "outputs": [],
   "source": [
    "nyc_dogs.head()"
   ]
  },
  {
   "cell_type": "markdown",
   "metadata": {},
   "source": [
    "### Let's take a look at `.iloc`\n",
    "#### `.iloc` takes slices based on index position.\n",
    "#### `.iloc` stands for integer location so that should help with remember what it does\n",
    "#### `.iloc`[row , column]"
   ]
  },
  {
   "cell_type": "code",
   "execution_count": null,
   "metadata": {},
   "outputs": [],
   "source": [
    "#returns the first row\n",
    "nyc_dogs.iloc[0] "
   ]
  },
  {
   "cell_type": "code",
   "execution_count": null,
   "metadata": {},
   "outputs": [],
   "source": [
    "#returns the first column\n",
    "nyc_dogs.iloc[:,0] "
   ]
  },
  {
   "cell_type": "code",
   "execution_count": null,
   "metadata": {},
   "outputs": [],
   "source": [
    "#returns first two rows notice that ILOC performs regular python slicing.\n",
    "nyc_dogs.iloc[0:2] "
   ]
  },
  {
   "cell_type": "code",
   "execution_count": null,
   "metadata": {},
   "outputs": [],
   "source": [
    "#returns the first two columns\n",
    "nyc_dogs.iloc[:,0:2] "
   ]
  },
  {
   "cell_type": "code",
   "execution_count": null,
   "metadata": {},
   "outputs": [],
   "source": [
    "# returns first row and columns 1 and 2\n",
    "nyc_dogs.iloc[0:1,0:2] "
   ]
  },
  {
   "cell_type": "markdown",
   "metadata": {},
   "source": [
    "### How would we use `.iloc` to return the last item in the last row?\n"
   ]
  },
  {
   "cell_type": "code",
   "execution_count": null,
   "metadata": {},
   "outputs": [],
   "source": [
    "#return the last item in the last row using iloc\n",
    "nyc_dogs.iloc[-1,-1]"
   ]
  },
  {
   "cell_type": "markdown",
   "metadata": {},
   "source": [
    "### How would we use `.iloc` to return the last item in the last column?\n"
   ]
  },
  {
   "cell_type": "code",
   "execution_count": null,
   "metadata": {},
   "outputs": [],
   "source": [
    "#return the last item in the last column using iloc\n",
    "nyc_dogs.iloc[-1]"
   ]
  },
  {
   "cell_type": "markdown",
   "metadata": {},
   "source": [
    "### What if we only want certain columns or rows?"
   ]
  },
  {
   "cell_type": "code",
   "execution_count": null,
   "metadata": {},
   "outputs": [],
   "source": [
    "## Don't do nyc_dogs.iloc[0, 2]\n",
    "nyc_dogs.iloc[0:2,]"
   ]
  },
  {
   "cell_type": "code",
   "execution_count": null,
   "metadata": {},
   "outputs": [],
   "source": [
    "nyc_dogs.iloc[[0,2,5],[0,2]] "
   ]
  },
  {
   "cell_type": "markdown",
   "metadata": {},
   "source": [
    "### Let's take a look at `.loc`\n",
    "#### Label based method.  \n",
    "Good for referencing column names!\n",
    "#### Names or labels of the index is used when taking slices.\n",
    "#### Also supports boolean subsetting."
   ]
  },
  {
   "cell_type": "code",
   "execution_count": null,
   "metadata": {},
   "outputs": [],
   "source": [
    "nyc_dogs"
   ]
  },
  {
   "cell_type": "code",
   "execution_count": null,
   "metadata": {},
   "outputs": [],
   "source": [
    "#returns the dog information associated with index 0\n",
    "nyc_dogs.loc[0]"
   ]
  },
  {
   "cell_type": "code",
   "execution_count": null,
   "metadata": {},
   "outputs": [],
   "source": [
    "#returns the dog information for row index 0 to 2 inclusive.\n",
    "#note iloc would return normal python slicing not including 2 as demonstrated above.\n",
    "nyc_dogs.loc[0:2] "
   ]
  },
  {
   "cell_type": "markdown",
   "metadata": {
    "slideshow": {
     "slide_type": "slide"
    }
   },
   "source": [
    "#### `loc` is more useful with column names"
   ]
  },
  {
   "cell_type": "code",
   "execution_count": null,
   "metadata": {},
   "outputs": [],
   "source": [
    "#returns the column labeled 'animalname'\n",
    "nyc_dogs.loc[:,'animalname'] "
   ]
  },
  {
   "cell_type": "code",
   "execution_count": null,
   "metadata": {},
   "outputs": [],
   "source": [
    "#returns the column labeled 'animalname' and index values 1 to 2.\n",
    "#gives us the values of the rows with index from 1 to 2 (inclusive)\n",
    "#and columns labeled age\"\n",
    "nyc_dogs.loc[1:2,'animalname'] "
   ]
  },
  {
   "cell_type": "code",
   "execution_count": null,
   "metadata": {},
   "outputs": [],
   "source": [
    "#returns the column labeled 'age' and index values 1 to 2.\n",
    "#gives us the values of the rows with index from 1 to 2 (inclusive)\n",
    "#and columns labeled age to zipcode  (inclusive)\"\n",
    "nyc_dogs.loc[1:2,'animalname':'zipcode'] "
   ]
  },
  {
   "cell_type": "code",
   "execution_count": null,
   "metadata": {},
   "outputs": [],
   "source": [
    "#What should we get?\n",
    "nyc_dogs.loc[1:2,['animalname', 'zipcode']] "
   ]
  },
  {
   "cell_type": "code",
   "execution_count": null,
   "metadata": {},
   "outputs": [],
   "source": [
    "#How about? \n",
    "nyc_dogs.loc[[0,2],['animalname', 'zipcode']] "
   ]
  },
  {
   "cell_type": "markdown",
   "metadata": {},
   "source": [
    "## Let's make a new column: age"
   ]
  },
  {
   "cell_type": "code",
   "execution_count": null,
   "metadata": {},
   "outputs": [],
   "source": [
    "nyc_dogs['age'] = 2019-nyc_dogs.animalbirth"
   ]
  },
  {
   "cell_type": "code",
   "execution_count": null,
   "metadata": {},
   "outputs": [],
   "source": [
    "nyc_dogs.head()"
   ]
  },
  {
   "cell_type": "markdown",
   "metadata": {},
   "source": [
    "### Boolean Subsetting"
   ]
  },
  {
   "cell_type": "code",
   "execution_count": null,
   "metadata": {},
   "outputs": [],
   "source": [
    "nyc_dogs.loc[nyc_dogs['animalname']=='SAM']"
   ]
  },
  {
   "cell_type": "code",
   "execution_count": null,
   "metadata": {},
   "outputs": [],
   "source": [
    "nyc_dogs.loc[nyc_dogs['animalname']=='SAM',['zipcode','animalgender']]"
   ]
  },
  {
   "cell_type": "code",
   "execution_count": null,
   "metadata": {},
   "outputs": [],
   "source": [
    "nyc_dogs.dtypes"
   ]
  },
  {
   "cell_type": "code",
   "execution_count": null,
   "metadata": {},
   "outputs": [],
   "source": [
    "#What amount if we want to select a student of a specific age? \n",
    "nyc_dogs.loc[nyc_dogs['age']==5]"
   ]
  },
  {
   "cell_type": "code",
   "execution_count": null,
   "metadata": {},
   "outputs": [],
   "source": [
    "#What amount if we want to select a student of a specific age? \n",
    "nyc_dogs.loc[(nyc_dogs['age']==6) & (nyc_dogs['animalname']=='MAX')]"
   ]
  },
  {
   "cell_type": "code",
   "execution_count": null,
   "metadata": {},
   "outputs": [],
   "source": [
    "#What should be returned? \n",
    "nyc_dogs.loc[(nyc_dogs['age']==6) & (nyc_dogs['animalgender']=='F')]"
   ]
  },
  {
   "cell_type": "markdown",
   "metadata": {},
   "source": [
    "### Lesson Recap\n",
    "Pandas combines the power of python lists (selection via integer location) and dictionaries (selection by label)\n",
    "\n",
    "`.iloc` is primarily integer position based (from 0 to length-1 of the axis), but may also be used with a boolean array.\n",
    "\n",
    "`.iloc` will raise IndexError if a requested indexer is out-of-bounds, except slice indexers which allow out-of-bounds indexing (this conforms with python/numpy slice semantics).\n",
    "\n",
    "`.loc` is primarily label based, but may also be used with a boolean array.\n",
    "\n",
    "#### Warning Note that contrary to usual python slices, both the start and the stop are included.\n",
    "\n",
    "`.loc` will raise a keyError when any items are not found.\n",
    "\n",
    "### Pandas\n",
    "- The data structures in Pandas are implemented using series and dataframe classes.  \n",
    "- A series is a one-dimensional indexed array of some fixed data type.  \n",
    "- While a dataframe is a two-dimensional data structure like a table where each column contains data of the same type.  \n",
    "- DataFrames are great for representing real data: rows correspond to instances (examples, observations, etc.), and columns correspond to features of these instances.\n"
   ]
  },
  {
   "cell_type": "markdown",
   "metadata": {},
   "source": [
    "### CLASS ASSIGNMENT\n",
    "Now that we have all of these new tools in our tool belt, use these tools on the shelter data set! \n",
    "- Use `shelter_data.columns` to get the list of column names.\n",
    "- use `.unique` to see the options for intake condition.\n",
    "- Subset the data by  `intake_condition`\n",
    "- Subset the data the data to return Dogs, in normal condition, who are neutered. How many are there?\n",
    "- How many pregnant cats were taken in last year? \n",
    "- Play around with your new tools on the data set.\n",
    "- For extra credit: What are the data types returned from the different subsetting? Is what returned a series or dataframe?"
   ]
  },
  {
   "cell_type": "markdown",
   "metadata": {},
   "source": [
    "## Assessment & Reflection\n",
    "\n",
    "- One thing you did not know before?\n",
    "- Two things you want to remember?\n",
    "- One thing you're still confused by?"
   ]
  },
  {
   "cell_type": "markdown",
   "metadata": {},
   "source": [
    "### EXTRA CREDIT CHALLENGE\n",
    "\n",
    "- Read in the csv `map_zip_nyc_hood.csv`\n",
    "- create subsets (new datasets) of the dataset by borough \n",
    "- using only for loops, subsets, string operators, join, split, etc, create a unique list of zip codes by borough\n",
    "- create a new column on the dogs_nyc dataframe called 'borough' - and use `if` statements and `in` logic to assign the new variable from your new lists.\n",
    "\n",
    "\n",
    "**Question**: Using `shape` and filtering, how does the # of neutered vs un-neutered dogs differ by borough?\n",
    "\n",
    "\n",
    "No *merging*, *joining*, *lambdas*, or *apply/map* functions. Those are for Monday :)"
   ]
  },
  {
   "cell_type": "code",
   "execution_count": null,
   "metadata": {},
   "outputs": [],
   "source": []
  }
 ],
 "metadata": {
  "celltoolbar": "Slideshow",
  "kernelspec": {
   "display_name": "Python 3",
   "language": "python",
   "name": "python3"
  },
  "language_info": {
   "codemirror_mode": {
    "name": "ipython",
    "version": 3
   },
   "file_extension": ".py",
   "mimetype": "text/x-python",
   "name": "python",
   "nbconvert_exporter": "python",
   "pygments_lexer": "ipython3",
   "version": "3.7.2"
  }
 },
 "nbformat": 4,
 "nbformat_minor": 2
}
