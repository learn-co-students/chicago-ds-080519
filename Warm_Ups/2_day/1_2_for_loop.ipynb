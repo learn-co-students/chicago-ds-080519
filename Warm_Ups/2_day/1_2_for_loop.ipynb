{
 "cells": [
  {
   "cell_type": "code",
   "execution_count": 19,
   "metadata": {},
   "outputs": [],
   "source": [
    "target = 9 "
   ]
  },
  {
   "cell_type": "code",
   "execution_count": 20,
   "metadata": {},
   "outputs": [],
   "source": [
    "target_list = [1, 3, 9, 5, 9]"
   ]
  },
  {
   "cell_type": "code",
   "execution_count": 22,
   "metadata": {},
   "outputs": [
    {
     "name": "stdout",
     "output_type": "stream",
     "text": [
      "[2, 4]\n"
     ]
    }
   ],
   "source": [
    "target_indices = []\n",
    "for potential_tar in range(len(target_list)):\n",
    "    if (target_list[potential_tar] == target) :\n",
    "        target_indices.append(potential_tar)\n",
    "print(target_indices)"
   ]
  },
  {
   "cell_type": "markdown",
   "metadata": {},
   "source": [
    "### 2. Optional I"
   ]
  },
  {
   "cell_type": "code",
   "execution_count": 3,
   "metadata": {},
   "outputs": [],
   "source": [
    "target_list = [10, -1, 11, 15, 2, 7, 5, 4]\n",
    "target = 9"
   ]
  },
  {
   "cell_type": "code",
   "execution_count": 4,
   "metadata": {},
   "outputs": [
    {
     "name": "stdout",
     "output_type": "stream",
     "text": [
      "[0, 1]\n",
      "[4, 5]\n",
      "[6, 7]\n"
     ]
    }
   ],
   "source": [
    "for i in range(len(target_list)):\n",
    "    for j in range(i + 1, len(target_list)): \n",
    "        if (target_list[j] == target - target_list[i]):\n",
    "            print   ([i, j])"
   ]
  },
  {
   "cell_type": "markdown",
   "metadata": {},
   "source": [
    "### 3. optional II "
   ]
  },
  {
   "cell_type": "code",
   "execution_count": 20,
   "metadata": {},
   "outputs": [],
   "source": [
    "def two_sums(nums, target):\n",
    "    if len(nums) <= 1:\n",
    "        return False\n",
    "    buff_dict = {}\n",
    "    for i in range(len(nums)):\n",
    "        if nums[i] in buff_dict:\n",
    "            return [buff_dict[nums[i]], i]\n",
    "            # change this line from return to append to an empty list that you create before the for loop if you want to get all occurences\n",
    "            # In this case, also be sure to return the list outside of the for loop\n",
    "        else:\n",
    "            buff_dict[target - nums[i]] = i"
   ]
  },
  {
   "cell_type": "code",
   "execution_count": 21,
   "metadata": {},
   "outputs": [
    {
     "data": {
      "text/plain": [
       "[0, 1]"
      ]
     },
     "execution_count": 21,
     "metadata": {},
     "output_type": "execute_result"
    }
   ],
   "source": [
    "two_sums(target_list, target)"
   ]
  }
 ],
 "metadata": {
  "kernelspec": {
   "display_name": "Python 3",
   "language": "python",
   "name": "python3"
  },
  "language_info": {
   "codemirror_mode": {
    "name": "ipython",
    "version": 3
   },
   "file_extension": ".py",
   "mimetype": "text/x-python",
   "name": "python",
   "nbconvert_exporter": "python",
   "pygments_lexer": "ipython3",
   "version": "3.7.3"
  }
 },
 "nbformat": 4,
 "nbformat_minor": 2
}
