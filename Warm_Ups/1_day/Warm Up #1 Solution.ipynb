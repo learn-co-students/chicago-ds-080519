{
 "cells": [
  {
   "cell_type": "markdown",
   "metadata": {},
   "source": [
    "## Warm Up #1 SOLUTIONS"
   ]
  },
  {
   "cell_type": "markdown",
   "metadata": {},
   "source": [
    "#### Set up:  \n",
    "\n",
    "Create a folder on your computer where you will create your coding warm ups using the terminal window.\n",
    "\n",
    "Open a new jupyter notebook in that folder.  \n",
    "\n",
    "Complete this assignment in that jupyter notebook and save to your computer."
   ]
  },
  {
   "cell_type": "markdown",
   "metadata": {},
   "source": [
    "1. Create a dictionary where each object contains a list of one float (Age) and one string (Family name) (at least 5 objects) \n",
    "<br>Example: {Charles: [23.4, \"Darwin\"], Alan: [42.5, \"Turing\"]}\n",
    "\n"
   ]
  },
  {
   "cell_type": "code",
   "execution_count": 4,
   "metadata": {},
   "outputs": [],
   "source": [
    "dict={'Tom': [43.2, 'Clancy'], 'J.K.': [32.5, 'Rowling'], 'Nicholis':[56.1, \"Sparks\"], 'R.L.':[62.8, \"Stine\"],\n",
    "      'Danielle':[47.5, \"Steel\"]}"
   ]
  },
  {
   "cell_type": "code",
   "execution_count": 5,
   "metadata": {},
   "outputs": [
    {
     "name": "stdout",
     "output_type": "stream",
     "text": [
      "{'Tom': [43.2, 'Clancy'], 'J.K.': [32.5, 'Rowling'], 'Nicholis': [56.1, 'Sparks'], 'R.L.': [62.8, 'Stine'], 'Danielle': [47.5, 'Steel']}\n"
     ]
    }
   ],
   "source": [
    "print(dict)"
   ]
  },
  {
   "cell_type": "markdown",
   "metadata": {},
   "source": [
    "2. Delete one object from the dictionary"
   ]
  },
  {
   "cell_type": "code",
   "execution_count": 7,
   "metadata": {},
   "outputs": [],
   "source": [
    "del dict['Nicholis']"
   ]
  },
  {
   "cell_type": "code",
   "execution_count": 8,
   "metadata": {},
   "outputs": [
    {
     "data": {
      "text/plain": [
       "{'Tom': [43.2, 'Clancy'],\n",
       " 'J.K.': [32.5, 'Rowling'],\n",
       " 'R.L.': [62.8, 'Stine'],\n",
       " 'Danielle': [47.5, 'Steel']}"
      ]
     },
     "execution_count": 8,
     "metadata": {},
     "output_type": "execute_result"
    }
   ],
   "source": [
    "dict"
   ]
  },
  {
   "cell_type": "markdown",
   "metadata": {},
   "source": [
    "3. Replace the float number of one of your objects - we are changing a list entry inside a dictionary record! look at Darwin's new age\n",
    "<br>Example: {Charles: [99.73, \"Darwin\"], Alan: [42.5, \"Turing\"]}"
   ]
  },
  {
   "cell_type": "code",
   "execution_count": 19,
   "metadata": {},
   "outputs": [],
   "source": [
    "dict['J.K.'][0]=72.7"
   ]
  },
  {
   "cell_type": "code",
   "execution_count": 41,
   "metadata": {
    "scrolled": true
   },
   "outputs": [
    {
     "data": {
      "text/plain": [
       "dict_values([[43.2, 'Clancy'], [72.7, 'Rowling'], [62.8, 'Stine'], [47.5, 'Steel']])"
      ]
     },
     "execution_count": 41,
     "metadata": {},
     "output_type": "execute_result"
    }
   ],
   "source": [
    "dict.values()"
   ]
  },
  {
   "cell_type": "code",
   "execution_count": 79,
   "metadata": {},
   "outputs": [
    {
     "data": {
      "text/plain": [
       "{'Tom': [43.2, 'Clancy'],\n",
       " 'J.K.': [72.7, 'Rowling'],\n",
       " 'R.L.': [62.8, 'Stine'],\n",
       " 'Danielle': [47.5, 'Steel']}"
      ]
     },
     "execution_count": 79,
     "metadata": {},
     "output_type": "execute_result"
    }
   ],
   "source": [
    "dict"
   ]
  },
  {
   "cell_type": "markdown",
   "metadata": {},
   "source": [
    "4. Write a for loop that goes through all records in the dictionary, and assigns the float numbers into one merged list (see ages)\n",
    "<br>ages = [23.4, 22.9, 552.9]"
   ]
  },
  {
   "cell_type": "code",
   "execution_count": 53,
   "metadata": {},
   "outputs": [
    {
     "name": "stdout",
     "output_type": "stream",
     "text": [
      "[43.2, 72.7, 62.8, 47.5]\n"
     ]
    }
   ],
   "source": [
    "age=[]\n",
    "for author in dict.values():\n",
    "    age.append(author[0])\n",
    "print (age)"
   ]
  },
  {
   "cell_type": "markdown",
   "metadata": {},
   "source": [
    "#### BONUS\n",
    "\n",
    "Calculate with a for loop the median and mean of the ages list"
   ]
  },
  {
   "cell_type": "code",
   "execution_count": 57,
   "metadata": {},
   "outputs": [],
   "source": [
    "age=0\n",
    "for author in dict.values():\n",
    "    age +=(author[0])\n",
    "mean=age/len(dict)    "
   ]
  },
  {
   "cell_type": "code",
   "execution_count": 58,
   "metadata": {},
   "outputs": [
    {
     "data": {
      "text/plain": [
       "56.55"
      ]
     },
     "execution_count": 58,
     "metadata": {},
     "output_type": "execute_result"
    }
   ],
   "source": [
    "mean"
   ]
  },
  {
   "cell_type": "code",
   "execution_count": 132,
   "metadata": {
    "scrolled": true
   },
   "outputs": [],
   "source": [
    "age=[]\n",
    "for author in dict.values():\n",
    "    \n",
    "    age.append(author[0])\n",
    "age.sort()\n",
    "def median(age):\n",
    "    mid=len(age)/2\n",
    "    if len(age) % 2==0:\n",
    "        total = age[1] + age[2]\n",
    "        return(total/2)\n",
    "    else:\n",
    "        return(age[mid])"
   ]
  },
  {
   "cell_type": "code",
   "execution_count": 133,
   "metadata": {},
   "outputs": [
    {
     "data": {
      "text/plain": [
       "55.15"
      ]
     },
     "execution_count": 133,
     "metadata": {},
     "output_type": "execute_result"
    }
   ],
   "source": [
    "median(age)"
   ]
  },
  {
   "cell_type": "code",
   "execution_count": null,
   "metadata": {},
   "outputs": [],
   "source": []
  }
 ],
 "metadata": {
  "kernelspec": {
   "display_name": "Python 3",
   "language": "python",
   "name": "python3"
  },
  "language_info": {
   "codemirror_mode": {
    "name": "ipython",
    "version": 3
   },
   "file_extension": ".py",
   "mimetype": "text/x-python",
   "name": "python",
   "nbconvert_exporter": "python",
   "pygments_lexer": "ipython3",
   "version": "3.7.3"
  }
 },
 "nbformat": 4,
 "nbformat_minor": 2
}
