{
 "cells": [
  {
   "cell_type": "markdown",
   "metadata": {},
   "source": [
    "### 1. Go to https://www.kaggle.com/russellyates88/suicide-rates-overview-1985-to-2016 and download the data \n",
    "\n",
    "### 2. Use command line to rename the downloaded file to suicide_rates.csv, then move the file to your repository \n",
    "`use 'mv' `\n",
    "\n",
    "### 3. Load the data into a pandas dataframe\n",
    "\n",
    "### 4. Pick only rows where country starts with 'U' \n",
    "\n",
    "`use apply and lambda`\n",
    "\n",
    "### 5. Get the names of unique countries left - `use .unique()`\n",
    "\n",
    "##### [Thoughts]: how would that be useful if we have duplicated values in a dataset? \n",
    "\n",
    "### 6. Pick only rows with 'United States' (without using apply or lambda - try using indexing)\n",
    "\n",
    "### 6. Group by age column and sum # suicides\n",
    "\n",
    "### 7. Change the age column to a categorical one \n",
    "`use astype`\n",
    "\n",
    "### 8. Re-order the categories so that 5-14 years appears first \n",
    "\n",
    "`use cat.reorder_categories`\n",
    "\n",
    "### 9. Draw a barplot of # suicides(y) per age-group (x) for 2015\n",
    "\n",
    "### 10. Save the plot to the visualization folder we have created\n",
    "\n",
    "### 11. Push all to your git branch."
   ]
  },
  {
   "cell_type": "code",
   "execution_count": null,
   "metadata": {},
   "outputs": [],
   "source": []
  }
 ],
 "metadata": {
  "kernelspec": {
   "display_name": "Python 3",
   "language": "python",
   "name": "python3"
  },
  "language_info": {
   "codemirror_mode": {
    "name": "ipython",
    "version": 3
   },
   "file_extension": ".py",
   "mimetype": "text/x-python",
   "name": "python",
   "nbconvert_exporter": "python",
   "pygments_lexer": "ipython3",
   "version": "3.7.3"
  }
 },
 "nbformat": 4,
 "nbformat_minor": 2
}
