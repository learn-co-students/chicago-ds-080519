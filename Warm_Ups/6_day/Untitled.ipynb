{
 "cells": [
  {
   "cell_type": "code",
   "execution_count": 1,
   "metadata": {},
   "outputs": [],
   "source": [
    "%load_ext autoreload\n",
    "%autoreload 2\n",
    "import untidy\n",
    "import pandas as pd"
   ]
  },
  {
   "cell_type": "code",
   "execution_count": 2,
   "metadata": {},
   "outputs": [
    {
     "name": "stdout",
     "output_type": "stream",
     "text": [
      "       country  year       obser      count\n",
      "0  Afghanistan  1999       cases        745\n",
      "1  Afghanistan  1999  population   19987071\n",
      "2  Afghanistan  2000       cases       2666\n",
      "3  Afghanistan  2000  population   20595360\n",
      "4       Brazil  1999       cases      37737\n",
      "5       Brazil  1999  population  172006362\n"
     ]
    }
   ],
   "source": [
    "untidy.exampleone()"
   ]
  },
  {
   "cell_type": "code",
   "execution_count": 26,
   "metadata": {},
   "outputs": [
    {
     "name": "stdout",
     "output_type": "stream",
     "text": [
      "       country  year       obser      count\n",
      "0  Afghanistan  1999       cases        745\n",
      "1  Afghanistan  1999  population   19987071\n",
      "2  Afghanistan  2000       cases       2666\n",
      "3  Afghanistan  2000  population   20595360\n",
      "4       Brazil  1999       cases      37737\n",
      "5       Brazil  1999  population  172006362\n"
     ]
    }
   ],
   "source": [
    "df = pd.DataFrame(untidy.exampleone())"
   ]
  },
  {
   "cell_type": "code",
   "execution_count": null,
   "metadata": {},
   "outputs": [],
   "source": []
  },
  {
   "cell_type": "code",
   "execution_count": null,
   "metadata": {},
   "outputs": [],
   "source": []
  },
  {
   "cell_type": "code",
   "execution_count": 3,
   "metadata": {},
   "outputs": [
    {
     "name": "stdout",
     "output_type": "stream",
     "text": [
      "       country  year               rate\n",
      "0  Afghanistan  1999       745/19987071\n",
      "1  Afghanistan  2000      2666/20595360\n",
      "2       Brazil  1999    37737/172006362\n",
      "3       Brazil  2000    80488/174504898\n",
      "4        China  1999  212258/1272915272\n",
      "5        China  2000  213766/1280428583\n"
     ]
    }
   ],
   "source": [
    "untidy.exampletwo()"
   ]
  },
  {
   "cell_type": "code",
   "execution_count": 4,
   "metadata": {},
   "outputs": [
    {
     "name": "stdout",
     "output_type": "stream",
     "text": [
      "table 1\n",
      "       country    1999    2000\n",
      "0  Afghanistan     745    2666\n",
      "1       Brazil   37737   80488\n",
      "2        China  212258  213766 \n",
      "\n",
      "table 2\n",
      "       country        1999        2000\n",
      "0  Afghanistan    19987071    20595360\n",
      "1       Brazil   172006362   174504898\n",
      "2        China  1272915272  1280428583\n"
     ]
    }
   ],
   "source": [
    "untidy.examplethree()"
   ]
  },
  {
   "cell_type": "code",
   "execution_count": null,
   "metadata": {},
   "outputs": [],
   "source": []
  }
 ],
 "metadata": {
  "kernelspec": {
   "display_name": "Python 3",
   "language": "python",
   "name": "python3"
  },
  "language_info": {
   "codemirror_mode": {
    "name": "ipython",
    "version": 3
   },
   "file_extension": ".py",
   "mimetype": "text/x-python",
   "name": "python",
   "nbconvert_exporter": "python",
   "pygments_lexer": "ipython3",
   "version": "3.7.3"
  }
 },
 "nbformat": 4,
 "nbformat_minor": 2
}
